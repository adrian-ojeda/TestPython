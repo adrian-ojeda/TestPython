{
  "nbformat": 4,
  "nbformat_minor": 0,
  "metadata": {
    "kernelspec": {
      "display_name": "Python 3",
      "language": "python",
      "name": "python3"
    },
    "language_info": {
      "codemirror_mode": {
        "name": "ipython",
        "version": 3
      },
      "file_extension": ".py",
      "mimetype": "text/x-python",
      "name": "python",
      "nbconvert_exporter": "python",
      "pygments_lexer": "ipython3",
      "version": "3.6.9"
    },
    "colab": {
      "name": "Ojeda-Soluciones-3-Bucles.ipynb",
      "provenance": [],
      "collapsed_sections": []
    }
  },
  "cells": [
    {
      "cell_type": "markdown",
      "metadata": {
        "id": "9mFwGz3IYRoA"
      },
      "source": [
        "# Soluciones de Ejercicios de Bucles"
      ]
    },
    {
      "cell_type": "markdown",
      "metadata": {
        "id": "uPUwTH6wYRoA"
      },
      "source": [
        "## Ejercicio 1"
      ]
    },
    {
      "cell_type": "markdown",
      "metadata": {
        "id": "mLiirOIhYRoA"
      },
      "source": [
        "Escribir un programa que pida al usuario una palabra y la muestre por pantalla 10 veces."
      ]
    },
    {
      "cell_type": "code",
      "metadata": {
        "id": "_pfD_o-jYRoB"
      },
      "source": [
        "word = input(\"Introduce una palabra: \")\n",
        "for i in range(10):\n",
        "    print(word)"
      ],
      "execution_count": null,
      "outputs": []
    },
    {
      "cell_type": "code",
      "metadata": {
        "id": "E9mYwjTCYRoB"
      },
      "source": [
        "    palabra=input(\"Ingrese una palabra:\")\n",
        "    for i in range (10) :\n",
        "      print(palabra)\n"
      ],
      "execution_count": null,
      "outputs": []
    },
    {
      "cell_type": "markdown",
      "metadata": {
        "id": "Pfa2nhhUYRoB"
      },
      "source": [
        "## Ejercicio 2"
      ]
    },
    {
      "cell_type": "markdown",
      "metadata": {
        "id": "pyMQl88FYRoB"
      },
      "source": [
        "Escribir un programa que pregunte al usuario su edad y muestre por pantalla todos los años que ha cumplido (desde 1 hasta su edad)."
      ]
    },
    {
      "cell_type": "code",
      "metadata": {
        "id": "3UkHuGdDYRoB"
      },
      "source": [
        "age = int(input(\"¿Cuántos años tienes? \"))\n",
        "for i in range(age):\n",
        "    print(\"Has cumplido \" + str(i+1) + \" años\")"
      ],
      "execution_count": null,
      "outputs": []
    },
    {
      "cell_type": "code",
      "metadata": {
        "id": "cyKZ50QfYRoB"
      },
      "source": [
        "    edad=int(input(\"Ingrese su edad:\"))\n",
        "    print(\"Los años que cumplio hasta la actualidad\")\n",
        "    for i in range(1,edad+1):\n",
        "      print(i,\"años\")\n",
        "    "
      ],
      "execution_count": null,
      "outputs": []
    },
    {
      "cell_type": "markdown",
      "metadata": {
        "id": "hbvnuXueYRoB"
      },
      "source": [
        "## Ejercicio 3"
      ]
    },
    {
      "cell_type": "markdown",
      "metadata": {
        "id": "ZETFvaP2YRoB"
      },
      "source": [
        "Escribir un programa que pida al usuario un número entero positivo y muestre por pantalla todos los números impares desde 1 hasta ese número separados por comas."
      ]
    },
    {
      "cell_type": "code",
      "metadata": {
        "id": "RoUcFADZYRoB"
      },
      "source": [
        "n = int(input(\"Introduce un número entero positivo: \"))\n",
        "for i in range(1, n+1, 2):\n",
        "    print(i, end=\", \")"
      ],
      "execution_count": null,
      "outputs": []
    },
    {
      "cell_type": "code",
      "metadata": {
        "id": "eLjWjS7iYRoC"
      },
      "source": [
        "    num=int(input(\"Ingrese un número entero positivo:\"))\n",
        "    for i in range(1,num+1):\n",
        "      if i%2 != 0:\n",
        "        print(i,end=\",\")"
      ],
      "execution_count": null,
      "outputs": []
    },
    {
      "cell_type": "markdown",
      "metadata": {
        "id": "vCvHVbdOYRoC"
      },
      "source": [
        "## Ejercicio 4"
      ]
    },
    {
      "cell_type": "markdown",
      "metadata": {
        "id": "SqmncNoWYRoC"
      },
      "source": [
        "Escribir un programa que pida al usuario un número entero positivo y muestre por pantalla la cuenta atrás desde ese número hasta cero separados por comas."
      ]
    },
    {
      "cell_type": "code",
      "metadata": {
        "colab": {
          "base_uri": "https://localhost:8080/"
        },
        "id": "noP4bO8BYRoC",
        "outputId": "39bb8834-5eb6-4c65-84c4-29b990cedf3c"
      },
      "source": [
        "n = int(input(\"Introduce un número entero positivo: \"))\n",
        "for i in range(n, -1, -1):\n",
        "    print(i, end=\", \")"
      ],
      "execution_count": 1,
      "outputs": [
        {
          "output_type": "stream",
          "text": [
            "Introduce un número entero positivo: 10\n",
            "10, 9, 8, 7, 6, 5, 4, 3, 2, 1, 0, "
          ],
          "name": "stdout"
        }
      ]
    },
    {
      "cell_type": "code",
      "metadata": {
        "colab": {
          "base_uri": "https://localhost:8080/"
        },
        "id": "F-JmGdJFYRoC",
        "outputId": "d1c337ec-d0bb-485d-fc8f-405fe20a73cd"
      },
      "source": [
        "    num=int(input(\"Ingrese un número entero positivo:\"))\n",
        "    for i in range(num+1):\n",
        "      print(num-i,end=\",\")\n"
      ],
      "execution_count": 2,
      "outputs": [
        {
          "output_type": "stream",
          "text": [
            "Ingrese un número entero positivo:10\n",
            "10,9,8,7,6,5,4,3,2,1,0,"
          ],
          "name": "stdout"
        }
      ]
    },
    {
      "cell_type": "markdown",
      "metadata": {
        "id": "4p9E9ftVYRoC"
      },
      "source": [
        "## Ejercicio 5"
      ]
    },
    {
      "cell_type": "markdown",
      "metadata": {
        "id": "w3TQPBcHYRoC"
      },
      "source": [
        "Escribir un programa que pregunte al usuario una cantidad a invertir, el interés anual y el número de años, y muestre por pantalla el capital obtenido en la inversión cada año que dura la inversión."
      ]
    },
    {
      "cell_type": "code",
      "metadata": {
        "id": "Ldh7-pAgYRoC"
      },
      "source": [
        "amount = float(input(\"¿Cantidad a invertir? \"))\n",
        "interest = float(input(\"¿Interés porcentual anual? \"))\n",
        "years = int(input(\"¿Años?\"))\n",
        "for i in range(years):\n",
        "    amount *= 1 + interest / 100 \n",
        "    print(\"Capital tras \" + str(i+1) + \" años: \" + str(round(amount, 2)))"
      ],
      "execution_count": null,
      "outputs": []
    },
    {
      "cell_type": "code",
      "metadata": {
        "id": "DVUN9VNwYRoC"
      },
      "source": [
        "    inversion=float(input(\"¿Cuanto dinero desea invertir?:\"))\n",
        "    interesAnual=float(input(\"¿Interés Anual?:\"))\n",
        "    años=int(input(\"¿Cantidad de años?\"))\n",
        "    for i in range(1,años+1):\n",
        "      inversion *= interesAnual/100 + 1\n",
        "      print(\"Inversión Año\",i,\"es de $\",round(inversion,2))"
      ],
      "execution_count": null,
      "outputs": []
    },
    {
      "cell_type": "markdown",
      "metadata": {
        "id": "eNCfpWGyYRoC"
      },
      "source": [
        "## Ejercicio 6"
      ]
    },
    {
      "cell_type": "markdown",
      "metadata": {
        "id": "OofQK-UZYRoC"
      },
      "source": [
        "Escribir un programa que pida al usuario un número entero y muestre por pantalla un triángulo rectángulo como el de más abajo, de altura el número introducido.\n",
        "<pre><code>*\n",
        "**\n",
        "***\n",
        "****\n",
        "*****\n",
        "</code></pre>"
      ]
    },
    {
      "cell_type": "code",
      "metadata": {
        "id": "-RJ9AuPbYRoC"
      },
      "source": [
        "n = int(input(\"Introduce la altura del triángulo (entero positivo): \"))\n",
        "for i in range(n):\n",
        "   print(\"*\"*(i+1))"
      ],
      "execution_count": null,
      "outputs": []
    },
    {
      "cell_type": "code",
      "metadata": {
        "id": "PVUOfosDYRoC"
      },
      "source": [
        "num=int(input(\"Ingrese un número entero de 5 a 10:\"))\n",
        "for i in range(num):\n",
        "  for j in range(i+1):\n",
        "    print(\"*\",end=\"\")\n",
        "  print(\"\")"
      ],
      "execution_count": null,
      "outputs": []
    },
    {
      "cell_type": "markdown",
      "metadata": {
        "id": "6p97cvYJYRoC"
      },
      "source": [
        "## Ejercicio 7"
      ]
    },
    {
      "cell_type": "markdown",
      "metadata": {
        "id": "TWj7BnG-YRoC"
      },
      "source": [
        "Escribir un programa que muestre por pantalla la tabla de multiplicar del 1 al 10."
      ]
    },
    {
      "cell_type": "code",
      "metadata": {
        "id": "cGmgX-aXYRoC"
      },
      "source": [
        "for i in range(1, 11):\n",
        "    for j in range(1, 11):\n",
        "        print(i*j, end=\"\\t\")\n",
        "    print(\"\")"
      ],
      "execution_count": null,
      "outputs": []
    },
    {
      "cell_type": "code",
      "metadata": {
        "colab": {
          "base_uri": "https://localhost:8080/"
        },
        "id": "IuoqMoTeYRoC",
        "outputId": "679e07cb-cb0c-4dff-8e42-eb9160ba23c2"
      },
      "source": [
        "for i in range(1,11):\n",
        "    for j in range(1,11):\n",
        "      print(i*j,end=\",\")\n",
        "    print(\"\")"
      ],
      "execution_count": 4,
      "outputs": [
        {
          "output_type": "stream",
          "text": [
            "1,2,3,4,5,6,7,8,9,10,\n",
            "2,4,6,8,10,12,14,16,18,20,\n",
            "3,6,9,12,15,18,21,24,27,30,\n",
            "4,8,12,16,20,24,28,32,36,40,\n",
            "5,10,15,20,25,30,35,40,45,50,\n",
            "6,12,18,24,30,36,42,48,54,60,\n",
            "7,14,21,28,35,42,49,56,63,70,\n",
            "8,16,24,32,40,48,56,64,72,80,\n",
            "9,18,27,36,45,54,63,72,81,90,\n",
            "10,20,30,40,50,60,70,80,90,100,\n"
          ],
          "name": "stdout"
        }
      ]
    },
    {
      "cell_type": "markdown",
      "metadata": {
        "id": "4HzzGV7PYRoC"
      },
      "source": [
        "## Ejercicio 8"
      ]
    },
    {
      "cell_type": "markdown",
      "metadata": {
        "id": "KgSENihlYRoC"
      },
      "source": [
        "Escribir un programa que pida al usuario un número entero y muestre por pantalla un triángulo rectángulo como el de más abajo.\n",
        "<pre><code>1\n",
        "3 1\n",
        "5 3 1\n",
        "7 5 3 1\n",
        "9 7 5 3 1\n",
        "</code></pre>"
      ]
    },
    {
      "cell_type": "code",
      "metadata": {
        "id": "FnUgsIc9YRoC"
      },
      "source": [
        "n = int(input(\"Introduce la altura del triángulo (entero positivo): \"))\n",
        "for i in range(1, n+1, 2):\n",
        "    for j in range(i, 0, -2):\n",
        "        print(j, end=\" \")\n",
        "    print(\"\")"
      ],
      "execution_count": null,
      "outputs": []
    },
    {
      "cell_type": "code",
      "metadata": {
        "id": "XmpHO3SwYRoC"
      },
      "source": [
        "  num=int(input(\"Ingrese un número entero:\"))\n",
        "  for i in range(1,num+1,2):\n",
        "     for j in range(i,0,-2):\n",
        "          print(j,end=\" \")\n",
        "     print(\"\")"
      ],
      "execution_count": null,
      "outputs": []
    },
    {
      "cell_type": "markdown",
      "metadata": {
        "id": "gw_im5z1YRoC"
      },
      "source": [
        "## Ejercicio 9"
      ]
    },
    {
      "cell_type": "markdown",
      "metadata": {
        "id": "UvJvFIoWYRoC"
      },
      "source": [
        "Escribir un programa que almacene la cadena de caracteres <font color=#B40431>contraseña</font> en una variable, pregunte al usuario por la contraseña hasta que introduzca la contraseña correcta."
      ]
    },
    {
      "cell_type": "code",
      "metadata": {
        "id": "skgJpp3fYRoD"
      },
      "source": [
        "key = \"contraseña\"\n",
        "password =\"\"\n",
        "while password != key:\n",
        "    password = input(\"Introduce la contraseña: \")\n",
        "print(\"Contraseña correcta\")"
      ],
      "execution_count": null,
      "outputs": []
    },
    {
      "cell_type": "code",
      "metadata": {
        "id": "HG76BXgrYRoD"
      },
      "source": [
        "    password=\"contraseña\"\n",
        "    clave=input(\"Introduzca la clave:\")\n",
        "   \n",
        "    while clave!=password:\n",
        "      print(\"Clave incorrecta, intentelo nuevamente\")\n",
        "      clave=input(\"Introduzca la clave:\")\n",
        "    \n",
        "    print(\"Clave correcta!\")"
      ],
      "execution_count": null,
      "outputs": []
    },
    {
      "cell_type": "markdown",
      "metadata": {
        "id": "OkQwWjzIYRoD"
      },
      "source": [
        "## Ejercicio 10"
      ]
    },
    {
      "cell_type": "markdown",
      "metadata": {
        "id": "P3evtNzGYRoD"
      },
      "source": [
        "Escribir un programa que pida al usuario un número entero y muestre por pantalla si es un número primo o no."
      ]
    },
    {
      "cell_type": "code",
      "metadata": {
        "id": "TirRrPJOYRoD"
      },
      "source": [
        "n = int(input(\"Introduce un número entero positivo mayor que 2: \"))\n",
        "i = 2\n",
        "while n % i != 0:\n",
        "    i += 1\n",
        "if i == n:\n",
        "    print(str(n) + \" es primo\")\n",
        "else:\n",
        "    print(str(n) + \" no es primo\")"
      ],
      "execution_count": null,
      "outputs": []
    },
    {
      "cell_type": "code",
      "metadata": {
        "id": "_DNgojxOYRoD"
      },
      "source": [
        "num=int(input(\"Introduzca un número entero:\"))\n",
        "c=2\n",
        "while num%c!=0:\n",
        "  c+=1\n",
        "if c==num:\n",
        "    print(\"Es un número primo\")\n",
        "else:\n",
        "  print(\"No es un número primo\")"
      ],
      "execution_count": null,
      "outputs": []
    },
    {
      "cell_type": "markdown",
      "metadata": {
        "id": "2EoyCK2UYRoD"
      },
      "source": [
        "## Ejercicio 11"
      ]
    },
    {
      "cell_type": "markdown",
      "metadata": {
        "id": "MrXa4e9qYRoD"
      },
      "source": [
        "Escribir un programa que pida al usuario una palabra y luego muestre por pantalla una a una las letras de la palabra introducida empezando por la última."
      ]
    },
    {
      "cell_type": "code",
      "metadata": {
        "id": "7rogBryTYRoD"
      },
      "source": [
        "word = input(\"Introduce una palabra: \")\n",
        "for i in range(len(word)-1, -1, -1):\n",
        "    print(word[i])"
      ],
      "execution_count": null,
      "outputs": []
    },
    {
      "cell_type": "code",
      "metadata": {
        "id": "lDw7C_62YRoD"
      },
      "source": [
        "palabra=input(\"Ingrese una palabra:\")\n",
        "i=len(palabra)\n",
        "c=0\n",
        "while c!=len(palabra):\n",
        "  c+=1\n",
        "  i-=1\n",
        "  print(palabra[i],end=\",\")"
      ],
      "execution_count": null,
      "outputs": []
    },
    {
      "cell_type": "markdown",
      "metadata": {
        "id": "4C3125JKYRoD"
      },
      "source": [
        "## Ejercicio 12"
      ]
    },
    {
      "cell_type": "markdown",
      "metadata": {
        "id": "uWeKQr42YRoD"
      },
      "source": [
        "Escribir un programa en el que se pregunte al usuario por una frase y una letra, y muestre por pantalla el número de veces que aparece la letra en la frase."
      ]
    },
    {
      "cell_type": "code",
      "metadata": {
        "id": "G3Zg-w10YRoD"
      },
      "source": [
        "frase = input(\"Introduce una frase: \")\n",
        "letra = input(\"Introduce una letra\")\n",
        "contador = 0\n",
        "for i in frase:\n",
        "    if i == letra:\n",
        "        contador += 1\n",
        "print(\"La letra '%s' aparece %2i veces en la frase '%s'.\" % (letra, contador, frase))"
      ],
      "execution_count": null,
      "outputs": []
    },
    {
      "cell_type": "code",
      "metadata": {
        "colab": {
          "base_uri": "https://localhost:8080/"
        },
        "id": "L2fbKLBwYRoD",
        "outputId": "ac1c4a9e-66bc-41ce-9a6b-f4fc95c5d638"
      },
      "source": [
        "frase=input(\"Ingrese una frase:\").lower()\n",
        "letra=input(\"Ingrese una letra:\").lower()\n",
        "c=len(frase)\n",
        "num=0\n",
        "for i in range(c):\n",
        "  if letra in frase[i]: \n",
        "    num+=1\n",
        "if num!=0:\n",
        "  print(\"La cantidad de veces que aparece la letra -\",letra,\"- en\",frase,\"es:\",num)\n",
        "else:\n",
        "  print(\"No se encuentra la letra -\",letra,\"- en\",frase)"
      ],
      "execution_count": 9,
      "outputs": [
        {
          "output_type": "stream",
          "text": [
            "Ingrese una frase:Adrian\n",
            "Ingrese una letra:a\n",
            "La cantidad de veces que aparece la letra - a - en adrian es: 2\n"
          ],
          "name": "stdout"
        }
      ]
    },
    {
      "cell_type": "markdown",
      "metadata": {
        "id": "lQ-IrDjpYRoD"
      },
      "source": [
        "## Ejercicio 13"
      ]
    },
    {
      "cell_type": "markdown",
      "metadata": {
        "id": "HYuaX2_JYRoD"
      },
      "source": [
        "Escribir un programa que muestre el eco de todo lo que el usuario introduzca hasta que el usuario escriba “salir” que terminará."
      ]
    },
    {
      "cell_type": "code",
      "metadata": {
        "id": "Pt1PuRVcYRoD"
      },
      "source": [
        "while True:\n",
        "    frase = input(\"Introduce algo: \")\n",
        "    if frase == \"salir\":\n",
        "        break\n",
        "    print(frase)"
      ],
      "execution_count": null,
      "outputs": []
    },
    {
      "cell_type": "code",
      "metadata": {
        "colab": {
          "base_uri": "https://localhost:8080/"
        },
        "id": "zGzxKIwXYRoD",
        "outputId": "1c22b569-e12c-40ca-94dd-5d3c5e280a3b"
      },
      "source": [
        "final=\"salir\"\n",
        "eco=input(\"Introduzca lo que se le venga a la mente hasta encontrar un final:\")\n",
        "while eco!=\"salir\":\n",
        "  print(eco)\n",
        "  eco=input(\"Introduzca lo que se le venga a la mente hasta encontrar un final:\")\n"
      ],
      "execution_count": 10,
      "outputs": [
        {
          "output_type": "stream",
          "text": [
            "Introduzca lo que se le venga a la mente hasta encontrar un final:gfdgfdgfd\n",
            "gfdgfdgfd\n",
            "Introduzca lo que se le venga a la mente hasta encontrar un final:fdgfdgd\n",
            "fdgfdgd\n",
            "Introduzca lo que se le venga a la mente hasta encontrar un final:gfdgfds\n",
            "gfdgfds\n",
            "Introduzca lo que se le venga a la mente hasta encontrar un final:salir\n"
          ],
          "name": "stdout"
        }
      ]
    }
  ]
}