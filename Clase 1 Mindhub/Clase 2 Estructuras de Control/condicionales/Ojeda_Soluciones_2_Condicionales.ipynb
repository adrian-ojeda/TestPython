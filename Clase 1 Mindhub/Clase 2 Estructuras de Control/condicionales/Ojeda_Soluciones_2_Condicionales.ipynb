{
  "nbformat": 4,
  "nbformat_minor": 0,
  "metadata": {
    "kernelspec": {
      "display_name": "Python 3",
      "language": "python",
      "name": "python3"
    },
    "language_info": {
      "codemirror_mode": {
        "name": "ipython",
        "version": 3
      },
      "file_extension": ".py",
      "mimetype": "text/x-python",
      "name": "python",
      "nbconvert_exporter": "python",
      "pygments_lexer": "ipython3",
      "version": "3.6.9"
    },
    "colab": {
      "name": "Ojeda-Soluciones-2-Condicionales.ipynb",
      "provenance": [],
      "collapsed_sections": []
    }
  },
  "cells": [
    {
      "cell_type": "markdown",
      "metadata": {
        "id": "ps2pwAEVYNLN"
      },
      "source": [
        "# Soluciones a Ejercicios de Condicionales"
      ]
    },
    {
      "cell_type": "markdown",
      "metadata": {
        "id": "JoQGmKY8YNLO"
      },
      "source": [
        "## Ejercicio 1"
      ]
    },
    {
      "cell_type": "markdown",
      "metadata": {
        "id": "qsfyerjbYNLO"
      },
      "source": [
        "Escribir un programa que pregunte al usuario su edad y muestre por pantalla si es mayor de edad o no."
      ]
    },
    {
      "cell_type": "code",
      "metadata": {
        "id": "G66rIbUmYNLO"
      },
      "source": [
        "# Solución\n",
        "age = int(input(\"¿Cuál es tu edad? \"))\n",
        "if age < 18: \n",
        "    print (\"Eres menor de edad.\")\n",
        "else:\n",
        "    print(\"Eres mayor de edad.\")"
      ],
      "execution_count": null,
      "outputs": []
    },
    {
      "cell_type": "code",
      "metadata": {
        "colab": {
          "base_uri": "https://localhost:8080/"
        },
        "id": "HFqpMIunYNLP",
        "outputId": "3f69fbc0-aa3f-4139-a1d2-c84a600d9e3c"
      },
      "source": [
        "    edad=int(input(\"Ingrese su edad:\"))\n",
        "    if edad >= 18:\n",
        "        print(\"Sos mayor\")\n",
        "    else:\n",
        "        print(\"Sos menor\")"
      ],
      "execution_count": 2,
      "outputs": [
        {
          "output_type": "stream",
          "text": [
            "Ingrese su edad:16\n",
            "Sos menor\n"
          ],
          "name": "stdout"
        }
      ]
    },
    {
      "cell_type": "markdown",
      "metadata": {
        "id": "tPjdbMN_YNLP"
      },
      "source": [
        "## Ejercicio 2"
      ]
    },
    {
      "cell_type": "markdown",
      "metadata": {
        "id": "HORSidAMYNLP"
      },
      "source": [
        "Escribir un programa que almacene la cadena de caracteres <font color=#B40431>contraseña</font> en una variable, pregunte al usuario por la contraseña e imprima por pantalla si la contraseña introducida por el usuario coincide con la guardada en la variable sin tener en cuenta mayúsculas y minúsculas."
      ]
    },
    {
      "cell_type": "code",
      "metadata": {
        "id": "YkEBbC62YNLP"
      },
      "source": [
        "# Solución\n",
        "key = \"contraseña\"\n",
        "password = input(\"Introduce la contraseña: \")\n",
        "if key == password.lower():\n",
        "    print(\"La contaseña coincide\")\n",
        "else:\n",
        "    print(\"La contraseña no coincide\")"
      ],
      "execution_count": null,
      "outputs": []
    },
    {
      "cell_type": "code",
      "metadata": {
        "colab": {
          "base_uri": "https://localhost:8080/"
        },
        "id": "RU11zNMEYNLQ",
        "outputId": "7727f265-9359-482d-911f-27d3319e513f"
      },
      "source": [
        "    password=\"contraseña\"\n",
        "    clave=input(\"Ingrese clave:\").lower()\n",
        "    if clave == password:\n",
        "        print(\"Clave Correcta!\")\n",
        "    else:\n",
        "        print(\"Clave Incorrecta!\")\n",
        "        \n"
      ],
      "execution_count": 3,
      "outputs": [
        {
          "output_type": "stream",
          "text": [
            "Ingrese clave:dlskakdsa\n",
            "Clave Incorrecta!\n"
          ],
          "name": "stdout"
        }
      ]
    },
    {
      "cell_type": "markdown",
      "metadata": {
        "id": "KDIR7OEAYNLQ"
      },
      "source": [
        "## Ejercicio 3"
      ]
    },
    {
      "cell_type": "markdown",
      "metadata": {
        "id": "HT2ebAiEYNLQ"
      },
      "source": [
        "Escribir un programa que pida al usuario dos números y muestre por pantalla su división. Si el divisor es cero el programa debe mostrar un error."
      ]
    },
    {
      "cell_type": "code",
      "metadata": {
        "id": "dyAecGrwYNLQ"
      },
      "source": [
        "# Solución\n",
        "n = float(input(\"Introduce el dividendo: \"))\n",
        "m = float(input(\"Introduce el divisior: \"))\n",
        "if m == 0:\n",
        "    print(\"¡Error! No se puede dividir por 0.\")\n",
        "else:\n",
        "    print(n/m)"
      ],
      "execution_count": null,
      "outputs": []
    },
    {
      "cell_type": "code",
      "metadata": {
        "colab": {
          "base_uri": "https://localhost:8080/"
        },
        "id": "NifqfbZWYNLQ",
        "outputId": "6e7bbec6-af72-4bcc-9fec-bfef3369b2a4"
      },
      "source": [
        "    numero1=int(input(\"Ingrese un dividendo:\"))\n",
        "    numero2=int(input(\"Ingrese un divisor:\"))\n",
        "    if numero2!=0:\n",
        "        print(\"Resultado de la división =\",(numero1/numero2))\n",
        "    else:\n",
        "        print(\"Error, no se puede dividir entre 0\")\n"
      ],
      "execution_count": 4,
      "outputs": [
        {
          "output_type": "stream",
          "text": [
            "Ingrese un dividendo:12\n",
            "Ingrese un divisor:32\n",
            "Resultado de la división = 0.375\n"
          ],
          "name": "stdout"
        }
      ]
    },
    {
      "cell_type": "markdown",
      "metadata": {
        "id": "kOyZ4pqzYNLQ"
      },
      "source": [
        "## Ejercicio 4"
      ]
    },
    {
      "cell_type": "markdown",
      "metadata": {
        "id": "f4RvR2c2YNLQ"
      },
      "source": [
        "Escribir un programa que pida al usuario un número entero y muestre por pantalla si es par o impar."
      ]
    },
    {
      "cell_type": "code",
      "metadata": {
        "id": "kHQwpLsCYNLQ"
      },
      "source": [
        "# Solución\n",
        "n = int(input(\"Introduce un número entero: \"))\n",
        "if n % 2 == 0:\n",
        "    print(\"El número \" + str(n) + \" es par\")\n",
        "else:\n",
        "    print(\"El número \" + str(n) + \" es impar\")"
      ],
      "execution_count": null,
      "outputs": []
    },
    {
      "cell_type": "code",
      "metadata": {
        "colab": {
          "base_uri": "https://localhost:8080/"
        },
        "id": "bR5nPNISYNLQ",
        "outputId": "dfe26c13-8cb7-4bb4-dcc9-73eceede1f60"
      },
      "source": [
        "    numero=int(input(\"Ingrese un número:\"))\n",
        "    if numero%2==0:\n",
        "        print(\"Es Par\")\n",
        "    else:\n",
        "        print(\"Es Impar\")"
      ],
      "execution_count": 5,
      "outputs": [
        {
          "output_type": "stream",
          "text": [
            "Ingrese un número:11\n",
            "Es Impar\n"
          ],
          "name": "stdout"
        }
      ]
    },
    {
      "cell_type": "markdown",
      "metadata": {
        "id": "y7q84xVAYNLQ"
      },
      "source": [
        "## Ejercicio 5"
      ]
    },
    {
      "cell_type": "markdown",
      "metadata": {
        "id": "IylOoCL2YNLQ"
      },
      "source": [
        "Para aplicar un determinado impuesto se debe ser mayor de 16 años y tener unos ingresos iguales o superiores a 10000 $ mensuales. Escribir un programa que pregunte al usuario su edad y sus ingresos mensuales y muestre por pantalla si el usuario tiene que pagar o no."
      ]
    },
    {
      "cell_type": "code",
      "metadata": {
        "id": "Jq1HN9ZmYNLQ"
      },
      "source": [
        "# Solución\n",
        "age = int(input(\"¿Cuál es tu edad? \"))\n",
        "income = float(input(\"¿Cuales son tus ingresos mensuales?\"))\n",
        "if age > 16 and income >= 10000:\n",
        "    print(\"Tienes que cotizar\")\n",
        "else:\n",
        "    print(\"No tienes que cotizar\")"
      ],
      "execution_count": null,
      "outputs": []
    },
    {
      "cell_type": "code",
      "metadata": {
        "id": "A-C469WDYNLQ"
      },
      "source": [
        "    edad=int(input(\"Ingrese su edad:\"))\n",
        "    ingreso_mensual=float(input(\"Ingreso Mensual:\"))\n",
        "    if (edad > 16 and ingreso_mensual >= 10000):\n",
        "        print(\"Se te aplica un impuesto\")\n",
        "    else:\n",
        "        print(\"No se te aplica ningun impuesto.\")\n",
        "    "
      ],
      "execution_count": null,
      "outputs": []
    },
    {
      "cell_type": "markdown",
      "metadata": {
        "id": "lJqryCmjYNLQ"
      },
      "source": [
        "## Ejercicio 6"
      ]
    },
    {
      "cell_type": "markdown",
      "metadata": {
        "id": "of3r73-iYNLQ"
      },
      "source": [
        "Los alumnos de un curso se han dividido en dos grupos A y B de acuerdo al sexo y el nombre. El grupo A esta formado por las mujeres con un nombre anterior a la M y los hombres con un nombre posterior a la N y el grupo B por el resto. Escribir un programa que pregunte al usuario su nombre y sexo, y muestre por pantalla el grupo que le corresponde."
      ]
    },
    {
      "cell_type": "code",
      "metadata": {
        "id": "zh2dLpg0YNLQ"
      },
      "source": [
        "# Solución\n",
        "name = input(\"¿Cómo te llamas? \")\n",
        "gender = input(\"¿Cuál es tu sexo (M o H)? \")\n",
        "if (gender == \"M\" and name.lower() < 'm') or (gender == \"H\" and name.lower() > 'n'):\n",
        "    group = \"A\"\n",
        "else:\n",
        "    group = \"B\"\n",
        "print(\"Tu grupo es \" + group)"
      ],
      "execution_count": null,
      "outputs": []
    },
    {
      "cell_type": "code",
      "metadata": {
        "colab": {
          "base_uri": "https://localhost:8080/"
        },
        "id": "HvotN1DqYNLQ",
        "outputId": "8e3d949b-c3b4-4287-b9ce-4b91cb214a15"
      },
      "source": [
        "    nombre=input(\"Ingrese nombre:\").title()\n",
        "    sexo=input(\"Ingrese sexo F/M:\").upper()\n",
        "    if (nombre[0]<\"M\" and sexo == \"F\"):\n",
        "        print(\"Te corresponde el grupo A\")\n",
        "    elif(nombre[0]>\"N\" and sexo == \"M\"):\n",
        "        print(\"Te corresponde el grupo A\")\n",
        "    else:\n",
        "        print(\"Te corresponde el grupo B\")"
      ],
      "execution_count": 7,
      "outputs": [
        {
          "output_type": "stream",
          "text": [
            "Ingrese nombre:adrian\n",
            "Ingrese sexo F/M:m\n",
            "Te corresponde el grupo B\n"
          ],
          "name": "stdout"
        }
      ]
    },
    {
      "cell_type": "markdown",
      "metadata": {
        "id": "q6T9tp0VYNLQ"
      },
      "source": [
        "## Ejercicio 7"
      ]
    },
    {
      "cell_type": "markdown",
      "metadata": {
        "id": "IhAfAlFrYNLQ"
      },
      "source": [
        "Las franjas impositivas para la declaración de la renta en un determinado país son los siguientes:\n",
        "<table>\n",
        "<thead>\n",
        "<tr>\n",
        "<th style=\"text-align:center\">Renta en &#36;</th>\n",
        "<th style=\"text-align:center\">Impuesto </th>\n",
        "</tr>\n",
        "</thead>\n",
        "<tbody>\n",
        "<tr>\n",
        "<td style=\"text-align:center\">Menos de 10000</td>\n",
        "<td style=\"text-align:center\">5&#37; </td>\n",
        "</tr>\n",
        "<tr>\n",
        "<td style=\"text-align:center\">Entre 10000 y 20000</td>\n",
        "<td style=\"text-align:center\">15&#37;</td>\n",
        "</tr>\n",
        "<tr>\n",
        "<td style=\"text-align:center\">Entre 200000 y 35000 </td>\n",
        "<td style=\"text-align:center\">20&#37;</td>\n",
        "</tr>\n",
        "<tr>\n",
        "<td style=\"text-align:center\">Entre 350000 y 60000</td>\n",
        "<td style=\"text-align:center\">30&#37;</td>\n",
        "</tr>\n",
        "<tr>\n",
        "<td style=\"text-align:center\">Más de 60000</td>\n",
        "<td style=\"text-align:center\">45&#37;</td>\n",
        "</tr>\n",
        "</tbody>\n",
        "</table>\n",
        "Escribir un programa que pregunte al usuario su renta anual y muestre por pantalla el tipo impositivo que le corresponde."
      ]
    },
    {
      "cell_type": "code",
      "metadata": {
        "id": "27eB355-YNLQ"
      },
      "source": [
        "# Solución\n",
        "income = float(input(\"¿Cuál es tu renta anual? \"))\n",
        "if income < 10000:\n",
        "    tax = 5\n",
        "elif income < 20000:\n",
        "    tax = 15\n",
        "elif income < 35000:\n",
        "    tax = 20\n",
        "elif income < 60000:\n",
        "    tax = 30\n",
        "else:\n",
        "    tax = 45\n",
        "print(\"Tu tipo impositivo es \" + str(tax) + \"%\")"
      ],
      "execution_count": null,
      "outputs": []
    },
    {
      "cell_type": "code",
      "metadata": {
        "id": "ca8Ot2mYYNLQ"
      },
      "source": [
        "    renta=float(input(\"Ingrese su renta anual:\"))\n",
        "    if renta<10000:\n",
        "        print(\"Le corresponde un 5% de impuesto\")\n",
        "    elif (renta>=10000 and renta<20000):\n",
        "        print(\"Le corresponde un 15% de impuesto\")\n",
        "    elif (renta>=20000 and renta<35000):\n",
        "        print(\"Le corresponde un 20% de impuesto\")\n",
        "    elif (renta>=35000 and renta<=60000):\n",
        "        print(\"Le corresponde un 30% de impuesto\")\n",
        "    else:\n",
        "        print(\"Le corresponde un 45% de impuesto\")\n"
      ],
      "execution_count": null,
      "outputs": []
    },
    {
      "cell_type": "markdown",
      "metadata": {
        "id": "_lLp74YXYNLR"
      },
      "source": [
        "## Ejercicio 8"
      ]
    },
    {
      "cell_type": "markdown",
      "metadata": {
        "id": "ZKPlo7F6YNLR"
      },
      "source": [
        "En una determinada empresa, sus empleados son evaluados al final de cada año. Los puntos que pueden obtener en la evaluación comienzan en 0.0 y pueden ir aumentando, traduciéndose en mejores beneficios. Los puntos que pueden conseguir los empleados pueden ser 0.0, 0.4, 0.6 o más, pero no valores intermedios entre las cifras mencionadas. A continuación se muestra una tabla con los niveles correspondientes a cada puntuación. La cantidad de dinero conseguida en cada nivel es de 2500 $ multiplicada por la puntuación del nivel.\n",
        "\n",
        "<table>\n",
        "<thead>\n",
        "<tr>\n",
        "<th style=\"text-align:center\">Nivel</th>\n",
        "<th style=\"text-align:center\">Puntuación</th>\n",
        "</tr>\n",
        "</thead>\n",
        "<tbody>\n",
        "<tr>\n",
        "<td style=\"text-align:center\">Inaceptable</td>\n",
        "<td style=\"text-align:center\">0.0</td>\n",
        "</tr>\n",
        "<tr>\n",
        "<td style=\"text-align:center\">Aceptable</td>\n",
        "<td style=\"text-align:center\">0.4</td>\n",
        "</tr>\n",
        "<tr>\n",
        "<td style=\"text-align:center\">Meritorio</td>\n",
        "<td style=\"text-align:center\">0.6 o más</td>\n",
        "</tr>\n",
        "</tbody>\n",
        "</table>\n",
        "\n",
        "\n",
        "Escribir un programa que lea la puntuación del usuario e indique su nivel de rendimiento, así como la cantidad de dinero que recibirá el usuario."
      ]
    },
    {
      "cell_type": "code",
      "metadata": {
        "id": "OZI_cQtqYNLR"
      },
      "source": [
        "# Solución \n",
        "bonificacion = 2400\n",
        "inaceptable = 0\n",
        "aceptable = 0.4\n",
        "meritorio = 0.6\n",
        "puntos = float(input(\"Introduce tu puntuación: \"))\n",
        "# Clasifiación por niveles de rendimiento\n",
        "if puntos == inaceptable:\n",
        "    nivel = \"Inaceptable\"\n",
        "elif puntos == aceptable:\n",
        "    nivel = \"Aceptable\"\n",
        "elif puntos >= 0.6:\n",
        "    nivel = \"Meritorio\"\n",
        "else:\n",
        "    nivel = \"\"\n",
        "# Mostrar nivel de rendimiento\n",
        "if nivel == \"\":\n",
        "    print(\"Esta puntuación no es válida\")\n",
        "else:\n",
        "    print(\"Tu nivel de rendimiento es %s\" % nivel)\n",
        "    print(\"Te corresponde cobrar %.2f $\" % (puntos * bonificacion))"
      ],
      "execution_count": null,
      "outputs": []
    },
    {
      "cell_type": "code",
      "metadata": {
        "id": "IZ0CtUwCYNLR"
      },
      "source": [
        "    beneficio=2500\n",
        "    inaceptable=0\n",
        "    aceptable=0.4\n",
        "    meritorio=0.6\n",
        "    puntos=float(input(\"Ingrese su puntuación:\"))\n",
        "    if puntos==inaceptable:\n",
        "      print(\"Tu nivel es Inaceptable, no obtienes ningun beneficio\")\n",
        "    elif puntos==aceptable:\n",
        "      print(\"Tu nivel es Aceptable, obtienes un beneficio de $\",(puntos*beneficio))\n",
        "    elif puntos>=meritorio:\n",
        "      print(\"Tu nivel es Meritorio, obtienes un beneficio de $\",(puntos*beneficio))\n",
        "    else:\n",
        "      print(\"¡Puntuación inválida!\")\n"
      ],
      "execution_count": null,
      "outputs": []
    },
    {
      "cell_type": "markdown",
      "metadata": {
        "id": "2v2JFZecYNLR"
      },
      "source": [
        "## Ejercicio 9"
      ]
    },
    {
      "cell_type": "markdown",
      "metadata": {
        "id": "9XmpV-TDYNLR"
      },
      "source": [
        "Escribir un programa para una empresa que tiene salas de juegos para todas las edades y quiere calcular de forma automática el precio que debe cobrar a sus clientes por entrar. El programa debe preguntar al usuario la edad del cliente y mostrar el precio de la entrada. Si el cliente es menor de 4 años puede entrar gratis, si tiene entre 4 y 18 años debe pagar 50 pesos y si es mayor de 18 años, 100 pesos."
      ]
    },
    {
      "cell_type": "code",
      "metadata": {
        "id": "BamtK9M7YNLR"
      },
      "source": [
        "# Solución\n",
        "edad = int(input(\"Introduce tu edad: \"))\n",
        "# Decisión del precio en función de la edad\n",
        "if edad < 4:\n",
        "    precio = 0\n",
        "elif edad <= 18:\n",
        "    precio = 4\n",
        "else:\n",
        "    precio = 10\n",
        "# Mostrar precio\n",
        "print(\"El precio de la entrada es\", precio, \"$.\")"
      ],
      "execution_count": null,
      "outputs": []
    },
    {
      "cell_type": "code",
      "metadata": {
        "id": "NUN67GMeYNLR"
      },
      "source": [
        "    cliente=int(input(\"Por favor ingrese la edad del cliente:\"))\n",
        "    if cliente<4:\n",
        "      print(\"Tiene entrada gratuita\")\n",
        "    elif cliente>=4 and cliente<=18:\n",
        "      print(\"El costo de entrada es de $50\")\n",
        "    elif cliente>18:\n",
        "      print(\"El costo de entrada es de $100\")\n"
      ],
      "execution_count": null,
      "outputs": []
    },
    {
      "cell_type": "markdown",
      "metadata": {
        "id": "8FECu5oOYNLR"
      },
      "source": [
        "## Ejercicio 10"
      ]
    },
    {
      "cell_type": "markdown",
      "metadata": {
        "id": "eOwtVOVeYNLR"
      },
      "source": [
        "La pizzería Bella Napoli ofrece pizzas vegetarianas y no vegetarianas a sus clientes. Los ingredientes para cada tipo de pizza aparecen a continuación.\n",
        "\n",
        "<ul>\n",
        "<li>Ingredientes vegetarianos: Pimiento y tofu.</li>\n",
        "<li>Ingredientes no vegetarianos: Peperoni, Jamón y Salmón.</li>\n",
        "</ul>\n",
        "\n",
        "Escribir un programa que pregunte al usuario si quiere una pizza vegetariana o no, y en función de su respuesta le muestre un menú con los ingredientes disponibles para que elija. Solo se puede eligir un ingrediente además de la mozzarella y el tomate que están en todas la pizzas. Al final se debe mostrar por pantalla si la pizza elegida es vegetariana o no y todos los ingredientes que lleva."
      ]
    },
    {
      "cell_type": "code",
      "metadata": {
        "id": "8ifpyJZVYNLR"
      },
      "source": [
        "# Solución\n",
        "# Presentación del menú con los tipos de pizza\n",
        "print(\"Bienvenido a la pizzeria Bella Napoli.\\nTipos de pizza\\n\\t1- Vegetariana\\n\\t2- No vegetariana\\n\")\n",
        "tipo = input(\"Introduce el número correspondiente al tipo de pizza que quieres:\")\n",
        "# Decisión sobre el tipo de pizza\n",
        "if tipo == \"1\":\n",
        "    print(\"Ingredientes de pizzas vegetarianas\\n\\t 1- Pimiento\\n\\t2- Tofu\\n\")\n",
        "    ingrediente = input(\"Introduce el ingrediente que deseas: \")\n",
        "    print(\"Pizza vegetariana con mozzarella, tomate y \", end=\"\")\n",
        "    if ingrediente == \"1\":\n",
        "        print(\"pimiento\")\n",
        "    else: \n",
        "        print(\"tofu\")\n",
        "else:\n",
        "    print(\"Ingredientes de pizzas no vegetarianas\\n\\t1- Peperoni\\n\\t2- Jamón\\n\\t3- Salmón\\n\")\n",
        "    ingrediente = input(\"Introduce el ingrediente que deseas: \")\n",
        "    print(\"Pizza no vegetarina con mozarrella, tomate y \", end=\"\")\n",
        "    if ingrediente == \"1\":\n",
        "        print(\"peperoni\")\n",
        "    elif ingrediente == \"2\":\n",
        "        print(\"jamón\")\n",
        "    else:\n",
        "        print(\"salmón\")\n",
        "\n"
      ],
      "execution_count": null,
      "outputs": []
    },
    {
      "cell_type": "code",
      "metadata": {
        "id": "6oDymiM6YNLR"
      },
      "source": [
        "    print(\"¡Bienvenido a Bella Napoli!\")\n",
        "    print(\"Seleccione su tipo de pizza:\")\n",
        "    pizza=input(\"Para ingredientes vegetarianos presione 1\\nPara ingredientes No vegetarianos presione 2\\n\")\n",
        "    \n",
        "    if pizza !=\"1\" and pizza !=\"2\":\n",
        "       print(\"El número ingresado es inválido\")\n",
        "      \n",
        "    \n",
        "    if pizza==\"1\":\n",
        "      ingredientes=input(\"Presione 1 para agregar Pimiento\\nPresione 2 para agregar Tofu\\n\")\n",
        "      if ingredientes==\"1\":\n",
        "          print(\"Usted seleccionó una pizza vegetariana con Pimiento,mozzarella y tomate\")\n",
        "      elif ingredientes==\"2\":\n",
        "          print(\"Usted seleccionó una pizza vegetariana con Tofu,mozzarella y tomate\")\n",
        "      else:\n",
        "          print(\"El numero ingresado es inválido\")\n",
        "          \n",
        "    if pizza==\"2\":\n",
        "      ingredientes=input(\"Presione 1 para agregar Peperoni\\nPresione 2 para agregar Jamón\\nPresione 3 para agregar Salmón\\n\")\n",
        "      if ingredientes==\"1\":\n",
        "          print(\"Usted seleccionó una pizza No vegetariana con Peperoni,mozzarella y tomate\")\n",
        "      elif ingredientes==\"2\":\n",
        "          print(\"Usted seleccionó una pizza No vegetariana con Jamón,mozzarella y tomate\")\n",
        "      elif ingredientes==\"3\":\n",
        "          print(\"Usted seleccionó una pizza No vegetariana con Salmón,mozzarella y tomate\")\n",
        "      else:\n",
        "          print(\"El número ingresado es inválido\")\n",
        "    "
      ],
      "execution_count": null,
      "outputs": []
    }
  ]
}