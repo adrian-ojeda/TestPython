{
  "nbformat": 4,
  "nbformat_minor": 0,
  "metadata": {
    "kernelspec": {
      "display_name": "Python 3",
      "language": "python",
      "name": "python3"
    },
    "language_info": {
      "codemirror_mode": {
        "name": "ipython",
        "version": 3
      },
      "file_extension": ".py",
      "mimetype": "text/x-python",
      "name": "python",
      "nbconvert_exporter": "python",
      "pygments_lexer": "ipython3",
      "version": "3.6.9"
    },
    "colab": {
      "name": "Ojeda-Ejercicios-2-Condicionales.ipynb",
      "provenance": [],
      "collapsed_sections": []
    }
  },
  "cells": [
    {
      "cell_type": "markdown",
      "metadata": {
        "id": "tLYfRt2WTxt4"
      },
      "source": [
        "# Ejercicios de Condicionales"
      ]
    },
    {
      "cell_type": "markdown",
      "metadata": {
        "id": "eYz9jg4bTxt_"
      },
      "source": [
        "## Ejercicio 1"
      ]
    },
    {
      "cell_type": "markdown",
      "metadata": {
        "id": "OEWTyNDKTxuA"
      },
      "source": [
        "Escribir un programa que pregunte al usuario su edad y muestre por pantalla si es mayor de edad o no."
      ]
    },
    {
      "cell_type": "code",
      "metadata": {
        "id": "XBmxphzNTxuC",
        "outputId": "3e662f62-ff99-41de-aae4-ff8379896cda",
        "colab": {
          "base_uri": "https://localhost:8080/"
        }
      },
      "source": [
        "    edad=int(input(\"Ingrese su edad:\"))\n",
        "    if edad >= 18:\n",
        "        print(\"Sos mayor\")\n",
        "    else:\n",
        "        print(\"Sos menor\")"
      ],
      "execution_count": 7,
      "outputs": [
        {
          "output_type": "stream",
          "text": [
            "Ingrese su edad:17\n",
            "Sos menor\n"
          ],
          "name": "stdout"
        }
      ]
    },
    {
      "cell_type": "markdown",
      "metadata": {
        "id": "vDgo2py2TxuI"
      },
      "source": [
        "## Ejercicio 2"
      ]
    },
    {
      "cell_type": "markdown",
      "metadata": {
        "id": "3Xg2v5K4TxuJ"
      },
      "source": [
        "Escribir un programa que almacene la cadena de caracteres <font color=#B40431>contraseña</font> en una variable, pregunte al usuario por la contraseña e imprima por pantalla si la contraseña introducida por el usuario coincide con la guardada en la variable sin tener en cuenta mayúsculas y minúsculas."
      ]
    },
    {
      "cell_type": "code",
      "metadata": {
        "id": "fJsfCSnrTxuK",
        "outputId": "b423603b-760b-41ba-bec7-e7d0ea2b9f0b",
        "colab": {
          "base_uri": "https://localhost:8080/"
        }
      },
      "source": [
        "    password=\"contraseña\"\n",
        "    clave=input(\"Ingrese clave:\").lower()\n",
        "    if clave == password:\n",
        "        print(\"Clave Correcta!\")\n",
        "    else:\n",
        "        print(\"Clave Incorrecta!\")\n",
        "        \n"
      ],
      "execution_count": 15,
      "outputs": [
        {
          "output_type": "stream",
          "text": [
            "Ingrese clave:ADRIAN\n",
            "Clave Incorrecta\n"
          ],
          "name": "stdout"
        }
      ]
    },
    {
      "cell_type": "markdown",
      "metadata": {
        "id": "xL44xGl2TxuP"
      },
      "source": [
        "## Ejercicio 3"
      ]
    },
    {
      "cell_type": "markdown",
      "metadata": {
        "id": "IhVYMINPTxuP"
      },
      "source": [
        "Escribir un programa que pida al usuario dos números y muestre por pantalla su división. Si el divisor es cero el programa debe mostrar un error."
      ]
    },
    {
      "cell_type": "code",
      "metadata": {
        "id": "n63llL_OTxuQ",
        "outputId": "6dacb0db-8d80-4d25-c095-528516e08494",
        "colab": {
          "base_uri": "https://localhost:8080/"
        }
      },
      "source": [
        "    numero1=int(input(\"Ingrese un dividendo:\"))\n",
        "    numero2=int(input(\"Ingrese un divisor:\"))\n",
        "    if numero2!=0:\n",
        "        print(\"Resultado de la división =\",(numero1/numero2))\n",
        "    else:\n",
        "        print(\"Error, no se puede dividir entre 0\")\n"
      ],
      "execution_count": 17,
      "outputs": [
        {
          "output_type": "stream",
          "text": [
            "Ingrese un dividendo:10\n",
            "Ingrese un divisor:0\n",
            "Error, no se puede dividir por 0!\n"
          ],
          "name": "stdout"
        }
      ]
    },
    {
      "cell_type": "markdown",
      "metadata": {
        "id": "KWCCTTt4TxuV"
      },
      "source": [
        "## Ejercicio 4"
      ]
    },
    {
      "cell_type": "markdown",
      "metadata": {
        "id": "iQZG942sTxuV"
      },
      "source": [
        "Escribir un programa que pida al usuario un número entero y muestre por pantalla si es par o impar."
      ]
    },
    {
      "cell_type": "code",
      "metadata": {
        "id": "AGro_mSlTxuW",
        "outputId": "33f3db0f-d90a-4a4a-b68d-ed0378bb62d2",
        "colab": {
          "base_uri": "https://localhost:8080/"
        }
      },
      "source": [
        "    numero=int(input(\"Ingrese un número:\"))\n",
        "    if numero%2==0:\n",
        "        print(\"Es Par\")\n",
        "    else:\n",
        "        print(\"Es Impar\")"
      ],
      "execution_count": 19,
      "outputs": [
        {
          "output_type": "stream",
          "text": [
            "Ingrese un número:11\n",
            "Es Impar\n"
          ],
          "name": "stdout"
        }
      ]
    },
    {
      "cell_type": "markdown",
      "metadata": {
        "id": "lv58cfgoTxuY"
      },
      "source": [
        "## Ejercicio 5"
      ]
    },
    {
      "cell_type": "markdown",
      "metadata": {
        "id": "ylEs9n9bTxuZ"
      },
      "source": [
        "Para aplicar un determinado impuesto se debe ser mayor de 16 años y tener unos ingresos iguales o superiores a 10000 $ mensuales. Escribir un programa que pregunte al usuario su edad y sus ingresos mensuales y muestre por pantalla si el usuario tiene que pagar o no."
      ]
    },
    {
      "cell_type": "code",
      "metadata": {
        "id": "EKSgFpw0TxuZ",
        "outputId": "457a94d2-832f-4e3e-c8ca-30c8d2253322",
        "colab": {
          "base_uri": "https://localhost:8080/"
        }
      },
      "source": [
        "    edad=int(input(\"Ingrese su edad:\"))\n",
        "    ingreso_mensual=float(input(\"Ingreso Mensual:\"))\n",
        "    if (edad > 16 and ingreso_mensual >= 10000):\n",
        "        print(\"Se te aplica un impuesto del 10%.\")\n",
        "    else:\n",
        "        print(\"No se te aplica ningun impuesto.\")\n",
        "    \n"
      ],
      "execution_count": 21,
      "outputs": [
        {
          "output_type": "stream",
          "text": [
            "Ingrese su edad:17\n",
            "Ingreso Mensual:11000\n",
            "Se te aplica un impuesto del 10%.\n"
          ],
          "name": "stdout"
        }
      ]
    },
    {
      "cell_type": "markdown",
      "metadata": {
        "id": "1BNig1dSTxuc"
      },
      "source": [
        "## Ejercicio 6"
      ]
    },
    {
      "cell_type": "markdown",
      "metadata": {
        "id": "xoTC-6_WTxuc"
      },
      "source": [
        "Los alumnos de un curso se han dividido en dos grupos A y B de acuerdo al sexo y el nombre. El grupo A esta formado por las mujeres con un nombre anterior a la M y los hombres con un nombre posterior a la N y el grupo B por el resto. Escribir un programa que pregunte al usuario su nombre y sexo, y muestre por pantalla el grupo que le corresponde."
      ]
    },
    {
      "cell_type": "code",
      "metadata": {
        "id": "exepcMhDTxud",
        "outputId": "ff03a146-771c-422a-9e4a-e97e3e5caa9c",
        "colab": {
          "base_uri": "https://localhost:8080/"
        }
      },
      "source": [
        "    nombre=input(\"Ingrese nombre:\").title()\n",
        "    sexo=input(\"Ingrese sexo F/M:\").upper()\n",
        "    if (nombre[0]<\"M\" and sexo == \"F\"):\n",
        "        print(\"Te corresponde el grupo A\")\n",
        "    elif(nombre[0]>\"N\" and sexo == \"M\"):\n",
        "        print(\"Te corresponde el grupo A\")\n",
        "    else:\n",
        "        print(\"Te corresponde el grupo B\")\n",
        "\n"
      ],
      "execution_count": 29,
      "outputs": [
        {
          "output_type": "stream",
          "text": [
            "Ingrese nombre:adrian\n",
            "Ingrese sexo F/M:m\n",
            "Te corresponde el grupo B\n"
          ],
          "name": "stdout"
        }
      ]
    },
    {
      "cell_type": "markdown",
      "metadata": {
        "id": "uuEqTxJATxuf"
      },
      "source": [
        "## Ejercicio 7"
      ]
    },
    {
      "cell_type": "markdown",
      "metadata": {
        "id": "vRI0yiTYTxug"
      },
      "source": [
        "Las franjas impositivas para la declaración de la renta en un determinado país son los siguientes:\n",
        "<table>\n",
        "<thead>\n",
        "<tr>\n",
        "<th style=\"text-align:center\">Renta en &#36;</th>\n",
        "<th style=\"text-align:center\">Impuesto </th>\n",
        "</tr>\n",
        "</thead>\n",
        "<tbody>\n",
        "<tr>\n",
        "<td style=\"text-align:center\">Menos de 10000</td>\n",
        "<td style=\"text-align:center\">5&#37; </td>\n",
        "</tr>\n",
        "<tr>\n",
        "<td style=\"text-align:center\">Entre 10000 y 20000</td>\n",
        "<td style=\"text-align:center\">15&#37;</td>\n",
        "</tr>\n",
        "<tr>\n",
        "<td style=\"text-align:center\">Entre 200000 y 35000 </td>\n",
        "<td style=\"text-align:center\">20&#37;</td>\n",
        "</tr>\n",
        "<tr>\n",
        "<td style=\"text-align:center\">Entre 350000 y 60000</td>\n",
        "<td style=\"text-align:center\">30&#37;</td>\n",
        "</tr>\n",
        "<tr>\n",
        "<td style=\"text-align:center\">Más de 60000</td>\n",
        "<td style=\"text-align:center\">45&#37;</td>\n",
        "</tr>\n",
        "</tbody>\n",
        "</table>\n",
        "Escribir un programa que pregunte al usuario su renta anual y muestre por pantalla el tipo impositivo que le corresponde."
      ]
    },
    {
      "cell_type": "code",
      "metadata": {
        "id": "1vYTeWLWTxug",
        "outputId": "8e212df5-59f5-49c0-8126-5d69a2e736bf",
        "colab": {
          "base_uri": "https://localhost:8080/"
        }
      },
      "source": [
        "    renta=float(input(\"Ingrese su renta anual:\"))\n",
        "    if renta<10000:\n",
        "        print(\"Le corresponde un 5% de impuesto\")\n",
        "    elif (renta>=10000 and renta<20000):\n",
        "        print(\"Le corresponde un 15% de impuesto\")\n",
        "    elif (renta>=20000 and renta<35000):\n",
        "        print(\"Le corresponde un 20% de impuesto\")\n",
        "    elif (renta>=35000 and renta<=60000):\n",
        "        print(\"Le corresponde un 30% de impuesto\")\n",
        "    else:\n",
        "        print(\"Le corresponde un 45% de impuesto\")\n",
        "\n",
        " \n",
        "    "
      ],
      "execution_count": 51,
      "outputs": [
        {
          "output_type": "stream",
          "text": [
            "Ingrese su renta anual:9000\n",
            "Le corresponde un 5% de impuesto\n"
          ],
          "name": "stdout"
        }
      ]
    },
    {
      "cell_type": "markdown",
      "metadata": {
        "id": "BYWZsVwgTxui"
      },
      "source": [
        "## Ejercicio 8"
      ]
    },
    {
      "cell_type": "markdown",
      "metadata": {
        "id": "F7a1pI-XTxui"
      },
      "source": [
        "En una determinada empresa, sus empleados son evaluados al final de cada año. Los puntos que pueden obtener en la evaluación comienzan en 0.0 y pueden ir aumentando, traduciéndose en mejores beneficios. Los puntos que pueden conseguir los empleados pueden ser 0.0, 0.4, 0.6 o más, pero no valores intermedios entre las cifras mencionadas. A continuación se muestra una tabla con los niveles correspondientes a cada puntuación. La cantidad de dinero conseguida en cada nivel es de 2500 $ multiplicada por la puntuación del nivel.\n",
        "\n",
        "<table>\n",
        "<thead>\n",
        "<tr>\n",
        "<th style=\"text-align:center\">Nivel</th>\n",
        "<th style=\"text-align:center\">Puntuación</th>\n",
        "</tr>\n",
        "</thead>\n",
        "<tbody>\n",
        "<tr>\n",
        "<td style=\"text-align:center\">Inaceptable</td>\n",
        "<td style=\"text-align:center\">0.0</td>\n",
        "</tr>\n",
        "<tr>\n",
        "<td style=\"text-align:center\">Aceptable</td>\n",
        "<td style=\"text-align:center\">0.4</td>\n",
        "</tr>\n",
        "<tr>\n",
        "<td style=\"text-align:center\">Meritorio</td>\n",
        "<td style=\"text-align:center\">0.6 o más</td>\n",
        "</tr>\n",
        "</tbody>\n",
        "</table>\n",
        "\n",
        "\n",
        "Escribir un programa que lea la puntuación del usuario e indique su nivel de rendimiento, así como la cantidad de dinero que recibirá el usuario."
      ]
    },
    {
      "cell_type": "code",
      "metadata": {
        "id": "Unk0K1FmTxui",
        "outputId": "2de70fce-1901-456c-db23-85dc42c8408b",
        "colab": {
          "base_uri": "https://localhost:8080/"
        }
      },
      "source": [
        "    beneficio=2500\n",
        "    inaceptable=0\n",
        "    aceptable=0.4\n",
        "    meritorio=0.6\n",
        "    puntos=float(input(\"Ingrese su puntuación:\"))\n",
        "    if puntos==inaceptable:\n",
        "      print(\"Tu nivel es Inaceptable, no obtienes ningun beneficio\")\n",
        "    elif puntos==aceptable:\n",
        "      print(\"Tu nivel es Aceptable, obtienes un beneficio de $\",(puntos*beneficio))\n",
        "    elif puntos>=meritorio:\n",
        "      print(\"Tu nivel es Meritorio, obtienes un beneficio de $\",(puntos*beneficio))\n",
        "    else:\n",
        "      print(\"¡Puntuación inválida!\")\n",
        "\n"
      ],
      "execution_count": 61,
      "outputs": [
        {
          "output_type": "stream",
          "text": [
            "Ingrese su puntuación:0.7\n",
            "Tu nivel es Meritorio, obtienes un beneficio de $ 1750.0\n"
          ],
          "name": "stdout"
        }
      ]
    },
    {
      "cell_type": "markdown",
      "metadata": {
        "id": "x7-tkl4JTxuk"
      },
      "source": [
        "## Ejercicio 9"
      ]
    },
    {
      "cell_type": "markdown",
      "metadata": {
        "id": "NQUqV_GSTxul"
      },
      "source": [
        "Escribir un programa para una empresa que tiene salas de juegos para todas las edades y quiere calcular de forma automática el precio que debe cobrar a sus clientes por entrar. El programa debe preguntar al usuario la edad del cliente y mostrar el precio de la entrada. Si el cliente es menor de 4 años puede entrar gratis, si tiene entre 4 y 18 años debe pagar 50 pesos y si es mayor de 18 años, 100 pesos."
      ]
    },
    {
      "cell_type": "code",
      "metadata": {
        "id": "g66J7l8CTxul",
        "outputId": "c50658c3-e69f-40b4-a3bc-a0af84e661ec",
        "colab": {
          "base_uri": "https://localhost:8080/"
        }
      },
      "source": [
        "    cliente=int(input(\"Por favor ingrese la edad del cliente:\"))\n",
        "    if cliente<4:\n",
        "      print(\"Tiene entrada gratuita\")\n",
        "    elif cliente>=4 and cliente<=18:\n",
        "      print(\"El costo de entrada es de $50\")\n",
        "    elif cliente>18:\n",
        "      print(\"El costo de entrada es de $100\")\n"
      ],
      "execution_count": 66,
      "outputs": [
        {
          "output_type": "stream",
          "text": [
            "Por favor ingrese la edad del cliente:12\n",
            "El costo de entrada es de $50\n"
          ],
          "name": "stdout"
        }
      ]
    },
    {
      "cell_type": "markdown",
      "metadata": {
        "id": "rhg_KZaETxun"
      },
      "source": [
        "## Ejercicio 10"
      ]
    },
    {
      "cell_type": "markdown",
      "metadata": {
        "id": "FK7ZJbUhTxun"
      },
      "source": [
        "La pizzería Bella Napoli ofrece pizzas vegetarianas y no vegetarianas a sus clientes. Los ingredientes para cada tipo de pizza aparecen a continuación.\n",
        "\n",
        "<ul>\n",
        "<li>Ingredientes vegetarianos: Pimiento y tofu.</li>\n",
        "<li>Ingredientes no vegetarianos: Peperoni, Jamón y Salmón.</li>\n",
        "</ul>\n",
        "\n",
        "Escribir un programa que pregunte al usuario si quiere una pizza vegetariana o no, y en función de su respuesta le muestre un menú con los ingredientes disponibles para que elija. Solo se puede eligir un ingrediente además de la mozzarella y el tomate que están en todas la pizzas. Al final se debe mostrar por pantalla si la pizza elegida es vegetariana o no y todos los ingredientes que lleva."
      ]
    },
    {
      "cell_type": "code",
      "metadata": {
        "id": "l1mTRxbgTxun",
        "outputId": "7b8707ce-e549-4813-c1bc-93773f00b437",
        "colab": {
          "base_uri": "https://localhost:8080/"
        }
      },
      "source": [
        "    print(\"¡Bienvenido a Bella Napoli!\")\n",
        "    print(\"Seleccione su tipo de pizza:\")\n",
        "    pizza=input(\"Para ingredientes vegetarianos presione 1\\nPara ingredientes No vegetarianos presione 2\\n\")\n",
        "    \n",
        "    if pizza !=\"1\" and pizza !=\"2\":\n",
        "       print(\"El número ingresado es inválido\")\n",
        "      \n",
        "    \n",
        "    if pizza==\"1\":\n",
        "      ingredientes=input(\"Presione 1 para agregar Pimiento\\nPresione 2 para agregar Tofu\\n\")\n",
        "      if ingredientes==\"1\":\n",
        "          print(\"Usted seleccionó una pizza vegetariana con Pimiento,mozzarella y tomate\")\n",
        "      elif ingredientes==\"2\":\n",
        "          print(\"Usted seleccionó una pizza vegetariana con Tofu,mozzarella y tomate\")\n",
        "      else:\n",
        "          print(\"El numero ingresado es inválido\")\n",
        "          \n",
        "    if pizza==\"2\":\n",
        "      ingredientes=input(\"Presione 1 para agregar Peperoni\\nPresione 2 para agregar Jamón\\nPresione 3 para agregar Salmón\\n\")\n",
        "      if ingredientes==\"1\":\n",
        "          print(\"Usted seleccionó una pizza No vegetariana con Peperoni,mozzarella y tomate\")\n",
        "      elif ingredientes==\"2\":\n",
        "          print(\"Usted seleccionó una pizza No vegetariana con Jamón,mozzarella y tomate\")\n",
        "      elif ingredientes==\"3\":\n",
        "          print(\"Usted seleccionó una pizza No vegetariana con Salmón,mozzarella y tomate\")\n",
        "      else:\n",
        "          print(\"El número ingresado es inválido\")\n",
        "    \n",
        "    \n"
      ],
      "execution_count": 104,
      "outputs": [
        {
          "output_type": "stream",
          "text": [
            "¡Bienvenido a Bella Napoli!\n",
            "Seleccione su tipo de pizza:\n",
            "Para ingredientes vegetarianos presione 1\n",
            "Para ingredientes No vegetarianos presione 2\n",
            "2\n",
            "Presione 1 para agregar Peperoni\n",
            "Presione 2 para agregar Jamón\n",
            "Presione 3 para agregar Salmón\n",
            "4\n",
            "El número ingresado es inválido\n"
          ],
          "name": "stdout"
        }
      ]
    }
  ]
}