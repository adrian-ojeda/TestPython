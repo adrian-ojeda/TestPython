{
  "nbformat": 4,
  "nbformat_minor": 0,
  "metadata": {
    "kernelspec": {
      "display_name": "Python 3",
      "language": "python",
      "name": "python3"
    },
    "language_info": {
      "codemirror_mode": {
        "name": "ipython",
        "version": 3
      },
      "file_extension": ".py",
      "mimetype": "text/x-python",
      "name": "python",
      "nbconvert_exporter": "python",
      "pygments_lexer": "ipython3",
      "version": "3.6.9"
    },
    "colab": {
      "name": "Ojeda-Ejercicios-3-Bucles.ipynb",
      "provenance": [],
      "collapsed_sections": []
    }
  },
  "cells": [
    {
      "cell_type": "markdown",
      "metadata": {
        "id": "qP0M7TqEkOMH"
      },
      "source": [
        "# Ejercicios de Bucles"
      ]
    },
    {
      "cell_type": "markdown",
      "metadata": {
        "id": "ZhtFqUc7kOMH"
      },
      "source": [
        "## Ejercicio 1"
      ]
    },
    {
      "cell_type": "markdown",
      "metadata": {
        "id": "1d8EOkPckOMH"
      },
      "source": [
        "Escribir un programa que pida al usuario una palabra y la muestre por pantalla 10 veces."
      ]
    },
    {
      "cell_type": "code",
      "metadata": {
        "colab": {
          "base_uri": "https://localhost:8080/"
        },
        "id": "09L_G9RKkOMI",
        "outputId": "aea1a1c0-3747-430d-d817-7b899f2e5f9e"
      },
      "source": [
        "    palabra=input(\"Ingrese una palabra:\")\n",
        "    for i in range (10) :\n",
        "      print(palabra)\n"
      ],
      "execution_count": 10,
      "outputs": [
        {
          "output_type": "stream",
          "text": [
            "Ingrese una palabra:Adrian\n",
            "Adrian\n",
            "Adrian\n",
            "Adrian\n",
            "Adrian\n",
            "Adrian\n",
            "Adrian\n",
            "Adrian\n",
            "Adrian\n",
            "Adrian\n",
            "Adrian\n"
          ],
          "name": "stdout"
        }
      ]
    },
    {
      "cell_type": "markdown",
      "metadata": {
        "id": "QYyq1gigkOMI"
      },
      "source": [
        "## Ejercicio 2"
      ]
    },
    {
      "cell_type": "markdown",
      "metadata": {
        "id": "xlMu8rRBkOMI"
      },
      "source": [
        "Escribir un programa que pregunte al usuario su edad y muestre por pantalla todos los años que ha cumplido (desde 1 hasta su edad)."
      ]
    },
    {
      "cell_type": "code",
      "metadata": {
        "colab": {
          "base_uri": "https://localhost:8080/"
        },
        "id": "FYSWrSabkOMI",
        "outputId": "03255f42-ded0-4993-8784-dbca9337afad"
      },
      "source": [
        "    edad=int(input(\"Ingrese su edad:\"))\n",
        "    print(\"Los años que cumplio hasta la actualidad\")\n",
        "    for i in range(1,edad+1):\n",
        "      print(i,\"años\")\n",
        "    \n"
      ],
      "execution_count": 19,
      "outputs": [
        {
          "output_type": "stream",
          "text": [
            "Ingrese su edad:37\n",
            "Los años que cumplio hasta la actualidad\n",
            "1 años\n",
            "2 años\n",
            "3 años\n",
            "4 años\n",
            "5 años\n",
            "6 años\n",
            "7 años\n",
            "8 años\n",
            "9 años\n",
            "10 años\n",
            "11 años\n",
            "12 años\n",
            "13 años\n",
            "14 años\n",
            "15 años\n",
            "16 años\n",
            "17 años\n",
            "18 años\n",
            "19 años\n",
            "20 años\n",
            "21 años\n",
            "22 años\n",
            "23 años\n",
            "24 años\n",
            "25 años\n",
            "26 años\n",
            "27 años\n",
            "28 años\n",
            "29 años\n",
            "30 años\n",
            "31 años\n",
            "32 años\n",
            "33 años\n",
            "34 años\n",
            "35 años\n",
            "36 años\n",
            "37 años\n"
          ],
          "name": "stdout"
        }
      ]
    },
    {
      "cell_type": "markdown",
      "metadata": {
        "id": "GbpCEwA3kOMI"
      },
      "source": [
        "## Ejercicio 3"
      ]
    },
    {
      "cell_type": "markdown",
      "metadata": {
        "id": "A9xebfi9kOMI"
      },
      "source": [
        "Escribir un programa que pida al usuario un número entero positivo y muestre por pantalla todos los números impares desde 1 hasta ese número separados por comas."
      ]
    },
    {
      "cell_type": "code",
      "metadata": {
        "colab": {
          "base_uri": "https://localhost:8080/"
        },
        "id": "QYh2hgiRkOMI",
        "outputId": "84eac768-9084-4cc2-a248-8aee08cc9a4e"
      },
      "source": [
        "    num=int(input(\"Ingrese un número entero positivo:\"))\n",
        "    for i in range(1,num+1):\n",
        "      if i%2 != 0:\n",
        "        print(i,end=\",\")"
      ],
      "execution_count": 33,
      "outputs": [
        {
          "output_type": "stream",
          "text": [
            "Ingrese un número entero positivo:10\n",
            "1,3,5,7,9,"
          ],
          "name": "stdout"
        }
      ]
    },
    {
      "cell_type": "markdown",
      "metadata": {
        "id": "AV4GPkeukOMJ"
      },
      "source": [
        "## Ejercicio 4"
      ]
    },
    {
      "cell_type": "markdown",
      "metadata": {
        "id": "FrOqWLTokOMJ"
      },
      "source": [
        "Escribir un programa que pida al usuario un número entero positivo y muestre por pantalla la cuenta atrás desde ese número hasta cero separados por comas."
      ]
    },
    {
      "cell_type": "code",
      "metadata": {
        "colab": {
          "base_uri": "https://localhost:8080/"
        },
        "id": "W2brHKO5kOMJ",
        "outputId": "86d645af-f750-4439-9682-31286c6c8adf"
      },
      "source": [
        "    num=int(input(\"Ingrese un número entero positivo:\"))\n",
        "    for i in range(num+1):\n",
        "      print(num-i,end=\",\")\n"
      ],
      "execution_count": 58,
      "outputs": [
        {
          "output_type": "stream",
          "text": [
            "Ingrese un número entero positivo:10\n",
            "10,9,8,7,6,5,4,3,2,1,0,"
          ],
          "name": "stdout"
        }
      ]
    },
    {
      "cell_type": "markdown",
      "metadata": {
        "id": "bse8FAGAkOMJ"
      },
      "source": [
        "## Ejercicio 5"
      ]
    },
    {
      "cell_type": "markdown",
      "metadata": {
        "id": "tvKW000CkOMJ"
      },
      "source": [
        "Escribir un programa que pregunte al usuario una cantidad a invertir, el interés anual y el número de años, y muestre por pantalla el capital obtenido en la inversión cada año que dura la inversión."
      ]
    },
    {
      "cell_type": "code",
      "metadata": {
        "colab": {
          "base_uri": "https://localhost:8080/"
        },
        "id": "f2GiqeICkOMJ",
        "outputId": "ad0d9127-3bc6-4ae7-8251-5b777a5ffdef"
      },
      "source": [
        "    inversion=float(input(\"¿Cuanto dinero desea invertir?:\"))\n",
        "    interesAnual=float(input(\"¿Interés Anual?:\"))\n",
        "    años=int(input(\"¿Cantidad de años?\"))\n",
        "    for i in range(1,años+1):\n",
        "      inversion *= interesAnual/100 + 1\n",
        "      print(\"Inversión Año\",i,\"es de $\",round(inversion,2))\n"
      ],
      "execution_count": 7,
      "outputs": [
        {
          "output_type": "stream",
          "text": [
            "¿Cuanto dinero desea invertir?:1000\n",
            "¿Interés Anual?:10\n",
            "¿Cantidad de años?5\n",
            "Inversión Año 1 es de $ 1100.0\n",
            "Inversión Año 2 es de $ 1210.0\n",
            "Inversión Año 3 es de $ 1331.0\n",
            "Inversión Año 4 es de $ 1464.1\n",
            "Inversión Año 5 es de $ 1610.51\n"
          ],
          "name": "stdout"
        }
      ]
    },
    {
      "cell_type": "markdown",
      "metadata": {
        "id": "4ATxbAOwkOMJ"
      },
      "source": [
        "## Ejercicio 6"
      ]
    },
    {
      "cell_type": "markdown",
      "metadata": {
        "id": "AZuGkKxxkOMJ"
      },
      "source": [
        "Escribir un programa que pida al usuario un número entero y muestre por pantalla un triángulo rectángulo como el de más abajo, de altura el número introducido.\n",
        "<pre><code>*\n",
        "**\n",
        "***\n",
        "****\n",
        "*****\n",
        "</code></pre>"
      ]
    },
    {
      "cell_type": "code",
      "metadata": {
        "colab": {
          "base_uri": "https://localhost:8080/"
        },
        "id": "jb1_pPYukOMJ",
        "outputId": "aef42ce6-5b7a-4b6a-e284-557f6652f7e2"
      },
      "source": [
        "num=int(input(\"Ingrese un número entero de 5 a 10:\"))\n",
        "for i in range(num):\n",
        "  for j in range(i+1):\n",
        "    print(\"*\",end=\"\")\n",
        "  print(\"\")"
      ],
      "execution_count": 21,
      "outputs": [
        {
          "output_type": "stream",
          "text": [
            "Ingrese un número entero de 5 a 10:5\n",
            "*\n",
            "**\n",
            "***\n",
            "****\n",
            "*****\n"
          ],
          "name": "stdout"
        }
      ]
    },
    {
      "cell_type": "markdown",
      "metadata": {
        "id": "DAahVC_ckOMJ"
      },
      "source": [
        "## Ejercicio 7"
      ]
    },
    {
      "cell_type": "markdown",
      "metadata": {
        "id": "vYLR3XP-kOMJ"
      },
      "source": [
        "Escribir un programa que muestre por pantalla la tabla de multiplicar del 1 al 10."
      ]
    },
    {
      "cell_type": "code",
      "metadata": {
        "colab": {
          "base_uri": "https://localhost:8080/"
        },
        "id": "uuD1NjHukOMJ",
        "outputId": "9ede75b6-090e-48b6-d051-81a1721e504d"
      },
      "source": [
        "for i in range(1,11):\n",
        "    for j in range(1,11):\n",
        "      print(i*j,end=\",\")\n",
        "    print(\"\")"
      ],
      "execution_count": 22,
      "outputs": [
        {
          "output_type": "stream",
          "text": [
            "1,2,3,4,5,6,7,8,9,10,\n",
            "2,4,6,8,10,12,14,16,18,20,\n",
            "3,6,9,12,15,18,21,24,27,30,\n",
            "4,8,12,16,20,24,28,32,36,40,\n",
            "5,10,15,20,25,30,35,40,45,50,\n",
            "6,12,18,24,30,36,42,48,54,60,\n",
            "7,14,21,28,35,42,49,56,63,70,\n",
            "8,16,24,32,40,48,56,64,72,80,\n",
            "9,18,27,36,45,54,63,72,81,90,\n",
            "10,20,30,40,50,60,70,80,90,100,\n"
          ],
          "name": "stdout"
        }
      ]
    },
    {
      "cell_type": "markdown",
      "metadata": {
        "id": "2HvUwJRKkOMJ"
      },
      "source": [
        "## Ejercicio 8"
      ]
    },
    {
      "cell_type": "markdown",
      "metadata": {
        "id": "gUBZyaIjkOMK"
      },
      "source": [
        "Escribir un programa que pida al usuario un número entero y muestre por pantalla un triángulo rectángulo como el de más abajo.\n",
        "<pre><code>1\n",
        "3 1\n",
        "5 3 1\n",
        "7 5 3 1\n",
        "9 7 5 3 1\n",
        "</code></pre>"
      ]
    },
    {
      "cell_type": "code",
      "metadata": {
        "colab": {
          "base_uri": "https://localhost:8080/"
        },
        "id": "SrOe_T3skOMK",
        "outputId": "a9721e2f-b8ad-49a2-a6ed-375c1b1715ef"
      },
      "source": [
        "  num=int(input(\"Ingrese un número entero:\"))\n",
        "  for i in range(1,num+1,2):\n",
        "     for j in range(i,0,-2):\n",
        "          print(j,end=\" \")\n",
        "     print(\"\")\n",
        "  \n",
        "      \n"
      ],
      "execution_count": 46,
      "outputs": [
        {
          "output_type": "stream",
          "text": [
            "Ingrese un número entero:10\n",
            "1 \n",
            "3 1 \n",
            "5 3 1 \n",
            "7 5 3 1 \n",
            "9 7 5 3 1 \n"
          ],
          "name": "stdout"
        }
      ]
    },
    {
      "cell_type": "markdown",
      "metadata": {
        "id": "vd8h2_h1kOMK"
      },
      "source": [
        "## Ejercicio 9"
      ]
    },
    {
      "cell_type": "markdown",
      "metadata": {
        "id": "w6C0tozxkOMK"
      },
      "source": [
        "Escribir un programa que almacene la cadena de caracteres <font color=#B40431>contraseña</font> en una variable, pregunte al usuario por la contraseña hasta que introduzca la contraseña correcta."
      ]
    },
    {
      "cell_type": "code",
      "metadata": {
        "colab": {
          "base_uri": "https://localhost:8080/"
        },
        "id": "P3g_TSY1kOMK",
        "outputId": "b184ada9-a8bb-4753-81a7-2e383aa0e1e4"
      },
      "source": [
        "    password=\"contraseña\"\n",
        "    clave=input(\"Introduzca la clave:\")\n",
        "   \n",
        "    while clave!=password:\n",
        "      print(\"Clave incorrecta, intentelo nuevamente\")\n",
        "      clave=input(\"Introduzca la clave:\")\n",
        "    \n",
        "    print(\"Clave correcta!\")\n",
        "\n"
      ],
      "execution_count": 57,
      "outputs": [
        {
          "output_type": "stream",
          "text": [
            "Introduzca la clave:amanecer\n",
            "Clave incorrecta, intentelo nuevamente\n",
            "Introduzca la clave:ocaso\n",
            "Clave incorrecta, intentelo nuevamente\n",
            "Introduzca la clave:contraseña\n",
            "Clave correcta!\n"
          ],
          "name": "stdout"
        }
      ]
    },
    {
      "cell_type": "markdown",
      "metadata": {
        "id": "djcg8InBkOMK"
      },
      "source": [
        "## Ejercicio 10"
      ]
    },
    {
      "cell_type": "markdown",
      "metadata": {
        "id": "2gjUXVO7kOMK"
      },
      "source": [
        "Escribir un programa que pida al usuario un número entero y muestre por pantalla si es un número primo o no."
      ]
    },
    {
      "cell_type": "code",
      "metadata": {
        "colab": {
          "base_uri": "https://localhost:8080/"
        },
        "id": "xyiTVuSNkOMK",
        "outputId": "290ef58b-0fcc-41eb-a7bc-4ef2d680c07a"
      },
      "source": [
        "num=int(input(\"Introduzca un número entero:\"))\n",
        "c=2\n",
        "while num%c!=0:\n",
        "  c+=1\n",
        "if c==num:\n",
        "    print(\"Es un número primo\")\n",
        "else:\n",
        "  print(\"No es un número primo\")\n",
        "  \n",
        "    \n",
        "\n",
        "\n",
        "  \n"
      ],
      "execution_count": 68,
      "outputs": [
        {
          "output_type": "stream",
          "text": [
            "Introduzca un número entero:10\n",
            "No es un número primo\n"
          ],
          "name": "stdout"
        }
      ]
    },
    {
      "cell_type": "markdown",
      "metadata": {
        "id": "d0P6pjqbkOMK"
      },
      "source": [
        "## Ejercicio 11"
      ]
    },
    {
      "cell_type": "markdown",
      "metadata": {
        "id": "QHG_yv6FkOMK"
      },
      "source": [
        "Escribir un programa que pida al usuario una palabra y luego muestre por pantalla una a una las letras de la palabra introducida empezando por la última."
      ]
    },
    {
      "cell_type": "code",
      "metadata": {
        "colab": {
          "base_uri": "https://localhost:8080/"
        },
        "id": "H5G1flDwkOMK",
        "outputId": "71725f9a-8a41-4b02-f949-4dccc356c28c"
      },
      "source": [
        "palabra=input(\"Ingrese una palabra:\")\n",
        "i=len(palabra)\n",
        "c=0\n",
        "while c!=len(palabra):\n",
        "  c+=1\n",
        "  i-=1\n",
        "  print(palabra[i],end=\",\")\n"
      ],
      "execution_count": 74,
      "outputs": [
        {
          "output_type": "stream",
          "text": [
            "Ingrese una palabra:Licantropo\n",
            "o,p,o,r,t,n,a,c,i,L,"
          ],
          "name": "stdout"
        }
      ]
    },
    {
      "cell_type": "markdown",
      "metadata": {
        "id": "qrFIBfu-kOML"
      },
      "source": [
        "## Ejercicio 12"
      ]
    },
    {
      "cell_type": "markdown",
      "metadata": {
        "id": "_2uA1t8pkOML"
      },
      "source": [
        "Escribir un programa en el que se pregunte al usuario por una frase y una letra, y muestre por pantalla el número de veces que aparece la letra en la frase."
      ]
    },
    {
      "cell_type": "code",
      "metadata": {
        "colab": {
          "base_uri": "https://localhost:8080/"
        },
        "id": "3FgED2dNkOML",
        "outputId": "d023ecc1-2b35-45ae-954d-0db055a3123b"
      },
      "source": [
        "frase=input(\"Ingrese una frase:\").lower()\n",
        "letra=input(\"Ingrese una letra:\").lower()\n",
        "c=len(frase)\n",
        "num=0\n",
        "for i in range(c):\n",
        "  if letra in frase[i]: \n",
        "    num+=1\n",
        "if num!=0:\n",
        "  print(\"La cantidad de veces que aparece la letra -\",letra,\"- en\",frase,\"es:\",num)\n",
        "else:\n",
        "  print(\"No se encuentra la letra -\",letra,\"- en\",frase)\n",
        "\n",
        "\n",
        "\n"
      ],
      "execution_count": 86,
      "outputs": [
        {
          "output_type": "stream",
          "text": [
            "Ingrese una frase:AdrianA\n",
            "Ingrese una letra:m\n",
            "No se encuentra la letra - m - en adriana\n"
          ],
          "name": "stdout"
        }
      ]
    },
    {
      "cell_type": "markdown",
      "metadata": {
        "id": "_nv5Ho9ckOML"
      },
      "source": [
        "## Ejercicio 13"
      ]
    },
    {
      "cell_type": "markdown",
      "metadata": {
        "id": "JQTnYbkukOML"
      },
      "source": [
        "Escribir un programa que muestre el eco de todo lo que el usuario introduzca hasta que el usuario escriba “salir” que terminará."
      ]
    },
    {
      "cell_type": "code",
      "metadata": {
        "colab": {
          "base_uri": "https://localhost:8080/"
        },
        "id": "PQZG_d5ckOML",
        "outputId": "1dc38c4f-6f67-4375-cc57-c821bc697e51"
      },
      "source": [
        "final=\"salir\"\n",
        "eco=input(\"Introduzca lo que se le venga a la mente hasta encontrar un final:\")\n",
        "while eco!=\"salir\":\n",
        "  print(eco)\n",
        "  eco=input(\"Introduzca lo que se le venga a la mente hasta encontrar un final:\")\n",
        "\n"
      ],
      "execution_count": 91,
      "outputs": [
        {
          "output_type": "stream",
          "text": [
            "Introduzca lo que se le venga a la mente hasta encontrar un final:1234\n",
            "1234\n",
            "Introduzca lo que se le venga a la mente hasta encontrar un final:dfgsdfgdg\n",
            "dfgsdfgdg\n",
            "Introduzca lo que se le venga a la mente hasta encontrar un final:hola\n",
            "hola\n",
            "Introduzca lo que se le venga a la mente hasta encontrar un final:quien salir\n",
            "quien salir\n",
            "Introduzca lo que se le venga a la mente hasta encontrar un final:salir\n"
          ],
          "name": "stdout"
        }
      ]
    }
  ]
}