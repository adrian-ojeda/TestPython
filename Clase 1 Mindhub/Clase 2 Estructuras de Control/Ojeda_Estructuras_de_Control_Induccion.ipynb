{
  "nbformat": 4,
  "nbformat_minor": 0,
  "metadata": {
    "colab": {
      "name": "Ojeda-Estructuras_de_Control_Induccion.ipynb",
      "provenance": [],
      "collapsed_sections": []
    },
    "kernelspec": {
      "name": "python3",
      "display_name": "Python 3"
    }
  },
  "cells": [
    {
      "cell_type": "markdown",
      "metadata": {
        "id": "OBrQzWvtM4hC"
      },
      "source": [
        "Estructuras_de_Control_(if)"
      ]
    },
    {
      "cell_type": "code",
      "metadata": {
        "id": "I_FZ5cJSMExF",
        "outputId": "31152561-46db-412c-ea59-fe634d7405cd",
        "colab": {
          "base_uri": "https://localhost:8080/"
        }
      },
      "source": [
        "    edad=14\n",
        "    if edad <= 18:\n",
        "        print(\"Menor\")\n",
        "    elif edad > 65:\n",
        "        print(\"Jubilado\")\n",
        "    else:\n",
        "        print(\"Activo\")"
      ],
      "execution_count": 1,
      "outputs": [
        {
          "output_type": "stream",
          "text": [
            "Menor\n"
          ],
          "name": "stdout"
        }
      ]
    },
    {
      "cell_type": "code",
      "metadata": {
        "id": "mco3bL8_Nzb1",
        "outputId": "a4fbaead-91a2-4729-b47e-34c1eaf9ad81",
        "colab": {
          "base_uri": "https://localhost:8080/"
        }
      },
      "source": [
        "    edad=20\n",
        "    if edad <= 18:\n",
        "        print(\"Menor\")\n",
        "    elif edad > 65:\n",
        "        print(\"Jubilado\")\n",
        "    else:\n",
        "        print(\"Activo\")"
      ],
      "execution_count": 2,
      "outputs": [
        {
          "output_type": "stream",
          "text": [
            "Activo\n"
          ],
          "name": "stdout"
        }
      ]
    },
    {
      "cell_type": "markdown",
      "metadata": {
        "id": "YHMxS7fTPECn"
      },
      "source": [
        "Estructuras_de_Control_Bucles"
      ]
    },
    {
      "cell_type": "code",
      "metadata": {
        "id": "lbZ32RuEPJjY",
        "outputId": "310e2fd7-a9ef-41a0-e103-7101683c4450",
        "colab": {
          "base_uri": "https://localhost:8080/"
        }
      },
      "source": [
        "# Pregunta al usuario por un número hasta que introduce 0.\n",
        "num = None\n",
        "while num != 0:\n",
        "        num = int(input(\"Introduce un número: \")) "
      ],
      "execution_count": 12,
      "outputs": [
        {
          "output_type": "stream",
          "text": [
            "Introduce un número: 2\n",
            "Introduce un número: 1\n",
            "Introduce un número: 0\n"
          ],
          "name": "stdout"
        }
      ]
    },
    {
      "cell_type": "code",
      "metadata": {
        "id": "3_InaOU6QYPH",
        "outputId": "885e4252-2df1-4570-d8b5-0c9c5042765f",
        "colab": {
          "base_uri": "https://localhost:8080/"
        }
      },
      "source": [
        "# Instrucción break.\n",
        "while True:\n",
        "    num=int(input(\"Introduce un número:\"))\n",
        "    if num == 0:\n",
        "        break"
      ],
      "execution_count": 13,
      "outputs": [
        {
          "output_type": "stream",
          "text": [
            "Introduce un número:2\n",
            "Introduce un número:1\n",
            "Introduce un número:0\n"
          ],
          "name": "stdout"
        }
      ]
    },
    {
      "cell_type": "markdown",
      "metadata": {
        "id": "aixC7zJ5RXL0"
      },
      "source": [
        "Bucle For"
      ]
    },
    {
      "cell_type": "code",
      "metadata": {
        "id": "XuvOFe7rRdSl",
        "outputId": "a6254650-02bf-465d-acc0-9eee92cd39a2",
        "colab": {
          "base_uri": "https://localhost:8080/"
        }
      },
      "source": [
        "    palabra=\"Python\"\n",
        "    for i in palabra:\n",
        "        print(i)\n",
        "       "
      ],
      "execution_count": 20,
      "outputs": [
        {
          "output_type": "stream",
          "text": [
            "P\n",
            "y\n",
            "t\n",
            "h\n",
            "o\n",
            "n\n"
          ],
          "name": "stdout"
        }
      ]
    },
    {
      "cell_type": "code",
      "metadata": {
        "id": "UuKbsKWaSOif",
        "outputId": "c5448532-dc5d-45e6-a251-85b292b2a842",
        "colab": {
          "base_uri": "https://localhost:8080/"
        }
      },
      "source": [
        "    palabra=\"Python\"\n",
        "    for i in palabra:\n",
        "        print(i, end=\",\")"
      ],
      "execution_count": 21,
      "outputs": [
        {
          "output_type": "stream",
          "text": [
            "P,y,t,h,o,n,"
          ],
          "name": "stdout"
        }
      ]
    }
  ]
}