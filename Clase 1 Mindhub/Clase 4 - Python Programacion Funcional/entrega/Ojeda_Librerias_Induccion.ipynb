{
  "nbformat": 4,
  "nbformat_minor": 0,
  "metadata": {
    "colab": {
      "name": "Ojeda-Librerias-Induccion.ipynb",
      "provenance": [],
      "collapsed_sections": []
    },
    "kernelspec": {
      "name": "python3",
      "display_name": "Python 3"
    }
  },
  "cells": [
    {
      "cell_type": "code",
      "metadata": {
        "colab": {
          "base_uri": "https://localhost:8080/"
        },
        "id": "0ZD6sFFsA2hF",
        "outputId": "36743d6e-0747-4421-c61f-1d748684574f"
      },
      "source": [
        "# Libreria Datetime\n",
        "\n",
        "from datetime import date, time, datetime\n",
        "\n",
        "date(2020,12,25)\n"
      ],
      "execution_count": 1,
      "outputs": [
        {
          "output_type": "execute_result",
          "data": {
            "text/plain": [
              "datetime.date(2020, 12, 25)"
            ]
          },
          "metadata": {
            "tags": []
          },
          "execution_count": 1
        }
      ]
    },
    {
      "cell_type": "code",
      "metadata": {
        "colab": {
          "base_uri": "https://localhost:8080/"
        },
        "id": "PnavQvvLCc3y",
        "outputId": "06d2fd82-749d-4ec7-91ff-06d425f0aa7d"
      },
      "source": [
        "time(13,30,5)\n"
      ],
      "execution_count": 2,
      "outputs": [
        {
          "output_type": "execute_result",
          "data": {
            "text/plain": [
              "datetime.time(13, 30, 5)"
            ]
          },
          "metadata": {
            "tags": []
          },
          "execution_count": 2
        }
      ]
    },
    {
      "cell_type": "code",
      "metadata": {
        "colab": {
          "base_uri": "https://localhost:8080/"
        },
        "id": "J2pkIrcOCh0S",
        "outputId": "e772b64c-7508-4951-a4ff-8324056e161d"
      },
      "source": [
        "datetime(2020,12,25,13,30,5)"
      ],
      "execution_count": 3,
      "outputs": [
        {
          "output_type": "execute_result",
          "data": {
            "text/plain": [
              "datetime.datetime(2020, 12, 25, 13, 30, 5)"
            ]
          },
          "metadata": {
            "tags": []
          },
          "execution_count": 3
        }
      ]
    },
    {
      "cell_type": "code",
      "metadata": {
        "colab": {
          "base_uri": "https://localhost:8080/"
        },
        "id": "sg_DJ8AcCnUQ",
        "outputId": "877c6244-d74e-4ffb-d2be-0e99c01d7427"
      },
      "source": [
        "print(datetime(2020,12,25,13,30,5))"
      ],
      "execution_count": 4,
      "outputs": [
        {
          "output_type": "stream",
          "text": [
            "2020-12-25 13:30:05\n"
          ],
          "name": "stdout"
        }
      ]
    },
    {
      "cell_type": "code",
      "metadata": {
        "colab": {
          "base_uri": "https://localhost:8080/"
        },
        "id": "HKUPo2D8CsQf",
        "outputId": "2a7751e7-7b79-4b70-c63b-590b815a3484"
      },
      "source": [
        "# Acceso a los componented de una fecha\n",
        "\n",
        "from datetime import date,time,datetime\n",
        "\n",
        "print(date.today())"
      ],
      "execution_count": 5,
      "outputs": [
        {
          "output_type": "stream",
          "text": [
            "2020-11-23\n"
          ],
          "name": "stdout"
        }
      ]
    },
    {
      "cell_type": "code",
      "metadata": {
        "colab": {
          "base_uri": "https://localhost:8080/"
        },
        "id": "956gnGqVC_gn",
        "outputId": "cc32b934-b799-4b46-8a76-953fd6a2e9f5"
      },
      "source": [
        "dt=datetime.now()\n",
        "dt.year"
      ],
      "execution_count": 6,
      "outputs": [
        {
          "output_type": "execute_result",
          "data": {
            "text/plain": [
              "2020"
            ]
          },
          "metadata": {
            "tags": []
          },
          "execution_count": 6
        }
      ]
    },
    {
      "cell_type": "code",
      "metadata": {
        "colab": {
          "base_uri": "https://localhost:8080/"
        },
        "id": "aAyJStm8DHq1",
        "outputId": "33b418f0-8116-422b-b549-f4b3f60601eb"
      },
      "source": [
        "type(dt)"
      ],
      "execution_count": 7,
      "outputs": [
        {
          "output_type": "execute_result",
          "data": {
            "text/plain": [
              "datetime.datetime"
            ]
          },
          "metadata": {
            "tags": []
          },
          "execution_count": 7
        }
      ]
    },
    {
      "cell_type": "code",
      "metadata": {
        "colab": {
          "base_uri": "https://localhost:8080/"
        },
        "id": "vZMd2Sq-DLD6",
        "outputId": "1db17201-644d-4e43-cb2a-e8c1c10f36e1"
      },
      "source": [
        "dt.month"
      ],
      "execution_count": 8,
      "outputs": [
        {
          "output_type": "execute_result",
          "data": {
            "text/plain": [
              "11"
            ]
          },
          "metadata": {
            "tags": []
          },
          "execution_count": 8
        }
      ]
    },
    {
      "cell_type": "code",
      "metadata": {
        "colab": {
          "base_uri": "https://localhost:8080/"
        },
        "id": "8nB6zTOYDOWg",
        "outputId": "2ea518b5-48e5-4505-ee13-eb01be7e9f74"
      },
      "source": [
        "dt.hour"
      ],
      "execution_count": 9,
      "outputs": [
        {
          "output_type": "execute_result",
          "data": {
            "text/plain": [
              "21"
            ]
          },
          "metadata": {
            "tags": []
          },
          "execution_count": 9
        }
      ]
    },
    {
      "cell_type": "code",
      "metadata": {
        "colab": {
          "base_uri": "https://localhost:8080/"
        },
        "id": "8f6fZ0XTDRwe",
        "outputId": "047b9359-6872-4992-ad9f-9deb225e9c3d"
      },
      "source": [
        "dt.minute"
      ],
      "execution_count": 10,
      "outputs": [
        {
          "output_type": "execute_result",
          "data": {
            "text/plain": [
              "39"
            ]
          },
          "metadata": {
            "tags": []
          },
          "execution_count": 10
        }
      ]
    },
    {
      "cell_type": "code",
      "metadata": {
        "colab": {
          "base_uri": "https://localhost:8080/"
        },
        "id": "i9RprBboDT-L",
        "outputId": "53a4ad09-de9b-4a4a-c630-8a396690df6a"
      },
      "source": [
        "dt.second"
      ],
      "execution_count": 11,
      "outputs": [
        {
          "output_type": "execute_result",
          "data": {
            "text/plain": [
              "53"
            ]
          },
          "metadata": {
            "tags": []
          },
          "execution_count": 11
        }
      ]
    },
    {
      "cell_type": "code",
      "metadata": {
        "colab": {
          "base_uri": "https://localhost:8080/"
        },
        "id": "8mPWwSpaDWbJ",
        "outputId": "3507345a-0e12-4b59-f215-1b104a927c0b"
      },
      "source": [
        "dt.microsecond"
      ],
      "execution_count": 12,
      "outputs": [
        {
          "output_type": "execute_result",
          "data": {
            "text/plain": [
              "580372"
            ]
          },
          "metadata": {
            "tags": []
          },
          "execution_count": 12
        }
      ]
    },
    {
      "cell_type": "code",
      "metadata": {
        "colab": {
          "base_uri": "https://localhost:8080/"
        },
        "id": "Ry1CkDPEDcVt",
        "outputId": "73faddcd-ed75-479a-ead0-0ad714b439dd"
      },
      "source": [
        "# Conversión de fechas con cadenas con diferentes formatos\n",
        "\n",
        "from datetime import date,time,datetime\n",
        "\n",
        "d=datetime.now()\n",
        "print(d.strftime(\"%d-%m-%Y\"))"
      ],
      "execution_count": 14,
      "outputs": [
        {
          "output_type": "stream",
          "text": [
            "23-11-2020\n"
          ],
          "name": "stdout"
        }
      ]
    },
    {
      "cell_type": "code",
      "metadata": {
        "colab": {
          "base_uri": "https://localhost:8080/"
        },
        "id": "4JobgvDIE-4N",
        "outputId": "a8fe99a5-9f91-4d6e-bf00-f47f92ceef36"
      },
      "source": [
        "print(d.strftime(\"%A,%d %B, %y\"))"
      ],
      "execution_count": 16,
      "outputs": [
        {
          "output_type": "stream",
          "text": [
            "Monday,23 November, 20\n"
          ],
          "name": "stdout"
        }
      ]
    },
    {
      "cell_type": "code",
      "metadata": {
        "colab": {
          "base_uri": "https://localhost:8080/"
        },
        "id": "Qs2BuY8cFRz-",
        "outputId": "53ec4459-64a4-411d-ca78-bfa34314d5a5"
      },
      "source": [
        "print(d.strftime(\"%H: %M : %S\"))"
      ],
      "execution_count": 18,
      "outputs": [
        {
          "output_type": "stream",
          "text": [
            "21: 44 : 38\n"
          ],
          "name": "stdout"
        }
      ]
    },
    {
      "cell_type": "code",
      "metadata": {
        "colab": {
          "base_uri": "https://localhost:8080/"
        },
        "id": "-fVXqKsSFjE1",
        "outputId": "cf11d758-dffd-4eaf-c353-65a6d42054b1"
      },
      "source": [
        "print(d.strftime(\"%H horas, %M minutos y %S segundos\"))"
      ],
      "execution_count": 19,
      "outputs": [
        {
          "output_type": "stream",
          "text": [
            "21 horas, 44 minutos y 38 segundos\n"
          ],
          "name": "stdout"
        }
      ]
    },
    {
      "cell_type": "code",
      "metadata": {
        "colab": {
          "base_uri": "https://localhost:8080/"
        },
        "id": "lzELpD5PFyw8",
        "outputId": "8474fde1-9d05-4843-bfdc-a874a77ea4a0"
      },
      "source": [
        "# Conversión de cadenas en fechas\n",
        "\n",
        "from datetime import date,time,datetime\n",
        "\n",
        "datetime.strptime(\"23/11/2020\",\"%d/%m/%Y\")\n"
      ],
      "execution_count": 21,
      "outputs": [
        {
          "output_type": "execute_result",
          "data": {
            "text/plain": [
              "datetime.datetime(2020, 11, 23, 0, 0)"
            ]
          },
          "metadata": {
            "tags": []
          },
          "execution_count": 21
        }
      ]
    },
    {
      "cell_type": "code",
      "metadata": {
        "colab": {
          "base_uri": "https://localhost:8080/"
        },
        "id": "iprvmJq9Gy-s",
        "outputId": "76a5fdf9-d6a0-41ce-a3dc-b54a1a2d71e5"
      },
      "source": [
        "datetime.strptime(\"2020-11-23 18:57:45\",\"%Y-%m-%d %H:%M:%S\")"
      ],
      "execution_count": 22,
      "outputs": [
        {
          "output_type": "execute_result",
          "data": {
            "text/plain": [
              "datetime.datetime(2020, 11, 23, 18, 57, 45)"
            ]
          },
          "metadata": {
            "tags": []
          },
          "execution_count": 22
        }
      ]
    },
    {
      "cell_type": "code",
      "metadata": {
        "colab": {
          "base_uri": "https://localhost:8080/"
        },
        "id": "5SL-LDxLHLUt",
        "outputId": "7434739b-0ab5-4874-b578-18a9cd7528ac"
      },
      "source": [
        "# Aritmética de fechas\n",
        "\n",
        "from datetime import date,time,datetime,timedelta\n",
        "\n",
        "d1=datetime(2020,1,1)\n",
        "d1 + timedelta(31,3600)\n",
        "\n"
      ],
      "execution_count": 28,
      "outputs": [
        {
          "output_type": "execute_result",
          "data": {
            "text/plain": [
              "datetime.datetime(2020, 2, 1, 1, 0)"
            ]
          },
          "metadata": {
            "tags": []
          },
          "execution_count": 28
        }
      ]
    },
    {
      "cell_type": "code",
      "metadata": {
        "colab": {
          "base_uri": "https://localhost:8080/"
        },
        "id": "btlwMkdAIBjq",
        "outputId": "4dcbba12-a238-4348-dafd-5ef820024602"
      },
      "source": [
        "datetime.now()- d1"
      ],
      "execution_count": 30,
      "outputs": [
        {
          "output_type": "execute_result",
          "data": {
            "text/plain": [
              "datetime.timedelta(327, 79299, 710873)"
            ]
          },
          "metadata": {
            "tags": []
          },
          "execution_count": 30
        }
      ]
    },
    {
      "cell_type": "code",
      "metadata": {
        "colab": {
          "base_uri": "https://localhost:8080/"
        },
        "id": "BXFT10SmJELX",
        "outputId": "47eba1e1-35fe-4102-c8a8-20790cb6784d"
      },
      "source": [
        "# Libreria Numpy\n",
        "\n",
        "\n",
        "# Array de una dimensión\n",
        "\n",
        "import numpy as np\n",
        "\n",
        "a1=np.array([1,2,3])\n",
        "print(a1)"
      ],
      "execution_count": 40,
      "outputs": [
        {
          "output_type": "stream",
          "text": [
            "[1 2 3]\n"
          ],
          "name": "stdout"
        }
      ]
    },
    {
      "cell_type": "code",
      "metadata": {
        "colab": {
          "base_uri": "https://localhost:8080/"
        },
        "id": "7k73KH4WKOir",
        "outputId": "ebe75d16-0fcd-4268-ff0e-dd62665dcaa2"
      },
      "source": [
        "# Array de dos dimensiones\n",
        "\n",
        "a2=np.array([[1,2,3],[4,5,6]])\n",
        "print(a2)"
      ],
      "execution_count": 35,
      "outputs": [
        {
          "output_type": "stream",
          "text": [
            "[[1 2 3]\n",
            " [4 5 6]]\n"
          ],
          "name": "stdout"
        }
      ]
    },
    {
      "cell_type": "code",
      "metadata": {
        "colab": {
          "base_uri": "https://localhost:8080/"
        },
        "id": "AxLAmXmVKoRK",
        "outputId": "d6a7f93f-5f5c-4166-8a71-6d4f8a94be26"
      },
      "source": [
        "# Array de tres dimensiones\n",
        "\n",
        "a3=np.array([[[1,2,3],[4,5,6]],[[7,8,9],[10,1,12]]])\n",
        "print(a3)"
      ],
      "execution_count": 36,
      "outputs": [
        {
          "output_type": "stream",
          "text": [
            "[[[ 1  2  3]\n",
            "  [ 4  5  6]]\n",
            "\n",
            " [[ 7  8  9]\n",
            "  [10  1 12]]]\n"
          ],
          "name": "stdout"
        }
      ]
    },
    {
      "cell_type": "code",
      "metadata": {
        "colab": {
          "base_uri": "https://localhost:8080/"
        },
        "id": "3CkJDdoCLCBm",
        "outputId": "3c9692e6-fbff-4c26-98ed-a72f0b3a02f5"
      },
      "source": [
        "# Otras funciones útiles que permiten generar arrays\n",
        "\n",
        "import numpy as np\n",
        "\n",
        "print(np.identity(3))"
      ],
      "execution_count": 46,
      "outputs": [
        {
          "output_type": "stream",
          "text": [
            "[[1. 0. 0.]\n",
            " [0. 1. 0.]\n",
            " [0. 0. 1.]]\n"
          ],
          "name": "stdout"
        }
      ]
    },
    {
      "cell_type": "code",
      "metadata": {
        "colab": {
          "base_uri": "https://localhost:8080/"
        },
        "id": "db1wV-gkNKku",
        "outputId": "c68ad90f-bb56-46ec-c242-88efa98331b2"
      },
      "source": [
        "print(np.arange(1,10,2))"
      ],
      "execution_count": 47,
      "outputs": [
        {
          "output_type": "stream",
          "text": [
            "[1 3 5 7 9]\n"
          ],
          "name": "stdout"
        }
      ]
    },
    {
      "cell_type": "code",
      "metadata": {
        "colab": {
          "base_uri": "https://localhost:8080/"
        },
        "id": "lIdpzT5xNPhU",
        "outputId": "381d4030-14e6-4ace-81a9-f48781485bac"
      },
      "source": [
        "print(np.linspace(0,10,5))"
      ],
      "execution_count": 48,
      "outputs": [
        {
          "output_type": "stream",
          "text": [
            "[ 0.   2.5  5.   7.5 10. ]\n"
          ],
          "name": "stdout"
        }
      ]
    },
    {
      "cell_type": "code",
      "metadata": {
        "colab": {
          "base_uri": "https://localhost:8080/"
        },
        "id": "Mmp_5avYNVN1",
        "outputId": "c41874f9-627b-4ab8-e56b-0751be7c2fb6"
      },
      "source": [
        "# Atributos de un array\n",
        "\n",
        "a=np.array([[1,2,3],[4,5,6]])\n",
        "print(a[1,0])"
      ],
      "execution_count": 50,
      "outputs": [
        {
          "output_type": "stream",
          "text": [
            "4\n"
          ],
          "name": "stdout"
        }
      ]
    },
    {
      "cell_type": "code",
      "metadata": {
        "colab": {
          "base_uri": "https://localhost:8080/"
        },
        "id": "6FbGI8HKN6lM",
        "outputId": "6cfb522e-0010-4c32-f8b2-97b81752b1da"
      },
      "source": [
        "print(a[1][0])"
      ],
      "execution_count": 51,
      "outputs": [
        {
          "output_type": "stream",
          "text": [
            "4\n"
          ],
          "name": "stdout"
        }
      ]
    },
    {
      "cell_type": "code",
      "metadata": {
        "colab": {
          "base_uri": "https://localhost:8080/"
        },
        "id": "7C4t8oPwN_gV",
        "outputId": "8a690091-5081-4925-ed7f-f3b378b9ed36"
      },
      "source": [
        "print(a[:,0:2])"
      ],
      "execution_count": 52,
      "outputs": [
        {
          "output_type": "stream",
          "text": [
            "[[1 2]\n",
            " [4 5]]\n"
          ],
          "name": "stdout"
        }
      ]
    },
    {
      "cell_type": "code",
      "metadata": {
        "colab": {
          "base_uri": "https://localhost:8080/"
        },
        "id": "dm0XaOimOjXW",
        "outputId": "47619f13-c4e5-4ba3-dde2-d5e7a6a3ac9d"
      },
      "source": [
        "# Filtrado de elementos de un array\n",
        "\n",
        "a=np.array([[1,2,3],[4,5,6]])\n",
        "print(a[(a %2==0)])"
      ],
      "execution_count": 54,
      "outputs": [
        {
          "output_type": "stream",
          "text": [
            "[2 4 6]\n"
          ],
          "name": "stdout"
        }
      ]
    },
    {
      "cell_type": "code",
      "metadata": {
        "colab": {
          "base_uri": "https://localhost:8080/"
        },
        "id": "tCCz7BiIP0ei",
        "outputId": "c72a21b1-2139-44e9-ac53-7a97d90b76d5"
      },
      "source": [
        "print(a[(a %2==0)&(a>2)])"
      ],
      "execution_count": 57,
      "outputs": [
        {
          "output_type": "stream",
          "text": [
            "[4 6]\n"
          ],
          "name": "stdout"
        }
      ]
    },
    {
      "cell_type": "code",
      "metadata": {
        "colab": {
          "base_uri": "https://localhost:8080/"
        },
        "id": "0X2HlZaIQWVc",
        "outputId": "74d893a3-6ab3-45b6-b91f-29f47a6f3a56"
      },
      "source": [
        "# Operaciones matemáticas con arrays\n",
        "\n",
        "a = np.array([[1,2,3],[4,5,6]])\n",
        "b = np.array([[1,1,1],[2,2,2]])\n",
        "print(a+b)"
      ],
      "execution_count": 58,
      "outputs": [
        {
          "output_type": "stream",
          "text": [
            "[[2 3 4]\n",
            " [6 7 8]]\n"
          ],
          "name": "stdout"
        }
      ]
    },
    {
      "cell_type": "code",
      "metadata": {
        "colab": {
          "base_uri": "https://localhost:8080/"
        },
        "id": "JOK_lhdiQvoa",
        "outputId": "79e055eb-2a1d-4a96-950d-99dd1be914d9"
      },
      "source": [
        "print(a/b)"
      ],
      "execution_count": 59,
      "outputs": [
        {
          "output_type": "stream",
          "text": [
            "[[1.  2.  3. ]\n",
            " [2.  2.5 3. ]]\n"
          ],
          "name": "stdout"
        }
      ]
    },
    {
      "cell_type": "code",
      "metadata": {
        "colab": {
          "base_uri": "https://localhost:8080/"
        },
        "id": "FbbJ0iGPQyhs",
        "outputId": "c96ebb3d-8f95-4fb4-feee-594ec6c9ae92"
      },
      "source": [
        "print(a**2)"
      ],
      "execution_count": 60,
      "outputs": [
        {
          "output_type": "stream",
          "text": [
            "[[ 1  4  9]\n",
            " [16 25 36]]\n"
          ],
          "name": "stdout"
        }
      ]
    },
    {
      "cell_type": "code",
      "metadata": {
        "colab": {
          "base_uri": "https://localhost:8080/"
        },
        "id": "5l8kbbP8Q17Q",
        "outputId": "438133b5-2aac-45d9-806f-698a28aab484"
      },
      "source": [
        "# Operaciones matemáticas a nivel de array\n",
        "\n",
        "a = np.array([[1,2,3],[4,5,6]])\n",
        "b = np.array([[1,1],[2,2],[3,3]])\n",
        "\n",
        "print(a.dot(b))\n",
        "\n"
      ],
      "execution_count": 62,
      "outputs": [
        {
          "output_type": "stream",
          "text": [
            "[[14 14]\n",
            " [32 32]]\n"
          ],
          "name": "stdout"
        }
      ]
    },
    {
      "cell_type": "code",
      "metadata": {
        "colab": {
          "base_uri": "https://localhost:8080/"
        },
        "id": "_lNjNn3kRU2v",
        "outputId": "69634940-aa29-49bc-a6b8-269169e8fa83"
      },
      "source": [
        "print(a.T)"
      ],
      "execution_count": 63,
      "outputs": [
        {
          "output_type": "stream",
          "text": [
            "[[1 4]\n",
            " [2 5]\n",
            " [3 6]]\n"
          ],
          "name": "stdout"
        }
      ]
    },
    {
      "cell_type": "code",
      "metadata": {
        "colab": {
          "base_uri": "https://localhost:8080/"
        },
        "id": "0U7yqBWeRcvI",
        "outputId": "318e54c5-678b-4464-b501-7a18adc2dfb8"
      },
      "source": [
        "print(b.T)"
      ],
      "execution_count": 64,
      "outputs": [
        {
          "output_type": "stream",
          "text": [
            "[[1 2 3]\n",
            " [1 2 3]]\n"
          ],
          "name": "stdout"
        }
      ]
    }
  ]
}