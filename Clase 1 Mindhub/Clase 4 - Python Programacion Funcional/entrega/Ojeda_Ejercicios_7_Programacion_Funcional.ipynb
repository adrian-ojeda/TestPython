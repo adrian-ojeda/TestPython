{
  "nbformat": 4,
  "nbformat_minor": 0,
  "metadata": {
    "kernelspec": {
      "display_name": "Python 3",
      "language": "python",
      "name": "python3"
    },
    "language_info": {
      "codemirror_mode": {
        "name": "ipython",
        "version": 3
      },
      "file_extension": ".py",
      "mimetype": "text/x-python",
      "name": "python",
      "nbconvert_exporter": "python",
      "pygments_lexer": "ipython3",
      "version": "3.6.9"
    },
    "colab": {
      "name": "Ojeda_Ejercicios-7-Programacion-Funcional.ipynb",
      "provenance": [],
      "collapsed_sections": []
    }
  },
  "cells": [
    {
      "cell_type": "markdown",
      "metadata": {
        "id": "hxeawt9KZwRa"
      },
      "source": [
        "# Ejercicios de Programación Funcional"
      ]
    },
    {
      "cell_type": "markdown",
      "metadata": {
        "id": "MrTh4w4XZwRa"
      },
      "source": [
        "# Ejercicio 1"
      ]
    },
    {
      "cell_type": "markdown",
      "metadata": {
        "id": "gFeA14_iZwRa"
      },
      "source": [
        "Escribir una función que aplique un descuento a un precio y otra que aplique el IVA a un precio. Escribir una tercera función que reciba un diccionario con los precios y porcentajes de una cesta de la compra, y una de las funciones anteriores, y utilice la función pasada para aplicar los descuentos o el IVA a los productos de la canasta y devolver el precio final de la canasta."
      ]
    },
    {
      "cell_type": "code",
      "metadata": {
        "colab": {
          "base_uri": "https://localhost:8080/"
        },
        "id": "JOihA3s0ZwRb",
        "outputId": "88281c85-aa6e-4018-d0bd-868a22e3bfc8"
      },
      "source": [
        "def descuento(precio,porcentaje):\n",
        "    return precio-(precio*porcentaje/100)\n",
        "\n",
        "def iva(precio,porcentaje):\n",
        "    return precio+(precio*porcentaje/100)\n",
        "\n",
        "def compra(canasta,con_iva):\n",
        "  compra_total=0\n",
        "\n",
        "  for precio,porcentaje in canasta.items():\n",
        "      compra_total+=con_iva(precio,porcentaje)\n",
        "\n",
        "  return compra_total\n",
        "\n",
        "\n",
        "productos={3000:10,1200:20,450:30,2000:10}\n",
        "\n",
        "print(\"El Total de su compra con el IVA incluído es:$\",compra(productos,iva))"
      ],
      "execution_count": 21,
      "outputs": [
        {
          "output_type": "stream",
          "text": [
            "El Total de su compra con el IVA incluído es:$ 7525.0\n"
          ],
          "name": "stdout"
        }
      ]
    },
    {
      "cell_type": "code",
      "metadata": {
        "colab": {
          "base_uri": "https://localhost:8080/"
        },
        "id": "VYhWRJ5DzvxP",
        "outputId": "ad451762-45d8-45fa-d68a-8c607a99742f"
      },
      "source": [
        "print(\"El total de su compra con el descuento es:$\",compra(productos,descuento))"
      ],
      "execution_count": 20,
      "outputs": [
        {
          "output_type": "stream",
          "text": [
            "El total de su compra con el descuento es:$ 5775.0\n"
          ],
          "name": "stdout"
        }
      ]
    },
    {
      "cell_type": "markdown",
      "metadata": {
        "id": "R3fg4B-NZwRb"
      },
      "source": [
        "# Ejercicio 2"
      ]
    },
    {
      "cell_type": "markdown",
      "metadata": {
        "id": "DMRisuQkZwRb"
      },
      "source": [
        "Escribir una función que simule una calculadora científica que permita calcular el seno, coseno, tangente, exponencial y logaritmo neperiano. La función preguntará al usuario el valor y la función a aplicar, y mostrará por pantalla una tabla con los enteros de 1 al valor introducido y el resultado de aplicar la función a esos enteros."
      ]
    },
    {
      "cell_type": "code",
      "metadata": {
        "id": "01KCPzCtZwRb"
      },
      "source": [
        "\n"
      ],
      "execution_count": null,
      "outputs": []
    },
    {
      "cell_type": "markdown",
      "metadata": {
        "id": "iuEvBSCNZwRb"
      },
      "source": [
        "# Ejercicio 3"
      ]
    },
    {
      "cell_type": "markdown",
      "metadata": {
        "id": "SGYNu6L7ZwRb"
      },
      "source": [
        "Escribir una función que reciba otra función y una lista, y devuelva otra lista con el resultado de aplicar la función dada a cada uno de los elementos de la lista."
      ]
    },
    {
      "cell_type": "code",
      "metadata": {
        "colab": {
          "base_uri": "https://localhost:8080/"
        },
        "id": "yECa8FNCZwRb",
        "outputId": "c2ca3072-c1d5-46e5-df9a-b7ce6ea06762"
      },
      "source": [
        "def suma(n):\n",
        "  return n+2\n",
        "def funcion(lista):\n",
        "  return map(suma,lista)\n",
        "\n",
        "\n",
        "print(list(funcion([4,6,9])))\n",
        "\n",
        "    "
      ],
      "execution_count": 87,
      "outputs": [
        {
          "output_type": "stream",
          "text": [
            "[6, 8, 11]\n"
          ],
          "name": "stdout"
        }
      ]
    },
    {
      "cell_type": "markdown",
      "metadata": {
        "id": "O_R5WhaWZwRb"
      },
      "source": [
        "# Ejercicio 4"
      ]
    },
    {
      "cell_type": "markdown",
      "metadata": {
        "id": "dBLg6XELZwRb"
      },
      "source": [
        "Escribir una función que reciba otra función booleana y una lista, y devuelva otra lista con los elementos de la lista que devuelvan True al aplicarles la función booleana."
      ]
    },
    {
      "cell_type": "code",
      "metadata": {
        "id": "fQmSvqUYZwRb"
      },
      "source": [
        ""
      ],
      "execution_count": null,
      "outputs": []
    },
    {
      "cell_type": "markdown",
      "metadata": {
        "id": "o_LxerkMZwRb"
      },
      "source": [
        "# Ejercicio 5"
      ]
    },
    {
      "cell_type": "markdown",
      "metadata": {
        "id": "m8j1ifrvZwRb"
      },
      "source": [
        "Escribir una función que reciba una frase y devuelva un diccionario con las palabras que contiene y su longitud."
      ]
    },
    {
      "cell_type": "code",
      "metadata": {
        "colab": {
          "base_uri": "https://localhost:8080/"
        },
        "id": "R7eu2CXCZwRb",
        "outputId": "75f385aa-3c6e-4c6e-da90-9db01ac0f49a"
      },
      "source": [
        "def frase(palabras):\n",
        "    largo=[]\n",
        "    sueltas=palabras.split(\" \")\n",
        "    for i in range(len(sueltas)):\n",
        "        largo.append(len(sueltas[i]))\n",
        "  \n",
        "    datos=dict(zip(sueltas,largo))\n",
        "    return datos.items()\n",
        "  \n",
        "\n",
        "frase(\"Adrian Bienvenido a Mindhub\")\n",
        "    "
      ],
      "execution_count": 78,
      "outputs": [
        {
          "output_type": "stream",
          "text": [
            "dict_items([('Adrian', 6), ('Bienvenido', 10), ('a', 1), ('Mindhub', 7)])\n"
          ],
          "name": "stdout"
        }
      ]
    },
    {
      "cell_type": "markdown",
      "metadata": {
        "id": "8guBi-ctZwRb"
      },
      "source": [
        "# Ejercicio 6"
      ]
    },
    {
      "cell_type": "markdown",
      "metadata": {
        "id": "TggSE6GiZwRb"
      },
      "source": [
        "Escribir una función reciba una lista de notas y devuelva la lista de calificaciones correspondientes a esas notas."
      ]
    },
    {
      "cell_type": "code",
      "metadata": {
        "id": "VC-D0CXUZwRb"
      },
      "source": [
        ""
      ],
      "execution_count": null,
      "outputs": []
    },
    {
      "cell_type": "markdown",
      "metadata": {
        "id": "YwWGg4TzZwRb"
      },
      "source": [
        "# Ejercicio 7"
      ]
    },
    {
      "cell_type": "markdown",
      "metadata": {
        "id": "qsZvIpfQZwRb"
      },
      "source": [
        "Escribir una función reciba un diccionario con las asignaturas y las notas de un alumno y devuelva otro diccionario con las asignaturas en mayúsculas y las calificaciones correspondientes a las notas."
      ]
    },
    {
      "cell_type": "code",
      "metadata": {
        "colab": {
          "base_uri": "https://localhost:8080/"
        },
        "id": "pVYlGyWCZwRb",
        "outputId": "9169ce14-28bc-4d0a-dc07-4201b9915883"
      },
      "source": [
        "def mayusculas(materias):\n",
        "    calificacion={}\n",
        "    for palabras,notas in materias.items():\n",
        "        calificacion[palabras.upper()]=notas\n",
        "    return calificacion\n",
        "\n",
        "\n",
        "mayusculas({\"Gimnasia\":9,\"Biología\":7,\"Música\":8})\n"
      ],
      "execution_count": 67,
      "outputs": [
        {
          "output_type": "execute_result",
          "data": {
            "text/plain": [
              "{'BIOLOGÍA': 7, 'GIMNASIA': 9, 'MÚSICA': 8}"
            ]
          },
          "metadata": {
            "tags": []
          },
          "execution_count": 67
        }
      ]
    },
    {
      "cell_type": "markdown",
      "metadata": {
        "id": "zut_mWwSZwRb"
      },
      "source": [
        "# Ejercicio 8"
      ]
    },
    {
      "cell_type": "markdown",
      "metadata": {
        "id": "h4xfUypaZwRb"
      },
      "source": [
        "Escribir una función reciba un diccionario con las asignaturas y las notas de un alumno y devuelva otro diccionario con las asignaturas en mayúsculas y las calificaciones correspondientes a las notas aprobadas."
      ]
    },
    {
      "cell_type": "code",
      "metadata": {
        "id": "uO6TuYA_ZwRb"
      },
      "source": [
        "def mayusculas(materias):\n",
        "    calificacion={}\n",
        "    for palabras,notas in materias.items():\n",
        "      if notas>5:\n",
        "        calificacion[palabras.upper()]=notas\n",
        "      elif notas<=5:\n",
        "        calificacion[palabras.upper()]=notas=None\n",
        "\n",
        "    return calificacion\n",
        "\n",
        "\n",
        "mayusculas({\"Gimnasia\":9,\"Biología\":7,\"Música\":8,\"Matemáticas\":3,\"Física\":5,\"Lengua\":2})"
      ],
      "execution_count": null,
      "outputs": []
    },
    {
      "cell_type": "markdown",
      "metadata": {
        "id": "55MYe_GNZwRb"
      },
      "source": [
        "# Ejercicio 9"
      ]
    },
    {
      "cell_type": "markdown",
      "metadata": {
        "id": "UYaRlqpgZwRc"
      },
      "source": [
        "Escribir una función que calcule el módulo de un vector."
      ]
    },
    {
      "cell_type": "code",
      "metadata": {
        "id": "KZc7YzfNZwRc"
      },
      "source": [
        ""
      ],
      "execution_count": null,
      "outputs": []
    },
    {
      "cell_type": "markdown",
      "metadata": {
        "id": "niY8kq0FZwRc"
      },
      "source": [
        "# Ejercicio 10"
      ]
    },
    {
      "cell_type": "markdown",
      "metadata": {
        "id": "zAF6zY0JZwRc"
      },
      "source": [
        "Una inmobiliaria de una ciudad maneja una lista de inmuebles como la siguiente:\n",
        "\n",
        "<pre><code class=\"language-python\">[{'año': 2000, 'metros': 100, 'habitaciones': 3, 'garaje': True, 'zona': 'A'},\n",
        "{'año': 2012, 'metros': 60, 'habitaciones': 2, 'garaje': True, 'zona': 'B'},\n",
        "{'año': 1980, 'metros': 120, 'habitaciones': 4, 'garaje': False, 'zona': 'A'},\n",
        "{'año': 2005, 'metros': 75, 'habitaciones': 3, 'garaje': True, 'zona': 'B'},\n",
        "{'año': 2015, 'metros': 90, 'habitaciones': 2, 'garaje': False, 'zona': 'A'}]\n",
        "</code></pre>\n",
        "\n",
        "Construir una función que permita hacer búsqueda de inmuebles en función de un presupuesto dado. La función recibirá como entrada la lista de inmuebles y un precio, y devolverá otra lista con los inmuebles cuyo precio sea menor o igual que el dado. Los inmuebles de la lista que se devuelva deben incorporar un nuevo par a cada diccionario con el precio del inmueble, donde el precio de un inmueble se calcula con las siguiente fórmula en función de la zona:\n",
        "\n",
        "<ul>\n",
        "<li>Zona A: precio = (metros * 1000 + habitaciones * 5000 + garaje * 15000) * (1-antiguedad/100)</li>\n",
        "<li>Zona B: precio = (metros * 1000 + habitaciones * 5000 + garaje * 15000) * (1-antiguedad/100) * 1.5</li>\n",
        "</ul>"
      ]
    },
    {
      "cell_type": "code",
      "metadata": {
        "id": "apGapLbFZwRc"
      },
      "source": [
        ""
      ],
      "execution_count": null,
      "outputs": []
    },
    {
      "cell_type": "markdown",
      "metadata": {
        "id": "1AFqzr7qZwRc"
      },
      "source": [
        "# Ejercicio 11"
      ]
    },
    {
      "cell_type": "markdown",
      "metadata": {
        "id": "pbV14vSkZwRc"
      },
      "source": [
        "Escribir una función que reciba una muestra de números y devuelva los valores atípicos, es decir, los valores cuya puntuación típica sea mayor que 3 o menor que -3. \n",
        "\n",
        "**Nota**: La puntuación típica de un valor se obtiene restando la media y dividiendo por la desviación típica de la muestra."
      ]
    },
    {
      "cell_type": "code",
      "metadata": {
        "id": "KnQdapKCZwRc"
      },
      "source": [
        ""
      ],
      "execution_count": null,
      "outputs": []
    }
  ]
}