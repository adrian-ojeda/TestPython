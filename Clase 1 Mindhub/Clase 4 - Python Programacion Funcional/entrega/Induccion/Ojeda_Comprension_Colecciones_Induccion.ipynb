{
  "nbformat": 4,
  "nbformat_minor": 0,
  "metadata": {
    "colab": {
      "name": "Ojeda_Comprension_Colecciones_Induccion.ipynb",
      "provenance": [],
      "collapsed_sections": []
    },
    "kernelspec": {
      "name": "python3",
      "display_name": "Python 3"
    }
  },
  "cells": [
    {
      "cell_type": "code",
      "metadata": {
        "colab": {
          "base_uri": "https://localhost:8080/"
        },
        "id": "vOSCrBZwb6Hi",
        "outputId": "9e6c57df-7666-4b20-893b-a90a020ed9cc"
      },
      "source": [
        "# Comprensión de listas\n",
        "\n",
        "[x**2 for x in range(10)]"
      ],
      "execution_count": 1,
      "outputs": [
        {
          "output_type": "execute_result",
          "data": {
            "text/plain": [
              "[0, 1, 4, 9, 16, 25, 36, 49, 64, 81]"
            ]
          },
          "metadata": {
            "tags": []
          },
          "execution_count": 1
        }
      ]
    },
    {
      "cell_type": "code",
      "metadata": {
        "colab": {
          "base_uri": "https://localhost:8080/"
        },
        "id": "2UGZ5fCPcnN3",
        "outputId": "4800d784-91ea-4f43-dd28-1d56417b9cee"
      },
      "source": [
        "[x for x in range(10) if x%2==0]"
      ],
      "execution_count": 2,
      "outputs": [
        {
          "output_type": "execute_result",
          "data": {
            "text/plain": [
              "[0, 2, 4, 6, 8]"
            ]
          },
          "metadata": {
            "tags": []
          },
          "execution_count": 2
        }
      ]
    },
    {
      "cell_type": "code",
      "metadata": {
        "colab": {
          "base_uri": "https://localhost:8080/"
        },
        "id": "-Ke7oDBOc6Hk",
        "outputId": "0ab83020-20c7-4bc5-9908-2e7114fa466e"
      },
      "source": [
        "[x ** 2 for x in range(10) if x%2==0]"
      ],
      "execution_count": 3,
      "outputs": [
        {
          "output_type": "execute_result",
          "data": {
            "text/plain": [
              "[0, 4, 16, 36, 64]"
            ]
          },
          "metadata": {
            "tags": []
          },
          "execution_count": 3
        }
      ]
    },
    {
      "cell_type": "code",
      "metadata": {
        "colab": {
          "base_uri": "https://localhost:8080/"
        },
        "id": "QLyyB1EIdN_s",
        "outputId": "23890cf1-4966-4ec8-93bd-fd0a7a23559a"
      },
      "source": [
        "notas={\"Carmen\":5, \"Antonio\":4, \"Juan\":8, \"Mónica\":9,\"María\":6,\"Pablo\":3}\n",
        "[nombre for(nombre,nota) in notas.items() if nota>=5]"
      ],
      "execution_count": 4,
      "outputs": [
        {
          "output_type": "execute_result",
          "data": {
            "text/plain": [
              "['Carmen', 'Juan', 'Mónica', 'María']"
            ]
          },
          "metadata": {
            "tags": []
          },
          "execution_count": 4
        }
      ]
    },
    {
      "cell_type": "code",
      "metadata": {
        "colab": {
          "base_uri": "https://localhost:8080/"
        },
        "id": "ysHfbn_Sd9w-",
        "outputId": "f7efc5fb-248c-4e7c-b50c-daf52ce2fcc6"
      },
      "source": [
        "# Comprensión de diccionarios\n",
        "\n",
        "{palabra:len(palabra) for palabra in [\"I\",\"love\",\"Python\"]}"
      ],
      "execution_count": 5,
      "outputs": [
        {
          "output_type": "execute_result",
          "data": {
            "text/plain": [
              "{'I': 1, 'Python': 6, 'love': 4}"
            ]
          },
          "metadata": {
            "tags": []
          },
          "execution_count": 5
        }
      ]
    },
    {
      "cell_type": "code",
      "metadata": {
        "colab": {
          "base_uri": "https://localhost:8080/"
        },
        "id": "3Jk7Fdtdfhsi",
        "outputId": "0c1a691b-0bb8-4586-e412-2f19a5a4eefd"
      },
      "source": [
        "notas={\"Carmen\":5, \"Antonio\":4,\"Juan\":8, \"Mónica\":9, \"María\":6,\"Pablo\":3}\n",
        "{nombre:nota+1 for(nombre,nota)in notas.items()if nota>=5}"
      ],
      "execution_count": 6,
      "outputs": [
        {
          "output_type": "execute_result",
          "data": {
            "text/plain": [
              "{'Carmen': 6, 'Juan': 9, 'María': 7, 'Mónica': 10}"
            ]
          },
          "metadata": {
            "tags": []
          },
          "execution_count": 6
        }
      ]
    }
  ]
}