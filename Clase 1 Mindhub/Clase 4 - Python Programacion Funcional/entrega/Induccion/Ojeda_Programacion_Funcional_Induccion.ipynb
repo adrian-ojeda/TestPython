{
  "nbformat": 4,
  "nbformat_minor": 0,
  "metadata": {
    "colab": {
      "name": "Ojeda_Programacion_Funcional_Induccion.ipynb",
      "provenance": [],
      "collapsed_sections": []
    },
    "kernelspec": {
      "name": "python3",
      "display_name": "Python 3"
    }
  },
  "cells": [
    {
      "cell_type": "code",
      "metadata": {
        "colab": {
          "base_uri": "https://localhost:8080/"
        },
        "id": "YaYaEyqvTmBa",
        "outputId": "7abb6831-e081-493b-cadf-397bcd982970"
      },
      "source": [
        "# Programación Funcional\n",
        "\n",
        "def aplica(funcion, argumento):\n",
        "    return funcion(argumento);\n",
        "\n",
        "def cuadrado(n):\n",
        "    return n*n\n",
        "\n",
        "def cubo(n):\n",
        "    return n**3\n",
        "\n",
        "\n",
        "aplica (cuadrado,5)"
      ],
      "execution_count": 4,
      "outputs": [
        {
          "output_type": "execute_result",
          "data": {
            "text/plain": [
              "25"
            ]
          },
          "metadata": {
            "tags": []
          },
          "execution_count": 4
        }
      ]
    },
    {
      "cell_type": "code",
      "metadata": {
        "colab": {
          "base_uri": "https://localhost:8080/"
        },
        "id": "ZBUBYZeAUsyl",
        "outputId": "a80a47da-296c-4e8a-b958-dc03197d4d36"
      },
      "source": [
        "aplica(cubo,5)"
      ],
      "execution_count": 5,
      "outputs": [
        {
          "output_type": "execute_result",
          "data": {
            "text/plain": [
              "125"
            ]
          },
          "metadata": {
            "tags": []
          },
          "execution_count": 5
        }
      ]
    },
    {
      "cell_type": "code",
      "metadata": {
        "colab": {
          "base_uri": "https://localhost:8080/"
        },
        "id": "CluCqZm1UyLN",
        "outputId": "d005e25e-0789-4306-fc03-0b2962357e1e"
      },
      "source": [
        "# Funciones anónimas(lambda)\n",
        "\n",
        "area= lambda base, altura : base * altura\n",
        "area(4,5)"
      ],
      "execution_count": 6,
      "outputs": [
        {
          "output_type": "execute_result",
          "data": {
            "text/plain": [
              "20"
            ]
          },
          "metadata": {
            "tags": []
          },
          "execution_count": 6
        }
      ]
    },
    {
      "cell_type": "code",
      "metadata": {
        "colab": {
          "base_uri": "https://localhost:8080/"
        },
        "id": "_XT1VQ19VyDY",
        "outputId": "008c8c6e-edd6-42c7-b57d-b8af849c3c88"
      },
      "source": [
        "# Aplicar una función a todos los elementos de una colección iterable(map)\n",
        "\n",
        "def cuadrado(n):\n",
        "    return n*n\n",
        "\n",
        "list(map(cuadrado, [1,2,3]))\n"
      ],
      "execution_count": 8,
      "outputs": [
        {
          "output_type": "execute_result",
          "data": {
            "text/plain": [
              "[1, 4, 9]"
            ]
          },
          "metadata": {
            "tags": []
          },
          "execution_count": 8
        }
      ]
    },
    {
      "cell_type": "code",
      "metadata": {
        "colab": {
          "base_uri": "https://localhost:8080/"
        },
        "id": "A6HTbsUCWW5y",
        "outputId": "db4525b5-ca36-4bb6-863c-e5579cc0bb9a"
      },
      "source": [
        "def rectangulo(a,b):\n",
        "    return a * b\n",
        "\n",
        "tuple(map(rectangulo,(1,2,3),(4,5,6)))\n"
      ],
      "execution_count": 9,
      "outputs": [
        {
          "output_type": "execute_result",
          "data": {
            "text/plain": [
              "(4, 10, 18)"
            ]
          },
          "metadata": {
            "tags": []
          },
          "execution_count": 9
        }
      ]
    },
    {
      "cell_type": "code",
      "metadata": {
        "colab": {
          "base_uri": "https://localhost:8080/"
        },
        "id": "2yswXmTuWs7z",
        "outputId": "da8efd13-3e5e-445f-fa89-ad7ecef495ab"
      },
      "source": [
        "# Filtrar los elementos de una colección iterable(filter)\n",
        "\n",
        "def par(n):\n",
        "    return n %2 == 0\n",
        "\n",
        "list(filter(par, range(10)))"
      ],
      "execution_count": 10,
      "outputs": [
        {
          "output_type": "execute_result",
          "data": {
            "text/plain": [
              "[0, 2, 4, 6, 8]"
            ]
          },
          "metadata": {
            "tags": []
          },
          "execution_count": 10
        }
      ]
    },
    {
      "cell_type": "code",
      "metadata": {
        "colab": {
          "base_uri": "https://localhost:8080/"
        },
        "id": "HQPgCf5oXvc8",
        "outputId": "ffd777bf-4ba3-45e6-a9ff-99dfbca1c057"
      },
      "source": [
        "# Combinar los elementos de varias colecciones iterables(zip)\n",
        "\n",
        "asignaturas = [\"Matemáticas\",\"Física\",\"Química\",\"Economía\"]\n",
        "notas = [6.0,3.5,7.5,8.0]\n",
        "list(zip(asignaturas, notas))"
      ],
      "execution_count": 11,
      "outputs": [
        {
          "output_type": "execute_result",
          "data": {
            "text/plain": [
              "[('Matemáticas', 6.0), ('Física', 3.5), ('Química', 7.5), ('Economía', 8.0)]"
            ]
          },
          "metadata": {
            "tags": []
          },
          "execution_count": 11
        }
      ]
    },
    {
      "cell_type": "code",
      "metadata": {
        "colab": {
          "base_uri": "https://localhost:8080/"
        },
        "id": "hE7vlgHFYP1o",
        "outputId": "a0226cd2-f04e-4648-b2db-609d68ebf47c"
      },
      "source": [
        "# Operar todos los elementos de una colección iterable(reduce)\n",
        "\n",
        "from functools import reduce\n",
        "def producto(n,m):\n",
        "    return n*m\n",
        "\n",
        "reduce(producto, range(1, 5))"
      ],
      "execution_count": 12,
      "outputs": [
        {
          "output_type": "execute_result",
          "data": {
            "text/plain": [
              "24"
            ]
          },
          "metadata": {
            "tags": []
          },
          "execution_count": 12
        }
      ]
    }
  ]
}