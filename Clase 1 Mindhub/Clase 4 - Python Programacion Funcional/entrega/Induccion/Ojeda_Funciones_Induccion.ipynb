{
  "nbformat": 4,
  "nbformat_minor": 0,
  "metadata": {
    "colab": {
      "name": "Ojeda_Funciones_Induccion.ipynb",
      "provenance": [],
      "collapsed_sections": []
    },
    "kernelspec": {
      "name": "python3",
      "display_name": "Python 3"
    }
  },
  "cells": [
    {
      "cell_type": "code",
      "metadata": {
        "colab": {
          "base_uri": "https://localhost:8080/"
        },
        "id": "ssiwq9QByLo0",
        "outputId": "0b52f78e-0572-4d67-82e1-97e50cb65cf4"
      },
      "source": [
        "# Funciones def\n",
        "\n",
        "def bienvenida():\n",
        "  print(\"¡Bienvenido a Python!\")\n",
        "  return\n",
        "\n",
        "type(bienvenida)"
      ],
      "execution_count": null,
      "outputs": [
        {
          "output_type": "execute_result",
          "data": {
            "text/plain": [
              "function"
            ]
          },
          "metadata": {
            "tags": []
          },
          "execution_count": 1
        }
      ]
    },
    {
      "cell_type": "code",
      "metadata": {
        "colab": {
          "base_uri": "https://localhost:8080/"
        },
        "id": "QLbFdQ1Cy07d",
        "outputId": "8f65ba3a-7100-4535-9c15-a3efec61a8c7"
      },
      "source": [
        "bienvenida()"
      ],
      "execution_count": null,
      "outputs": [
        {
          "output_type": "stream",
          "text": [
            "¡Bienvenido a Python!\n"
          ],
          "name": "stdout"
        }
      ]
    },
    {
      "cell_type": "code",
      "metadata": {
        "colab": {
          "base_uri": "https://localhost:8080/"
        },
        "id": "ZUifzWb_y7Xp",
        "outputId": "6f311ffe-137e-4c6f-9729-43bc21bf958b"
      },
      "source": [
        "# Parámetros de una función\n",
        "\n",
        "def bienvenida(nombre):\n",
        "    print(\"¡Bienvenido a Python!\", nombre + \"!\")\n",
        "    return\n",
        "\n",
        "bienvenida(\"Mindhub\")"
      ],
      "execution_count": null,
      "outputs": [
        {
          "output_type": "stream",
          "text": [
            "¡Bienvenido a Python! Mindhub!\n"
          ],
          "name": "stdout"
        }
      ]
    },
    {
      "cell_type": "code",
      "metadata": {
        "colab": {
          "base_uri": "https://localhost:8080/"
        },
        "id": "WfmGxqhpzV-3",
        "outputId": "1a42c2f8-be9c-4d8c-f8de-5d6cd4e81ebd"
      },
      "source": [
        "# Argumentos de la llamada a una función\n",
        "\n",
        "def bienvenida(nombre, apellido):\n",
        "  print(\"¡Bienvenido a Python!\", nombre, apellido + \"!\")\n",
        "  return\n",
        "\n",
        "bienvenida(\"Adrián\",\"Ojeda\")"
      ],
      "execution_count": null,
      "outputs": [
        {
          "output_type": "stream",
          "text": [
            "¡Bienvenido a Python! Adrián Ojeda!\n"
          ],
          "name": "stdout"
        }
      ]
    },
    {
      "cell_type": "code",
      "metadata": {
        "colab": {
          "base_uri": "https://localhost:8080/"
        },
        "id": "oChLCLnTG8ct",
        "outputId": "a3559e9f-b5fc-41eb-da14-065fd00ac698"
      },
      "source": [
        "bienvenida(apellido=\"Ojeda\", nombre=\"Adrian\")"
      ],
      "execution_count": null,
      "outputs": [
        {
          "output_type": "stream",
          "text": [
            "¡Bienvenido a Python! Adrian Ojeda!\n"
          ],
          "name": "stdout"
        }
      ]
    },
    {
      "cell_type": "code",
      "metadata": {
        "colab": {
          "base_uri": "https://localhost:8080/"
        },
        "id": "eDRIxadMHRcf",
        "outputId": "d3bad57d-164a-46e9-dd5e-bc365292d13b"
      },
      "source": [
        "# Retorno de una función\n",
        "\n",
        "def area_triangulo(base, altura):\n",
        "  return base * altura / 2\n",
        "area_triangulo(2,3)"
      ],
      "execution_count": null,
      "outputs": [
        {
          "output_type": "execute_result",
          "data": {
            "text/plain": [
              "3.0"
            ]
          },
          "metadata": {
            "tags": []
          },
          "execution_count": 8
        }
      ]
    },
    {
      "cell_type": "code",
      "metadata": {
        "colab": {
          "base_uri": "https://localhost:8080/"
        },
        "id": "izDi8dIAJAU9",
        "outputId": "5d0ff8f8-b32d-4afd-b54f-872c46cea846"
      },
      "source": [
        "area_triangulo(4,5)"
      ],
      "execution_count": null,
      "outputs": [
        {
          "output_type": "execute_result",
          "data": {
            "text/plain": [
              "10.0"
            ]
          },
          "metadata": {
            "tags": []
          },
          "execution_count": 9
        }
      ]
    },
    {
      "cell_type": "code",
      "metadata": {
        "colab": {
          "base_uri": "https://localhost:8080/"
        },
        "id": "-Ibki-dgJG6K",
        "outputId": "29a925b4-5a7f-4cc9-ce4a-1f2fba003594"
      },
      "source": [
        "# Argumentos por defecto\n",
        "\n",
        "def bienvenida(nombre, lenguaje = \"Python\"):\n",
        "  print(\"¡Bienvenido a\",lenguaje,nombre + \"!\")\n",
        "  return\n",
        "\n",
        "bienvenida(\"Carla\")"
      ],
      "execution_count": null,
      "outputs": [
        {
          "output_type": "stream",
          "text": [
            "¡Bienvenido a Python Carla!\n"
          ],
          "name": "stdout"
        }
      ]
    },
    {
      "cell_type": "code",
      "metadata": {
        "colab": {
          "base_uri": "https://localhost:8080/"
        },
        "id": "yR0ObO3wKttS",
        "outputId": "529e1669-8b93-4863-d9f2-c9753d5d6781"
      },
      "source": [
        "bienvenida(\"Carla\",\"Java\")"
      ],
      "execution_count": null,
      "outputs": [
        {
          "output_type": "stream",
          "text": [
            "¡Bienvenido a Java Carla!\n"
          ],
          "name": "stdout"
        }
      ]
    },
    {
      "cell_type": "code",
      "metadata": {
        "colab": {
          "base_uri": "https://localhost:8080/"
        },
        "id": "5vu96wbXLkzc",
        "outputId": "28a57603-2294-4808-cdd2-f975c2edd370"
      },
      "source": [
        "# Pasar un número indeterminado de argumentos\n",
        "\n",
        "def menu(*platos):\n",
        "  print(\"Hoy tenemos:\" , end=\" \")\n",
        "  for plato in platos:\n",
        "    print(plato, end=\" \")\n",
        "  return\n",
        "\n",
        "menu(\"pasta\",\"pizza\",\"ensalada\")"
      ],
      "execution_count": null,
      "outputs": [
        {
          "output_type": "stream",
          "text": [
            "Hoy tenemos: pasta pizza ensalada "
          ],
          "name": "stdout"
        }
      ]
    },
    {
      "cell_type": "code",
      "metadata": {
        "colab": {
          "base_uri": "https://localhost:8080/"
        },
        "id": "JezkkLMKuzT2",
        "outputId": "664d5d7a-c3bc-4382-955b-7d6fbb3ca4da"
      },
      "source": [
        "# Ámbito de los parametros y variables de una función\n",
        "\n",
        "def bienvenida(nombre):\n",
        "  lenguaje=\"Python\"\n",
        "  print(\"¡Bienvenido a\", lenguaje, nombre + \"!\")\n",
        "  return\n",
        "\n",
        "bienvenida(\"Carla\")\n"
      ],
      "execution_count": null,
      "outputs": [
        {
          "output_type": "stream",
          "text": [
            "¡Bienvenido a Python Carla!\n"
          ],
          "name": "stdout"
        }
      ]
    },
    {
      "cell_type": "code",
      "metadata": {
        "colab": {
          "base_uri": "https://localhost:8080/",
          "height": 163
        },
        "id": "l2MCPRt7uTI4",
        "outputId": "d81bfa3d-ddca-49e6-ee72-1d07fb8990a8"
      },
      "source": [
        "lenguaje\n"
      ],
      "execution_count": null,
      "outputs": [
        {
          "output_type": "error",
          "ename": "NameError",
          "evalue": "ignored",
          "traceback": [
            "\u001b[0;31m---------------------------------------------------------------------------\u001b[0m",
            "\u001b[0;31mNameError\u001b[0m                                 Traceback (most recent call last)",
            "\u001b[0;32m<ipython-input-19-3a0e2018f12d>\u001b[0m in \u001b[0;36m<module>\u001b[0;34m()\u001b[0m\n\u001b[0;32m----> 1\u001b[0;31m \u001b[0mlenguaje\u001b[0m\u001b[0;34m\u001b[0m\u001b[0;34m\u001b[0m\u001b[0m\n\u001b[0m",
            "\u001b[0;31mNameError\u001b[0m: name 'lenguaje' is not defined"
          ]
        }
      ]
    },
    {
      "cell_type": "code",
      "metadata": {
        "colab": {
          "base_uri": "https://localhost:8080/"
        },
        "id": "XhQOJ-Wj6tTZ",
        "outputId": "dce15e1d-160b-4935-8ed3-27a0b2cf5a4d"
      },
      "source": [
        "# Ámbito de los parámetros y variables de una función\n",
        "lenguaje= \"Java\"\n",
        "def bienvenida():\n",
        "  lenguaje=\"Python\"\n",
        "  print(\"¡Bienvenido a \", lenguaje + \"!\")\n",
        "\n",
        "bienvenida()\n",
        "print(lenguaje)"
      ],
      "execution_count": null,
      "outputs": [
        {
          "output_type": "stream",
          "text": [
            "¡Bienvenido a  Python!\n",
            "Java\n"
          ],
          "name": "stdout"
        }
      ]
    },
    {
      "cell_type": "code",
      "metadata": {
        "colab": {
          "base_uri": "https://localhost:8080/"
        },
        "id": "DgwsxpoO7VG8",
        "outputId": "d94c1937-39b8-4656-f16c-4f44fdd79485"
      },
      "source": [
        "# Paso de argumentos por referencia\n",
        "\n",
        "primer_curso = [\"Matemáticas\",\"Física\"]\n",
        "def añade_asignatura(curso,asignatura):\n",
        "  curso.append(asignatura)\n",
        "  return\n",
        "\n",
        "añade_asignatura(primer_curso, \"Química\")\n",
        "print(primer_curso)"
      ],
      "execution_count": null,
      "outputs": [
        {
          "output_type": "stream",
          "text": [
            "['Matemáticas', 'Física', 'Química']\n"
          ],
          "name": "stdout"
        }
      ]
    },
    {
      "cell_type": "code",
      "metadata": {
        "id": "s-2-_ZGu876T",
        "colab": {
          "base_uri": "https://localhost:8080/"
        },
        "outputId": "709f8400-0ced-4726-c8fd-b1fc07afede1"
      },
      "source": [
        "# Documentación de funciones\n",
        "\n",
        "def area_triangulo(base, altura):\n",
        "  \"\"\"Función que calcula el área de un triángulo.\n",
        "\n",
        "  Parámetros:\n",
        "       -base: La base del triángulo.\n",
        "       -altura: La altura del triángulo.\n",
        "  Resultado:\n",
        "      El área del triángulo con la base y la altura especificadas.\n",
        "  \"\"\"\n",
        "  return base * altura / 2\n",
        "\n",
        "help(area_triangulo)\n",
        "\n",
        "\n",
        "\n"
      ],
      "execution_count": 19,
      "outputs": [
        {
          "output_type": "stream",
          "text": [
            "Help on function area_triangulo in module __main__:\n",
            "\n",
            "area_triangulo(base, altura)\n",
            "    Función que calcula el área de un triángulo.\n",
            "    \n",
            "    Parámetros:\n",
            "         -base: La base del triángulo.\n",
            "         -altura: La altura del triángulo.\n",
            "    Resultado:\n",
            "        El área del triángulo con la base y la altura especificadas.\n",
            "\n"
          ],
          "name": "stdout"
        }
      ]
    },
    {
      "cell_type": "code",
      "metadata": {
        "colab": {
          "base_uri": "https://localhost:8080/"
        },
        "id": "CWWxkviGXUsI",
        "outputId": "debc2eea-01fa-432a-9d1d-c8e7dd982cee"
      },
      "source": [
        "# Funciones Recursivas\n",
        "\n",
        "def factorial(n):\n",
        "    if n==0:\n",
        "        return 1\n",
        "    else:\n",
        "        return n* factorial(n-1)\n",
        "\n",
        "factorial(5)"
      ],
      "execution_count": 9,
      "outputs": [
        {
          "output_type": "execute_result",
          "data": {
            "text/plain": [
              "120"
            ]
          },
          "metadata": {
            "tags": []
          },
          "execution_count": 9
        }
      ]
    },
    {
      "cell_type": "code",
      "metadata": {
        "colab": {
          "base_uri": "https://localhost:8080/"
        },
        "id": "CHTd_mf-B9jA",
        "outputId": "f25aa324-d587-4003-b9be-2a517e484150"
      },
      "source": [
        "# Funciones recursivas múltiples\n",
        "\n",
        "def fibonacci(n):\n",
        "    if n<=1:\n",
        "       return n\n",
        "    else:\n",
        "        return fibonacci(n-1) + fibonacci(n-2)\n",
        "\n",
        "fibonacci(6)"
      ],
      "execution_count": 12,
      "outputs": [
        {
          "output_type": "execute_result",
          "data": {
            "text/plain": [
              "8"
            ]
          },
          "metadata": {
            "tags": []
          },
          "execution_count": 12
        }
      ]
    },
    {
      "cell_type": "code",
      "metadata": {
        "colab": {
          "base_uri": "https://localhost:8080/"
        },
        "id": "pjWpsAKgEwCZ",
        "outputId": "06b17582-af0c-4245-a667-87af529a915c"
      },
      "source": [
        "# Los riesgos de la recursión\n",
        "\n",
        "def fibonacci(n):\n",
        "    a,b=0,1\n",
        "    for i in range(n):\n",
        "      a,b=b,a+b\n",
        "    return a\n",
        "\n",
        "fibonacci(6)"
      ],
      "execution_count": 13,
      "outputs": [
        {
          "output_type": "execute_result",
          "data": {
            "text/plain": [
              "8"
            ]
          },
          "metadata": {
            "tags": []
          },
          "execution_count": 13
        }
      ]
    }
  ]
}