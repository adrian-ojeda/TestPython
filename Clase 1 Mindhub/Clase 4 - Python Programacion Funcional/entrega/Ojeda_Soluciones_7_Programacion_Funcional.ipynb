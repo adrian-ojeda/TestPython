{
  "nbformat": 4,
  "nbformat_minor": 0,
  "metadata": {
    "kernelspec": {
      "display_name": "Python 3",
      "language": "python",
      "name": "python3"
    },
    "language_info": {
      "codemirror_mode": {
        "name": "ipython",
        "version": 3
      },
      "file_extension": ".py",
      "mimetype": "text/x-python",
      "name": "python",
      "nbconvert_exporter": "python",
      "pygments_lexer": "ipython3",
      "version": "3.6.9"
    },
    "colab": {
      "name": "Ojeda-Soluciones-7-Programacion-Funcional.ipynb",
      "provenance": [],
      "collapsed_sections": []
    }
  },
  "cells": [
    {
      "cell_type": "markdown",
      "metadata": {
        "id": "fiGVgF5_6Dil"
      },
      "source": [
        "# Soluciones de Ejercicios de Programación Funcional"
      ]
    },
    {
      "cell_type": "markdown",
      "metadata": {
        "id": "YQNXWMjD6Dim"
      },
      "source": [
        "# Ejercicio 1"
      ]
    },
    {
      "cell_type": "markdown",
      "metadata": {
        "id": "EUJSmCa86Dim"
      },
      "source": [
        "Escribir una función que aplique un descuento a un precio y otra que aplique el IVA a un precio. Escribir una tercera función que reciba un diccionario con los precios y porcentajes de una cesta de la compra, y una de las funciones anteriores, y utilice la función pasada para aplicar los descuentos o el IVA a los productos de la canasta y devolver el precio final de la canasta."
      ]
    },
    {
      "cell_type": "code",
      "metadata": {
        "id": "sagcvX686Dim"
      },
      "source": [
        "# Solución\n",
        "def apply_IVA(price, percentage):\n",
        "    '''\n",
        "    Función que aplica un IVA a una cantidad.\n",
        "    Parámetros:\n",
        "        price: Es un valor real con el precio al que aplicar el IVA.\n",
        "        percentage: Es el porcentaje del IVA a aplicar.\n",
        "    Devuelve:\n",
        "        El precio final tras aplicar el IVA.\n",
        "    '''\n",
        "    return price + price * percentage / 100\n",
        "\n",
        "def price_basket(basket, function):\n",
        "    '''\n",
        "    Función que calcula el precio de una cesta de la compra una vez aplicada una función a los precios iniciales.\n",
        "    Parámetros:\n",
        "        basket: Es un diccionario formado por pares precio:descuento.\n",
        "        function: Es una función que toma dos valores reales y devuelve otro. Normalmente para aplicar descuentos o IVA.\n",
        "    Devuelve:\n",
        "        El precio final de la cesta de la compra una vez aplicada la función sobre los precios iniciales.\n",
        "    '''\n",
        "    total = 0\n",
        "    for price, discount in basket.items():\n",
        "        total += function(price, discount)\n",
        "    return total\n",
        "\n",
        "print('El precio de la compra tras aplicar los descuentos es: ', price_basket({1000:20, 500:10, 100:1}, apply_discount))\n",
        "print('El precio de la compra tras aplicar el IVA es: ', price_basket({1000:20, 500:10, 100:1}, apply_IVA))"
      ],
      "execution_count": null,
      "outputs": []
    },
    {
      "cell_type": "code",
      "metadata": {
        "colab": {
          "base_uri": "https://localhost:8080/"
        },
        "id": "px6C0pkn6Din",
        "outputId": "dc94b09c-6a09-4c63-b2ac-449c14d690dc"
      },
      "source": [
        "def descuento(precio,porcentaje):\n",
        "    return precio-(precio*porcentaje/100)\n",
        "\n",
        "def iva(precio,porcentaje):\n",
        "    return precio+(precio*porcentaje/100)\n",
        "\n",
        "def compra(canasta,con_iva):\n",
        "  compra_total=0\n",
        "\n",
        "  for precio,porcentaje in canasta.items():\n",
        "      compra_total+=con_iva(precio,porcentaje)\n",
        "\n",
        "  return compra_total\n",
        "\n",
        "\n",
        "productos={3000:10,1200:20,450:30,2000:10}\n",
        "\n",
        "print(\"El Total de su compra con el IVA incluído es:$\",compra(productos,iva))"
      ],
      "execution_count": 1,
      "outputs": [
        {
          "output_type": "stream",
          "text": [
            "El Total de su compra con el IVA incluído es:$ 7525.0\n"
          ],
          "name": "stdout"
        }
      ]
    },
    {
      "cell_type": "code",
      "metadata": {
        "colab": {
          "base_uri": "https://localhost:8080/"
        },
        "id": "fX9Y2K616fdA",
        "outputId": "1536cc3b-6eaa-4d9c-b7cd-98b92f6b653e"
      },
      "source": [
        "print(\"El total de su compra con el descuento es:$\",compra(productos,descuento))"
      ],
      "execution_count": 2,
      "outputs": [
        {
          "output_type": "stream",
          "text": [
            "El total de su compra con el descuento es:$ 5775.0\n"
          ],
          "name": "stdout"
        }
      ]
    },
    {
      "cell_type": "markdown",
      "metadata": {
        "id": "AYZDKFRo6Din"
      },
      "source": [
        "# Ejercicio 2"
      ]
    },
    {
      "cell_type": "markdown",
      "metadata": {
        "id": "ODqFymXm6Din"
      },
      "source": [
        "Escribir una función que simule una calculadora científica que permita calcular el seno, coseno, tangente, exponencial y logaritmo neperiano. La función preguntará al usuario el valor y la función a aplicar, y mostrará por pantalla una tabla con los enteros de 1 al valor introducido y el resultado de aplicar la función a esos enteros."
      ]
    },
    {
      "cell_type": "code",
      "metadata": {
        "id": "ka87ONG06Dio"
      },
      "source": [
        "# Solución\n",
        "from math import sin, cos, tan, exp, log\n",
        "\n",
        "def apply_function(f, n):\n",
        "    '''\n",
        "    Función que aplica una función a los enteros desde 1 hasta n.\n",
        "    Parámetros:\n",
        "        f: Es una función que recibe un número real y devuelve otro.\n",
        "        n: Es un número entero positivo.\n",
        "    Devuelve:\n",
        "        Un diccionario con los pares i:f(i) para cada valor entero i de 1 a n.\n",
        "    '''\n",
        "    functions = {'sin':sin, 'cos':cos, 'tan':tan, 'exp':exp, 'log':log}\n",
        "    result = {}\n",
        "    for i in range(1, n+1):\n",
        "        result[i] = functions[f](i)\n",
        "    return result\n",
        "\n",
        "def calculator():\n",
        "    '''\n",
        "    Función que aplica una función seleccionada por el usuario (seno, coseno, tangente, exponencial o logarítmo) a la lista de enteros desde 1 hasta n. \n",
        "    Imprime por pantalla una tabla con la secuencia de enteros y el resultado de aplicarles la función introducida.\n",
        "    Parámetros:\n",
        "        f: Es una cadena con la función a aplicar (sin, cos, tan, exp o log).\n",
        "        n: Es un entero positivo.\n",
        "    '''\n",
        "    f = input('Introduce la función a aplicar (sin, cos, tan, exp, log): ')\n",
        "    n = int(input('Introduce un entero positivo: '))\n",
        "    for i, j in apply_function(f, n).items():\n",
        "        print (i, '\\t', j)\n",
        "    return\n",
        "\n",
        "calculator()"
      ],
      "execution_count": null,
      "outputs": []
    },
    {
      "cell_type": "code",
      "metadata": {
        "id": "yRJRy1q16Dio"
      },
      "source": [
        ""
      ],
      "execution_count": null,
      "outputs": []
    },
    {
      "cell_type": "markdown",
      "metadata": {
        "id": "Y1e_vRCY6Dio"
      },
      "source": [
        "# Ejercicio 3"
      ]
    },
    {
      "cell_type": "markdown",
      "metadata": {
        "id": "t2fLl5B36Dio"
      },
      "source": [
        "Escribir una función que reciba otra función y una lista, y devuelva otra lista con el resultado de aplicar la función dada a cada uno de los elementos de la lista."
      ]
    },
    {
      "cell_type": "code",
      "metadata": {
        "id": "Q7769c_T6Dio"
      },
      "source": [
        "# Solución\n",
        "def aplica_funcion_lista(funcion, lista):\n",
        "    '''Función que aplica una función a todos los elementos de una lista.\n",
        "\n",
        "    Parámetros:\n",
        "        funcion: Es una función.\n",
        "        lista: Es una lista con valores que se pasarán como argumentos a funcion.\n",
        "    Devuelve:\n",
        "        Una lista con el resultado de aplicar la función a los valores de la lista.\n",
        "    '''\n",
        "    l = []\n",
        "    for i in lista:\n",
        "        l.append(funcion(i))\n",
        "    return l\n",
        "\n",
        "def cuadrado(n):\n",
        "    return n * n\n",
        "\n",
        "print(aplica_funcion_lista(cuadrado, [1, 2, 3, 4]))\n"
      ],
      "execution_count": null,
      "outputs": []
    },
    {
      "cell_type": "code",
      "metadata": {
        "id": "Zl4UVUn36Dio"
      },
      "source": [
        "def suma(n):\n",
        "  return n+2\n",
        "def funcion(lista):\n",
        "  return map(suma,lista)\n",
        "\n",
        "\n",
        "print(list(funcion([4,6,9])))\n"
      ],
      "execution_count": null,
      "outputs": []
    },
    {
      "cell_type": "markdown",
      "metadata": {
        "id": "rjwB18_g6Dio"
      },
      "source": [
        "# Ejercicio 4"
      ]
    },
    {
      "cell_type": "markdown",
      "metadata": {
        "id": "NoDDKkLj6Dio"
      },
      "source": [
        "Escribir una función que reciba otra función booleana y una lista, y devuelva otra lista con los elementos de la lista que devuelvan True al aplicarles la función booleana."
      ]
    },
    {
      "cell_type": "code",
      "metadata": {
        "id": "S8axmQ8A6Dio"
      },
      "source": [
        "# Solución\n",
        "def filtra_lista(funcion, lista):\n",
        "    '''Función que filtra los elementos de una lista que devuelven true al aplicarle una función booleana.\n",
        "\n",
        "    Parámetros:\n",
        "        - funcion: Es una función booleana (devuleve true o false)\n",
        "        - lista: Es una lista con valores que se pasarán como argumentos a funcion.\n",
        "    Devuelve:\n",
        "        Una lista con los elementos de la lista que devuelven true al aplicarles la función booleana.\n",
        "    '''\n",
        "    l = []\n",
        "    for i in lista:\n",
        "        if funcion(i):\n",
        "            l.append(i)\n",
        "    return l\n",
        "\n",
        "def par(n):\n",
        "    return n % 2 == 0\n",
        "\n",
        "print(filtra_lista(par, [1, 2, 3, 4, 5, 6]))"
      ],
      "execution_count": null,
      "outputs": []
    },
    {
      "cell_type": "code",
      "metadata": {
        "id": "nyJJpcZc6Dio"
      },
      "source": [
        ""
      ],
      "execution_count": null,
      "outputs": []
    },
    {
      "cell_type": "markdown",
      "metadata": {
        "id": "qvpjutqn6Dio"
      },
      "source": [
        "# Ejercicio 5"
      ]
    },
    {
      "cell_type": "markdown",
      "metadata": {
        "id": "_jgiuDzk6Dio"
      },
      "source": [
        "Escribir una función que reciba una frase y devuelva un diccionario con las palabras que contiene y su longitud."
      ]
    },
    {
      "cell_type": "code",
      "metadata": {
        "colab": {
          "base_uri": "https://localhost:8080/"
        },
        "id": "BG3cwvnd6Dio",
        "outputId": "66249c03-8477-479d-944c-01ff8702e830"
      },
      "source": [
        "# Solución\n",
        "def length_words(sentence):\n",
        "    '''\n",
        "    Función que recibe una frase y devuelve un diccionario con las palabras que contiene y su longitud.\n",
        "    Parámetros:\n",
        "        sentence: Es una cadena de caracteres con una frase.\n",
        "    Devuelve:\n",
        "        Un diccionario con pares palabra:longitud donde palabra son las palabras que contiene la frase sentence.\n",
        "    '''\n",
        "    words = sentence.split()\n",
        "    lengths = map(len, words)\n",
        "    return dict(zip(words, lengths))\n",
        "\n",
        "print(length_words('Welcome to Python'))"
      ],
      "execution_count": 3,
      "outputs": [
        {
          "output_type": "stream",
          "text": [
            "{'Welcome': 7, 'to': 2, 'Python': 6}\n"
          ],
          "name": "stdout"
        }
      ]
    },
    {
      "cell_type": "code",
      "metadata": {
        "colab": {
          "base_uri": "https://localhost:8080/"
        },
        "id": "HYX0otjy6Dio",
        "outputId": "d48251fa-8253-4db6-9556-4e71bd480e9d"
      },
      "source": [
        "def frase(palabras):\n",
        "    largo=[]\n",
        "    sueltas=palabras.split(\" \")\n",
        "    for i in range(len(sueltas)):\n",
        "        largo.append(len(sueltas[i]))\n",
        "  \n",
        "    datos=dict(zip(sueltas,largo))\n",
        "    return datos.items()\n",
        "  \n",
        "\n",
        "frase(\"Adrian Bienvenido a Mindhub\")\n",
        "    "
      ],
      "execution_count": 4,
      "outputs": [
        {
          "output_type": "execute_result",
          "data": {
            "text/plain": [
              "dict_items([('Adrian', 6), ('Bienvenido', 10), ('a', 1), ('Mindhub', 7)])"
            ]
          },
          "metadata": {
            "tags": []
          },
          "execution_count": 4
        }
      ]
    },
    {
      "cell_type": "markdown",
      "metadata": {
        "id": "S9aRmsSv6Dio"
      },
      "source": [
        "# Ejercicio 6"
      ]
    },
    {
      "cell_type": "markdown",
      "metadata": {
        "id": "aim9izx_6Dio"
      },
      "source": [
        "Escribir una función reciba una lista de notas y devuelva la lista de calificaciones correspondientes a esas notas."
      ]
    },
    {
      "cell_type": "code",
      "metadata": {
        "colab": {
          "base_uri": "https://localhost:8080/"
        },
        "id": "jI5FN1YB6Dip",
        "outputId": "7b00fe2e-1cde-4262-8d44-8d87d6fe62af"
      },
      "source": [
        "# Solución\n",
        "def grade(score):\n",
        "    '''\n",
        "    Función que devuelve la calificación correspondiente a una nota.\n",
        "    Parámetros:\n",
        "        score: Es un valor real entre 0 y 10.\n",
        "    Devuelve:\n",
        "        La calificación correspondiente a la nota score.\n",
        "    '''\n",
        "    if score < 5:\n",
        "        return 'SS'\n",
        "    elif score < 7:\n",
        "        return 'AP'\n",
        "    elif score < 9:\n",
        "        return 'NT'\n",
        "    elif score < 10:\n",
        "        return 'SB'\n",
        "    else:\n",
        "        return 'MH'\n",
        "\n",
        "def apply_grade(scores):\n",
        "    '''\n",
        "    Función que devuelve la calificación correspondiente a las notas de una lista dada.\n",
        "    Parámetros:\n",
        "        scores: Es una lista de valores reales entre 0 y 10.\n",
        "    Devuelve\n",
        "        La lista de calificaciones correspondiente a las notas de scores.\n",
        "    '''\n",
        "    return list(map(grade, scores))\n",
        "\n",
        "print(apply_grade([6.5, 5, 3.4, 8.2, 2.1, 9.7, 10]))"
      ],
      "execution_count": 8,
      "outputs": [
        {
          "output_type": "stream",
          "text": [
            "['AP', 'AP', 'SS', 'NT', 'SS', 'SB', 'MH']\n"
          ],
          "name": "stdout"
        }
      ]
    },
    {
      "cell_type": "code",
      "metadata": {
        "id": "mcgogrG46Dip"
      },
      "source": [
        ""
      ],
      "execution_count": null,
      "outputs": []
    },
    {
      "cell_type": "markdown",
      "metadata": {
        "id": "DdbKe-Zg6Dip"
      },
      "source": [
        "# Ejercicio 7"
      ]
    },
    {
      "cell_type": "markdown",
      "metadata": {
        "id": "nIL7cxho6Dip"
      },
      "source": [
        "Escribir una función reciba un diccionario con las asignaturas y las notas de un alumno y devuelva otro diccionario con las asignaturas en mayúsculas y las calificaciones correspondientes a las notas."
      ]
    },
    {
      "cell_type": "code",
      "metadata": {
        "colab": {
          "base_uri": "https://localhost:8080/"
        },
        "id": "cEVnBE4v6Dip",
        "outputId": "028d764d-192e-47c2-e877-a07c0c3bfc10"
      },
      "source": [
        "# Solución\n",
        "def grade(score):\n",
        "    '''\n",
        "    Función que devuelve la calificación correspondiente a una nota.\n",
        "    Parámetros:\n",
        "        score: Es un valor real entre 0 y 10.\n",
        "    Devuelve:\n",
        "        La calificación correspondiente a la nota score.\n",
        "    '''\n",
        "    if score < 5:\n",
        "        return 'SS'\n",
        "    elif score < 7:\n",
        "        return 'AP'\n",
        "    elif score < 9:\n",
        "        return 'NT'\n",
        "    elif score < 10:\n",
        "        return 'SB'\n",
        "    else:\n",
        "        return 'MH'\n",
        "\n",
        "def apply_grade(scores):\n",
        "    '''\n",
        "    Función que recibe un diccionario de asignaturas y notas y devuelve otro con las asignaturas en mayúsculas y las calificaciones correspondientes a las notas.\n",
        "    Parámetros:\n",
        "        scores: Es un diccionario con pares asignatura:nota donde nota es un valor real entre 0 y 10.\n",
        "    Devuelve\n",
        "        Un diccionario con pares ASIGNATURA:calificación, donde calificación es la calificación correspondiente a la nota de la asignatura.\n",
        "    '''\n",
        "    subjects = map(str.upper, scores.keys())\n",
        "    grades = map(grade, scores.values())\n",
        "    return dict(zip(subjects, grades))\n",
        "\n",
        "print(apply_grade({'Matemáticas':6.5, 'Física':5, 'Química':3.4, 'Economía':8.2, 'Historia':9.7, 'Programación':10}))"
      ],
      "execution_count": 6,
      "outputs": [
        {
          "output_type": "stream",
          "text": [
            "{'MATEMÁTICAS': 'AP', 'FÍSICA': 'AP', 'QUÍMICA': 'SS', 'ECONOMÍA': 'NT', 'HISTORIA': 'SB', 'PROGRAMACIÓN': 'MH'}\n"
          ],
          "name": "stdout"
        }
      ]
    },
    {
      "cell_type": "code",
      "metadata": {
        "colab": {
          "base_uri": "https://localhost:8080/"
        },
        "id": "Sy_40gbW6Dip",
        "outputId": "6f60e4d2-cd04-498c-fc0f-ad800329ae54"
      },
      "source": [
        "def mayusculas(materias):\n",
        "    calificacion={}\n",
        "    for palabras,notas in materias.items():\n",
        "        calificacion[palabras.upper()]=notas\n",
        "    return calificacion\n",
        "\n",
        "\n",
        "mayusculas({\"Gimnasia\":9,\"Biología\":7,\"Música\":8})"
      ],
      "execution_count": 1,
      "outputs": [
        {
          "output_type": "execute_result",
          "data": {
            "text/plain": [
              "{'BIOLOGÍA': 7, 'GIMNASIA': 9, 'MÚSICA': 8}"
            ]
          },
          "metadata": {
            "tags": []
          },
          "execution_count": 1
        }
      ]
    },
    {
      "cell_type": "markdown",
      "metadata": {
        "id": "wiQ2fVSQ6Dip"
      },
      "source": [
        "# Ejercicio 8"
      ]
    },
    {
      "cell_type": "markdown",
      "metadata": {
        "id": "mSlm20v26Dip"
      },
      "source": [
        "Escribir una función reciba un diccionario con las asignaturas y las notas de un alumno y devuelva otro diccionario con las asignaturas en mayúsculas y las calificaciones correspondientes a las notas aprobadas."
      ]
    },
    {
      "cell_type": "code",
      "metadata": {
        "id": "z0EHHimY6Dip"
      },
      "source": [
        "# Solución\n",
        "def grade(score):\n",
        "    '''\n",
        "    Función que devuelve la calificación correspondiente a una nota.\n",
        "    Parámetros:\n",
        "        score: Es un valor real entre 0 y 10.\n",
        "    Devuelve:\n",
        "        La calificación correspondiente a la nota score.\n",
        "    '''\n",
        "    if score < 5:\n",
        "        return 'SS'\n",
        "    elif score < 7:\n",
        "        return 'AP'\n",
        "    elif score < 9:\n",
        "        return 'NT'\n",
        "    elif score < 10:\n",
        "        return 'SB'\n",
        "    else:\n",
        "        return 'MH'\n",
        "\n",
        "def passed_subject(subject):\n",
        "    '''\n",
        "    Función que recibe una tupla con una asignatura y su nota y devuelve True si la asignatura está aprobada o False si está suspensa.abs\n",
        "    Parámetros:\n",
        "        subject: Es una tupla (asignatura, nota) donde nota es un valor real entre 0 y 10.\n",
        "    Devuelve: True si la nota es mayor o igual que 5 y False si no.abs\n",
        "    '''\n",
        "    return (subject[1] >= 5)\n",
        "\n",
        "\n",
        "def apply_grade(scores):\n",
        "    '''\n",
        "    Función que recibe un diccionario de asignaturas y notas y devuelve otro con las asignaturas en mayúsculas y las calificaciones correspondientes a las notas.\n",
        "    Parámetros:\n",
        "        scores: Es un diccionario con pares asignatura:nota donde nota es un valor real entre 0 y 10.\n",
        "    Devuelve\n",
        "        Un diccionario con pares ASIGNATURA:calificación, donde calificación es la calificación correspondiente a la nota de la asignatura.\n",
        "    '''\n",
        "    passed = dict(filter(passed_subject, scores.items()))\n",
        "    subjects = map(str.upper, passed.keys())\n",
        "    grades = map(grade, passed.values())\n",
        "    return dict(zip(subjects, grades))\n",
        "\n",
        "print(apply_grade({'Matemáticas':6.5, 'Física':5, 'Química':3.4, 'Economía':8.2, 'Historia':9.7, 'Programación':10}))"
      ],
      "execution_count": null,
      "outputs": []
    },
    {
      "cell_type": "code",
      "metadata": {
        "id": "VpCmhVsM6Dip"
      },
      "source": [
        "def mayusculas(materias):\n",
        "    calificacion={}\n",
        "    for palabras,notas in materias.items():\n",
        "      if notas>5:\n",
        "        calificacion[palabras.upper()]=notas\n",
        "      elif notas<=5:\n",
        "        calificacion[palabras.upper()]=notas=None\n",
        "\n",
        "    return calificacion\n",
        "\n",
        "\n",
        "mayusculas({\"Gimnasia\":9,\"Biología\":7,\"Música\":8,\"Matemáticas\":3,\"Física\":5,\"Lengua\":2})"
      ],
      "execution_count": null,
      "outputs": []
    },
    {
      "cell_type": "markdown",
      "metadata": {
        "id": "5w4Tiyrg6Dip"
      },
      "source": [
        "# Ejercicio 9"
      ]
    },
    {
      "cell_type": "markdown",
      "metadata": {
        "id": "jql5iVB36Dip"
      },
      "source": [
        "Escribir una función que calcule el módulo de un vector."
      ]
    },
    {
      "cell_type": "code",
      "metadata": {
        "id": "OUNgUdgo6Dip"
      },
      "source": [
        "# Solución\n",
        "def sum_square(x, y):\n",
        "    '''\n",
        "    Función que recibe dos valores y calcula la suma del primero más el cuadrado del segundo.\n",
        "    Parámetros:\n",
        "        x: Es un número real.\n",
        "        y: Es un número real.\n",
        "    Devuelve:\n",
        "        x + y²\n",
        "    '''\n",
        "    return x + y ** 2\n",
        "\n",
        "def module(v):\n",
        "    '''\n",
        "    Función que calcula el módulo de un vector.\n",
        "    Parámetros:\n",
        "        v: Una tupla de números reales.\n",
        "    Devuelve:\n",
        "        El módulo del vector v.\n",
        "    '''\n",
        "    from functools import reduce\n",
        "    return reduce(sum_square, v, 0) ** 0.5\n",
        "\n",
        "print(module((3, 4)))\n",
        "print(module((1, 2, 3)))"
      ],
      "execution_count": null,
      "outputs": []
    },
    {
      "cell_type": "code",
      "metadata": {
        "id": "__Detnir6Dip"
      },
      "source": [
        ""
      ],
      "execution_count": null,
      "outputs": []
    },
    {
      "cell_type": "markdown",
      "metadata": {
        "id": "cF0GUPSJ6Dip"
      },
      "source": [
        "# Ejercicio 10"
      ]
    },
    {
      "cell_type": "markdown",
      "metadata": {
        "id": "pmumJYxL6Dip"
      },
      "source": [
        "Una inmobiliaria de una ciudad maneja una lista de inmuebles como la siguiente:\n",
        "\n",
        "<pre><code class=\"language-python\">[{'año': 2000, 'metros': 100, 'habitaciones': 3, 'garaje': True, 'zona': 'A'},\n",
        "{'año': 2012, 'metros': 60, 'habitaciones': 2, 'garaje': True, 'zona': 'B'},\n",
        "{'año': 1980, 'metros': 120, 'habitaciones': 4, 'garaje': False, 'zona': 'A'},\n",
        "{'año': 2005, 'metros': 75, 'habitaciones': 3, 'garaje': True, 'zona': 'B'},\n",
        "{'año': 2015, 'metros': 90, 'habitaciones': 2, 'garaje': False, 'zona': 'A'}]\n",
        "</code></pre>\n",
        "\n",
        "Construir una función que permita hacer búsqueda de inmuebles en función de un presupuesto dado. La función recibirá como entrada la lista de inmuebles y un precio, y devolverá otra lista con los inmuebles cuyo precio sea menor o igual que el dado. Los inmuebles de la lista que se devuelva deben incorporar un nuevo par a cada diccionario con el precio del inmueble, donde el precio de un inmueble se calcula con las siguiente fórmula en función de la zona:\n",
        "\n",
        "<ul>\n",
        "<li>Zona A: precio = (metros * 1000 + habitaciones * 5000 + garaje * 15000) * (1-antiguedad/100)</li>\n",
        "<li>Zona B: precio = (metros * 1000 + habitaciones * 5000 + garaje * 15000) * (1-antiguedad/100) * 1.5</li>\n",
        "</ul>"
      ]
    },
    {
      "cell_type": "code",
      "metadata": {
        "id": "mAcYJpGI6Dip"
      },
      "source": [
        "# Solución\n",
        "pisos = [{'año': 2000, 'metros': 100, 'habitaciones': 3, 'garaje': True, 'zona': 'A'}, {'año': 2012, 'metros': 60, 'habitaciones': 2, 'garaje': True, 'zona': 'B'}, {'año': 1980, 'metros': 120, 'habitaciones': 4, 'garaje': False, 'zona': 'A'}, {'año': 2005, 'metros': 75, 'habitaciones': 3, 'garaje': True, 'zona': 'B'}, {'año': 2015, 'metros': 90, 'habitaciones': 2, 'garaje': False, 'zona': 'A'}]\n",
        "\n",
        "def añadir_precio(piso):\n",
        "    precio = (piso['metros'] * 1000 + piso['habitaciones'] * 5000 + int(piso['garaje']) * 15000) * (1 - (2020 - piso['año']) / 100)\n",
        "    if piso['zona'] == 'B':\n",
        "        precio *= 1.5\n",
        "    piso['precio'] = precio\n",
        "    return piso\n",
        "\n",
        "def busca_piso(pisos, presupuesto):\n",
        "    def filtro(piso):\n",
        "        return piso['precio'] <= presupuesto\n",
        "\n",
        "    return list(filter(filtro,map(añadir_precio, pisos)))\n",
        "\n",
        "print(busca_piso(pisos, 100000))"
      ],
      "execution_count": null,
      "outputs": []
    },
    {
      "cell_type": "code",
      "metadata": {
        "id": "3LrvAs-36Dip"
      },
      "source": [
        ""
      ],
      "execution_count": null,
      "outputs": []
    },
    {
      "cell_type": "markdown",
      "metadata": {
        "id": "wgo_2W4y6Dip"
      },
      "source": [
        "# Ejercicio 11"
      ]
    },
    {
      "cell_type": "markdown",
      "metadata": {
        "id": "3q5wiSTW6Dip"
      },
      "source": [
        "Escribir una función que reciba una muestra de números y devuelva los valores atípicos, es decir, los valores cuya puntuación típica sea mayor que 3 o menor que -3. \n",
        "\n",
        "**Nota**: La puntuación típica de un valor se obtiene restando la media y dividiendo por la desviación típica de la muestra."
      ]
    },
    {
      "cell_type": "code",
      "metadata": {
        "id": "7fZgv6-76Dip"
      },
      "source": [
        "# Solución\n",
        "from statistics import mean, stdev\n",
        "\n",
        "def atipico(muestra):\n",
        "    media = mean(muestra)\n",
        "    desviacion = stdev(muestra)\n",
        "    def f(n):\n",
        "        puntuacion = (n - media) / desviacion\n",
        "        return (puntuacion < -3) or (puntuacion > 3)\n",
        "    return f\n",
        "\n",
        "def datos_atipicos(muestra):\n",
        "    return list(filter(atipico(muestra), muestra))\n",
        "\n",
        "print(datos_atipicos([1, 2, 3, 4, 5, 6, 7, 8, 9, 10, 1000]))\n"
      ],
      "execution_count": null,
      "outputs": []
    },
    {
      "cell_type": "code",
      "metadata": {
        "id": "II8ClTNF6Dip"
      },
      "source": [
        ""
      ],
      "execution_count": null,
      "outputs": []
    }
  ]
}