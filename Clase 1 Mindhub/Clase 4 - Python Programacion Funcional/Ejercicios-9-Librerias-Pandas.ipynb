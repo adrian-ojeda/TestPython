{
 "cells": [
  {
   "cell_type": "markdown",
   "metadata": {},
   "source": [
    "# Ejercicios de la Librería Pandas"
   ]
  },
  {
   "cell_type": "markdown",
   "metadata": {},
   "source": [
    "## Ejercicio 1"
   ]
  },
  {
   "cell_type": "markdown",
   "metadata": {},
   "source": [
    "Escribir un programa que pregunte al usuario por las ventas de un rango de años y muestre por pantalla una serie con los datos de las ventas indexada por los años, antes y después de aplicarles un descuento del 10%."
   ]
  },
  {
   "cell_type": "code",
   "execution_count": null,
   "metadata": {},
   "outputs": [],
   "source": []
  },
  {
   "cell_type": "markdown",
   "metadata": {},
   "source": [
    "## Ejercicio 2"
   ]
  },
  {
   "cell_type": "markdown",
   "metadata": {},
   "source": [
    "Escribir una función que reciba una diccionario con las notas de los alumnos en curso en un examen y devuelva una serie con la nota mínima, la máxima, media y la desviación típica."
   ]
  },
  {
   "cell_type": "code",
   "execution_count": null,
   "metadata": {},
   "outputs": [],
   "source": []
  },
  {
   "cell_type": "markdown",
   "metadata": {},
   "source": [
    "## Ejercicio 3"
   ]
  },
  {
   "cell_type": "markdown",
   "metadata": {},
   "source": [
    "Escribir una función que reciba una diccionario con las notas de los alumnos en curso en un examen y devuelva una serie con las notas de los alumnos aprobados ordenadas de mayor a menor."
   ]
  },
  {
   "cell_type": "code",
   "execution_count": null,
   "metadata": {},
   "outputs": [],
   "source": []
  },
  {
   "cell_type": "markdown",
   "metadata": {},
   "source": [
    "## Ejercicio 4"
   ]
  },
  {
   "cell_type": "markdown",
   "metadata": {},
   "source": [
    "Escribir programa que genere y muestre por pantalla un DataFrame con los datos de la tabla siguiente:\n",
    "<table>\n",
    "<thead>\n",
    "<tr>\n",
    "<th>Mes</th>\n",
    "<th style=\"text-align:right\">Ventas</th>\n",
    "<th style=\"text-align:right\">Gastos</th>\n",
    "</tr>\n",
    "</thead>\n",
    "<tbody>\n",
    "<tr>\n",
    "<td>Enero</td>\n",
    "<td style=\"text-align:right\">30500</td>\n",
    "<td style=\"text-align:right\">22000</td>\n",
    "</tr>\n",
    "<tr>\n",
    "<td>Febrero</td>\n",
    "<td style=\"text-align:right\">35600</td>\n",
    "<td style=\"text-align:right\">23400</td>\n",
    "</tr>\n",
    "<tr>\n",
    "<td>Marzo</td>\n",
    "<td style=\"text-align:right\">28300</td>\n",
    "<td style=\"text-align:right\">18100</td>\n",
    "</tr>\n",
    "<tr>\n",
    "<td>Abril</td>\n",
    "<td style=\"text-align:right\">33900</td>\n",
    "<td style=\"text-align:right\">20700</td>\n",
    "</tr>\n",
    "</tbody>\n",
    "</table>"
   ]
  },
  {
   "cell_type": "code",
   "execution_count": null,
   "metadata": {},
   "outputs": [],
   "source": []
  },
  {
   "cell_type": "markdown",
   "metadata": {},
   "source": [
    "## Ejercicio 5"
   ]
  },
  {
   "cell_type": "markdown",
   "metadata": {},
   "source": [
    "Escribir una función que reciba un DataFrame con el formato del ejercicio anterior, una lista de meses, y devuelva el balance (ventas - gastos) total en los meses indicados."
   ]
  },
  {
   "cell_type": "code",
   "execution_count": null,
   "metadata": {},
   "outputs": [],
   "source": []
  },
  {
   "cell_type": "markdown",
   "metadata": {},
   "source": [
    "## Ejercicio 6"
   ]
  },
  {
   "cell_type": "markdown",
   "metadata": {},
   "source": [
    "El archivo <a href=\"https://drive.google.com/file/d/1V06-QPe36PIIMq0z6Nm8_02mHB1KX_Cu/view?usp=sharing\"> cotizacion.csv</a> contiene las cotizaciones de las empresas del IBEX35 con las siguientes columnas: <font color=#B40431>Nombre</font> (nombre de la empresa), <font color=#B40431>Final</font> (precio de la acción al cierre de bolsa), <font color=#B40431>Máximo</font> (precio máximo de la acción durante la jornada), <font color=#B40431>Mínimo</font> (precio mínimo de la acción durante la jornada), <font color=#B40431>Volumen</font> (Volumen al cierre de bolsa), <font color=#B40431>Efectivo</font> (capitalización al cierre en miles de euros). Construir una función que construya un DataFrame a partir del un archivo con el formato anterior y devuelva otro DataFrame con el mínimo, el máximo y la media de dada columna."
   ]
  },
  {
   "cell_type": "code",
   "execution_count": null,
   "metadata": {},
   "outputs": [],
   "source": []
  },
  {
   "cell_type": "markdown",
   "metadata": {},
   "source": [
    "## Ejercicio 7"
   ]
  },
  {
   "cell_type": "markdown",
   "metadata": {},
   "source": [
    "El fichero <a href=\"https://drive.google.com/file/d/17KGu5s3mCHLdrg3vuA6sqtLOKZEQYO7c/view?usp=sharing\">titanic.csv</a> contiene información sobre los pasajeros del Titanic. Escribir un programa con los siguientes requisitos:\n",
    "<ol>\n",
    "<li>Generar un DataFrame con los datos del archivo.</li>\n",
    "<li>Mostrar por pantalla las dimensiones del DataFrame, el número de datos que contiene, los nombres de sus columnas y filas, los tipos de datos de las columnas, las 10 primeras filas y las 10 últimas filas</li>\n",
    "<li>Mostrar por pantalla los datos del pasajero con identificador 148.</li>\n",
    "<li>Mostrar por pantalla las filas pares del DataFrame.</li>\n",
    "<li>Mostrar por pantalla los nombres de las personas que iban en primera clase ordenadas alfabéticamente.</li>\n",
    "<li>Mostrar por pantalla el porcentaje de personas que sobrevivieron y murieron.</li>\n",
    "<li>Mostrar por pantalla el porcentaje de personas que sobrevivieron en cada clase.</li>\n",
    "<li>Eliminar del DataFrame los pasajeros con edad desconocida.</li>\n",
    "<li>Mostrar por pantalla la edad media de las mujeres que viajaban en cada clase.</li>\n",
    "<li>Añadir una nueva columna booleana para ver si el pasajero era menor de edad o no.</li>\n",
    "<li>Mostrar por pantalla el porcentaje de menores y mayores de edad que sobrevivieron en cada clase.</li>\n",
    "</ol>"
   ]
  },
  {
   "cell_type": "code",
   "execution_count": null,
   "metadata": {},
   "outputs": [],
   "source": []
  },
  {
   "cell_type": "markdown",
   "metadata": {},
   "source": [
    "## Ejercicio 8"
   ]
  },
  {
   "cell_type": "markdown",
   "metadata": {},
   "source": [
    "Los archivos <a href=\"https://drive.google.com/file/d/1Ms2r2k6DscmL7ymRZp6bXk3Z-RWsqtjz/view?usp=sharing\">emisiones-2016.csv</a>, <a href=\"https://drive.google.com/file/d/1R5JLin8d2BhHFKSQhX2hP2bGPRCvR8Xj/view?usp=sharing\">emisiones-2017.csv</a>, <a href=\"https://drive.google.com/file/d/1qoB3OcPDUkerswT02uAvLshTT7J0qTWQ/view?usp=sharing\">emisiones-2018.csv</a> y <a href=\"https://drive.google.com/file/d/1pAbH8EwHm9KkUzyiy56auH0DvLT_DkAO/view?usp=sharing\">emisiones-2019.csv</a>, contienen datos sobre las emisiones contaminates en la Ciudad Autónoma de Buenos Aires en los años 2016, 2017, 2018 y 2019 respectivamente. Escribir un programa con los siguientes requisitos:\n",
    "<ol>\n",
    "<li>Generar un DataFrame con los datos de los cuatro archivos.</li>\n",
    "<li>Filtrar las columnas del DataFrame para quedarse con las columnas ESTACION, MAGNITUD, AÑO, MES y las correspondientes a los días D01, D02, etc.</li>\n",
    "<li>Reestructurar el DataFrame para que los valores de los contaminantes de las columnas de los días aparezcan en una única columna.</li>\n",
    "<li>Añadir una columna con la fecha a partir de la concatenación del año, el mes y el día (usar el módulo <font color=#B40431>datetime</font>).</li>\n",
    "<li>Eliminar las filas con fechas no válidas (utilizar la función <font color=#B40431>isnat</font> del módulo <font color=#B40431>numpy</font>) y ordenar el DataFrame por estaciones, contaminantes y fecha.</li>\n",
    "<li>Mostrar por pantalla las estaciones y los contaminantes disponibles en el DataFrame.</li>\n",
    "<li>Crear una función que reciba una estación, un contaminante y un rango de fechas y devuelva una serie con las emisiones del contaminante dado en la estación y rango de fechas dado.</li>\n",
    "<li>Mostrar un resumen descriptivo (mímino, máximo, media, etc) para cada contaminante.</li>\n",
    "<li>Mostrar un resumen descriptivo para cada contaminante por distritos.</li>\n",
    "<li>Crear una función que reciba una estación y un contaminante y devuelva un resumen descriptivo de las emisiones del contaminante indicado en la estadión indicada.</li>\n",
    "<li>Crear una función que devuelva las emisiones medias mensuales de un contaminante y un año dados para todos las estaciones.</li>\n",
    "<li>Crear un función que reciba una estación de medición y devuelva un DataFrame con las medias mensuales de los distintos tipos de contaminantes.</li>\n",
    "</ol>"
   ]
  },
  {
   "cell_type": "code",
   "execution_count": null,
   "metadata": {},
   "outputs": [],
   "source": []
  }
 ],
 "metadata": {
  "kernelspec": {
   "display_name": "Python 3",
   "language": "python",
   "name": "python3"
  },
  "language_info": {
   "codemirror_mode": {
    "name": "ipython",
    "version": 3
   },
   "file_extension": ".py",
   "mimetype": "text/x-python",
   "name": "python",
   "nbconvert_exporter": "python",
   "pygments_lexer": "ipython3",
   "version": "3.6.9"
  }
 },
 "nbformat": 4,
 "nbformat_minor": 2
}
