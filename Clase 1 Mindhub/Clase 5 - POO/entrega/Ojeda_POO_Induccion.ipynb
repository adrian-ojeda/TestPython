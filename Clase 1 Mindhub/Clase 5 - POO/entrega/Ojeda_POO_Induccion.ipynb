{
  "nbformat": 4,
  "nbformat_minor": 0,
  "metadata": {
    "colab": {
      "name": "Ojeda_POO_Induccion.ipynb",
      "provenance": [],
      "collapsed_sections": []
    },
    "kernelspec": {
      "name": "python3",
      "display_name": "Python 3"
    }
  },
  "cells": [
    {
      "cell_type": "code",
      "metadata": {
        "colab": {
          "base_uri": "https://localhost:8080/"
        },
        "id": "4oqp17JNRCwS",
        "outputId": "a6647192-6d54-45d2-bc87-ee2b3a50cce1"
      },
      "source": [
        "# Introducción POO Parte I\n",
        "\n",
        "lenguaje=\"Python\"\n",
        "print(type(lenguaje)) # class str=\"\""
      ],
      "execution_count": null,
      "outputs": [
        {
          "output_type": "stream",
          "text": [
            "<class 'str'>\n"
          ],
          "name": "stdout"
        }
      ]
    },
    {
      "cell_type": "code",
      "metadata": {
        "colab": {
          "base_uri": "https://localhost:8080/"
        },
        "id": "9L48jZ_eSQGT",
        "outputId": "2955b8b5-cb50-48eb-bfa5-727966851b2e"
      },
      "source": [
        "def mitad(x):\n",
        "    return x/2\n",
        "print(type(mitad)) # class function=\"\""
      ],
      "execution_count": null,
      "outputs": [
        {
          "output_type": "stream",
          "text": [
            "<class 'function'>\n"
          ],
          "name": "stdout"
        }
      ]
    },
    {
      "cell_type": "code",
      "metadata": {
        "colab": {
          "base_uri": "https://localhost:8080/"
        },
        "id": "W7epm04OSk5U",
        "outputId": "7bc325ab-8790-4553-e7df-343baf6159a9"
      },
      "source": [
        "valor=mitad(25)\n",
        "print(type(valor)) # class float=\"\""
      ],
      "execution_count": null,
      "outputs": [
        {
          "output_type": "stream",
          "text": [
            "<class 'float'>\n"
          ],
          "name": "stdout"
        }
      ]
    },
    {
      "cell_type": "code",
      "metadata": {
        "colab": {
          "base_uri": "https://localhost:8080/"
        },
        "id": "KIBRw3P6Svbf",
        "outputId": "d42eb4cf-1f30-4f06-c155-fbd09371f143"
      },
      "source": [
        "import os\n",
        "print(type(os)) # class module=\"\"\n"
      ],
      "execution_count": null,
      "outputs": [
        {
          "output_type": "stream",
          "text": [
            "<class 'module'>\n"
          ],
          "name": "stdout"
        }
      ]
    },
    {
      "cell_type": "code",
      "metadata": {
        "colab": {
          "base_uri": "https://localhost:8080/"
        },
        "id": "wxvlzHzZS2gQ",
        "outputId": "ffa0ca5a-f318-43c3-80e6-1ad987149034"
      },
      "source": [
        "lista=[1,2,3,4,5]\n",
        "print(type(lista)) # class list=\"\""
      ],
      "execution_count": null,
      "outputs": [
        {
          "output_type": "stream",
          "text": [
            "<class 'list'>\n"
          ],
          "name": "stdout"
        }
      ]
    },
    {
      "cell_type": "code",
      "metadata": {
        "colab": {
          "base_uri": "https://localhost:8080/"
        },
        "id": "90hg3C7QTBHP",
        "outputId": "2cbe7a36-9af1-4ae3-d8be-e506118f3e67"
      },
      "source": [
        "# Clases , atributos y métodos\n",
        "\n",
        "lista=[\"c\",\"a\",\"b\"] # Declara lista con tres elementos\n",
        "lista.append(\"d\") # Agrega elemento al final de lista con append()\n",
        "lista.pop() # Borra último elemento de la lista con método pop()\n",
        "lista.sort() # Ordena la lista con el método sort()\n",
        "print(lista)"
      ],
      "execution_count": null,
      "outputs": [
        {
          "output_type": "stream",
          "text": [
            "['a', 'b', 'c']\n"
          ],
          "name": "stdout"
        }
      ]
    },
    {
      "cell_type": "code",
      "metadata": {
        "id": "Kqig4VHjVE-4"
      },
      "source": [
        "# Crear clases\n",
        "\n",
        "class NombreClase:\n",
        "    \"\"\"Texto para documentar la clase(opcional)\"\"\"\n",
        "    varclase1=\"variable de clase 1\"\n",
        "\n",
        "    def nombremetodo1(self, var1):\n",
        "      self.var1=var1\n",
        "    def nombremetodo2(self):\n",
        "      self.var1 +=1\n"
      ],
      "execution_count": null,
      "outputs": []
    },
    {
      "cell_type": "code",
      "metadata": {
        "id": "UHC87mqIXZez"
      },
      "source": [
        "class Clase:\n",
        "    pass"
      ],
      "execution_count": null,
      "outputs": []
    },
    {
      "cell_type": "code",
      "metadata": {
        "colab": {
          "base_uri": "https://localhost:8080/"
        },
        "id": "aNSlloyBXd3k",
        "outputId": "bd74f3bf-ca4b-49d4-c7bb-4dfb66d60997"
      },
      "source": [
        "objeto1= Clase() # Crea objeto 1 de clase Clase\n",
        "objeto2= Clase() # Crea objeto 2 de clase Clase\n",
        "print(objeto1==objeto2) # Retorna False\n",
        "# Los objetos aunque sean de la misma clase son diferentes.\n"
      ],
      "execution_count": null,
      "outputs": [
        {
          "output_type": "stream",
          "text": [
            "False\n"
          ],
          "name": "stdout"
        }
      ]
    },
    {
      "cell_type": "code",
      "metadata": {
        "id": "Ius5fYhaX2aC"
      },
      "source": [
        "# Clase más completa\n",
        "\n",
        "class Alumno:\n",
        "    \"\"\"Clase para alumnos\"\"\"\n",
        "    numAlumnos= 0\n",
        "    sumaNotas= 0\n",
        "\n",
        "    def __init__(self,nombre,nota):\n",
        "        self.nombre= nombre\n",
        "        self.nota = nota\n",
        "        Alumno.numAlumnos +=1\n",
        "        Alumno.sumaNotas +=nota\n",
        "\n",
        "    def mostrarNombreNota(self):\n",
        "        return(self.nombre,self.nota)\n",
        "    \n",
        "    def mostrarNumAlumnos(self):\n",
        "        return(Alumno.numAlumnos)\n",
        "\n",
        "    def mostrarSumaNotas(self):\n",
        "        return(Alumno,sumaNotas)\n",
        "\n",
        "    def mostrarNotaMedia(self):\n",
        "        if Alumno.numAlumnos > 0:\n",
        "            return(Alumno.sumaNotas/Alumno.numAlumnos)\n",
        "        else:\n",
        "            return(\"Sin Alumnos\")\n",
        "            "
      ],
      "execution_count": null,
      "outputs": []
    },
    {
      "cell_type": "code",
      "metadata": {
        "id": "bkAKvTjlbquN"
      },
      "source": [
        "# Crear objetos (instancias) de una clase\n",
        "\n",
        "alumno1 = Alumno(\"Maria\",8)\n",
        "alumno2 = Alumno(\"Carlos\",6)"
      ],
      "execution_count": null,
      "outputs": []
    },
    {
      "cell_type": "code",
      "metadata": {
        "colab": {
          "base_uri": "https://localhost:8080/"
        },
        "id": "PPHl2Nued-04",
        "outputId": "a8a5a1fe-8e82-4659-eca1-e7102f38f0e5"
      },
      "source": [
        "# Accediendo a los atributos y llamando a los métodos\n",
        "\n",
        "print(alumno1.nombre) # Maria\n",
        "print(alumno1.nota) # 8"
      ],
      "execution_count": null,
      "outputs": [
        {
          "output_type": "stream",
          "text": [
            "Maria\n",
            "8\n"
          ],
          "name": "stdout"
        }
      ]
    },
    {
      "cell_type": "code",
      "metadata": {
        "colab": {
          "base_uri": "https://localhost:8080/"
        },
        "id": "twDm6JMzedNv",
        "outputId": "73ded6c0-ae0d-4156-f878-f87bfc9e04fd"
      },
      "source": [
        "alumno1.nombre = \"Carmela\"\n",
        "print(alumno1.nombre)"
      ],
      "execution_count": null,
      "outputs": [
        {
          "output_type": "stream",
          "text": [
            "Carmela\n"
          ],
          "name": "stdout"
        }
      ]
    },
    {
      "cell_type": "code",
      "metadata": {
        "colab": {
          "base_uri": "https://localhost:8080/"
        },
        "id": "IqX6xfyYeowx",
        "outputId": "20e54ee0-f4f9-4a3e-f881-6f3e747a8bf1"
      },
      "source": [
        "print(Alumno.numAlumnos) # 2\n",
        "print(Alumno.sumaNotas) # 14"
      ],
      "execution_count": null,
      "outputs": [
        {
          "output_type": "stream",
          "text": [
            "2\n",
            "14\n"
          ],
          "name": "stdout"
        }
      ]
    },
    {
      "cell_type": "code",
      "metadata": {
        "colab": {
          "base_uri": "https://localhost:8080/"
        },
        "id": "ld771ppFfCY3",
        "outputId": "8011c266-1c83-4050-dc7e-0ca1e615fccf"
      },
      "source": [
        "print(alumno1.mostrarNombreNota()) #(\"Carmela\",8)\n",
        "print(alumno2.mostrarNombreNota()) #(\"Carlos\",6)"
      ],
      "execution_count": null,
      "outputs": [
        {
          "output_type": "stream",
          "text": [
            "('Carmela', 8)\n",
            "('Carlos', 6)\n"
          ],
          "name": "stdout"
        }
      ]
    },
    {
      "cell_type": "code",
      "metadata": {
        "colab": {
          "base_uri": "https://localhost:8080/",
          "height": 299
        },
        "id": "MtSp4EQMflyb",
        "outputId": "4d678723-2ae6-4841-a64f-b95b35821967"
      },
      "source": [
        "del alumno1.nombre\n",
        "print(alumno1.mostrarNombreNota())"
      ],
      "execution_count": null,
      "outputs": [
        {
          "output_type": "error",
          "ename": "AttributeError",
          "evalue": "ignored",
          "traceback": [
            "\u001b[0;31m---------------------------------------------------------------------------\u001b[0m",
            "\u001b[0;31mAttributeError\u001b[0m                            Traceback (most recent call last)",
            "\u001b[0;32m<ipython-input-21-92ecfc5b25bb>\u001b[0m in \u001b[0;36m<module>\u001b[0;34m()\u001b[0m\n\u001b[1;32m      1\u001b[0m \u001b[0;32mdel\u001b[0m \u001b[0malumno1\u001b[0m\u001b[0;34m.\u001b[0m\u001b[0mnombre\u001b[0m\u001b[0;34m\u001b[0m\u001b[0;34m\u001b[0m\u001b[0m\n\u001b[0;32m----> 2\u001b[0;31m \u001b[0mprint\u001b[0m\u001b[0;34m(\u001b[0m\u001b[0malumno1\u001b[0m\u001b[0;34m.\u001b[0m\u001b[0mmostrarNombreNota\u001b[0m\u001b[0;34m(\u001b[0m\u001b[0;34m)\u001b[0m\u001b[0;34m)\u001b[0m\u001b[0;34m\u001b[0m\u001b[0;34m\u001b[0m\u001b[0m\n\u001b[0m",
            "\u001b[0;32m<ipython-input-14-d08c1bc1447d>\u001b[0m in \u001b[0;36mmostrarNombreNota\u001b[0;34m(self)\u001b[0m\n\u001b[1;32m     13\u001b[0m \u001b[0;34m\u001b[0m\u001b[0m\n\u001b[1;32m     14\u001b[0m     \u001b[0;32mdef\u001b[0m \u001b[0mmostrarNombreNota\u001b[0m\u001b[0;34m(\u001b[0m\u001b[0mself\u001b[0m\u001b[0;34m)\u001b[0m\u001b[0;34m:\u001b[0m\u001b[0;34m\u001b[0m\u001b[0;34m\u001b[0m\u001b[0m\n\u001b[0;32m---> 15\u001b[0;31m         \u001b[0;32mreturn\u001b[0m\u001b[0;34m(\u001b[0m\u001b[0mself\u001b[0m\u001b[0;34m.\u001b[0m\u001b[0mnombre\u001b[0m\u001b[0;34m,\u001b[0m\u001b[0mself\u001b[0m\u001b[0;34m.\u001b[0m\u001b[0mnota\u001b[0m\u001b[0;34m)\u001b[0m\u001b[0;34m\u001b[0m\u001b[0;34m\u001b[0m\u001b[0m\n\u001b[0m\u001b[1;32m     16\u001b[0m \u001b[0;34m\u001b[0m\u001b[0m\n\u001b[1;32m     17\u001b[0m     \u001b[0;32mdef\u001b[0m \u001b[0mmostrarNumAlumnos\u001b[0m\u001b[0;34m(\u001b[0m\u001b[0mself\u001b[0m\u001b[0;34m)\u001b[0m\u001b[0;34m:\u001b[0m\u001b[0;34m\u001b[0m\u001b[0;34m\u001b[0m\u001b[0m\n",
            "\u001b[0;31mAttributeError\u001b[0m: 'Alumno' object has no attribute 'nombre'"
          ]
        }
      ]
    },
    {
      "cell_type": "code",
      "metadata": {
        "colab": {
          "base_uri": "https://localhost:8080/"
        },
        "id": "F9LkkmsPgPyH",
        "outputId": "6676d2ed-ac7f-4340-8466-0f48211991b5"
      },
      "source": [
        "# Introducción POO Parte II\n",
        "\n",
        "# getattr()\n",
        "\n",
        "nota_alumno2= getattr(alumno2, \"nota\", 0)\n",
        "edad_alumno2 = getattr(alumno2, \"edad\", 0)\n",
        "suma_notas= getattr(Alumno, \"sumaNotas\")\n",
        "print(nota_alumno2) # 6\n",
        "print(edad_alumno2) # 0\n",
        "print(suma_notas) # 14"
      ],
      "execution_count": null,
      "outputs": [
        {
          "output_type": "stream",
          "text": [
            "6\n",
            "0\n",
            "14\n"
          ],
          "name": "stdout"
        }
      ]
    },
    {
      "cell_type": "code",
      "metadata": {
        "colab": {
          "base_uri": "https://localhost:8080/"
        },
        "id": "KXmwiwcHhtEh",
        "outputId": "9e8e9ec8-5d59-4cf0-8637-f60a272bc401"
      },
      "source": [
        "# hasattr()\n",
        "\n",
        "if not hasattr(alumno2, \"edad\"):\n",
        "    print(\"El atributo edad no existe\")"
      ],
      "execution_count": null,
      "outputs": [
        {
          "output_type": "stream",
          "text": [
            "El atributo edad no existe\n"
          ],
          "name": "stdout"
        }
      ]
    },
    {
      "cell_type": "code",
      "metadata": {
        "colab": {
          "base_uri": "https://localhost:8080/"
        },
        "id": "DjkhjWSiiHs1",
        "outputId": "da9dd5ff-84d1-4cad-d43c-f3a7bf9c57f2"
      },
      "source": [
        "#setattr()\n",
        "\n",
        "setattr(alumno2,\"edad\", 18)\n",
        "print(alumno2.edad) # 18\n"
      ],
      "execution_count": null,
      "outputs": [
        {
          "output_type": "stream",
          "text": [
            "18\n"
          ],
          "name": "stdout"
        }
      ]
    },
    {
      "cell_type": "code",
      "metadata": {
        "colab": {
          "base_uri": "https://localhost:8080/",
          "height": 197
        },
        "id": "bykOJXafirpE",
        "outputId": "7be68fd5-3a58-4eb2-9f66-da03ab684982"
      },
      "source": [
        "# delattr()\n",
        "\n",
        "delattr(alumno2, \"edad\")\n",
        "delattr(alumno2, \"curso\")"
      ],
      "execution_count": null,
      "outputs": [
        {
          "output_type": "error",
          "ename": "AttributeError",
          "evalue": "ignored",
          "traceback": [
            "\u001b[0;31m---------------------------------------------------------------------------\u001b[0m",
            "\u001b[0;31mAttributeError\u001b[0m                            Traceback (most recent call last)",
            "\u001b[0;32m<ipython-input-30-90ea28dc3fa4>\u001b[0m in \u001b[0;36m<module>\u001b[0;34m()\u001b[0m\n\u001b[1;32m      2\u001b[0m \u001b[0;34m\u001b[0m\u001b[0m\n\u001b[1;32m      3\u001b[0m \u001b[0mdelattr\u001b[0m\u001b[0;34m(\u001b[0m\u001b[0malumno2\u001b[0m\u001b[0;34m,\u001b[0m \u001b[0;34m\"edad\"\u001b[0m\u001b[0;34m)\u001b[0m\u001b[0;34m\u001b[0m\u001b[0;34m\u001b[0m\u001b[0m\n\u001b[0;32m----> 4\u001b[0;31m \u001b[0mdelattr\u001b[0m\u001b[0;34m(\u001b[0m\u001b[0malumno2\u001b[0m\u001b[0;34m,\u001b[0m \u001b[0;34m\"curso\"\u001b[0m\u001b[0;34m)\u001b[0m\u001b[0;34m\u001b[0m\u001b[0;34m\u001b[0m\u001b[0m\n\u001b[0m",
            "\u001b[0;31mAttributeError\u001b[0m: curso"
          ]
        }
      ]
    },
    {
      "cell_type": "code",
      "metadata": {
        "colab": {
          "base_uri": "https://localhost:8080/"
        },
        "id": "8bTisHXAi2_b",
        "outputId": "704f6f1f-82e4-4520-d158-3a27fd763224"
      },
      "source": [
        "# Atributos de clase (Built-In)\n",
        "\n",
        "print(Alumno.__dict__)"
      ],
      "execution_count": null,
      "outputs": [
        {
          "output_type": "stream",
          "text": [
            "{'__module__': '__main__', '__doc__': 'Clase para alumnos', 'numAlumnos': 2, 'sumaNotas': 14, '__init__': <function Alumno.__init__ at 0x7f3a7f7d97b8>, 'mostrarNombreNota': <function Alumno.mostrarNombreNota at 0x7f3a7f7d9d08>, 'mostrarNumAlumnos': <function Alumno.mostrarNumAlumnos at 0x7f3a7f7d9598>, 'mostrarSumaNotas': <function Alumno.mostrarSumaNotas at 0x7f3a7f7d9950>, 'mostrarNotaMedia': <function Alumno.mostrarNotaMedia at 0x7f3a7f7d9620>, '__dict__': <attribute '__dict__' of 'Alumno' objects>, '__weakref__': <attribute '__weakref__' of 'Alumno' objects>}\n"
          ],
          "name": "stdout"
        }
      ]
    },
    {
      "cell_type": "code",
      "metadata": {
        "colab": {
          "base_uri": "https://localhost:8080/"
        },
        "id": "inM47TBmjQNA",
        "outputId": "e74ca0ac-c5a2-4a68-8994-c3754e2ba211"
      },
      "source": [
        "print(alumno2.__dict__)"
      ],
      "execution_count": null,
      "outputs": [
        {
          "output_type": "stream",
          "text": [
            "{'nombre': 'Carlos', 'nota': 6}\n"
          ],
          "name": "stdout"
        }
      ]
    },
    {
      "cell_type": "code",
      "metadata": {
        "colab": {
          "base_uri": "https://localhost:8080/"
        },
        "id": "bE4Xl4cajcDX",
        "outputId": "1c5a9c8f-62c1-4bd8-dedc-91a08c734aca"
      },
      "source": [
        "print(Alumno.__name__)"
      ],
      "execution_count": null,
      "outputs": [
        {
          "output_type": "stream",
          "text": [
            "Alumno\n"
          ],
          "name": "stdout"
        }
      ]
    },
    {
      "cell_type": "code",
      "metadata": {
        "colab": {
          "base_uri": "https://localhost:8080/"
        },
        "id": "Tiy7SiQhjge8",
        "outputId": "03de213e-97d2-4924-e06a-a0b75b28e525"
      },
      "source": [
        "print(Alumno.__doc__)"
      ],
      "execution_count": null,
      "outputs": [
        {
          "output_type": "stream",
          "text": [
            "Clase para alumnos\n"
          ],
          "name": "stdout"
        }
      ]
    },
    {
      "cell_type": "code",
      "metadata": {
        "colab": {
          "base_uri": "https://localhost:8080/"
        },
        "id": "EarKhl18jlxy",
        "outputId": "28ceffa0-0caf-4eef-857d-8105479dbe81"
      },
      "source": [
        "print(Alumno.__module__)"
      ],
      "execution_count": null,
      "outputs": [
        {
          "output_type": "stream",
          "text": [
            "__main__\n"
          ],
          "name": "stdout"
        }
      ]
    },
    {
      "cell_type": "code",
      "metadata": {
        "colab": {
          "base_uri": "https://localhost:8080/"
        },
        "id": "FQnH5IcEjrJZ",
        "outputId": "55dc9cc8-dbcb-4f7e-c432-950c807d5671"
      },
      "source": [
        "from datetime import date\n",
        "print(date.__module__)"
      ],
      "execution_count": null,
      "outputs": [
        {
          "output_type": "stream",
          "text": [
            "datetime\n"
          ],
          "name": "stdout"
        }
      ]
    },
    {
      "cell_type": "code",
      "metadata": {
        "colab": {
          "base_uri": "https://localhost:8080/"
        },
        "id": "Ym724Nm_jyDj",
        "outputId": "ee5c97b2-2284-41fa-d347-a9cf4bee16dc"
      },
      "source": [
        "print(Alumno.__bases__)"
      ],
      "execution_count": null,
      "outputs": [
        {
          "output_type": "stream",
          "text": [
            "(<class 'object'>,)\n"
          ],
          "name": "stdout"
        }
      ]
    },
    {
      "cell_type": "code",
      "metadata": {
        "colab": {
          "base_uri": "https://localhost:8080/"
        },
        "id": "bRc-HfyEkCFW",
        "outputId": "95f2da49-7d0f-4524-d9b8-1f931938315f"
      },
      "source": [
        "class Becario(Alumno):\n",
        "    pass\n",
        "\n",
        "print(Becario.__bases__)"
      ],
      "execution_count": null,
      "outputs": [
        {
          "output_type": "stream",
          "text": [
            "(<class '__main__.Alumno'>,)\n"
          ],
          "name": "stdout"
        }
      ]
    },
    {
      "cell_type": "code",
      "metadata": {
        "colab": {
          "base_uri": "https://localhost:8080/"
        },
        "id": "cljK2QE8kavg",
        "outputId": "cb28a45f-c5b2-4064-ad96-b55ada34047c"
      },
      "source": [
        "# Destrucción de objetos(Garbage Collection)\n",
        "\n",
        "class Robot:\n",
        "  \"\"\"Clase Robot\"\"\"\n",
        "  def __init__(self,nombre):\n",
        "      self.nombre= nombre\n",
        "\n",
        "  def saludo(self):\n",
        "      print(\"Hola, mi nombre es\", self.nombre)\n",
        "    \n",
        "  def __del__(self):\n",
        "      print(\"Se han terminado mis baterías. Me voy a dormir.\")\n",
        "\n",
        "robot1 = Robot(\"C7PQ\")\n",
        "robot1.saludo() # Hola, mi nombre es C7PQ\n",
        "print(id(robot1)) # Muestra el ID del objeto, Ejem:3070861004\n",
        "del robot1 # Se han terminado mis baterías. Me voy a dormir.\n",
        "    "
      ],
      "execution_count": null,
      "outputs": [
        {
          "output_type": "stream",
          "text": [
            "Hola, mi nombre es C7PQ\n",
            "139889222209264\n",
            "Se han terminado mis baterías. Me voy a dormir.\n"
          ],
          "name": "stdout"
        }
      ]
    },
    {
      "cell_type": "code",
      "metadata": {
        "colab": {
          "base_uri": "https://localhost:8080/",
          "height": 197
        },
        "id": "TT3ggRxXmn4I",
        "outputId": "1166789d-fc6f-4932-a4e4-c7ee18f71ee3"
      },
      "source": [
        "print(id(robot1))\n",
        "robot1.saludo()\n",
        "print(robot1.nombre)"
      ],
      "execution_count": null,
      "outputs": [
        {
          "output_type": "error",
          "ename": "NameError",
          "evalue": "ignored",
          "traceback": [
            "\u001b[0;31m---------------------------------------------------------------------------\u001b[0m",
            "\u001b[0;31mNameError\u001b[0m                                 Traceback (most recent call last)",
            "\u001b[0;32m<ipython-input-44-b474f1623a62>\u001b[0m in \u001b[0;36m<module>\u001b[0;34m()\u001b[0m\n\u001b[0;32m----> 1\u001b[0;31m \u001b[0mprint\u001b[0m\u001b[0;34m(\u001b[0m\u001b[0mid\u001b[0m\u001b[0;34m(\u001b[0m\u001b[0mrobot1\u001b[0m\u001b[0;34m)\u001b[0m\u001b[0;34m)\u001b[0m\u001b[0;34m\u001b[0m\u001b[0;34m\u001b[0m\u001b[0m\n\u001b[0m\u001b[1;32m      2\u001b[0m \u001b[0mrobot1\u001b[0m\u001b[0;34m.\u001b[0m\u001b[0msaludo\u001b[0m\u001b[0;34m(\u001b[0m\u001b[0;34m)\u001b[0m\u001b[0;34m\u001b[0m\u001b[0;34m\u001b[0m\u001b[0m\n\u001b[1;32m      3\u001b[0m \u001b[0mprint\u001b[0m\u001b[0;34m(\u001b[0m\u001b[0mrobot1\u001b[0m\u001b[0;34m.\u001b[0m\u001b[0mnombre\u001b[0m\u001b[0;34m)\u001b[0m\u001b[0;34m\u001b[0m\u001b[0;34m\u001b[0m\u001b[0m\n",
            "\u001b[0;31mNameError\u001b[0m: name 'robot1' is not defined"
          ]
        }
      ]
    },
    {
      "cell_type": "code",
      "metadata": {
        "colab": {
          "base_uri": "https://localhost:8080/"
        },
        "id": "QM4YzoK4oOZj",
        "outputId": "7fcca9c2-fc8a-4472-cc6c-4fbff6d1c0d0"
      },
      "source": [
        "# Herencia\n",
        "\n",
        "class volumen:\n",
        "    \"\"\"Clase para controlar el volumen de un reproductor multimedia\"\"\"\n",
        "    def __init__(self): # método constructor de objeto. Activa volumen\n",
        "        self.nivel = 3  # sitúa el nivel de volumen en 3\n",
        "        print(\"nivel\", self.__class__.__name__, self.nivel)\n",
        "\n",
        "    def subir(self):  # método para subir el nivel del volúmen de 1 en 1\n",
        "        self.nivel +=1\n",
        "        if self.nivel > 10: # al intentar sobrepasar el nivel 10\n",
        "            self.nivel = 10 # el nivel permance en 10\n",
        "\n",
        "        print(\"nivel\", self.__class__.__name__, self.nivel)\n",
        "\n",
        "    def bajar(self):  # método para bajar el nivel de 1 en 1\n",
        "        self.nivel -= 1\n",
        "        if self.nivel < 0: # al intentar bajar por debajo del nivel 0\n",
        "            self.nivel = 0 # el nivel permanece en 0\n",
        "\n",
        "        print(\"nivel\", self.__class__.__name__, self.nivel)\n",
        "\n",
        "    def silenciar(self):  # método para silenciar\n",
        "        self.nivel= 0  # el nivel se sitúa en 0\n",
        "        print(\"nivel\",self.__class__.__name__, self.nivel)\n",
        "\n",
        "class graves(volumen):  # crea clase graves a prtir de clase volumen\n",
        "    pass\n",
        "\n",
        "ControlVolumen = volumen()  # crea objeto y activa el volumen en 3\n",
        "ControlVolumen.subir()  # sube el volumen del nivel 3 al 4\n",
        "ControlVolumen.bajar()  # baja el volumen del nivel 4 al 3\n",
        "ControlVolumen.silenciar() # silencia volumen bahando del 3 al 0\n",
        "\n",
        "ControlGraves = graves() # crea el objeto control graves, activa nivel 3\n",
        "del ControlVolumen  # borra el objeto\n",
        "del ControlGraves # borra el objeto  \n"
      ],
      "execution_count": null,
      "outputs": [
        {
          "output_type": "stream",
          "text": [
            "nivel volumen 3\n",
            "nivel volumen 4\n",
            "nivel volumen 3\n",
            "nivel volumen 0\n",
            "nivel graves 3\n"
          ],
          "name": "stdout"
        }
      ]
    },
    {
      "cell_type": "code",
      "metadata": {
        "colab": {
          "base_uri": "https://localhost:8080/"
        },
        "id": "bEcmoUm4uulG",
        "outputId": "4f75ea80-136d-4a69-caf7-daa9fc53b0cf"
      },
      "source": [
        "# Herencia múltiple\n",
        "\n",
        "class Telefono:\n",
        "  \"\"\"Clase teléfono\"\"\"\n",
        "  def __init__(self):\n",
        "      pass\n",
        "  def telefonear(self):\n",
        "      print(\"llamando...\")\n",
        "  def colgar(self):\n",
        "      print(\"colgando.\")\n",
        "\n",
        "class Camara:\n",
        "  \"\"\"Clase cámara fotográfica\"\"\"\n",
        "  def __init__(self):\n",
        "        pass\n",
        "  def fotografiar(self):\n",
        "        print(\"fotografiando...\")\n",
        "\n",
        "class Reproductor:\n",
        "  \"\"\"Clase Reproductor Mp3\"\"\"\n",
        "  def __init__(self):\n",
        "        pass\n",
        "  def reproducirMp3(self):\n",
        "        print(\"reproduciendo mp3...\")\n",
        "  def reproducirVideo(self):\n",
        "        print(\"reproduciendo video...\")\n",
        "\n",
        "class Movil(Telefono, Camara , Reproductor):\n",
        "  def __del__(self):\n",
        "        print(\"Móvil apagado\")\n",
        "\n",
        "movil1 = Movil()\n",
        "print(dir(movil1))\n",
        "movil1.reproducirMp3()\n",
        "movil1.telefonear()\n",
        "movil1.fotografiar()\n",
        "del movil1\n",
        " "
      ],
      "execution_count": null,
      "outputs": [
        {
          "output_type": "stream",
          "text": [
            "['__class__', '__del__', '__delattr__', '__dict__', '__dir__', '__doc__', '__eq__', '__format__', '__ge__', '__getattribute__', '__gt__', '__hash__', '__init__', '__init_subclass__', '__le__', '__lt__', '__module__', '__ne__', '__new__', '__reduce__', '__reduce_ex__', '__repr__', '__setattr__', '__sizeof__', '__str__', '__subclasshook__', '__weakref__', 'colgar', 'fotografiar', 'reproducirMp3', 'reproducirVideo', 'telefonear']\n",
            "reproduciendo mp3...\n",
            "llamando...\n",
            "fotografiando...\n",
            "Móvil apagado\n"
          ],
          "name": "stdout"
        }
      ]
    },
    {
      "cell_type": "code",
      "metadata": {
        "colab": {
          "base_uri": "https://localhost:8080/"
        },
        "id": "FXhclsnMx1Zn",
        "outputId": "82ba6009-0f95-4f86-8596-3911389aa9d7"
      },
      "source": [
        "# Funciones issubclass() y isinstance()\n",
        "\n",
        "print(issubclass(Movil,Telefono)) # True"
      ],
      "execution_count": null,
      "outputs": [
        {
          "output_type": "stream",
          "text": [
            "True\n"
          ],
          "name": "stdout"
        }
      ]
    },
    {
      "cell_type": "code",
      "metadata": {
        "colab": {
          "base_uri": "https://localhost:8080/"
        },
        "id": "wkXTk1_MyQgR",
        "outputId": "6b9a11a5-88ca-4936-da66-3b5272e379e8"
      },
      "source": [
        "print(issubclass(Movil, Reproductor)) # True"
      ],
      "execution_count": null,
      "outputs": [
        {
          "output_type": "stream",
          "text": [
            "True\n"
          ],
          "name": "stdout"
        }
      ]
    },
    {
      "cell_type": "code",
      "metadata": {
        "colab": {
          "base_uri": "https://localhost:8080/"
        },
        "id": "krtZvZrLygph",
        "outputId": "c3e38dc0-74c2-400f-f8bd-0e3df0a836bd"
      },
      "source": [
        "movil2= Movil()\n",
        "\n",
        "print(isinstance(movil2, Movil)) # True\n",
        "print(isinstance(movil2 , Camara)) # True"
      ],
      "execution_count": null,
      "outputs": [
        {
          "output_type": "stream",
          "text": [
            "True\n",
            "True\n"
          ],
          "name": "stdout"
        }
      ]
    },
    {
      "cell_type": "code",
      "metadata": {
        "colab": {
          "base_uri": "https://localhost:8080/"
        },
        "id": "X58gIQMIgaqe",
        "outputId": "e73dfb95-7cd3-4d3f-9011-bb5a3f8fc5c5"
      },
      "source": [
        "# Inducción POO III\n",
        "\n",
        "\n",
        "# Polimorfismo: Sobrecarga de Métodos (Overriding Methods)\n",
        "\n",
        "class Telefono:\n",
        "  \"\"\"Clase teléfono\"\"\"\n",
        "  def __init__(self):\n",
        "      pass\n",
        "  def telefonear(self):\n",
        "      print(\"llamando...\")\n",
        "  def colgar(self):\n",
        "      print(\"colgando.\")\n",
        "\n",
        "class Camara:\n",
        "  \"\"\"Clase cámara fotográfica\"\"\"\n",
        "  def __init__(self):\n",
        "        pass\n",
        "  def fotografiar(self):\n",
        "        print(\"fotografiando...\")\n",
        "\n",
        "class Reproductor:\n",
        "  \"\"\"Clase Reproductor Mp3\"\"\"\n",
        "  def __init__(self):\n",
        "        pass\n",
        "  def reproducirMp3(self):\n",
        "        print(\"reproduciendo mp3...\")\n",
        "  def reproducirVideo(self):\n",
        "        print(\"reproduciendo video...\")\n",
        "\n",
        "class Movil(Telefono, Camara, Reproductor):\n",
        "  def __init__(self):\n",
        "      print(\"Móvil encendido\")\n",
        "  def reproducirmp3(self):\n",
        "      print(\"Reproduciendo lista mp3\")\n",
        "  def __del__(self):\n",
        "      (\"Movil apagado\")\n",
        "\n",
        "movil3=Movil()  # Móvil encendido\n",
        "movil3.reproducirmp3() # Reproduciendo lista mp3\n",
        "del movil3 # Móvil apagado\n",
        "\n"
      ],
      "execution_count": 4,
      "outputs": [
        {
          "output_type": "stream",
          "text": [
            "Móvil encendido\n",
            "Reproduciendo lista mp3\n"
          ],
          "name": "stdout"
        }
      ]
    },
    {
      "cell_type": "code",
      "metadata": {
        "colab": {
          "base_uri": "https://localhost:8080/"
        },
        "id": "XNtDpQOcj3k9",
        "outputId": "89a74a01-92e3-440e-a7af-2c1c7514aad9"
      },
      "source": [
        "# Polimorfismo: Sobrecarga de Operadores (Overloading Operators)\n",
        "\n",
        "class Punto:\n",
        "    def __init__(self,x=0,y=0):\n",
        "        self.x = x\n",
        "        self.y = y\n",
        "\n",
        "    def __add__(self,other):\n",
        "        x=self.x + other.x\n",
        "        y=self.y + other.y\n",
        "        return x,y\n",
        "\n",
        "punto1 = Punto(4,6)\n",
        "punto2 = Punto(1,-2)\n",
        "print(punto1 + punto2) #(5,4)\n"
      ],
      "execution_count": 10,
      "outputs": [
        {
          "output_type": "stream",
          "text": [
            "(5, 4)\n"
          ],
          "name": "stdout"
        }
      ]
    },
    {
      "cell_type": "code",
      "metadata": {
        "colab": {
          "base_uri": "https://localhost:8080/"
        },
        "id": "tFSIrEsa1Lz7",
        "outputId": "1119ab0c-7663-452a-d5c7-b6cc1c84c8a8"
      },
      "source": [
        "# Ocultamiento de datos (Encapsulamiento)\n",
        "\n",
        "class Factura:\n",
        "    __tasa=19\n",
        "\n",
        "    def __init__(self, unidad, precio):\n",
        "        self.unidad=unidad\n",
        "        self.precio=precio\n",
        "    def a_pagar(self):\n",
        "        total=self.unidad * self.precio\n",
        "        impuesto = total * Factura.__tasa / 100\n",
        "        return(total + impuesto)\n",
        "\n",
        "compra1 = Factura(12, 110)\n",
        "\n",
        "print(compra1._Factura__tasa)\n",
        "print(compra1.unidad)\n",
        "print(compra1.precio)\n",
        "print(compra1.a_pagar(), \"euros\")\n"
      ],
      "execution_count": 17,
      "outputs": [
        {
          "output_type": "stream",
          "text": [
            "19\n",
            "12\n",
            "110\n",
            "1570.8 euros\n"
          ],
          "name": "stdout"
        }
      ]
    },
    {
      "cell_type": "code",
      "metadata": {
        "colab": {
          "base_uri": "https://localhost:8080/"
        },
        "id": "g9zMLcF62n2K",
        "outputId": "ccbe8345-e834-49b8-bd71-d34b5c479658"
      },
      "source": [
        "# Propiedades (properties)\n",
        "\n",
        "class Empleado:\n",
        "    def __init__(self,nombre,salario):\n",
        "        self.__nombre=nombre\n",
        "        self.__salario=salario\n",
        "    def getnombre(self):\n",
        "        return self.__nombre\n",
        "    def getsalario(self):\n",
        "        return self.__salario\n",
        "    def setnombre(self,nombre):\n",
        "        self.__nombre=nombre\n",
        "    def setsalario(self,salario):\n",
        "        self.__salario=salario\n",
        "    def delnombre(self):\n",
        "        del self.__nombre\n",
        "    def delsalario(self):\n",
        "        del self.__salario\n",
        "\n",
        "empleado1= Empleado(\"Francisco\", 30000)\n",
        "print(empleado1.getnombre())\n",
        "empleado1.setnombre(\"Francisco José\")\n",
        "print(empleado1.getnombre(),\",\",empleado1.getsalario())\n"
      ],
      "execution_count": 24,
      "outputs": [
        {
          "output_type": "stream",
          "text": [
            "Francisco\n",
            "Francisco José , 30000\n"
          ],
          "name": "stdout"
        }
      ]
    },
    {
      "cell_type": "code",
      "metadata": {
        "colab": {
          "base_uri": "https://localhost:8080/"
        },
        "id": "EPHnnRUr_7n0",
        "outputId": "0896ccab-421b-41e3-cfa7-f3146b7edf8c"
      },
      "source": [
        "class Empleado():\n",
        "    def __init__(self,nombre,salario):\n",
        "        self.__nombre = nombre\n",
        "        self.__salario = salario\n",
        "\n",
        "    def __getnombre(self):\n",
        "        return self.__nombre\n",
        "    def __getsalario(self):\n",
        "        return self.__salario\n",
        "    def __setnombre(self,nombre):\n",
        "        self.__nombre=nombre\n",
        "    def __setsalario(self,salario):\n",
        "        self.__salario=salario\n",
        "    def __delnombre(self):\n",
        "        del self.__nombre\n",
        "    def __delsalario(self):\n",
        "        del self.__salario\n",
        "\n",
        "    nombre= property(fget = __getnombre,\n",
        "                     fset = __setnombre,\n",
        "                     fdel = __delnombre,\n",
        "                     doc= \"Soy la propiedad ´nombre´ \")\n",
        "    salario= property(fget= __getsalario,\n",
        "                      doc= \"Soy la propiedad ´salario´\")\n",
        "  \n",
        "empleado1 = Empleado(\"Francisco José\", 30000)\n",
        "empleado1.nombre=\"Rosa\" # Realiza una llamada al método \"fset\"\n",
        "print(empleado1.nombre,\n",
        "      empleado1.salario) # Realiza una llamada al método \"fget\"\n",
        "       "
      ],
      "execution_count": 29,
      "outputs": [
        {
          "output_type": "stream",
          "text": [
            "Rosa 30000\n"
          ],
          "name": "stdout"
        }
      ]
    },
    {
      "cell_type": "code",
      "metadata": {
        "id": "Xxy2nyYRhWT2"
      },
      "source": [
        "empleado1.salario=33000"
      ],
      "execution_count": null,
      "outputs": []
    },
    {
      "cell_type": "code",
      "metadata": {
        "colab": {
          "base_uri": "https://localhost:8080/"
        },
        "id": "01SNP9fThq4w",
        "outputId": "49351e17-9a7d-49ba-e583-980f4b69665b"
      },
      "source": [
        "help(empleado1)\n",
        "\n",
        "\n",
        "\n"
      ],
      "execution_count": 33,
      "outputs": [
        {
          "output_type": "stream",
          "text": [
            "Help on Empleado in module __main__ object:\n",
            "\n",
            "class Empleado(builtins.object)\n",
            " |  Methods defined here:\n",
            " |  \n",
            " |  __init__(self, nombre, salario)\n",
            " |      Initialize self.  See help(type(self)) for accurate signature.\n",
            " |  \n",
            " |  ----------------------------------------------------------------------\n",
            " |  Data descriptors defined here:\n",
            " |  \n",
            " |  __dict__\n",
            " |      dictionary for instance variables (if defined)\n",
            " |  \n",
            " |  __weakref__\n",
            " |      list of weak references to the object (if defined)\n",
            " |  \n",
            " |  nombre\n",
            " |      Soy la propiedad ´nombre´\n",
            " |  \n",
            " |  salario\n",
            " |      Soy la propiedad ´salario´\n",
            "\n"
          ],
          "name": "stdout"
        }
      ]
    },
    {
      "cell_type": "code",
      "metadata": {
        "colab": {
          "base_uri": "https://localhost:8080/"
        },
        "id": "F4REnVdXiNh0",
        "outputId": "34df1940-0b85-4fbc-d80d-922d5c013563"
      },
      "source": [
        "class Clase_A(object):\n",
        "    def metodo(self):\n",
        "        print(\"Clase_A.metodo1()\")\n",
        "    def metodo3(self):\n",
        "        print(\"Clase_A.metodo3()\")\n",
        "    def metodo4(self):\n",
        "        print(\"Clase_A.metodo4()\")\n",
        "\n",
        "class Clase_A1(Clase_A):\n",
        "    def metodo1(self):\n",
        "        print(\"Clase_A1.metodo1()\")\n",
        "    def metodo2(self):\n",
        "        print(\"Clase_A1.metodo2()\")\n",
        "\n",
        "class Clase_A2(Clase_A):\n",
        "    def metodo1(self):\n",
        "        print(\"Clase_A2.metodo1()\")\n",
        "    def metodo3(self):\n",
        "        print(\"Clase_A2.metodo3()\")\n",
        "\n",
        "class Clase_X(Clase_A2, Clase_A1):\n",
        "    def metodo1(self):\n",
        "        print(\"Clase_X.metodo1()\")\n",
        "    \n",
        "objeto1 = Clase_X ( ) # Creación de una instancia ( objeto ) de Clase_X\n",
        "objeto1.metodo1 ( ) # Clase_X .metodo1 ( )\n",
        "objeto1.metodo2 ( ) # Clase_A1 .metodo2 ( )\n",
        "objeto1.metodo3 ( ) # Clase_A2 .metodo3 ( )\n",
        "objeto1.metodo4 ( ) # Clase_A .metodo4 ( )\n",
        "     \n",
        "     "
      ],
      "execution_count": 39,
      "outputs": [
        {
          "output_type": "stream",
          "text": [
            "Clase_X.metodo1()\n",
            "Clase_A1.metodo2()\n",
            "Clase_A2.metodo3()\n",
            "Clase_A.metodo4()\n"
          ],
          "name": "stdout"
        }
      ]
    },
    {
      "cell_type": "code",
      "metadata": {
        "colab": {
          "base_uri": "https://localhost:8080/"
        },
        "id": "kP5paF2x8ggB",
        "outputId": "69dc8f69-e7d9-4519-908e-fa5a121d36a8"
      },
      "source": [
        "print(Clase_X.__mro__)"
      ],
      "execution_count": 40,
      "outputs": [
        {
          "output_type": "stream",
          "text": [
            "(<class '__main__.Clase_X'>, <class '__main__.Clase_A2'>, <class '__main__.Clase_A1'>, <class '__main__.Clase_A'>, <class 'object'>)\n"
          ],
          "name": "stdout"
        }
      ]
    },
    {
      "cell_type": "code",
      "metadata": {
        "colab": {
          "base_uri": "https://localhost:8080/"
        },
        "id": "8FkR8Mry8v49",
        "outputId": "3f419dae-b45c-4307-8fe4-40ce8d72770b"
      },
      "source": [
        "# La función super()\n",
        "\n",
        "class Clase_I(object):\n",
        "    def __init__(self):\n",
        "        self.var1 =1\n",
        "        print(\"Clase_I.__init__\")\n",
        "\n",
        "    def metodo1(self):\n",
        "        self.var2=1\n",
        "        print(\"Clase_II.__init__\")\n",
        "\n",
        "class Clase_II(object):\n",
        "    def __init__(self):\n",
        "        self.var1=2\n",
        "        print(\"Clase_II.__init__\")\n",
        "\n",
        "class Clase_III(Clase_I, Clase_II):\n",
        "    def __init__(self):\n",
        "        self.var1=3\n",
        "        print(\"Clase_III.__init__\", end=\",\")\n",
        "        super().__init__()\n",
        "\n",
        "    def metodo1(self):\n",
        "        print(\"Clase_III.metodo1()\", end=\",\")\n",
        "        super().metodo1()\n",
        "        self.var2=3\n",
        "\n",
        "class Clase_IV(Clase_II,Clase_I):\n",
        "    def __init__(self):\n",
        "        self.var1=4\n",
        "        print(\"Clave_IV.__init__\", end=\",\")\n",
        "        super().__init__()\n",
        "    def metodo1(self):\n",
        "        print(\"Clase_IV.metodo1()\", end=\",\")\n",
        "        super().metodo1()\n",
        "        self.var2=4\n",
        "\n",
        "objeto1= Clase_III()\n",
        "objeto2= Clase_IV()\n",
        "\n",
        "\n",
        "print(Clase_III.__mro__)\n",
        "\n",
        "print(Clase_IV.__mro__)\n"
      ],
      "execution_count": 46,
      "outputs": [
        {
          "output_type": "stream",
          "text": [
            "Clase_III.__init__,Clase_I.__init__\n",
            "Clave_IV.__init__,Clase_II.__init__\n",
            "(<class '__main__.Clase_III'>, <class '__main__.Clase_I'>, <class '__main__.Clase_II'>, <class 'object'>)\n",
            "(<class '__main__.Clase_IV'>, <class '__main__.Clase_II'>, <class '__main__.Clase_I'>, <class 'object'>)\n"
          ],
          "name": "stdout"
        }
      ]
    },
    {
      "cell_type": "code",
      "metadata": {
        "colab": {
          "base_uri": "https://localhost:8080/"
        },
        "id": "0pMe9hVQE3nt",
        "outputId": "e2839f34-99eb-4dc1-d42b-abaf75c9b57e"
      },
      "source": [
        "objeto1.metodo1()\n",
        "objeto2.metodo1()"
      ],
      "execution_count": 47,
      "outputs": [
        {
          "output_type": "stream",
          "text": [
            "Clase_III.metodo1(),Clase_II.__init__\n",
            "Clase_IV.metodo1(),Clase_II.__init__\n"
          ],
          "name": "stdout"
        }
      ]
    },
    {
      "cell_type": "code",
      "metadata": {
        "colab": {
          "base_uri": "https://localhost:8080/"
        },
        "id": "zuFwTX2bFBo-",
        "outputId": "ddef5328-802b-4fc1-809a-f6de86bb2a67"
      },
      "source": [
        "print(objeto1.var1)\n",
        "print(objeto2.var1)"
      ],
      "execution_count": 48,
      "outputs": [
        {
          "output_type": "stream",
          "text": [
            "1\n",
            "2\n"
          ],
          "name": "stdout"
        }
      ]
    },
    {
      "cell_type": "code",
      "metadata": {
        "colab": {
          "base_uri": "https://localhost:8080/"
        },
        "id": "ol6xSl3FFILs",
        "outputId": "dcf8371a-a750-4f6e-f72e-6cf22b48fb90"
      },
      "source": [
        "print(objeto1.var2)\n",
        "print(objeto2.var2)"
      ],
      "execution_count": 49,
      "outputs": [
        {
          "output_type": "stream",
          "text": [
            "3\n",
            "4\n"
          ],
          "name": "stdout"
        }
      ]
    }
  ]
}