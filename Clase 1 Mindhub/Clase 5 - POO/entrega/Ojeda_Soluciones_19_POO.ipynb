{
  "nbformat": 4,
  "nbformat_minor": 0,
  "metadata": {
    "kernelspec": {
      "display_name": "Python 3",
      "language": "python",
      "name": "python3"
    },
    "language_info": {
      "codemirror_mode": {
        "name": "ipython",
        "version": 3
      },
      "file_extension": ".py",
      "mimetype": "text/x-python",
      "name": "python",
      "nbconvert_exporter": "python",
      "pygments_lexer": "ipython3",
      "version": "3.6.9"
    },
    "colab": {
      "name": "Ojeda-Soluciones-19-POO.ipynb",
      "provenance": [],
      "collapsed_sections": []
    }
  },
  "cells": [
    {
      "cell_type": "markdown",
      "metadata": {
        "id": "cWgBpbLYpC41"
      },
      "source": [
        "# Soluciones de Ejercicios de Programación Orientada a Objetos"
      ]
    },
    {
      "cell_type": "markdown",
      "metadata": {
        "id": "Yz4V1CE6pC41"
      },
      "source": [
        "**Nota:** Los ejercicios son graduales, es decir, en cada ejercicio se van implementando mejoras a una (o varias) clase(s)."
      ]
    },
    {
      "cell_type": "markdown",
      "metadata": {
        "id": "C9beKdzhpC41"
      },
      "source": [
        "## Ejercicio 1"
      ]
    },
    {
      "cell_type": "markdown",
      "metadata": {
        "id": "gM5HZz1ApC41"
      },
      "source": [
        "Crear una nueva clase llamada **NumeroComplejo**. Esta clase tiene un atributo **x** para la coordenada en x e **y** para la coordenada en y. Representar un número complejo de la forma (x, y)."
      ]
    },
    {
      "cell_type": "code",
      "metadata": {
        "colab": {
          "base_uri": "https://localhost:8080/"
        },
        "id": "Qz52Ww9rpC41",
        "outputId": "73c76a93-3b31-4834-fdc4-4dba039a179a"
      },
      "source": [
        "# Solución 1\n",
        "class NumeroComplejo:\n",
        "  # Definimos el constructor, que instancia los distintos objetos\n",
        "  def __init__(self, _x, _y):\n",
        "    # El primer atributo puede no llamarse self, pero se usa asi por convencion\n",
        "    self.x = _x\n",
        "    self.y = _y\n",
        "\n",
        "nc = NumeroComplejo(1, 2)\n",
        "print(nc.x) # Accedemos al valor de x para la instancia nc"
      ],
      "execution_count": 2,
      "outputs": [
        {
          "output_type": "stream",
          "text": [
            "1\n"
          ],
          "name": "stdout"
        }
      ]
    },
    {
      "cell_type": "code",
      "metadata": {
        "colab": {
          "base_uri": "https://localhost:8080/"
        },
        "id": "RpmT_SxLpC41",
        "outputId": "4528659f-0819-4c4d-d51b-720695882847"
      },
      "source": [
        "class NumeroComplejo:\n",
        "    \"\"\"Clase para representar un número complejo\"\"\"\n",
        "    def __init__(self, _x,_y):\n",
        "        self.x=_x\n",
        "        self.y=_y\n",
        "\n",
        "c1=NumeroComplejo(1,2)\n",
        "c2=NumeroComplejo(1,2)\n",
        "\n",
        "c1.x\n"
      ],
      "execution_count": 4,
      "outputs": [
        {
          "output_type": "execute_result",
          "data": {
            "text/plain": [
              "1"
            ]
          },
          "metadata": {
            "tags": []
          },
          "execution_count": 4
        }
      ]
    },
    {
      "cell_type": "markdown",
      "metadata": {
        "id": "_ExmI7WjpC41"
      },
      "source": [
        "## Ejercicio 2"
      ]
    },
    {
      "cell_type": "markdown",
      "metadata": {
        "id": "4BwEt0oupC42"
      },
      "source": [
        "Definir para la clase **NumeroComplejo** un método que permita imprimir una instancia de la clase. Recordemos que al intentar imprimir un tipo definido por nosotros, se imprime la dirección de memoria"
      ]
    },
    {
      "cell_type": "code",
      "metadata": {
        "id": "R19qA13NpC42"
      },
      "source": [
        "# Solución 2\n",
        "class NumeroComplejo:\n",
        "  # Definimos el constructor, que instancia los distintos objetos\n",
        "  def __init__(self, _x, _y):\n",
        "    # El primer atributo puede no llamarse self, pero se usa asi por convencion\n",
        "    self.x = _x\n",
        "    self.y = _y\n",
        "\n",
        "  def imprimir(self):\n",
        "    print(\"El valor de x es: \" + str(self.x))\n",
        "    print(\"El valor de y es: \" + str(self.y))\n",
        "\n",
        "nc = NumeroComplejo(2,5)\n",
        "nc.imprimir()\n"
      ],
      "execution_count": null,
      "outputs": []
    },
    {
      "cell_type": "code",
      "metadata": {
        "colab": {
          "base_uri": "https://localhost:8080/"
        },
        "id": "qsDKvBSHpC42",
        "outputId": "96968b49-0c71-4e75-9da7-f4ca3f2502fd"
      },
      "source": [
        "class NumeroComplejo:\n",
        "  \"\"\"Clase para representar un número complejo\"\"\"\n",
        "  def __init__(self, _x,_y):\n",
        "      self.x=_x\n",
        "      self.y=_y\n",
        "  \n",
        "  def imprimir(self):\n",
        "      print (\"El valor de x es: \" + str(self.x))\n",
        "      print (\"El valor de y es: \" + str(self.y))\n",
        "\n",
        "c1=NumeroComplejo(1,2)\n",
        "c1.imprimir()"
      ],
      "execution_count": 9,
      "outputs": [
        {
          "output_type": "stream",
          "text": [
            "El valor de x es: 1\n",
            "El valor de y es: 2\n"
          ],
          "name": "stdout"
        }
      ]
    },
    {
      "cell_type": "markdown",
      "metadata": {
        "id": "8HYh1-xxpC42"
      },
      "source": [
        "## Ejercicio 3"
      ]
    },
    {
      "cell_type": "markdown",
      "metadata": {
        "id": "p-AoRjKrpC42"
      },
      "source": [
        "Definir la función **__str__** para la clase **NumeroComplejo** para poder imprimir usando la función print."
      ]
    },
    {
      "cell_type": "code",
      "metadata": {
        "id": "3gcabqZapC42"
      },
      "source": [
        "# Solución 3\n",
        "class NumeroComplejo:\n",
        "  # Definimos el constructor, que instancia los distintos objetos\n",
        "  def __init__(self, _x, _y):\n",
        "    # El primer atributo puede no llamarse self, pero se usa asi por convencion\n",
        "    self.x = _x\n",
        "    self.y = _y\n",
        "\n",
        "  def imprimir(self):\n",
        "    print(\"El valor de x es: \" + str(self.x))\n",
        "    print(\"El valor de y es: \" + str(self.y))\n",
        "\n",
        "  def __str__(self):\n",
        "  # Las funciones que parten y terminan con __ son funciones reservadas.\n",
        "  # Existen varias además de __init__ y __str__\n",
        "    s =  str(self.x) + \",\" + str(self.y)\n",
        "    return s\n",
        "\n",
        "nc = NumeroComplejo(6, 9)\n",
        "print(nc)"
      ],
      "execution_count": null,
      "outputs": []
    },
    {
      "cell_type": "code",
      "metadata": {
        "colab": {
          "base_uri": "https://localhost:8080/"
        },
        "id": "6gjqYP9DpC42",
        "outputId": "00a218b0-5839-4c3d-99ea-70bc8a61a872"
      },
      "source": [
        "class NumeroComplejo:\n",
        "  \"\"\"Clase para representar un número complejo\"\"\"\n",
        "  def __init__(self, _x,_y):\n",
        "      self.x=_x\n",
        "      self.y=_y\n",
        "  \n",
        "  def imprimir(self):\n",
        "      print (\"El valor de x es: \" + str(self.x))\n",
        "      print (\"El valor de y es: \" + str(self.y))\n",
        "\n",
        "  def __str__(self):\n",
        "        return str(self.x)+\",\"+str(self.y)\n",
        "\n",
        "c1=NumeroComplejo(1,2)\n",
        "print(c1)"
      ],
      "execution_count": 11,
      "outputs": [
        {
          "output_type": "stream",
          "text": [
            "1,2\n"
          ],
          "name": "stdout"
        }
      ]
    },
    {
      "cell_type": "markdown",
      "metadata": {
        "id": "iEoe6uWEpC42"
      },
      "source": [
        "## Ejercicio 4"
      ]
    },
    {
      "cell_type": "markdown",
      "metadata": {
        "id": "EcGT8G0upC42"
      },
      "source": [
        "Definir una función que compara dos números complejos, ya que si dos objetos distintos tienen sus atributos iguales, no se consideran iguales.\n"
      ]
    },
    {
      "cell_type": "code",
      "metadata": {
        "id": "PMTSI5e2pC42"
      },
      "source": [
        " # Solución 4\n",
        "    # Definimos el constructor, que instancia los distintos objetos\n",
        "  def __init__(self, _x, _y):\n",
        "    # El primer atributo puede no llamarse self, pero se usa asi por convencion\n",
        "    self.x = _x\n",
        "    self.y = _y\n",
        "\n",
        "  def imprimir(self):\n",
        "    print(\"El valor de x es: \" + str(self.x))\n",
        "    print(\"El valor de y es: \" + str(self.y))\n",
        "\n",
        "  def __str__(self):\n",
        "    return \"(\" + str(self.x) + \", \" + str(self.y) + \")\"\n",
        "\n",
        "  def son_iguales(self, c2):\n",
        "    if self.x == c2.x and self.y == c2.y:\n",
        "      return True\n",
        "    return False\n",
        "\n",
        "nc1 = NumeroComplejo(4, 5)\n",
        "nc2 = NumeroComplejo(4, 5)\n",
        "print(nc1 == nc2)\n",
        "print(nc1.son_iguales(nc2))\n"
      ],
      "execution_count": null,
      "outputs": []
    },
    {
      "cell_type": "code",
      "metadata": {
        "colab": {
          "base_uri": "https://localhost:8080/"
        },
        "id": "9TEAEECLpC42",
        "outputId": "537848e1-aaa8-4b9b-f56b-dbc69b8bc2b3"
      },
      "source": [
        "class NumeroComplejo:\n",
        "  \"\"\"Clase para representar un número complejo\"\"\"\n",
        "  def __init__(self, _x,_y):\n",
        "      self.x=_x\n",
        "      self.y=_y\n",
        "  \n",
        "  def imprimir(self):\n",
        "      print (\"El valor de x es: \" + str(self.x))\n",
        "      print (\"El valor de y es: \" + str(self.y))\n",
        "\n",
        "  def __str__(self):\n",
        "        return str(self.x)+\",\"+str(self.y)\n",
        "\n",
        "\n",
        "  def comparacion(self,objeto):\n",
        "        if self.x==objeto.x and self.y==objeto.y:\n",
        "          return True\n",
        "        else:\n",
        "            return False\n",
        "\n",
        "\n",
        "c1=NumeroComplejo(1,2)\n",
        "c2=NumeroComplejo(1,2)\n",
        "\n",
        "c2.comparacion(c1)\n"
      ],
      "execution_count": 12,
      "outputs": [
        {
          "output_type": "execute_result",
          "data": {
            "text/plain": [
              "True"
            ]
          },
          "metadata": {
            "tags": []
          },
          "execution_count": 12
        }
      ]
    },
    {
      "cell_type": "markdown",
      "metadata": {
        "id": "M5Twx47mpC42"
      },
      "source": [
        "## Ejercicio 5"
      ]
    },
    {
      "cell_type": "markdown",
      "metadata": {
        "id": "Tj9yN5vnpC42"
      },
      "source": [
        "Implementar un método que sume dos numeros complejos sin modificiar los objetos originales, ya que se retorna un nuevo numero NumeroComplejo."
      ]
    },
    {
      "cell_type": "code",
      "metadata": {
        "id": "Sy4QFb3OpC42"
      },
      "source": [
        "# Solución 5\n",
        "class NumeroComplejo:\n",
        "  # Definimos el constructor, que instancia los distintos objetos\n",
        "  def __init__(self, _x, _y):\n",
        "    # El primer atributo puede no llamarse self, pero se usa asi por convencion\n",
        "    self.x = _x\n",
        "    self.y = _y\n",
        "\n",
        "  def imprimir(self):\n",
        "    print(\"El valor de x es: \" + str(self.x))\n",
        "    print(\"El valor de y es: \" + str(self.y))\n",
        "\n",
        "  def __str__(self):\n",
        "    return \"(\" + str(self.x) + \", \" + str(self.y) + \")\"\n",
        "\n",
        "  def son_iguales(self, c2):\n",
        "    if self.x == c2.x and self.y == c2.y:\n",
        "      return True\n",
        "    return False\n",
        "\n",
        "  def sumar_complejos(self, c2):\n",
        "    a = self.x + c2.x\n",
        "    b = self.y + c2.y\n",
        "    return NumeroComplejo(a, b)\n",
        "\n",
        "nc1 = NumeroComplejo(4, 5)\n",
        "nc2 = NumeroComplejo(4, 5)\n",
        "r = nc1.sumar_complejos(nc2)\n",
        "print(r)"
      ],
      "execution_count": null,
      "outputs": []
    },
    {
      "cell_type": "code",
      "metadata": {
        "colab": {
          "base_uri": "https://localhost:8080/"
        },
        "id": "5ZR1irYkpC42",
        "outputId": "6e40ea79-420c-4bb6-b6fa-ad6361e7ef87"
      },
      "source": [
        "class NumeroComplejo:\n",
        "  \"\"\"Clase para representar un número complejo\"\"\"\n",
        "  def __init__(self, _x,_y):\n",
        "      self.x=_x\n",
        "      self.y=_y\n",
        "  \n",
        "  def imprimir(self):\n",
        "      print (\"El valor de x es: \" + str(self.x))\n",
        "      print (\"El valor de y es: \" + str(self.y))\n",
        "\n",
        "  def __str__(self):\n",
        "        return str(self.x)+\",\"+str(self.y)\n",
        "\n",
        "\n",
        "  def comparacion(self,objeto):\n",
        "        if self.x==objeto.x and self.y==objeto.y:\n",
        "          return True\n",
        "        else:\n",
        "            return False\n",
        "\n",
        "  def complejo(self,objeto2):\n",
        "        a=self.x + objeto2.x\n",
        "        b=self.y + objeto2.y\n",
        "        return NumeroComplejo(a,b)\n",
        "\n",
        "\n",
        "c1=NumeroComplejo(1,2)\n",
        "c2=NumeroComplejo(1,2)\n",
        "\n",
        "final=c1.complejo(c2)\n",
        "print(final)"
      ],
      "execution_count": 14,
      "outputs": [
        {
          "output_type": "stream",
          "text": [
            "2,4\n"
          ],
          "name": "stdout"
        }
      ]
    },
    {
      "cell_type": "markdown",
      "metadata": {
        "id": "fWLgTnaxpC42"
      },
      "source": [
        "Ahora, vamos a implementar un objeto **Bus**, que lleva a un grupo de pasajeros y además tiene un chofer. Los pasajeros y el chofer son todos personas, por lo que primero crearemos una clase **Persona** para representarlos."
      ]
    },
    {
      "cell_type": "markdown",
      "metadata": {
        "id": "5mDhkF_mpC42"
      },
      "source": [
        "## Ejercicio 6"
      ]
    },
    {
      "cell_type": "markdown",
      "metadata": {
        "id": "KbRK16ACpC42"
      },
      "source": [
        "Crea una clase **Persona**. Sus atributos deben ser su nombre y su edad. Además crea un método cumpleaños, que aumente en 1 la edad de la persona."
      ]
    },
    {
      "cell_type": "code",
      "metadata": {
        "id": "-4nfHEWspC42"
      },
      "source": [
        "# Solución 6\n",
        "class Persona:\n",
        "  def __init__(self, _nombre, _edad):\n",
        "    self.nombre = _nombre\n",
        "    self.edad = _edad\n",
        "\n",
        "  def cumpleanhos(self):\n",
        "    self.edad += 1\n",
        "\n",
        "p = Persona(\"Jose\", 10)\n",
        "p.cumpleanhos()\n",
        "print(p.edad)"
      ],
      "execution_count": null,
      "outputs": []
    },
    {
      "cell_type": "code",
      "metadata": {
        "colab": {
          "base_uri": "https://localhost:8080/"
        },
        "id": "C1NQ5e_1pC42",
        "outputId": "b7d2f21c-9cc6-46c6-de1a-9dc71bb72788"
      },
      "source": [
        "class Persona:\n",
        "  \"\"\"Esta clase representa una persona\"\"\"\n",
        "  def __init__(self,nom,años):\n",
        "      self.nombre=nom\n",
        "      self.edad=años\n",
        "\n",
        "  def Cumpleaños(self): # método para incrementar la edad en 1\n",
        "      self.edad+=1\n",
        "\n",
        "c1=Persona(\"Nicolas\",20)\n",
        "c2=Persona(\"Daniela\",25)\n",
        "\n",
        "c1.Cumpleaños()\n",
        "c2.Cumpleaños()\n",
        "\n",
        "print(c1.edad)\n",
        "print(c2.edad)"
      ],
      "execution_count": 18,
      "outputs": [
        {
          "output_type": "stream",
          "text": [
            "21\n",
            "26\n"
          ],
          "name": "stdout"
        }
      ]
    },
    {
      "cell_type": "markdown",
      "metadata": {
        "id": "cqNrSOiRpC42"
      },
      "source": [
        "## Ejercicio 7"
      ]
    },
    {
      "cell_type": "markdown",
      "metadata": {
        "id": "zLMxDHI-pC42"
      },
      "source": [
        "Para la clase anterior definir el método __str__. Debe retornar al menos el nombre de la persona."
      ]
    },
    {
      "cell_type": "code",
      "metadata": {
        "id": "88GteBbvpC42"
      },
      "source": [
        "# Solución 7\n",
        "class Persona:\n",
        "  def __init__(self, _nombre, _edad):\n",
        "    self.nombre = _nombre\n",
        "    self.edad = _edad\n",
        "\n",
        "  def cumpleanhos(self):\n",
        "    self.edad += 1\n",
        "\n",
        "  def __str__(self):\n",
        "    return \"Persona: \" + self.nombre\n",
        "\n",
        "p = Persona(\"Jose\", 10)\n",
        "print(p)"
      ],
      "execution_count": null,
      "outputs": []
    },
    {
      "cell_type": "code",
      "metadata": {
        "colab": {
          "base_uri": "https://localhost:8080/"
        },
        "id": "E1kGsMNUpC42",
        "outputId": "755bb767-4e95-46a0-a12f-cb7466871eaa"
      },
      "source": [
        "class Persona:\n",
        "  \"\"\"Esta clase representa una persona\"\"\"\n",
        "  def __init__(self,nom,años):\n",
        "      self.nombre=nom\n",
        "      self.edad=años\n",
        "\n",
        "  def Cumpleaños(self): # método para incrementar la edad en 1\n",
        "      self.edad+=1\n",
        "\n",
        "  def __str__(self):\n",
        "     return str(self.nombre)+\",\"+str(self.edad)\n",
        "\n",
        "\n",
        "c1=Persona(\"Nicolas\",20)\n",
        "c2=Persona(\"Daniela\",25)\n",
        "\n",
        "c1.Cumpleaños()\n",
        "c2.Cumpleaños()\n",
        "\n",
        "print(c1)\n",
        "print(c2)"
      ],
      "execution_count": 19,
      "outputs": [
        {
          "output_type": "stream",
          "text": [
            "Nicolas,21\n",
            "Daniela,26\n"
          ],
          "name": "stdout"
        }
      ]
    },
    {
      "cell_type": "markdown",
      "metadata": {
        "id": "NPL3iaiDpC42"
      },
      "source": [
        "## Ejercicio 8"
      ]
    },
    {
      "cell_type": "markdown",
      "metadata": {
        "id": "Iwk5SpAtpC42"
      },
      "source": [
        "Extender la aplicación anterior con una clase **Bus**. Como atributo tiene un arreglo de pasajeros (inicialmente vacío), una capacidad (se ingresa en el constructor) y un chofer. Debes implementar el método ingresar_chofer(self, persona), que recibe una persona y queda como chofer del Bus si es mayor de 18 años. Cabe destacar que el chofer no se ingresa en el constructor."
      ]
    },
    {
      "cell_type": "code",
      "metadata": {
        "id": "nOGO62ScpC42"
      },
      "source": [
        "# Solución 8\n",
        "class Persona:\n",
        "  def __init__(self, _nombre, _edad, _saldo):\n",
        "    self.nombre = _nombre\n",
        "    self.edad = _edad\n",
        "    self.saldo = _saldo\n",
        "\n",
        "  def cumpleanhos(self):\n",
        "    self.edad += 1\n",
        "\n",
        "  def transferencia(self, persona2, monto):\n",
        "    if self.saldo >= monto:\n",
        "      self.saldo -= monto\n",
        "      persona2.saldo += monto\n",
        "      print(\"Transferencia ok!\")\n",
        "    else:\n",
        "      print(\"No se puede efectuar la transaccion\")\n",
        "\n",
        "  def __str__(self):\n",
        "    return \"Persona: \" + self.nombre\n",
        "\n",
        "class Bus:\n",
        "  def __init__(self, _capacidad):\n",
        "    self.asientos = []\n",
        "    self.capacidad = _capacidad\n",
        "    self.chofer = None\n",
        "\n",
        "  def ingresar_chofer(self, persona):\n",
        "    if persona.edad >= 18:\n",
        "      self.chofer = persona\n",
        "    else:\n",
        "      print(\"Chofer no valido!\")\n",
        "\n",
        "\n",
        "p = Persona(\"Jose\", 10, 2)\n",
        "p2 = Persona(\"Pedro\", 20, 20)\n",
        "\n",
        "b = Bus(10)\n",
        "b.ingresar_chofer(p)\n",
        "b.ingresar_chofer(p2)\n",
        "print(b.chofer)\n"
      ],
      "execution_count": null,
      "outputs": []
    },
    {
      "cell_type": "code",
      "metadata": {
        "colab": {
          "base_uri": "https://localhost:8080/"
        },
        "id": "BvVRJNMApC42",
        "outputId": "6c68ff77-6f90-49e6-ea68-65a5688d0fe8"
      },
      "source": [
        "class Bus:\n",
        "  \"\"\"Esta clase representa un autobus\"\"\"\n",
        " \n",
        "  def __init__(self,_capacidad):\n",
        "        self.pasajeros=0\n",
        "        self.capacidad=_capacidad\n",
        "        self.chofer=None\n",
        "  \n",
        "  def ingresar_chofer(self,persona):\n",
        "      if persona.edad>=18:\n",
        "        self.chofer=\"Nuevo chofer: \"+str(persona.nombre)\n",
        "      else:\n",
        "          print(\"No cumple el requisito de la edad para ser chofer.\")\n",
        "\n",
        "p1=Persona(\"Adrian\",37)\n",
        "p2=Persona(\"Ludmila\",15)\n",
        "p3=Persona(\"Pablo\",30)\n",
        "p4=Persona(\"Alicia\",17)\n",
        "\n",
        "bus1=Bus(3)\n",
        "bus1.ingresar_chofer(p2)\n",
        "bus1.ingresar_chofer(p1)\n",
        "print(bus1.chofer)\n",
        "\n"
      ],
      "execution_count": 21,
      "outputs": [
        {
          "output_type": "stream",
          "text": [
            "No cumple el requisito de la edad para ser chofer.\n",
            "Nuevo chofer: Adrian\n"
          ],
          "name": "stdout"
        }
      ]
    },
    {
      "cell_type": "markdown",
      "metadata": {
        "id": "d2REvi7-pC42"
      },
      "source": [
        "## Ejercicio 9"
      ]
    },
    {
      "cell_type": "markdown",
      "metadata": {
        "id": "9biciiiVpC42"
      },
      "source": [
        "Extender la clase **Bus** con el método **subir_pasajero(self, persona)**. Este método sube a la persona al bus (i.e. La agrega al arreglo de asientos) siempre que el número de pasajeros en el Bus sea menor que la capcidad total."
      ]
    },
    {
      "cell_type": "code",
      "metadata": {
        "id": "CHo21UJPpC42"
      },
      "source": [
        "# Solución 9\n",
        "class Persona:\n",
        "  def __init__(self, _nombre, _edad, _saldo):\n",
        "    self.nombre = _nombre\n",
        "    self.edad = _edad\n",
        "    self.saldo = _saldo\n",
        "\n",
        "  def cumpleanhos(self):\n",
        "    self.edad += 1\n",
        "\n",
        "  def transferencia(self, persona2, monto):\n",
        "    if self.saldo >= monto:\n",
        "      self.saldo -= monto\n",
        "      persona2.saldo += monto\n",
        "      print(\"Transferencia ok!\")\n",
        "    else:\n",
        "      print(\"No se puede efectuar la transaccion\")\n",
        "\n",
        "  def __str__(self):\n",
        "    return \"Persona: \" + self.nombre\n",
        "\n",
        "class Bus:\n",
        "  def __init__(self, _capacidad):\n",
        "    self.asientos = []\n",
        "    self.capacidad = _capacidad\n",
        "    self.chofer = None\n",
        "\n",
        "  def ingresar_chofer(self, persona):\n",
        "    if persona.edad >= 18:\n",
        "      self.chofer = persona\n",
        "    else:\n",
        "      print(\"Chofer no valido!\")\n",
        "\n",
        "  def subir_pasajero(self, persona):\n",
        "    if len(self.asientos) < self.capacidad:\n",
        "      self.asientos.append(persona)\n",
        "    else:\n",
        "      print(\"No hay capacidad!\")\n",
        "\n",
        "\n",
        "p = Persona(\"Jose\", 10, 2)\n",
        "p2 = Persona(\"Pedro\", 20, 20)\n",
        "p3 = Persona(\"Bob\", 20, 10)\n",
        "\n",
        "b = Bus(2)\n",
        "b.subir_pasajero(p)\n",
        "b.subir_pasajero(p2)\n",
        "b.subir_pasajero(p3)\n",
        "\n",
        "for pasajero in b.asientos:\n",
        "  print(pasajero)\n"
      ],
      "execution_count": null,
      "outputs": []
    },
    {
      "cell_type": "code",
      "metadata": {
        "colab": {
          "base_uri": "https://localhost:8080/"
        },
        "id": "RpkZCQWJpC42",
        "outputId": "c23fca48-bf8d-4bea-87c8-ff2634b9222e"
      },
      "source": [
        "class Bus:\n",
        "  \"\"\"Esta clase representa un autobus\"\"\"\n",
        " \n",
        "  def __init__(self,_capacidad):\n",
        "        self.pasajeros=0\n",
        "        self.capacidad=_capacidad\n",
        "        self.chofer=None\n",
        "  \n",
        "  def ingresar_chofer(self,persona):\n",
        "      if persona.edad>=18:\n",
        "        self.chofer=\"Nuevo chofer: \"+str(persona.nombre)\n",
        "      else:\n",
        "          print(\"No cumple el requisito de la edad para ser chofer.\")\n",
        "\n",
        "  def subir_pasajero(self,persona):\n",
        "      if self.pasajeros<self.capacidad:\n",
        "          self.pasajeros+=1\n",
        "      else:\n",
        "          print(\"El autobús esta lleno\")\n",
        "\n",
        "\n",
        "p1=Persona(\"Adrian\",37)\n",
        "p2=Persona(\"Ludmila\",15)\n",
        "p3=Persona(\"Pablo\",30)\n",
        "p4=Persona(\"Alicia\",17)\n",
        "\n",
        "bus1=Bus(3)\n",
        "\n",
        "bus1.subir_pasajero(p1)\n",
        "bus1.subir_pasajero(p2)\n",
        "bus1.subir_pasajero(p3)\n",
        "bus1.subir_pasajero(p4)\n",
        "\n",
        "print(bus1.pasajeros)\n"
      ],
      "execution_count": 24,
      "outputs": [
        {
          "output_type": "stream",
          "text": [
            "El autobús esta lleno\n",
            "3\n"
          ],
          "name": "stdout"
        }
      ]
    }
  ]
}