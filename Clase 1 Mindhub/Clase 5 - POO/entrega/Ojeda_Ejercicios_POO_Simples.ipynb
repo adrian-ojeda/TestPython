{
  "nbformat": 4,
  "nbformat_minor": 0,
  "metadata": {
    "kernelspec": {
      "display_name": "Python 3",
      "language": "python",
      "name": "python3"
    },
    "language_info": {
      "codemirror_mode": {
        "name": "ipython",
        "version": 3
      },
      "file_extension": ".py",
      "mimetype": "text/x-python",
      "name": "python",
      "nbconvert_exporter": "python",
      "pygments_lexer": "ipython3",
      "version": "3.6.9"
    },
    "colab": {
      "name": "Ojeda_Ejercicios_POO_Simples.ipynb",
      "provenance": [],
      "collapsed_sections": []
    }
  },
  "cells": [
    {
      "cell_type": "markdown",
      "metadata": {
        "id": "iXEGbua0Nvlg"
      },
      "source": [
        "# Ejercicios de Programación Orientada a Objetos"
      ]
    },
    {
      "cell_type": "markdown",
      "metadata": {
        "id": "WFjnWiwdNvlg"
      },
      "source": [
        "**Nota:** Los ejercicios son graduales, es decir, en cada ejercicio se van implementando mejoras a una (o varias) clase(s)."
      ]
    },
    {
      "cell_type": "markdown",
      "metadata": {
        "id": "NrgfQ8n0Nvlg"
      },
      "source": [
        "## Ejercicio 1"
      ]
    },
    {
      "cell_type": "markdown",
      "metadata": {
        "id": "tbt-OqIwNvlg"
      },
      "source": [
        "Crear una nueva clase llamada **NumeroComplejo**. Esta clase tiene un atributo **x** para la coordenada en x e **y** para la coordenada en y. Representar un número complejo de la forma (x, y)."
      ]
    },
    {
      "cell_type": "code",
      "metadata": {
        "id": "YxxZgcAWNvlh",
        "colab": {
          "base_uri": "https://localhost:8080/"
        },
        "outputId": "9d599a61-90ca-4b11-9112-94d768f6133c"
      },
      "source": [
        "class NumeroComplejo:\n",
        "    \"\"\"Clase para representar un número complejo\"\"\"\n",
        "    def __init__(self, _x,_y):\n",
        "        self.x=_x\n",
        "        self.y=_y\n",
        "\n",
        "    def imprimir(self):\n",
        "        print (\"El valor de x es: \" + str(self.x))\n",
        "        print (\"El valor de y es: \" + str(self.y))\n",
        "\n",
        "    def __str__(self):\n",
        "        return str(self.x)+\",\"+str(self.y)\n",
        "\n",
        "    def comparacion(self,objeto):\n",
        "        if self.x==objeto.x and self.y==objeto.y:\n",
        "          return True\n",
        "        else:\n",
        "            return False\n",
        "\n",
        "    def complejo(self,objeto2):\n",
        "        a=self.x + objeto2.x\n",
        "        b=self.y + objeto2.y\n",
        "        return NumeroComplejo(a,b)\n",
        "\n",
        "        \n",
        "\n",
        "\n",
        "\n",
        "c1=NumeroComplejo(1,2)\n",
        "c2=NumeroComplejo(1,2)\n",
        "\n",
        "c2.comparacion(c1)\n",
        "\n",
        "c1.imprimir()\n",
        "\n",
        "print(c2)\n",
        "\n",
        "final=c1.complejo(c2)\n",
        "print(final)\n"
      ],
      "execution_count": 158,
      "outputs": [
        {
          "output_type": "stream",
          "text": [
            "El valor de x es: 1\n",
            "El valor de y es: 2\n",
            "1,2\n",
            "2,4\n"
          ],
          "name": "stdout"
        }
      ]
    },
    {
      "cell_type": "markdown",
      "metadata": {
        "id": "fEVzw_uYNvlh"
      },
      "source": [
        "## Ejercicio 2"
      ]
    },
    {
      "cell_type": "markdown",
      "metadata": {
        "id": "dsphrUZvNvlh"
      },
      "source": [
        "Definir para la clase **NumeroComplejo** un método que permita imprimir una instancia de la clase. Recordemos que al intentar imprimir un tipo definido por nosotros, se imprime la dirección de memoria"
      ]
    },
    {
      "cell_type": "code",
      "metadata": {
        "id": "g0see0s6Nvlh"
      },
      "source": [
        "  def imprimir(self):\n",
        "        print (\"El valor de x es: \" + str(self.x))\n",
        "        print (\"El valor de y es: \" + str(self.y))\n"
      ],
      "execution_count": null,
      "outputs": []
    },
    {
      "cell_type": "markdown",
      "metadata": {
        "id": "8L4py5_JNvlh"
      },
      "source": [
        "## Ejercicio 3"
      ]
    },
    {
      "cell_type": "markdown",
      "metadata": {
        "id": "NCaWVZtjNvlh"
      },
      "source": [
        "Definir la función **__str__** para la clase **NumeroComplejo** para poder imprimir usando la función print."
      ]
    },
    {
      "cell_type": "code",
      "metadata": {
        "id": "NBgTcMXjNvlh"
      },
      "source": [
        "  def __str__(self):\n",
        "      return str(self.x)+\",\"+str(self.y)"
      ],
      "execution_count": null,
      "outputs": []
    },
    {
      "cell_type": "markdown",
      "metadata": {
        "id": "CtD55jT8Nvli"
      },
      "source": [
        "## Ejercicio 4"
      ]
    },
    {
      "cell_type": "markdown",
      "metadata": {
        "id": "rUAGtcjqNvli"
      },
      "source": [
        "Definir una función que compara dos números complejos, ya que si dos objetos distintos tienen sus atributos iguales, no se consideran iguales.\n"
      ]
    },
    {
      "cell_type": "code",
      "metadata": {
        "id": "-_RLobB7Nvli",
        "colab": {
          "base_uri": "https://localhost:8080/"
        },
        "outputId": "621aabcf-e478-4221-d1ed-f32be3f31483"
      },
      "source": [
        "  def comparacion(self,objeto):\n",
        "        if self.x==objeto.x and self.y==objeto.y:\n",
        "            return True\n",
        "        else:\n",
        "            return False\n",
        "\n",
        "c1.comparacion(c2)"
      ],
      "execution_count": 159,
      "outputs": [
        {
          "output_type": "execute_result",
          "data": {
            "text/plain": [
              "True"
            ]
          },
          "metadata": {
            "tags": []
          },
          "execution_count": 159
        }
      ]
    },
    {
      "cell_type": "markdown",
      "metadata": {
        "id": "T3xGSKfNNvli"
      },
      "source": [
        "## Ejercicio 5"
      ]
    },
    {
      "cell_type": "markdown",
      "metadata": {
        "id": "oX3AMKKMNvli"
      },
      "source": [
        "Implementar un método que sume dos numeros complejos sin modificiar los objetos originales, ya que se retorna un nuevo numero NumeroComplejo."
      ]
    },
    {
      "cell_type": "code",
      "metadata": {
        "id": "2BfRwGpXNvli"
      },
      "source": [
        "  def complejo(self,objeto2):\n",
        "      a=self.x + objeto2.x\n",
        "      b=self.y + objeto2.y\n",
        "      return NumeroComplejo(a,b)\n"
      ],
      "execution_count": null,
      "outputs": []
    },
    {
      "cell_type": "markdown",
      "metadata": {
        "id": "a7Q9aEdTNvli"
      },
      "source": [
        "Ahora, vamos a implementar un objeto **Bus**, que lleva a un grupo de pasajeros y además tiene un chofer. Los pasajeros y el chofer son todos personas, por lo que primero crearemos una clase **Persona** para representarlos."
      ]
    },
    {
      "cell_type": "markdown",
      "metadata": {
        "id": "asF90RqWNvli"
      },
      "source": [
        "## Ejercicio 6"
      ]
    },
    {
      "cell_type": "markdown",
      "metadata": {
        "id": "Siwn7OgnNvli"
      },
      "source": [
        "Crea una clase **Persona**. Sus atributos deben ser su nombre y su edad. Además crea un método cumpleaños, que aumente en 1 la edad de la persona."
      ]
    },
    {
      "cell_type": "code",
      "metadata": {
        "id": "Nf_dhUr9Nvli",
        "colab": {
          "base_uri": "https://localhost:8080/"
        },
        "outputId": "6a53587c-a611-447f-ca3b-a09a0fe8cd0d"
      },
      "source": [
        "class Persona:\n",
        "  \"\"\"Esta clase representa una persona\"\"\"\n",
        "  def __init__(self,nom,años):\n",
        "      self.nombre=nom\n",
        "      self.edad=años\n",
        "\n",
        "  def Cumpleaños(self): # método para incrementar la edad en 1\n",
        "      self.edad+=1\n",
        "\n",
        "  def __str__(self):\n",
        "     return str(self.nombre)+\",\"+str(self.edad)\n",
        "\n",
        "c1=Persona(\"Nicolas\",20)\n",
        "c2=Persona(\"Daniela\",25)\n",
        "\n",
        "c1.Cumpleaños()\n",
        "c2.Cumpleaños()\n",
        "\n",
        "print(c1)\n",
        "print(c2)\n"
      ],
      "execution_count": 117,
      "outputs": [
        {
          "output_type": "stream",
          "text": [
            "Nicolas,21\n",
            "Daniela,26\n"
          ],
          "name": "stdout"
        }
      ]
    },
    {
      "cell_type": "markdown",
      "metadata": {
        "id": "Hxu1F5_6Nvli"
      },
      "source": [
        "## Ejercicio 7"
      ]
    },
    {
      "cell_type": "markdown",
      "metadata": {
        "id": "5xd9m4I7Nvli"
      },
      "source": [
        "Para la clase anterior definir el método __str__. Debe retornar al menos el nombre de la persona."
      ]
    },
    {
      "cell_type": "code",
      "metadata": {
        "id": "UBfyxWqJNvli"
      },
      "source": [
        "  def __str__(self):\n",
        "     return str(self.nombre)+\",\"+str(self.edad)"
      ],
      "execution_count": null,
      "outputs": []
    },
    {
      "cell_type": "markdown",
      "metadata": {
        "id": "gmat-rhvNvli"
      },
      "source": [
        "## Ejercicio 8"
      ]
    },
    {
      "cell_type": "markdown",
      "metadata": {
        "id": "j_TlAewnNvli"
      },
      "source": [
        "Extender la aplicación anterior con una clase **Bus**. Como atributo tiene un arreglo de pasajeros (inicialmente vacío), una capacidad (se ingresa en el constructor) y un chofer. Debes implementar el método ingresar_chofer(self, persona), que recibe una persona y queda como chofer del Bus si es mayor de 18 años. Cabe destacar que el chofer no se ingresa en el constructor."
      ]
    },
    {
      "cell_type": "code",
      "metadata": {
        "id": "ER63zM1UNvli",
        "colab": {
          "base_uri": "https://localhost:8080/"
        },
        "outputId": "741804a3-bfa3-4f90-eca3-98977c583f75"
      },
      "source": [
        "class Bus:\n",
        "  \"\"\"Esta clase representa un autobus\"\"\"\n",
        " \n",
        "  def __init__(self,_capacidad):\n",
        "        self.pasajeros=0\n",
        "        self.capacidad=_capacidad\n",
        "        self.chofer=None\n",
        "  \n",
        "  def ingresar_chofer(self,persona):\n",
        "      if persona.edad>=18:\n",
        "        self.chofer=\"Nuevo chofer: \"+str(persona.nombre)\n",
        "      else:\n",
        "          print(\"No cumple el requisito de la edad para ser chofer.\")\n",
        "\n",
        "  def subir_pasajero(self,persona):\n",
        "      if self.pasajeros<self.capacidad:\n",
        "          self.pasajeros+=1\n",
        "      else:\n",
        "          print(\"El autobús esta lleno\")\n",
        "\n",
        "\n",
        "\n",
        "p1=Persona(\"Adrian\",37)\n",
        "p2=Persona(\"Ludmila\",15)\n",
        "p3=Persona(\"Pablo\",30)\n",
        "p4=Persona(\"Alicia\",17)\n",
        "\n",
        "bus1=Bus(3)\n",
        "bus1.ingresar_chofer(p2)\n",
        "bus1.ingresar_chofer(p1)\n",
        "print(bus1.chofer)\n",
        "\n",
        "\n",
        "bus1.subir_pasajero(p1)\n",
        "bus1.subir_pasajero(p2)\n",
        "bus1.subir_pasajero(p3)\n",
        "bus1.subir_pasajero(p4)\n",
        "\n",
        "print(bus1.pasajeros)\n",
        "\n",
        "\n",
        " \n"
      ],
      "execution_count": 160,
      "outputs": [
        {
          "output_type": "stream",
          "text": [
            "No cumple el requisito de la edad para ser chofer.\n",
            "Nuevo chofer: Adrian\n",
            "El autobús esta lleno\n",
            "3\n"
          ],
          "name": "stdout"
        }
      ]
    },
    {
      "cell_type": "markdown",
      "metadata": {
        "id": "Q2SLAbSqNvli"
      },
      "source": [
        "## Ejercicio 9"
      ]
    },
    {
      "cell_type": "markdown",
      "metadata": {
        "id": "qGwaoz1DNvli"
      },
      "source": [
        "Extender la clase **Bus** con el método **subir_pasajero(self, persona)**. Este método sube a la persona al bus (i.e. La agrega al arreglo de asientos) siempre que el número de pasajeros en el Bus sea menor que la capcidad total."
      ]
    },
    {
      "cell_type": "code",
      "metadata": {
        "id": "D8fUqc3_Nvli"
      },
      "source": [
        "  def subir_pasajero(self,persona):\n",
        "      if self.pasajeros<self.capacidad:\n",
        "          self.pasajeros+=1\n",
        "      else:\n",
        "          print(\"El autobús esta lleno\")\n",
        "\n"
      ],
      "execution_count": null,
      "outputs": []
    }
  ]
}