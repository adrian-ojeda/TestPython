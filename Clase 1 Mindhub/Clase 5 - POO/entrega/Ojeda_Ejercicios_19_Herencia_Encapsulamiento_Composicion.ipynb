{
  "nbformat": 4,
  "nbformat_minor": 0,
  "metadata": {
    "kernelspec": {
      "display_name": "Python 3",
      "language": "python",
      "name": "python3"
    },
    "language_info": {
      "codemirror_mode": {
        "name": "ipython",
        "version": 3
      },
      "file_extension": ".py",
      "mimetype": "text/x-python",
      "name": "python",
      "nbconvert_exporter": "python",
      "pygments_lexer": "ipython3",
      "version": "3.6.9"
    },
    "colab": {
      "name": "Ojeda_Ejercicios_19_Herencia_Encapsulamiento_Composicion.ipynb",
      "provenance": [],
      "collapsed_sections": []
    }
  },
  "cells": [
    {
      "cell_type": "markdown",
      "metadata": {
        "id": "0Qo_GxAVRsQW"
      },
      "source": [
        "# Ejercicios de Herencia, Encapsulamiento y Composición"
      ]
    },
    {
      "cell_type": "markdown",
      "metadata": {
        "id": "GT6Hs7iTRsQX"
      },
      "source": [
        "Crear la clase Vehículo con 4 ruedas, una marca, un color, modelo y un número de patente (propiedades); así mismo todos los vehículos pueden acelerar, frenar y voltear a la izquierda o a la derecha. Para los métodos, simplemente defina en el cuerpo del método: \n",
        "print(f\"Soy {self.marca}, estoy <complete con una frase lo que hace el vehículo>\")"
      ]
    },
    {
      "cell_type": "code",
      "metadata": {
        "id": "QObm_JB9RsQX"
      },
      "source": [
        "class Vehiculo:\n",
        "  \"\"\"Clase que define a un vehículo\"\"\"\n",
        "  def __init__(self,_marca,_color,_modelo,_patente):\n",
        "    \n",
        "    self.marca=_marca\n",
        "    self.color=_color\n",
        "    self.modelo=_modelo\n",
        "    self.patente=_patente\n",
        "\n",
        "  def __str__(self):\n",
        "    return self.marca+\",\"+self.color+\",\"+self.modelo+\",\"+self.patente\n",
        "      \n",
        "  def acelerar(self):\n",
        "      print(\"Soy \"+self.marca+\" estoy acelerando...\")\n",
        "  def frenar(self):\n",
        "      print(\"Soy \"+self.marca+\" estoy frenando...\")\n",
        "  def voltear(self,direccion):\n",
        "      print(\"Soy \"+self.marca+\" estoy volteando a la \"+direccion+\"...\")\n",
        " \n"
      ],
      "execution_count": null,
      "outputs": []
    },
    {
      "cell_type": "markdown",
      "metadata": {
        "id": "BOP-XUS8RsQX"
      },
      "source": [
        "Cuando hayas implementado la clase Vehículo, deberías poder correr el siguiente código:"
      ]
    },
    {
      "cell_type": "code",
      "metadata": {
        "colab": {
          "base_uri": "https://localhost:8080/"
        },
        "id": "kmxaQnW5RsQX",
        "outputId": "f7a277c1-03bc-4713-ecee-734a43ba2a26"
      },
      "source": [
        "# Objetos vehiculo \n",
        "obj_mazda = Vehiculo('Mazda 6', 'Rojo', 'RED126', '2020')\n",
        "obj_renault = Vehiculo('Renault Logan', 'Negro', 'FRE009', '2021')\n",
        "obj_audi = Vehiculo('Audi Q3', 'Blanco', 'DPK312', '2016')\n",
        "\n",
        "# Miramos por consola cada objeto\n",
        "print(obj_mazda)\n",
        "print(obj_renault)\n",
        "print(obj_audi)\n",
        "\n",
        "# El Mazda 6, va a voltear a la izquierda\n",
        "obj_mazda.voltear('izquierda')\n",
        "\n",
        "# El Audi Q3, va a voltear a la derecha\n",
        "obj_audi.voltear('derecha')\n",
        "\n",
        "# El Renault Logan va a acelerar\n",
        "obj_renault.acelerar()"
      ],
      "execution_count": null,
      "outputs": [
        {
          "output_type": "stream",
          "text": [
            "Mazda 6,Rojo,RED126,2020\n",
            "Renault Logan,Negro,FRE009,2021\n",
            "Audi Q3,Blanco,DPK312,2016\n",
            "Soy Mazda 6 estoy volteando a la izquierda...\n",
            "Soy Audi Q3 estoy volteando a la derecha...\n",
            "Soy Renault Logan estoy acelerando...\n"
          ],
          "name": "stdout"
        }
      ]
    },
    {
      "cell_type": "markdown",
      "metadata": {
        "id": "UUFCVzrwRsQX"
      },
      "source": [
        "Sigamos con el ejemplo de la clase **Vehiculo**, el color, marca y modelo son atributos que una motocicleta, un barco, un avión o una bicicleta también tienen. De hecho, acelerar, frenar y voltear son acciones que cualquier Vehículo puede realizar (bueno, un avión no puede frenar en el aire pero sí en el aterrizaje). Así, podemos modificar la clase Vehículo y tener en ella los atributos y métodos comunes de cualquier vehículo.\n",
        "La clase **Vehículo** es la clase padre, vamos a implementar la clase **Auto**. Fíjense que el atributo numero_ruedas inicializado en 4 es propio de la clase Auto, no debemos colocar este atributo en la clase padre ya que no todos los Vehiculos tienen 4 ruedas, Adicionalmente definir un método llamado **tocar_bocina()** muy propio de la clase **Auto**."
      ]
    },
    {
      "cell_type": "code",
      "metadata": {
        "id": "_J5EMyR9RsQY"
      },
      "source": [
        "class Vehiculo:\n",
        "  \"\"\"Clase que define a un vehículo\"\"\"\n",
        "  def __init__(self,_marca,_color,_modelo,_patente):\n",
        "    \n",
        "    self.marca=_marca\n",
        "    self.color=_color\n",
        "    self.modelo=_modelo\n",
        "    self.patente=_patente\n",
        "\n",
        "  def __str__(self):\n",
        "    return self.marca+\",\"+self.color+\",\"+self.modelo+\",\"+self.patente\n",
        "      \n",
        "  def acelerar(self):\n",
        "      print(\"Soy \"+self.marca+\" estoy acelerando...\")\n",
        "  def frenar(self):\n",
        "      print(\"Soy \"+self.marca+\" estoy frenando...\")\n",
        "  def voltear(self,direccion):\n",
        "      print(\"Soy \"+self.marca+\" estoy volteando a la \"+direccion+\"...\")\n",
        " \n",
        "\n",
        "class Auto(Vehiculo):\n",
        "  \"\"\" Clase hija de vehículo que define un auto\"\"\"\n",
        "  def __init__(self):\n",
        "    self.ruedas=4\n",
        "     \n",
        "  def tocar_bocina(self):\n",
        "    print(\"Bocinazo!!\")\n"
      ],
      "execution_count": null,
      "outputs": []
    },
    {
      "cell_type": "markdown",
      "metadata": {
        "id": "vBGCh1n8RsQY"
      },
      "source": [
        "Crear otras dos clases hijas de Vehiculo: Motocicleta y Avion, y heredar el comportamiento\n",
        "Una motocicleta tiene 2 ruedas y tiene el método **encender_con_patada**, y el Avion tiene 32 ruedas y tiene los métodos **sacar_ruedas** y **aterrizar**"
      ]
    },
    {
      "cell_type": "code",
      "metadata": {
        "id": "9h7O0erIRsQY"
      },
      "source": [
        "class Vehiculo:\n",
        "    \n",
        "    def __init__(self,_marca,_color,_modelo,_patente):    \n",
        "        self.marca=_marca\n",
        "        self.color=_color\n",
        "        self.modelo=_modelo\n",
        "        self.patente=_patente\n",
        "\n",
        "    def __str__(self):\n",
        "        return (self.marca+\",\"+self.color+\",\"+self.modelo+\",\"+self.patente)\n",
        "      \n",
        "    def acelerar(self):\n",
        "        print(\"Soy \"+self.marca+\" estoy acelerando...\")\n",
        "    def frenar(self):\n",
        "        print(\"Soy \"+self.marca+\" estoy frenando...\")\n",
        "    def voltear(self,direccion):\n",
        "        print(\"Soy \"+self.marca+\" estoy volteando a la \"+direccion+\"...\")\n",
        "            \n",
        "class Auto(Vehiculo):\n",
        "#  \"\"\" Clase hija de vehículo que define un auto\"\"\"\n",
        "    ruedas = 4\n",
        "    def tocar_bocina(self):\n",
        "        print(\"Bocinazo!!\")\n",
        "\n",
        "class Motocicleta(Vehiculo):\n",
        "#  \"\"\" Clase hija de vehículo que define una motocicleta\"\"\"\n",
        "    def __init__(self,_marca,_color,_modelo,_patente):\n",
        "        super().__init__(_marca,_color,_modelo,_patente)\n",
        "        self.ruedas=2\n",
        "    \n",
        "    def encender_con_patada(self):\n",
        "        print(\"Arrancando...\")\n",
        "\n",
        "class Avion(Vehiculo):\n",
        "#  \"\"\" Clase hija de vehículo que define un avión\"\"\"\n",
        "    def __init__(self,_marca,_color,_modelo,_patente):\n",
        "        super().__init__(_marca,_color,_modelo,_patente)\n",
        "        self.ruedas=32\n",
        "    def sacar_ruedas(self):\n",
        "        print(\"Bajando tren de aterrizaje...\")\n",
        "    def aterrizar(self):\n",
        "        print(\"Aterrizando...\") "
      ],
      "execution_count": null,
      "outputs": []
    },
    {
      "cell_type": "markdown",
      "metadata": {
        "id": "YNKWj36eRsQY"
      },
      "source": [
        "Cuando hayas implementado la clase Vehículo, deberías poder correr el siguiente código:"
      ]
    },
    {
      "cell_type": "code",
      "metadata": {
        "colab": {
          "base_uri": "https://localhost:8080/"
        },
        "id": "366zBf-uRsQY",
        "outputId": "2d3a95ae-d3f0-487d-e451-6dc61537a80a"
      },
      "source": [
        "# Creamos Objetos Auto\n",
        "obj_mazda = Auto('Mazda 6', 'Rojo', 'RED126', '2020')\n",
        "obj_renault = Auto('Renault Logan', 'Negro', 'FRE009', '2021')\n",
        "obj_audi = Auto('Audi Q3', 'Blanco', 'DPK312', '2016')\n",
        "\n",
        "# Creamos Objetos Motocicleta\n",
        "obj_honda = Motocicleta('Honda CB 500', 'Negro', 'XDR321', '2018')\n",
        "obj_yamaha = Motocicleta('Yamaha R10', 'Azul', 'GTR576', '2016')\n",
        "obj_suzuky = Motocicleta('Suzuky VStrom 650', 'Gris', 'RET841', '2020')\n",
        "\n",
        "# Creamos Objeto Avion\n",
        "obj_jet = Avion('Jet Privado', 'Blanco', 'G-DER4', '2014')\n",
        "\n",
        "# El Mazda 6, va a voltear a la izquierda\n",
        "obj_mazda.voltear('izquierda')\n",
        "\n",
        "# El Audi Q3, va a voltear a la derecha\n",
        "obj_audi.voltear('derecha')\n",
        "\n",
        "# El Renault Logan va a acelerar\n",
        "obj_renault.acelerar()\n",
        "\n",
        "# ---------------------------------------------------------------\n",
        "\n",
        "# La Honda va a encender con patada.\n",
        "obj_honda.encender_con_patada()\n",
        "\n",
        "# La Honda, va a voltear a la izquierda\n",
        "obj_honda.voltear('izquierda')\n",
        "\n",
        "# La Yamaha, va a voltear a la derecha\n",
        "obj_yamaha.voltear('derecha')\n",
        "\n",
        "# La Suzuky va a frenar\n",
        "obj_suzuky.frenar()\n",
        "\n",
        "# ----------------------------------------------\n",
        "\n",
        "# El Jet acelera\n",
        "obj_jet.acelerar()\n",
        "\n",
        "# El Jet voltea a la derecha\n",
        "obj_jet.voltear('derecha')\n",
        "\n",
        "# El Jet saca las llantas\n",
        "obj_jet.sacar_ruedas()\n",
        "\n",
        "# Y aterriza.\n",
        "obj_jet.aterrizar()"
      ],
      "execution_count": null,
      "outputs": [
        {
          "output_type": "stream",
          "text": [
            "Soy Mazda 6 estoy volteando a la izquierda...\n",
            "Soy Audi Q3 estoy volteando a la derecha...\n",
            "Soy Renault Logan estoy acelerando...\n",
            "Arrancando...\n",
            "Soy Honda CB 500 estoy volteando a la izquierda...\n",
            "Soy Yamaha R10 estoy volteando a la derecha...\n",
            "Soy Suzuky VStrom 650 estoy frenando...\n",
            "Soy Jet Privado estoy acelerando...\n",
            "Soy Jet Privado estoy volteando a la derecha...\n",
            "Bajando tren de aterrizaje...\n",
            "Aterrizando...\n"
          ],
          "name": "stdout"
        }
      ]
    },
    {
      "cell_type": "markdown",
      "metadata": {
        "id": "MElKR6bSRsQY"
      },
      "source": [
        "# Composición"
      ]
    },
    {
      "cell_type": "markdown",
      "metadata": {
        "id": "Jmfjvb0yRsQY"
      },
      "source": [
        "Si subiste a un Auto alguna vez sabés que dentro, existen otros objetos mas complejos, tiene una palanca de cambios, tiene cinturones de seguridad, tiene unos asientos, entre otros objetos. Cada objeto por sí mismo puede ser representado por una clase, para nuestro ejemplo implementaremos la clase **PalancaCambio**.\n",
        "La clase PalancaCambio tiene 3 atributos: numero_cambios el cual es 4 por defecto, color, el cual es ‘Negro’ por defecto y peso que es ‘50gr’ por defecto, e implementa dos métodos **subir_cambio** y **bajar_cambio**. "
      ]
    },
    {
      "cell_type": "code",
      "metadata": {
        "id": "u8F6KkjyRsQY"
      },
      "source": [
        "\n"
      ],
      "execution_count": null,
      "outputs": []
    },
    {
      "cell_type": "code",
      "metadata": {
        "id": "0eh1srAFRsQY"
      },
      "source": [
        "Ahora, por motivos del ejemplo supongamos que todos los vehículos deben contar con una palanca de cambios (un bote por ejemplo, es un ejemplo de un vehículo sin palanca de cambios). Teniendo esto en cuenta, decimos que todo vehículo tiene una palanca de cambios.\n",
        "La composición trata de una relación semántica entre una clase que “Tiene” y una clase que “Hace Parte”. En nuestro caso la clase Vehiculo “Tiene” un objeto PalancaCambio y a su vez, el objeto PalancaCambio “Hace Parte” de Vehiculo y semánticamente tiene sentido.\n",
        "Incorporar la palanca de cambios en Vehículo"
      ],
      "execution_count": null,
      "outputs": []
    },
    {
      "cell_type": "code",
      "metadata": {
        "id": "8FdcbB98RsQY"
      },
      "source": [
        ""
      ],
      "execution_count": null,
      "outputs": []
    },
    {
      "cell_type": "markdown",
      "metadata": {
        "id": "GBafWVqXRsQY"
      },
      "source": [
        "Cuando hayas modificado la clase Vehículo."
      ]
    },
    {
      "cell_type": "code",
      "metadata": {
        "colab": {
          "base_uri": "https://localhost:8080/",
          "height": 231
        },
        "id": "_tvehkh-RsQZ",
        "outputId": "79d04fbf-c161-483e-b229-df4b47880770"
      },
      "source": [
        "# Creamos el objeto carro, Mazda 6.\n",
        "obj_mazda = Carro('Mazda 6', 'Rojo', 'RED126', '2020')\n",
        "\n",
        "print(obj_mazda)\n",
        "\n",
        "# Establecemos a 8 el numero de cambios para este carro\n",
        "# y el peso de la palanca de cambios en 25gr\n",
        "obj_mazda.palanca_cambio.numero_cambios = 8\n",
        "obj_mazda.palanca_cambio.peso = '25gr'\n",
        "print(obj_mazda.palanca_cambio)\n",
        "\n",
        "# Subimos un cambio\n",
        "obj_mazda.palanca_cambio.subir_cambio()\n",
        "\n",
        "# ---------------------------------------------------------------\n",
        "\n",
        "# Creamos el objeto Motocicleta, Honda CB 500\n",
        "obj_honda = Motocicleta('Honda CB 500', 'Negro', 'XDR321', '2018')\n",
        "print(obj_honda)\n",
        "\n",
        "# Establecemos a 6 el numero de cambios para esta moto\n",
        "obj_honda.palanca_cambio.numero_cambios = 6\n",
        "print(obj_honda.palanca_cambio)\n",
        "\n",
        "# Subimos un cambio\n",
        "obj_honda.palanca_cambio.subir_cambio()"
      ],
      "execution_count": null,
      "outputs": [
        {
          "output_type": "error",
          "ename": "NameError",
          "evalue": "ignored",
          "traceback": [
            "\u001b[0;31m---------------------------------------------------------------------------\u001b[0m",
            "\u001b[0;31mNameError\u001b[0m                                 Traceback (most recent call last)",
            "\u001b[0;32m<ipython-input-47-513c8ceffd0e>\u001b[0m in \u001b[0;36m<module>\u001b[0;34m()\u001b[0m\n\u001b[1;32m      1\u001b[0m \u001b[0;31m# Creamos el objeto carro, Mazda 6.\u001b[0m\u001b[0;34m\u001b[0m\u001b[0;34m\u001b[0m\u001b[0;34m\u001b[0m\u001b[0m\n\u001b[0;32m----> 2\u001b[0;31m \u001b[0mobj_mazda\u001b[0m \u001b[0;34m=\u001b[0m \u001b[0mCarro\u001b[0m\u001b[0;34m(\u001b[0m\u001b[0;34m'Mazda 6'\u001b[0m\u001b[0;34m,\u001b[0m \u001b[0;34m'Rojo'\u001b[0m\u001b[0;34m,\u001b[0m \u001b[0;34m'RED126'\u001b[0m\u001b[0;34m,\u001b[0m \u001b[0;34m'2020'\u001b[0m\u001b[0;34m)\u001b[0m\u001b[0;34m\u001b[0m\u001b[0;34m\u001b[0m\u001b[0m\n\u001b[0m\u001b[1;32m      3\u001b[0m \u001b[0;34m\u001b[0m\u001b[0m\n\u001b[1;32m      4\u001b[0m \u001b[0mprint\u001b[0m\u001b[0;34m(\u001b[0m\u001b[0mobj_mazda\u001b[0m\u001b[0;34m)\u001b[0m\u001b[0;34m\u001b[0m\u001b[0;34m\u001b[0m\u001b[0m\n\u001b[1;32m      5\u001b[0m \u001b[0;34m\u001b[0m\u001b[0m\n",
            "\u001b[0;31mNameError\u001b[0m: name 'Carro' is not defined"
          ]
        }
      ]
    },
    {
      "cell_type": "markdown",
      "metadata": {
        "id": "r3qp-2riRsQZ"
      },
      "source": [
        "# Encapsulamiento"
      ]
    },
    {
      "cell_type": "markdown",
      "metadata": {
        "id": "zq8uDLWNRsQZ"
      },
      "source": [
        "Este último concepto del paradigma de programación orientada a objetos, nos dice que una clase no debería poder modificar directamente los atributos de otra clase, sino que deberían haber métodos de acceso con los cuales podamos cambiar y obtener estos atributos (los famosos **getters** y **setters**). El siguiente código viola el principio de encapsulamiento."
      ]
    },
    {
      "cell_type": "code",
      "metadata": {
        "id": "lykubXYQRsQZ"
      },
      "source": [
        "obj_mazda.palanca_cambio.numero_cambios = 8\n",
        "obj_mazda.palanca_cambio.peso = '25gr'\n",
        "obj_honda.palanca_cambio.numero_cambios = 6"
      ],
      "execution_count": null,
      "outputs": []
    },
    {
      "cell_type": "markdown",
      "metadata": {
        "id": "TtLfnjqiRsQZ"
      },
      "source": [
        "Debemos entender entonces que los atributos de una clase pueden presentar tres niveles de privacidad:\n",
        "\n",
        "**Públicos:** Todos los atributos que hemos implementado hasta ahora son públicos, simplemente creando un objeto de dicha clase y usando la sintaxis del punto, podemos acceder y modificar desde otra clase cualquier atributo.\n",
        "\n",
        "**Protegidos:** Establece que un atributo solo puede ser accedido y modificado por la clase en sí misma y sus clases hijas (si es que tiene), este concepto se relaciona con la Herencia. Para definir un atributo como protegido, debes declararlo con un “guion bajo”, todos los atributos de la clase Vehículo, deberían ser protegidos. Implemente esa característica."
      ]
    },
    {
      "cell_type": "code",
      "metadata": {
        "id": "GUgeACo-RsQZ"
      },
      "source": [
        ""
      ],
      "execution_count": null,
      "outputs": []
    },
    {
      "cell_type": "code",
      "metadata": {
        "id": "9jqyDk5gRsQZ"
      },
      "source": [
        "**Privados:** Establece que un atributo puede ser accedido únicamente desde la clase donde fue definido. En este sentido, los atributos propios de las clases hijas y los atributos de la clase PalancaCambios deberían ser privados y tener los correspondientes getters y setters para acceder a estos. Para que un atributo sea privado en Python, debemos anteponer “dobles guiones bajo”\n",
        "\n",
        "Implementar las correspondientes modificaciones a la clase **PalancaCambios**. Definir getters y setters, uno por cada atributo privado, de esta manera nos aseguramos de acceder a estos atributos por medio de estos métodos, que actuan como una especie de interface."
      ],
      "execution_count": null,
      "outputs": []
    },
    {
      "cell_type": "code",
      "metadata": {
        "id": "hq8rOaXXRsQZ"
      },
      "source": [
        ""
      ],
      "execution_count": null,
      "outputs": []
    },
    {
      "cell_type": "markdown",
      "metadata": {
        "id": "Z7FQA6c4RsQZ"
      },
      "source": [
        "Modifique también las clases de la Herencia con getters y setters"
      ]
    },
    {
      "cell_type": "code",
      "metadata": {
        "id": "8BFTZYY5RsQZ"
      },
      "source": [
        ""
      ],
      "execution_count": null,
      "outputs": []
    },
    {
      "cell_type": "code",
      "metadata": {
        "id": "usCbGJ10RsQZ"
      },
      "source": [
        "Cuando hayas implementado los getters y setters, deberías poder correr el siguiente código:"
      ],
      "execution_count": null,
      "outputs": []
    },
    {
      "cell_type": "code",
      "metadata": {
        "id": "njWaSDt7RsQZ"
      },
      "source": [
        "# Creamos el objeto carro, Mazda 6.\n",
        "obj_mazda = Auto('Mazda 6', 'Rojo', 'RED126', '2020')\n",
        "\n",
        "print(obj_mazda)\n",
        "\n",
        "# Establecemos a 8 el numero de cambios para este carro\n",
        "# y el peso de la palanca de cambios en 25gr.\n",
        "\n",
        "# Usamos el metodo set_numero_cambios\n",
        "obj_mazda._palanca_cambio.set_numero_cambios(8) \n",
        "# Usamos el metodo set_peso\n",
        "obj_mazda._palanca_cambio.set_peso('25gr') \n",
        "print(obj_mazda._palanca_cambio)\n",
        "\n",
        "# Subimos un cambio\n",
        "obj_mazda._palanca_cambio.subir_cambio()\n",
        "\n",
        "# ---------------------------------------------------------------\n",
        "\n",
        "# Creamos el objeto Motocicleta, Honda CB 500\n",
        "obj_honda = Motocicleta('Honda CB 500', 'Negro', 'XDR321', '2018')\n",
        "print(obj_honda)\n",
        "\n",
        "# Usamos el metodo set_numero_cambios\n",
        "obj_honda._palanca_cambio.set_numero_cambios(6)\n",
        "print(obj_honda._palanca_cambio)\n",
        "\n",
        "# Subimos un cambio\n",
        "obj_honda._palanca_cambio.subir_cambio()"
      ],
      "execution_count": null,
      "outputs": []
    }
  ]
}