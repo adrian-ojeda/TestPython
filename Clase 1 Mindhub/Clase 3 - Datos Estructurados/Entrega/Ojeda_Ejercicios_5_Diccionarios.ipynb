{
  "nbformat": 4,
  "nbformat_minor": 0,
  "metadata": {
    "kernelspec": {
      "display_name": "Python 3",
      "language": "python",
      "name": "python3"
    },
    "language_info": {
      "codemirror_mode": {
        "name": "ipython",
        "version": 3
      },
      "file_extension": ".py",
      "mimetype": "text/x-python",
      "name": "python",
      "nbconvert_exporter": "python",
      "pygments_lexer": "ipython3",
      "version": "3.6.9"
    },
    "colab": {
      "name": "Ojeda-Ejercicios-5-Diccionarios.ipynb",
      "provenance": [],
      "collapsed_sections": []
    }
  },
  "cells": [
    {
      "cell_type": "markdown",
      "metadata": {
        "id": "oLukbD0KdWKs"
      },
      "source": [
        "# Ejercicios de Diccionarios"
      ]
    },
    {
      "cell_type": "markdown",
      "metadata": {
        "id": "vzf-s9J8dWKs"
      },
      "source": [
        "## Ejercicio 1"
      ]
    },
    {
      "cell_type": "markdown",
      "metadata": {
        "id": "nakaQko_dWKs"
      },
      "source": [
        "Escribir un programa que guarde en una variable el diccionario <font color=#B40431>{'Euro':'€', 'Dollar':'$', 'Yen':'¥'}</font>, pregunte al usuario por una divisa y muestre su símbolo o un mensaje de aviso si la divisa no está en el diccionario."
      ]
    },
    {
      "cell_type": "code",
      "metadata": {
        "colab": {
          "base_uri": "https://localhost:8080/"
        },
        "id": "nRgoXon8dWKs",
        "outputId": "a0caec46-7567-4f96-d9e1-1961996e53c7"
      },
      "source": [
        "tipo_moneda={\"Euro\":\"€\",\"Dollar\":\"$\",\"Yen\":\"¥\"}\n",
        "\n",
        "divisa=input(\"Ingrese divisa (Euro/Dollar/Yen) para conocer su símbolo:\")\n",
        "\n",
        "if divisa in tipo_moneda:\n",
        "  print(\"El Símbolo de\",divisa,\"es:\",tipo_moneda[divisa])\n",
        "else:\n",
        "  print(\"Ese símbolo no esta en el diccionario\")\n",
        "\n"
      ],
      "execution_count": 28,
      "outputs": [
        {
          "output_type": "stream",
          "text": [
            "Ingrese divisa (Euro/Dollar/Yen) para conocer su símbolo:Euro\n",
            "El Símbolo de Euro es: €\n"
          ],
          "name": "stdout"
        }
      ]
    },
    {
      "cell_type": "markdown",
      "metadata": {
        "id": "h6M9SGDydWKs"
      },
      "source": [
        "## Ejercicio 2"
      ]
    },
    {
      "cell_type": "markdown",
      "metadata": {
        "id": "nS22_P9WdWKt"
      },
      "source": [
        "Escribir un programa que pregunte al usuario su nombre, edad, dirección y teléfono y lo guarde en un diccionario. Después debe mostrar por pantalla el mensaje <<font color=#B40431>&#60;nombre&#62; tiene &#60;edad&#62; años, vive en &#60;dirección&#62; y su número de teléfono es &#60;teléfono&#62;.</font>"
      ]
    },
    {
      "cell_type": "code",
      "metadata": {
        "colab": {
          "base_uri": "https://localhost:8080/"
        },
        "id": "PotmGMTDdWKt",
        "outputId": "af689f36-160c-489a-88b4-65e7b879d70b"
      },
      "source": [
        "claves=(\"nombre\",\"edad\",\"dirección\",\"teléfono\")\n",
        "datos={}\n",
        "for i in range(len(claves)):\n",
        "  consulta=input(\"Por favor ingrese su \"+claves[i]+\":\")\n",
        "  datos[claves[i]]=consulta\n",
        "\n",
        "print(datos[\"nombre\"],\"tiene\",datos[\"edad\"],\"años , vive en\",datos[\"dirección\"],\"y su número de teléfono es\",datos[\"teléfono\"])\n",
        "\n"
      ],
      "execution_count": 40,
      "outputs": [
        {
          "output_type": "stream",
          "text": [
            "Por favor ingrese su nombre:Adrian\n",
            "Por favor ingrese su edad:37\n",
            "Por favor ingrese su dirección:Jean Juares 675\n",
            "Por favor ingrese su teléfono:1162092128\n",
            "Adrian tiene 37 , vive en Jean Juares 675 y su número de teléfono es 1162092128\n"
          ],
          "name": "stdout"
        }
      ]
    },
    {
      "cell_type": "markdown",
      "metadata": {
        "id": "DCDAvcBFdWKt"
      },
      "source": [
        "## Ejercicio 3"
      ]
    },
    {
      "cell_type": "markdown",
      "metadata": {
        "id": "q5gDnusAdWKt"
      },
      "source": [
        "Escribir un programa que guarde en un diccionario los precios de las frutas de la tabla, pregunte al usuario por una fruta, un número de kilos y muestre por pantalla el precio de ese número de kilos de fruta. Si la fruta no está en el diccionario debe mostrar un mensaje informando de ello.\n",
        "<table>\n",
        "<thead>\n",
        "<tr>\n",
        "<th style=\"text-align:left\">Fruta</th>\n",
        "<th style=\"text-align:center\">Precio</th>\n",
        "</tr>\n",
        "</thead>\n",
        "<tbody>\n",
        "<tr>\n",
        "<td style=\"text-align:left\">Banana</td>\n",
        "<td style=\"text-align:center\">120</td>\n",
        "</tr>\n",
        "<tr>\n",
        "<td style=\"text-align:left\">Manzana</td>\n",
        "<td style=\"text-align:center\">130</td>\n",
        "</tr>\n",
        "<tr>\n",
        "<td style=\"text-align:left\">Pera</td>\n",
        "<td style=\"text-align:center\">90</td>\n",
        "</tr>\n",
        "<tr>\n",
        "<td style=\"text-align:left\">Naranja</td>\n",
        "<td style=\"text-align:center\">85</td>\n",
        "</tr>\n",
        "</tbody>\n",
        "</table>"
      ]
    },
    {
      "cell_type": "code",
      "metadata": {
        "colab": {
          "base_uri": "https://localhost:8080/"
        },
        "id": "Yy5NbJbpdWKt",
        "outputId": "60cfce07-6812-4877-b1b7-70bea2384d0f"
      },
      "source": [
        "verduleria={\"Banana\":120,\"Manzana\":130,\"Pera\":90,\"Naranja\":85}\n",
        "fruta=input(\"¿Que fruta quiere llevar?\").title()\n",
        "kilos=int(input(\"¿Cuantos kilos necesita?\"))\n",
        "total=0\n",
        "\n",
        "if fruta in verduleria:\n",
        "  total=(verduleria[fruta]*kilos)\n",
        "  print(\"El total de su compra es $\",total)\n",
        "else:\n",
        "  print(\"No tenemos\",fruta,\"en stock\")\n",
        "\n",
        "  \n",
        "\n",
        "\n",
        "\n"
      ],
      "execution_count": 52,
      "outputs": [
        {
          "output_type": "stream",
          "text": [
            "¿Que fruta quiere llevar?manzana\n",
            "¿Cuantos kilos necesita?10\n",
            "El total de su compra es $ 1300\n"
          ],
          "name": "stdout"
        }
      ]
    },
    {
      "cell_type": "markdown",
      "metadata": {
        "id": "2vscwDNndWKt"
      },
      "source": [
        "## Ejercicio 4"
      ]
    },
    {
      "cell_type": "markdown",
      "metadata": {
        "id": "ijYXEU4OdWKt"
      },
      "source": [
        "Escribir un programa que pregunte una fecha en formato <font color=#B40431>dd/mm/aaaa</font> y muestre por pantalla la misma fecha en formato <font color=#B40431>dd de &#60;mes&#62; de aaaa</font> donde <font color=#B40431>&#60;mes&#62;</font> es el nombre del mes."
      ]
    },
    {
      "cell_type": "code",
      "metadata": {
        "colab": {
          "base_uri": "https://localhost:8080/"
        },
        "id": "PN54ZikRdWKt",
        "outputId": "7ba9fdc1-f733-4657-d672-31176e0d9cb3"
      },
      "source": [
        "año={\"01\":\"Enero\",\"02\":\"Febrero\",\"03\":\"Marzo\",\"04\":\"Abril\",\"05\":\"Mayo\",\"06\":\"Junio\",\"07\":\"Julio\",\"08\":\"Agosto\",\"09\":\"Septiembre\",\"10\":\"Octubre\",\"11\":\"Noviembre\",\"12\":\"Diciembre\"}\n",
        "fecha=input(\"Por favor ingrese una fecha en formato dd/mm/aaaa:\")\n",
        "mes=fecha[3:5]\n",
        "print(fecha[0:2],\"de\",año[mes],\"de\",fecha[6:10])\n"
      ],
      "execution_count": 55,
      "outputs": [
        {
          "output_type": "stream",
          "text": [
            "Por favor ingrese una fecha en formato dd/mm/aaaa:25/06/1983\n",
            "25 de Junio de 1983\n"
          ],
          "name": "stdout"
        }
      ]
    },
    {
      "cell_type": "markdown",
      "metadata": {
        "id": "2BmRPTjmdWKt"
      },
      "source": [
        "## Ejercicio 5"
      ]
    },
    {
      "cell_type": "markdown",
      "metadata": {
        "id": "yyePvXU2dWKt"
      },
      "source": [
        "Escribir un programa que almacene el diccionario con los créditos de las asignaturas de un curso <font color=#B40431>{'Matemáticas': 6, 'Física': 4, 'Química': 5}</font>y después muestre por pantalla los créditos de cada asignatura en el formato <font color=#B40431>&#60;asignatura&#62;</font> tiene <font color=#B40431>&#60;créditos&#62;</font> créditos, donde <font color=#B40431>&#60;asignatura&#62;</font> es cada una de las asignaturas del curso, y <font color=#B40431>&#60;créditos&#62;</font> son sus créditos. Al final debe mostrar también el número total de créditos del curso."
      ]
    },
    {
      "cell_type": "code",
      "metadata": {
        "colab": {
          "base_uri": "https://localhost:8080/"
        },
        "id": "Ao-_g7Z8dWKt",
        "outputId": "91a73618-04aa-46b9-e7a0-071701301ecc"
      },
      "source": [
        "asignaturas= {'Matemáticas': 6, 'Física': 4, 'Química': 5}\n",
        "total=0\n",
        "for materia, credito in asignaturas.items():\n",
        "    print(materia, \"tiene\", credito, 'créditos')\n",
        "    total+=credito\n",
        "\n",
        "print(\"El total de créditos del curso es :\",total)\n"
      ],
      "execution_count": 65,
      "outputs": [
        {
          "output_type": "stream",
          "text": [
            "Matemáticas tiene 6 créditos\n",
            "Física tiene 4 créditos\n",
            "Química tiene 5 créditos\n",
            "El total de créditos del curso es : 15\n"
          ],
          "name": "stdout"
        }
      ]
    },
    {
      "cell_type": "markdown",
      "metadata": {
        "id": "izLebeY3dWKt"
      },
      "source": [
        "## Ejercicio 6"
      ]
    },
    {
      "cell_type": "markdown",
      "metadata": {
        "id": "zFOARA3VdWKt"
      },
      "source": [
        "Escribir un programa que cree un diccionario vacío y lo vaya llenado con información sobre una persona (por ejemplo nombre, edad, sexo, teléfono, correo electrónico, etc.) que se le pida al usuario. Cada vez que se añada un nuevo dato debe imprimirse el contenido del diccionario."
      ]
    },
    {
      "cell_type": "code",
      "metadata": {
        "colab": {
          "base_uri": "https://localhost:8080/"
        },
        "id": "53MR7mYxdWKt",
        "outputId": "1dc4c33c-4bd1-4ab8-d931-ae10ed2e6069"
      },
      "source": [
        "info={}\n",
        "switch=\"S\"\n",
        "while switch==\"S\":\n",
        "    clave=input(\"¿Que información vas a introducir?(nombre,edad,sexo,teléfono,etc): \")\n",
        "    valor=input(\"Escriba su \"+clave+\":\")\n",
        "    info[clave]=valor\n",
        "    print(info)\n",
        "    switch=input(\"¿Desea seguir? S/N : \").upper()\n",
        "\n"
      ],
      "execution_count": 83,
      "outputs": [
        {
          "output_type": "stream",
          "text": [
            "¿Que información vas a introducir?(nombre,edad,sexo,teléfono,etc): nombre\n",
            "Escriba su nombre:Adrian\n",
            "{'nombre': 'Adrian'}\n",
            "¿Desea seguir? S/N : s\n",
            "¿Que información vas a introducir?(nombre,edad,sexo,teléfono,etc): edad\n",
            "Escriba su edad:37\n",
            "{'nombre': 'Adrian', 'edad': '37'}\n",
            "¿Desea seguir? S/N : n\n"
          ],
          "name": "stdout"
        }
      ]
    },
    {
      "cell_type": "markdown",
      "metadata": {
        "id": "8Hluf1FIdWKt"
      },
      "source": [
        "## Ejercicio 7"
      ]
    },
    {
      "cell_type": "markdown",
      "metadata": {
        "id": "NrPT4lPUdWKt"
      },
      "source": [
        "Escribir un programa que cree un diccionario simulando una cesta de la compra. El programa debe preguntar el artículo y su precio y añadir el par al diccionario, hasta que el usuario decida terminar. Después se debe mostrar por pantalla la lista de la compra y el coste total, con el siguiente formato\n",
        "<table>\n",
        "<thead>\n",
        "<tr>\n",
        "<th style=\"text-align:left\">Lista de la compra</th>\n",
        "<th style=\"text-align:right\"></th>\n",
        "</tr>\n",
        "</thead>\n",
        "<tbody>\n",
        "<tr>\n",
        "<td style=\"text-align:left\">Artículo 1</td>\n",
        "<td style=\"text-align:right\">Precio</td>\n",
        "</tr>\n",
        "<tr>\n",
        "<td style=\"text-align:left\">Artículo 2</td>\n",
        "<td style=\"text-align:right\">Precio</td>\n",
        "</tr>\n",
        "<tr>\n",
        "<td style=\"text-align:left\">Artículo 3</td>\n",
        "<td style=\"text-align:right\">Precio</td>\n",
        "</tr>\n",
        "<tr>\n",
        "<td style=\"text-align:left\">&hellip;</td>\n",
        "<td style=\"text-align:right\">&hellip;</td>\n",
        "</tr>\n",
        "<tr>\n",
        "<td style=\"text-align:left\">Total</td>\n",
        "<td style=\"text-align:right\">Coste</td>\n",
        "</tr>\n",
        "</tbody>\n",
        "</table>"
      ]
    },
    {
      "cell_type": "code",
      "metadata": {
        "colab": {
          "base_uri": "https://localhost:8080/"
        },
        "id": "PYbCgsoPdWKt",
        "outputId": "123d3614-3540-4408-d644-40f0dfd1cee5"
      },
      "source": [
        "cesta_compras={}\n",
        "terminar=\"S\"\n",
        "total=0\n",
        "while terminar==\"S\":\n",
        "  articulo=input(\"Introduzca el artículo: \")\n",
        "  precio=int(input(\"Introduzca el precio: \"))\n",
        "  cesta_compras[articulo]=precio\n",
        "  total+=precio\n",
        "  terminar=input(\"¿Desea seguir comprando? S/N: \").upper()\n",
        "  \n",
        "for item,valor in cesta_compras.items():\n",
        "  print(item,\"\\t\",\"$\",valor)\n",
        "  \n",
        "print(\"\")\n",
        "print(\"Total \\t\",\"$\",total)\n",
        "\n",
        "\n"
      ],
      "execution_count": 93,
      "outputs": [
        {
          "output_type": "stream",
          "text": [
            "Introduzca el artículo: banana\n",
            "Introduzca el precio: 100\n",
            "¿Desea seguir comprando? S/N: s\n",
            "Introduzca el artículo: kiwi\n",
            "Introduzca el precio: 100\n",
            "¿Desea seguir comprando? S/N: n\n",
            "banana \t $ 100\n",
            "kiwi \t $ 100\n",
            "Total \t $ 200\n"
          ],
          "name": "stdout"
        }
      ]
    },
    {
      "cell_type": "markdown",
      "metadata": {
        "id": "KrQ6zE9udWKt"
      },
      "source": [
        "## Ejercicio 8"
      ]
    },
    {
      "cell_type": "markdown",
      "metadata": {
        "id": "e8xRa7PydWKt"
      },
      "source": [
        "Escribir un programa que cree un diccionario de traducción español-inglés. El usuario introducirá las palabras en español e inglés separadas por dos puntos, y cada par <font color=#B40431>&#60;palabra&#62;:&#60;traducción&#62;</font> separados por comas. El programa debe crear un diccionario con las palabras y sus traducciones. Después pedirá una frase en español y utilizará el diccionario para traducirla palabra a palabra. Si una palabra no está en el diccionario debe dejarla sin traducir."
      ]
    },
    {
      "cell_type": "code",
      "metadata": {
        "id": "5vu1YRlMdWKt"
      },
      "source": [
        ""
      ],
      "execution_count": null,
      "outputs": []
    },
    {
      "cell_type": "markdown",
      "metadata": {
        "id": "am0jLdRKdWKt"
      },
      "source": [
        "## Ejercicio 9"
      ]
    },
    {
      "cell_type": "markdown",
      "metadata": {
        "id": "XqrPiMRcdWKt"
      },
      "source": [
        "Escribir un programa que gestione las facturas pendientes de cobro de una empresa. Las facturas se almacenarán en un diccionario donde la clave de cada factura será el número de factura y el valor del total de la factura. El programa debe preguntar al usuario si quiere añadir una nueva factura, pagar una existente o terminar. Si desea añadir una nueva factura se preguntará por el número de factura y su coste y se añadirá al diccionario. Si se desea pagar una factura se preguntará por el número de factura y se eliminará del diccionario. Después de cada operación el programa debe mostrar por pantalla la cantidad cobrada hasta el momento y la cantidad pendiente de cobro."
      ]
    },
    {
      "cell_type": "code",
      "metadata": {
        "id": "eCb7Dn1LdWKt"
      },
      "source": [
        ""
      ],
      "execution_count": null,
      "outputs": []
    },
    {
      "cell_type": "markdown",
      "metadata": {
        "id": "is6l66NYdWKt"
      },
      "source": [
        "## Ejercicio 10"
      ]
    },
    {
      "cell_type": "markdown",
      "metadata": {
        "id": "OLbsUYAsdWKt"
      },
      "source": [
        "Escribir un programa que permita gestionar la base de datos de clientes de una empresa. Los clientes se guardarán en un diccionario en el que la clave de cada cliente será su DNI, y el valor será otro diccionario con los datos del cliente (nombre, dirección, teléfono, correo, preferente), donde preferente tendrá el valor True si se trata de un cliente preferente. El programa debe preguntar al usuario por una opción del siguiente menú: (1) Añadir cliente, (2) Eliminar cliente, (3) Mostrar cliente, (4) Listar todos los clientes, (5) Listar clientes preferentes, (6) Terminar. En función de la opción elegida el programa tendrá que hacer lo siguiente:\n",
        "<ol>\n",
        "<li>Preguntar los datos del cliente, crear un diccionario con los datos y añadirlo a la base de datos.</li>\n",
        "<li>Preguntar por el DNI del cliente y eliminar sus datos de la base de datos.</li>\n",
        "<li>Preguntar por el DNI del cliente y mostrar sus datos.</li>\n",
        "<li>Mostrar lista de todos los clientes de la base datos con su DNI y nombre.</li>\n",
        "<li>Mostrar la lista de clientes preferentes de la base de datos con su DNI y nombre.</li>\n",
        "<li>Terminar el programa.</li>\n",
        "</ol>"
      ]
    },
    {
      "cell_type": "code",
      "metadata": {
        "id": "LeCQOuR5dWKt"
      },
      "source": [
        ""
      ],
      "execution_count": null,
      "outputs": []
    }
  ]
}