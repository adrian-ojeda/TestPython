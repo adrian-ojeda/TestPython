{
  "nbformat": 4,
  "nbformat_minor": 0,
  "metadata": {
    "kernelspec": {
      "display_name": "Python 3",
      "language": "python",
      "name": "python3"
    },
    "language_info": {
      "codemirror_mode": {
        "name": "ipython",
        "version": 3
      },
      "file_extension": ".py",
      "mimetype": "text/x-python",
      "name": "python",
      "nbconvert_exporter": "python",
      "pygments_lexer": "ipython3",
      "version": "3.6.9"
    },
    "colab": {
      "name": "Ojeda-Soluciones-5-Diccionarios.ipynb",
      "provenance": [],
      "collapsed_sections": []
    }
  },
  "cells": [
    {
      "cell_type": "markdown",
      "metadata": {
        "id": "0FfK-8ZUoRMU"
      },
      "source": [
        "# Soluciones de Ejercicios de Diccionarios"
      ]
    },
    {
      "cell_type": "markdown",
      "metadata": {
        "id": "Bu_I5x4qoRMU"
      },
      "source": [
        "## Ejercicio 1"
      ]
    },
    {
      "cell_type": "markdown",
      "metadata": {
        "id": "VPk1XI0boRMU"
      },
      "source": [
        "Escribir un programa que guarde en una variable el diccionario <font color=#B40431>{'Euro':'€', 'Dollar':'$', 'Yen':'¥'}</font>, pregunte al usuario por una divisa y muestre su símbolo o un mensaje de aviso si la divisa no está en el diccionario."
      ]
    },
    {
      "cell_type": "code",
      "metadata": {
        "id": "EQuVMBsMoRMU"
      },
      "source": [
        "# Solución\n",
        "currencies = {'Euro':'€', 'Dollar':'$', 'Yen':'¥'}\n",
        "currency = input(\"Introduce una divisa: \")\n",
        "print(currencies.get(currency.title(), \"La divisa no está.\"))"
      ],
      "execution_count": null,
      "outputs": []
    },
    {
      "cell_type": "code",
      "metadata": {
        "id": "68_jwn8boRMU"
      },
      "source": [
        "tipo_moneda={\"Euro\":\"€\",\"Dollar\":\"$\",\"Yen\":\"¥\"}\n",
        "\n",
        "divisa=input(\"Ingrese divisa (Euro/Dollar/Yen) para conocer su símbolo:\")\n",
        "\n",
        "if divisa in tipo_moneda:\n",
        "  print(\"El Símbolo de\",divisa,\"es:\",tipo_moneda[divisa])\n",
        "else:\n",
        "  print(\"Ese símbolo no esta en el diccionario\")\n"
      ],
      "execution_count": null,
      "outputs": []
    },
    {
      "cell_type": "markdown",
      "metadata": {
        "id": "-gcRki9qoRMU"
      },
      "source": [
        "## Ejercicio 2"
      ]
    },
    {
      "cell_type": "markdown",
      "metadata": {
        "id": "KQVmloGAoRMU"
      },
      "source": [
        "Escribir un programa que pregunte al usuario su nombre, edad, dirección y teléfono y lo guarde en un diccionario. Después debe mostrar por pantalla el mensaje <<font color=#B40431>&#60;nombre&#62; tiene &#60;edad&#62; años, vive en &#60;dirección&#62; y su número de teléfono es &#60;teléfono&#62;.</font>"
      ]
    },
    {
      "cell_type": "code",
      "metadata": {
        "id": "U0dPXY4ioRMU"
      },
      "source": [
        "# Solución\n",
        "name = input('¿Cómo te llamas? ')\n",
        "age = input('¿Cuántos años tienes? ')\n",
        "address = input('¿Cuál es tu dirección? ')\n",
        "phone = input('¿Cuál es tu número de teléfono? ')\n",
        "person = {'name': name, 'age': age, 'address': address, 'phone': phone}\n",
        "print(person['name'], 'tiene', person['age'], 'años, vive en', person['address'], 'y su número de teléfono es', person['phone'])"
      ],
      "execution_count": null,
      "outputs": []
    },
    {
      "cell_type": "code",
      "metadata": {
        "id": "nEaaCOBaoRMU"
      },
      "source": [
        "claves=(\"nombre\",\"edad\",\"dirección\",\"teléfono\")\n",
        "datos={}\n",
        "for i in range(len(claves)):\n",
        "  consulta=input(\"Por favor ingrese su \"+claves[i]+\":\")\n",
        "  datos[claves[i]]=consulta\n",
        "\n",
        "print(datos[\"nombre\"],\"tiene\",datos[\"edad\"],\"años , vive en\",datos[\"dirección\"],\"y su número de teléfono es\",datos[\"teléfono\"])\n"
      ],
      "execution_count": null,
      "outputs": []
    },
    {
      "cell_type": "markdown",
      "metadata": {
        "id": "FBYkloRPoRMU"
      },
      "source": [
        "## Ejercicio 3"
      ]
    },
    {
      "cell_type": "markdown",
      "metadata": {
        "id": "a3S8UVnloRMU"
      },
      "source": [
        "Escribir un programa que guarde en un diccionario los precios de las frutas de la tabla, pregunte al usuario por una fruta, un número de kilos y muestre por pantalla el precio de ese número de kilos de fruta. Si la fruta no está en el diccionario debe mostrar un mensaje informando de ello.\n",
        "<table>\n",
        "<thead>\n",
        "<tr>\n",
        "<th style=\"text-align:left\">Fruta</th>\n",
        "<th style=\"text-align:center\">Precio</th>\n",
        "</tr>\n",
        "</thead>\n",
        "<tbody>\n",
        "<tr>\n",
        "<td style=\"text-align:left\">Banana</td>\n",
        "<td style=\"text-align:center\">120</td>\n",
        "</tr>\n",
        "<tr>\n",
        "<td style=\"text-align:left\">Manzana</td>\n",
        "<td style=\"text-align:center\">130</td>\n",
        "</tr>\n",
        "<tr>\n",
        "<td style=\"text-align:left\">Pera</td>\n",
        "<td style=\"text-align:center\">90</td>\n",
        "</tr>\n",
        "<tr>\n",
        "<td style=\"text-align:left\">Naranja</td>\n",
        "<td style=\"text-align:center\">85</td>\n",
        "</tr>\n",
        "</tbody>\n",
        "</table>"
      ]
    },
    {
      "cell_type": "code",
      "metadata": {
        "id": "Nimw32HzoRMU"
      },
      "source": [
        "# Solución\n",
        "fruits = {'Plátano':1.35, 'Manzana':0.8, 'Pera':0.85, 'Naranja':0.7}\n",
        "fruit = input('¿Qué fruta quieres? ').title()\n",
        "kg = float(input('¿Cuántos kilos? '))\n",
        "if fruit in fruits:\n",
        "    print(kg, 'kilos de', fruit, 'valen', fruits[fruit]*kg )\n",
        "else: \n",
        "    print(\"Lo siento, la fruta\", fruit, \"no está disponible.\")"
      ],
      "execution_count": null,
      "outputs": []
    },
    {
      "cell_type": "code",
      "metadata": {
        "id": "LrAliQgHoRMU"
      },
      "source": [
        "verduleria={\"Banana\":120,\"Manzana\":130,\"Pera\":90,\"Naranja\":85}\n",
        "fruta=input(\"¿Que fruta quiere llevar?\").title()\n",
        "kilos=int(input(\"¿Cuantos kilos necesita?\"))\n",
        "total=0\n",
        "\n",
        "if fruta in verduleria:\n",
        "  total=(verduleria[fruta]*kilos)\n",
        "  print(\"El total de su compra es $\",total)\n",
        "else:\n",
        "  print(\"No tenemos\",fruta,\"en stock\")\n"
      ],
      "execution_count": null,
      "outputs": []
    },
    {
      "cell_type": "markdown",
      "metadata": {
        "id": "DakGmf5QoRMU"
      },
      "source": [
        "## Ejercicio 4"
      ]
    },
    {
      "cell_type": "markdown",
      "metadata": {
        "id": "LVA5-y7moRMU"
      },
      "source": [
        "Escribir un programa que pregunte una fecha en formato <font color=#B40431>dd/mm/aaaa</font> y muestre por pantalla la misma fecha en formato <font color=#B40431>dd de &#60;mes&#62; de aaaa</font> donde <font color=#B40431>&#60;mes&#62;</font> es el nombre del mes."
      ]
    },
    {
      "cell_type": "code",
      "metadata": {
        "id": "WYwHtJ8SoRMU"
      },
      "source": [
        "# Solución\n",
        "months = {1:'enero', 2:'febrero', 3:'marzo', 4:'abril', 5:'mayo', 6:'junio', 7:'julio', 8:'agosto', 9:'septiembre', 10:'octubre', 11:'noviembre', 12:'diciembre'}\n",
        "date = input('Introduce una fecha en formato dd/mm/aaaa: ')\n",
        "date = date.split('/')\n",
        "print(date[0], 'de', months[int(date[1])], 'de', date[2])"
      ],
      "execution_count": null,
      "outputs": []
    },
    {
      "cell_type": "code",
      "metadata": {
        "id": "LX6gBZgMoRMU"
      },
      "source": [
        "año={\"01\":\"Enero\",\"02\":\"Febrero\",\"03\":\"Marzo\",\"04\":\"Abril\",\"05\":\"Mayo\",\"06\":\"Junio\",\"07\":\"Julio\",\"08\":\"Agosto\",\"09\":\"Septiembre\",\"10\":\"Octubre\",\"11\":\"Noviembre\",\"12\":\"Diciembre\"}\n",
        "fecha=input(\"Por favor ingrese una fecha en formato dd/mm/aaaa:\")\n",
        "mes=fecha[3:5]\n",
        "print(fecha[0:2],\"de\",año[mes],\"de\",fecha[6:10])"
      ],
      "execution_count": null,
      "outputs": []
    },
    {
      "cell_type": "markdown",
      "metadata": {
        "id": "USJCDk0qoRMU"
      },
      "source": [
        "## Ejercicio 5"
      ]
    },
    {
      "cell_type": "markdown",
      "metadata": {
        "id": "UQ0Acb_voRMV"
      },
      "source": [
        "Escribir un programa que almacene el diccionario con los créditos de las asignaturas de un curso <font color=#B40431>{'Matemáticas': 6, 'Física': 4, 'Química': 5}</font>y después muestre por pantalla los créditos de cada asignatura en el formato <font color=#B40431>&#60;asignatura&#62;</font> tiene <font color=#B40431>&#60;créditos&#62;</font> créditos, donde <font color=#B40431>&#60;asignatura&#62;</font> es cada una de las asignaturas del curso, y <font color=#B40431>&#60;créditos&#62;</font> son sus créditos. Al final debe mostrar también el número total de créditos del curso."
      ]
    },
    {
      "cell_type": "code",
      "metadata": {
        "id": "yX6eyqGQoRMV"
      },
      "source": [
        "# Solución\n",
        "course = {'Matemáticas': 6, 'Física': 4, 'Química': 5}\n",
        "total_credits = 0\n",
        "for subject, credits in course.items():\n",
        "    print(subject, 'tiene', credits, 'créditos')\n",
        "    total_credits += credits\n",
        "print('Número total de créditos del curso: ', total_credits)"
      ],
      "execution_count": null,
      "outputs": []
    },
    {
      "cell_type": "code",
      "metadata": {
        "id": "XN2irxE9oRMV"
      },
      "source": [
        "asignaturas= {'Matemáticas': 6, 'Física': 4, 'Química': 5}\n",
        "total=0\n",
        "for materia, credito in asignaturas.items():\n",
        "    print(materia, \"tiene\", credito, 'créditos')\n",
        "    total+=credito\n",
        "\n",
        "print(\"El total de créditos del curso es :\",total)\n"
      ],
      "execution_count": null,
      "outputs": []
    },
    {
      "cell_type": "markdown",
      "metadata": {
        "id": "hxKlTD7OoRMV"
      },
      "source": [
        "## Ejercicio 6"
      ]
    },
    {
      "cell_type": "markdown",
      "metadata": {
        "id": "6j-1O2gSoRMV"
      },
      "source": [
        "Escribir un programa que cree un diccionario vacío y lo vaya llenado con información sobre una persona (por ejemplo nombre, edad, sexo, teléfono, correo electrónico, etc.) que se le pida al usuario. Cada vez que se añada un nuevo dato debe imprimirse el contenido del diccionario."
      ]
    },
    {
      "cell_type": "code",
      "metadata": {
        "id": "lYKeA-wIoRMV"
      },
      "source": [
        "# Solución\n",
        "person = {}\n",
        "more = 'Si'\n",
        "while more=='Si':\n",
        "    key = input('¿Qué dato quieres introducir? ')\n",
        "    value = input(key + ': ')\n",
        "    person[key] = value\n",
        "    print(person)\n",
        "    more = input('¿Quieres añadir más información (Si/No)? ')"
      ],
      "execution_count": null,
      "outputs": []
    },
    {
      "cell_type": "code",
      "metadata": {
        "id": "zDvQdlvZoRMV"
      },
      "source": [
        "info={}\n",
        "switch=\"S\"\n",
        "while switch==\"S\":\n",
        "    clave=input(\"¿Que información vas a introducir?(nombre,edad,sexo,teléfono,etc): \")\n",
        "    valor=input(\"Escriba su \"+clave+\":\")\n",
        "    info[clave]=valor\n",
        "    print(info)\n",
        "    switch=input(\"¿Desea seguir? S/N : \").upper()"
      ],
      "execution_count": null,
      "outputs": []
    },
    {
      "cell_type": "markdown",
      "metadata": {
        "id": "XJRnW1LIoRMV"
      },
      "source": [
        "## Ejercicio 7"
      ]
    },
    {
      "cell_type": "markdown",
      "metadata": {
        "id": "BGBrHn6moRMV"
      },
      "source": [
        "Escribir un programa que cree un diccionario simulando una cesta de la compra. El programa debe preguntar el artículo y su precio y añadir el par al diccionario, hasta que el usuario decida terminar. Después se debe mostrar por pantalla la lista de la compra y el coste total, con el siguiente formato\n",
        "<table>\n",
        "<thead>\n",
        "<tr>\n",
        "<th style=\"text-align:left\">Lista de la compra</th>\n",
        "<th style=\"text-align:right\"></th>\n",
        "</tr>\n",
        "</thead>\n",
        "<tbody>\n",
        "<tr>\n",
        "<td style=\"text-align:left\">Artículo 1</td>\n",
        "<td style=\"text-align:right\">Precio</td>\n",
        "</tr>\n",
        "<tr>\n",
        "<td style=\"text-align:left\">Artículo 2</td>\n",
        "<td style=\"text-align:right\">Precio</td>\n",
        "</tr>\n",
        "<tr>\n",
        "<td style=\"text-align:left\">Artículo 3</td>\n",
        "<td style=\"text-align:right\">Precio</td>\n",
        "</tr>\n",
        "<tr>\n",
        "<td style=\"text-align:left\">&hellip;</td>\n",
        "<td style=\"text-align:right\">&hellip;</td>\n",
        "</tr>\n",
        "<tr>\n",
        "<td style=\"text-align:left\">Total</td>\n",
        "<td style=\"text-align:right\">Coste</td>\n",
        "</tr>\n",
        "</tbody>\n",
        "</table>"
      ]
    },
    {
      "cell_type": "code",
      "metadata": {
        "id": "-s19_8yvoRMV"
      },
      "source": [
        "# Solución\n",
        "basket = {}\n",
        "more = 'Si'\n",
        "while more == 'Si':\n",
        "    item = input('Introduce un artículo: ')\n",
        "    price = float(input('Introduce el precio de ' + item + ': '))\n",
        "    basket[item] = price\n",
        "    more = input('¿Quieres añadir artículos a la lista (Si/No)? ')\n",
        "cost = 0\n",
        "print('Lista de la compra')\n",
        "for item, price in basket.items():\n",
        "    print(item, '\\t', price)\n",
        "    cost += price\n",
        "print('Costo total: ', cost)"
      ],
      "execution_count": null,
      "outputs": []
    },
    {
      "cell_type": "code",
      "metadata": {
        "id": "4HgYrBxCoRMV"
      },
      "source": [
        "cesta_compras={}\n",
        "terminar=\"S\"\n",
        "total=0\n",
        "while terminar==\"S\":\n",
        "  articulo=input(\"Introduzca el artículo: \")\n",
        "  precio=int(input(\"Introduzca el precio: \"))\n",
        "  cesta_compras[articulo]=precio\n",
        "  total+=precio\n",
        "  terminar=input(\"¿Desea seguir comprando? S/N: \").upper()\n",
        "  \n",
        "for item,valor in cesta_compras.items():\n",
        "  print(item,\"\\t\",\"$\",valor)\n",
        "  \n",
        "print(\"\")\n",
        "print(\"Total \\t\",\"$\",total)\n"
      ],
      "execution_count": null,
      "outputs": []
    },
    {
      "cell_type": "markdown",
      "metadata": {
        "id": "4AOVB5CQoRMV"
      },
      "source": [
        "## Ejercicio 8"
      ]
    },
    {
      "cell_type": "markdown",
      "metadata": {
        "id": "FSSn8v2boRMV"
      },
      "source": [
        "Escribir un programa que cree un diccionario de traducción español-inglés. El usuario introducirá las palabras en español e inglés separadas por dos puntos, y cada par <font color=#B40431>&#60;palabra&#62;:&#60;traducción&#62;</font> separados por comas. El programa debe crear un diccionario con las palabras y sus traducciones. Después pedirá una frase en español y utilizará el diccionario para traducirla palabra a palabra. Si una palabra no está en el diccionario debe dejarla sin traducir."
      ]
    },
    {
      "cell_type": "code",
      "metadata": {
        "id": "R7s4RBs8oRMV"
      },
      "source": [
        "# Solución\n",
        "dictionary = {}\n",
        "words = input(\"Introduce la lista de palabras y traducciones en formato palabra:traducción separadas por comas: \")\n",
        "for i in words.split(','):\n",
        "    key, value = i.split(':')\n",
        "    dictionary[key] = value\n",
        "phrase = input('Introduce una frase en español: ')\n",
        "for i in phrase.split():\n",
        "    if i in dictionary:\n",
        "        print(dictionary[i], end=' ')\n",
        "    else:\n",
        "        print(i, end=' ')"
      ],
      "execution_count": null,
      "outputs": []
    },
    {
      "cell_type": "code",
      "metadata": {
        "id": "c5pG-yg8oRMV"
      },
      "source": [
        ""
      ],
      "execution_count": null,
      "outputs": []
    },
    {
      "cell_type": "markdown",
      "metadata": {
        "id": "PJbLgokpoRMV"
      },
      "source": [
        "## Ejercicio 9"
      ]
    },
    {
      "cell_type": "markdown",
      "metadata": {
        "id": "LHtKxDYFoRMV"
      },
      "source": [
        "Escribir un programa que gestione las facturas pendientes de cobro de una empresa. Las facturas se almacenarán en un diccionario donde la clave de cada factura será el número de factura y el valor del total de la factura. El programa debe preguntar al usuario si quiere añadir una nueva factura, pagar una existente o terminar. Si desea añadir una nueva factura se preguntará por el número de factura y su coste y se añadirá al diccionario. Si se desea pagar una factura se preguntará por el número de factura y se eliminará del diccionario. Después de cada operación el programa debe mostrar por pantalla la cantidad cobrada hasta el momento y la cantidad pendiente de cobro."
      ]
    },
    {
      "cell_type": "code",
      "metadata": {
        "id": "uIjZW8sFoRMV"
      },
      "source": [
        "# Solución\n",
        "invoices = {}\n",
        "collected = 0\n",
        "remains = 0\n",
        "more = ''\n",
        "while more != 'T':\n",
        "    if more == 'A':\n",
        "        key = input('Introduce el número de la factura: ')\n",
        "        cost = float(input('Introduce el coste de la factura: '))\n",
        "        invoices[key] = cost\n",
        "        remains += cost\n",
        "    if more == 'P':\n",
        "        key = input('Introduce el número de la factura a pagar: ')\n",
        "        cost = invoices.pop(key, 0)\n",
        "        collected += cost\n",
        "        remains -= cost\n",
        "    print('Recaudado:', collected)\n",
        "    print('Pendiente de cobro: ', remains)\n",
        "    more = input('¿Quieres añadir una nueva factura (A), pagarla (P) o terminar (T)? ')\n",
        "\n"
      ],
      "execution_count": null,
      "outputs": []
    },
    {
      "cell_type": "code",
      "metadata": {
        "id": "k9lOuM4KoRMV"
      },
      "source": [
        ""
      ],
      "execution_count": null,
      "outputs": []
    },
    {
      "cell_type": "markdown",
      "metadata": {
        "id": "kgnd_CogoRMV"
      },
      "source": [
        "## Ejercicio 10"
      ]
    },
    {
      "cell_type": "markdown",
      "metadata": {
        "id": "-r5inWhVoRMV"
      },
      "source": [
        "Escribir un programa que permita gestionar la base de datos de clientes de una empresa. Los clientes se guardarán en un diccionario en el que la clave de cada cliente será su DNI, y el valor será otro diccionario con los datos del cliente (nombre, dirección, teléfono, correo, preferente), donde preferente tendrá el valor True si se trata de un cliente preferente. El programa debe preguntar al usuario por una opción del siguiente menú: (1) Añadir cliente, (2) Eliminar cliente, (3) Mostrar cliente, (4) Listar todos los clientes, (5) Listar clientes preferentes, (6) Terminar. En función de la opción elegida el programa tendrá que hacer lo siguiente:\n",
        "<ol>\n",
        "<li>Preguntar los datos del cliente, crear un diccionario con los datos y añadirlo a la base de datos.</li>\n",
        "<li>Preguntar por el DNI del cliente y eliminar sus datos de la base de datos.</li>\n",
        "<li>Preguntar por el DNI del cliente y mostrar sus datos.</li>\n",
        "<li>Mostrar lista de todos los clientes de la base datos con su DNI y nombre.</li>\n",
        "<li>Mostrar la lista de clientes preferentes de la base de datos con su DNI y nombre.</li>\n",
        "<li>Terminar el programa.</li>\n",
        "</ol>"
      ]
    },
    {
      "cell_type": "code",
      "metadata": {
        "id": "yilvs00noRMV"
      },
      "source": [
        "# Solución\n",
        "clients = {}\n",
        "option = ''\n",
        "while option != '6':\n",
        "    if option == '1':\n",
        "        dni = input('Introduce DNI del cliente: ')\n",
        "        name = input('Introduce el nombre del cliente: ')\n",
        "        address = input('Introduce la dirección del cliente: ')\n",
        "        phone = input('Introduce el teléfono del cliente: ')\n",
        "        email = input('Introduce el correo electrónico del cliente: ')\n",
        "        vip = input('¿Es un cliente preferente (S/N)? ')\n",
        "        client = {'nombre':name, 'dirección':address, 'teléfono':phone, 'email':email, 'preferente':vip=='S'}\n",
        "        clients[dni] = client\n",
        "    if option == '2':\n",
        "        dni = input('Introduce DNI del cliente: ')\n",
        "        if dni in clients:\n",
        "            del clients[dni]\n",
        "        else:\n",
        "            print('No existe el cliente con el DNI', dni)\n",
        "    if option == '3':\n",
        "        dni = input('Introduce DNI del cliente: ')\n",
        "        if dni in clients:\n",
        "            print('DNI:', dni)\n",
        "            for key, value in clients[dni].items():\n",
        "                print(key.title() + ':', value)\n",
        "        else:\n",
        "            print('No existe el cliente con el DNI', dni)\n",
        "    if option == '4':\n",
        "        print('Lista de clientes')\n",
        "        for key, value in clients.items():\n",
        "            print(key, value['nombre'])\n",
        "    if option == '5':\n",
        "        print('Lista de clientes preferentes')\n",
        "        for key, value in clients.items():\n",
        "            if value['preferente']:\n",
        "                print(key, value['nombre'])\n",
        "    option = input('Menú de opciones\\n(1) Añadir cliente\\n(2) Eliminar cliente\\n(3) Mostrar cliente\\n(4) Listar clientes\\n(5) Listar clientes preferentes\\n(6) Terminar\\nElige una opción:')\n"
      ],
      "execution_count": null,
      "outputs": []
    },
    {
      "cell_type": "code",
      "metadata": {
        "id": "vUMnEJCfoRMV"
      },
      "source": [
        ""
      ],
      "execution_count": null,
      "outputs": []
    }
  ]
}