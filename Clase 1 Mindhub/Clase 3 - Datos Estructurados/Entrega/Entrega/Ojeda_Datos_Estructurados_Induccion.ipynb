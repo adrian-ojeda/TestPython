{
  "nbformat": 4,
  "nbformat_minor": 0,
  "metadata": {
    "colab": {
      "name": "Ojeda_Datos_Estructurados_Induccion.ipynb",
      "provenance": [],
      "collapsed_sections": []
    },
    "kernelspec": {
      "name": "python3",
      "display_name": "Python 3"
    }
  },
  "cells": [
    {
      "cell_type": "code",
      "metadata": {
        "colab": {
          "base_uri": "https://localhost:8080/"
        },
        "id": "AeVKjqkjLNIK",
        "outputId": "a64c5c27-491d-439f-9cd1-f98729a234b7"
      },
      "source": [
        "# Listas\n",
        "\n",
        "type([])\n"
      ],
      "execution_count": 1,
      "outputs": [
        {
          "output_type": "execute_result",
          "data": {
            "text/plain": [
              "list"
            ]
          },
          "metadata": {
            "tags": []
          },
          "execution_count": 1
        }
      ]
    },
    {
      "cell_type": "code",
      "metadata": {
        "colab": {
          "base_uri": "https://localhost:8080/"
        },
        "id": "xnAGSuLZxG9P",
        "outputId": "99a59a1c-dc45-4bdc-f840-7a155864cf6b"
      },
      "source": [
        "# Lista con elementos de distintos tipos\n",
        "\n",
        "[1,\"dos\", True]\n",
        "\n",
        "#Listas anidadas\n",
        "\n",
        "[1,[2, 3], 4]\n",
        "\n"
      ],
      "execution_count": 4,
      "outputs": [
        {
          "output_type": "execute_result",
          "data": {
            "text/plain": [
              "[1, [2, 3], 4]"
            ]
          },
          "metadata": {
            "tags": []
          },
          "execution_count": 4
        }
      ]
    },
    {
      "cell_type": "code",
      "metadata": {
        "colab": {
          "base_uri": "https://localhost:8080/"
        },
        "id": "9PRQsCJRy2Kv",
        "outputId": "11fc8cb0-9927-4e65-b2bc-83959a0ce49b"
      },
      "source": [
        "# Creacion de listas mediante la función list()\n",
        "\n",
        "list()"
      ],
      "execution_count": 5,
      "outputs": [
        {
          "output_type": "execute_result",
          "data": {
            "text/plain": [
              "[]"
            ]
          },
          "metadata": {
            "tags": []
          },
          "execution_count": 5
        }
      ]
    },
    {
      "cell_type": "code",
      "metadata": {
        "colab": {
          "base_uri": "https://localhost:8080/"
        },
        "id": "9MROf2uOzjQH",
        "outputId": "940b3d19-87c4-48a3-b78e-0925eb09923a"
      },
      "source": [
        "list([1, 2, 3])"
      ],
      "execution_count": 10,
      "outputs": [
        {
          "output_type": "execute_result",
          "data": {
            "text/plain": [
              "[1, 2, 3]"
            ]
          },
          "metadata": {
            "tags": []
          },
          "execution_count": 10
        }
      ]
    },
    {
      "cell_type": "code",
      "metadata": {
        "colab": {
          "base_uri": "https://localhost:8080/"
        },
        "id": "TBAyteXt0DYQ",
        "outputId": "c5771bb3-8f2b-401a-ac35-d66bde8d8461"
      },
      "source": [
        "list(\"Python\")"
      ],
      "execution_count": 11,
      "outputs": [
        {
          "output_type": "execute_result",
          "data": {
            "text/plain": [
              "['P', 'y', 't', 'h', 'o', 'n']"
            ]
          },
          "metadata": {
            "tags": []
          },
          "execution_count": 11
        }
      ]
    },
    {
      "cell_type": "code",
      "metadata": {
        "colab": {
          "base_uri": "https://localhost:8080/",
          "height": 35
        },
        "id": "bWqRDg_00JAW",
        "outputId": "d7790708-be7b-4ce0-8470-ae2952cd0dd6"
      },
      "source": [
        "# Acceso a los elementos de una lista\n",
        "\n",
        "a=['P', 'y', 't', 'h', 'o', 'n']\n",
        "a[0]"
      ],
      "execution_count": 16,
      "outputs": [
        {
          "output_type": "execute_result",
          "data": {
            "application/vnd.google.colaboratory.intrinsic+json": {
              "type": "string"
            },
            "text/plain": [
              "'P'"
            ]
          },
          "metadata": {
            "tags": []
          },
          "execution_count": 16
        }
      ]
    },
    {
      "cell_type": "code",
      "metadata": {
        "colab": {
          "base_uri": "https://localhost:8080/",
          "height": 35
        },
        "id": "P7whZQ8P1GrQ",
        "outputId": "b558f134-38c8-4ba8-960e-618032e8fc89"
      },
      "source": [
        "a[5]"
      ],
      "execution_count": 17,
      "outputs": [
        {
          "output_type": "execute_result",
          "data": {
            "application/vnd.google.colaboratory.intrinsic+json": {
              "type": "string"
            },
            "text/plain": [
              "'n'"
            ]
          },
          "metadata": {
            "tags": []
          },
          "execution_count": 17
        }
      ]
    },
    {
      "cell_type": "code",
      "metadata": {
        "colab": {
          "base_uri": "https://localhost:8080/",
          "height": 163
        },
        "id": "M1Wiy-VL1Jai",
        "outputId": "8a216514-ca75-46eb-cede-7833f25b3237"
      },
      "source": [
        "a[6]"
      ],
      "execution_count": 18,
      "outputs": [
        {
          "output_type": "error",
          "ename": "IndexError",
          "evalue": "ignored",
          "traceback": [
            "\u001b[0;31m---------------------------------------------------------------------------\u001b[0m",
            "\u001b[0;31mIndexError\u001b[0m                                Traceback (most recent call last)",
            "\u001b[0;32m<ipython-input-18-84c1e027215d>\u001b[0m in \u001b[0;36m<module>\u001b[0;34m()\u001b[0m\n\u001b[0;32m----> 1\u001b[0;31m \u001b[0ma\u001b[0m\u001b[0;34m[\u001b[0m\u001b[0;36m6\u001b[0m\u001b[0;34m]\u001b[0m\u001b[0;34m\u001b[0m\u001b[0;34m\u001b[0m\u001b[0m\n\u001b[0m",
            "\u001b[0;31mIndexError\u001b[0m: list index out of range"
          ]
        }
      ]
    },
    {
      "cell_type": "code",
      "metadata": {
        "colab": {
          "base_uri": "https://localhost:8080/",
          "height": 35
        },
        "id": "07q0zblX1MP7",
        "outputId": "c60de500-9b45-4d11-c1f7-148ceb1eaf9a"
      },
      "source": [
        "a[-1]"
      ],
      "execution_count": 19,
      "outputs": [
        {
          "output_type": "execute_result",
          "data": {
            "application/vnd.google.colaboratory.intrinsic+json": {
              "type": "string"
            },
            "text/plain": [
              "'n'"
            ]
          },
          "metadata": {
            "tags": []
          },
          "execution_count": 19
        }
      ]
    },
    {
      "cell_type": "code",
      "metadata": {
        "colab": {
          "base_uri": "https://localhost:8080/"
        },
        "id": "X0iVqrK01PMe",
        "outputId": "7264aea7-4d71-4036-9a03-44c1d9983477"
      },
      "source": [
        "# Sublistas\n",
        "\n",
        "a=['P', 'y', 't', 'h', 'o', 'n']\n",
        "a[1:4]"
      ],
      "execution_count": 20,
      "outputs": [
        {
          "output_type": "execute_result",
          "data": {
            "text/plain": [
              "['y', 't', 'h']"
            ]
          },
          "metadata": {
            "tags": []
          },
          "execution_count": 20
        }
      ]
    },
    {
      "cell_type": "code",
      "metadata": {
        "colab": {
          "base_uri": "https://localhost:8080/"
        },
        "id": "MglFFkFG1p1a",
        "outputId": "556b4074-b884-44e0-e837-aa493d643cda"
      },
      "source": [
        "a[1:1]"
      ],
      "execution_count": 21,
      "outputs": [
        {
          "output_type": "execute_result",
          "data": {
            "text/plain": [
              "[]"
            ]
          },
          "metadata": {
            "tags": []
          },
          "execution_count": 21
        }
      ]
    },
    {
      "cell_type": "code",
      "metadata": {
        "colab": {
          "base_uri": "https://localhost:8080/"
        },
        "id": "hdvVpmN91wLw",
        "outputId": "7f5085c2-5caf-46e1-b37f-f234bf66f064"
      },
      "source": [
        "a[:-3]"
      ],
      "execution_count": 32,
      "outputs": [
        {
          "output_type": "execute_result",
          "data": {
            "text/plain": [
              "['P', 'y', 't']"
            ]
          },
          "metadata": {
            "tags": []
          },
          "execution_count": 32
        }
      ]
    },
    {
      "cell_type": "code",
      "metadata": {
        "colab": {
          "base_uri": "https://localhost:8080/"
        },
        "id": "bD4cb4Ic20fm",
        "outputId": "c0439b25-d883-440d-9f49-8880375b0373"
      },
      "source": [
        "a[:]"
      ],
      "execution_count": 33,
      "outputs": [
        {
          "output_type": "execute_result",
          "data": {
            "text/plain": [
              "['P', 'y', 't', 'h', 'o', 'n']"
            ]
          },
          "metadata": {
            "tags": []
          },
          "execution_count": 33
        }
      ]
    },
    {
      "cell_type": "code",
      "metadata": {
        "colab": {
          "base_uri": "https://localhost:8080/"
        },
        "id": "fzBZDRde25bD",
        "outputId": "beac4ccc-16cb-4f32-8f19-7a21ebbed78a"
      },
      "source": [
        "a[0:6:2]"
      ],
      "execution_count": 34,
      "outputs": [
        {
          "output_type": "execute_result",
          "data": {
            "text/plain": [
              "['P', 't', 'o']"
            ]
          },
          "metadata": {
            "tags": []
          },
          "execution_count": 34
        }
      ]
    },
    {
      "cell_type": "code",
      "metadata": {
        "colab": {
          "base_uri": "https://localhost:8080/"
        },
        "id": "QnodW9by3EoO",
        "outputId": "8f18aa90-b07d-4180-ca51-6be7d6ec02a5"
      },
      "source": [
        "# Operaciones que no modifican una lista\n",
        "\n",
        "a=[1,2,2,3]\n",
        "\n",
        "len(a)"
      ],
      "execution_count": 35,
      "outputs": [
        {
          "output_type": "execute_result",
          "data": {
            "text/plain": [
              "4"
            ]
          },
          "metadata": {
            "tags": []
          },
          "execution_count": 35
        }
      ]
    },
    {
      "cell_type": "code",
      "metadata": {
        "colab": {
          "base_uri": "https://localhost:8080/"
        },
        "id": "o8Cwvcyx3gX7",
        "outputId": "f9e78d99-75c4-4127-f741-d0a166a3572b"
      },
      "source": [
        "min(a)"
      ],
      "execution_count": 36,
      "outputs": [
        {
          "output_type": "execute_result",
          "data": {
            "text/plain": [
              "1"
            ]
          },
          "metadata": {
            "tags": []
          },
          "execution_count": 36
        }
      ]
    },
    {
      "cell_type": "code",
      "metadata": {
        "colab": {
          "base_uri": "https://localhost:8080/"
        },
        "id": "gLW1DQRv3mhi",
        "outputId": "4e5ac459-7582-48d4-acdd-6851c12dfaa5"
      },
      "source": [
        "max(a)"
      ],
      "execution_count": 37,
      "outputs": [
        {
          "output_type": "execute_result",
          "data": {
            "text/plain": [
              "3"
            ]
          },
          "metadata": {
            "tags": []
          },
          "execution_count": 37
        }
      ]
    },
    {
      "cell_type": "code",
      "metadata": {
        "colab": {
          "base_uri": "https://localhost:8080/"
        },
        "id": "trpACHBI3pIV",
        "outputId": "ab3a9243-4c99-47ad-e22b-b022756b7623"
      },
      "source": [
        "sum(a)"
      ],
      "execution_count": 39,
      "outputs": [
        {
          "output_type": "execute_result",
          "data": {
            "text/plain": [
              "8"
            ]
          },
          "metadata": {
            "tags": []
          },
          "execution_count": 39
        }
      ]
    },
    {
      "cell_type": "code",
      "metadata": {
        "colab": {
          "base_uri": "https://localhost:8080/"
        },
        "id": "ErtNem7I3vXW",
        "outputId": "e03ee764-2f3b-4ab6-aa22-792c20f95822"
      },
      "source": [
        "3 in a"
      ],
      "execution_count": 40,
      "outputs": [
        {
          "output_type": "execute_result",
          "data": {
            "text/plain": [
              "True"
            ]
          },
          "metadata": {
            "tags": []
          },
          "execution_count": 40
        }
      ]
    },
    {
      "cell_type": "code",
      "metadata": {
        "colab": {
          "base_uri": "https://localhost:8080/"
        },
        "id": "LraZN9u53xzn",
        "outputId": "bc9c70f6-2426-4367-83d8-b6a3cb080fd5"
      },
      "source": [
        "a.index(2)"
      ],
      "execution_count": 41,
      "outputs": [
        {
          "output_type": "execute_result",
          "data": {
            "text/plain": [
              "1"
            ]
          },
          "metadata": {
            "tags": []
          },
          "execution_count": 41
        }
      ]
    },
    {
      "cell_type": "code",
      "metadata": {
        "colab": {
          "base_uri": "https://localhost:8080/"
        },
        "id": "ZC9UzHJS38Mh",
        "outputId": "31411032-85dc-42d8-9570-f288c169a7dd"
      },
      "source": [
        "a.count(2)"
      ],
      "execution_count": 42,
      "outputs": [
        {
          "output_type": "execute_result",
          "data": {
            "text/plain": [
              "2"
            ]
          },
          "metadata": {
            "tags": []
          },
          "execution_count": 42
        }
      ]
    },
    {
      "cell_type": "code",
      "metadata": {
        "colab": {
          "base_uri": "https://localhost:8080/"
        },
        "id": "w2qPXiCj3_2w",
        "outputId": "0dcbfa1e-236b-4771-ab89-b8158472f3d8"
      },
      "source": [
        "all(a)"
      ],
      "execution_count": 43,
      "outputs": [
        {
          "output_type": "execute_result",
          "data": {
            "text/plain": [
              "True"
            ]
          },
          "metadata": {
            "tags": []
          },
          "execution_count": 43
        }
      ]
    },
    {
      "cell_type": "code",
      "metadata": {
        "colab": {
          "base_uri": "https://localhost:8080/"
        },
        "id": "zgzD2B_l4KTQ",
        "outputId": "9ef0830b-ade9-475b-c7fc-2d432a503709"
      },
      "source": [
        "any([0,False,3<2])\n"
      ],
      "execution_count": 48,
      "outputs": [
        {
          "output_type": "execute_result",
          "data": {
            "text/plain": [
              "False"
            ]
          },
          "metadata": {
            "tags": []
          },
          "execution_count": 48
        }
      ]
    },
    {
      "cell_type": "code",
      "metadata": {
        "colab": {
          "base_uri": "https://localhost:8080/"
        },
        "id": "CaM8xW3m4R99",
        "outputId": "7949521d-0d87-4ac2-dfa7-510ea93e98f2"
      },
      "source": [
        "# Operaciones que modifican una lista\n",
        "\n",
        "a = [1,3]\n",
        "b= [2,4,6]\n",
        "a.append(5)\n",
        "a"
      ],
      "execution_count": 50,
      "outputs": [
        {
          "output_type": "execute_result",
          "data": {
            "text/plain": [
              "[1, 3, 5]"
            ]
          },
          "metadata": {
            "tags": []
          },
          "execution_count": 50
        }
      ]
    },
    {
      "cell_type": "code",
      "metadata": {
        "colab": {
          "base_uri": "https://localhost:8080/"
        },
        "id": "AVL52t4g6LJN",
        "outputId": "0cb3be68-63aa-4db4-e4c2-ff6aa66cb03d"
      },
      "source": [
        "a.remove(3)\n",
        "a"
      ],
      "execution_count": 51,
      "outputs": [
        {
          "output_type": "execute_result",
          "data": {
            "text/plain": [
              "[1, 5]"
            ]
          },
          "metadata": {
            "tags": []
          },
          "execution_count": 51
        }
      ]
    },
    {
      "cell_type": "code",
      "metadata": {
        "colab": {
          "base_uri": "https://localhost:8080/"
        },
        "id": "otPYVNKd6Pz6",
        "outputId": "6afe276e-7295-431e-a710-ce3116fbb627"
      },
      "source": [
        "a.insert(1,3)\n",
        "a"
      ],
      "execution_count": 52,
      "outputs": [
        {
          "output_type": "execute_result",
          "data": {
            "text/plain": [
              "[1, 3, 5]"
            ]
          },
          "metadata": {
            "tags": []
          },
          "execution_count": 52
        }
      ]
    },
    {
      "cell_type": "code",
      "metadata": {
        "colab": {
          "base_uri": "https://localhost:8080/"
        },
        "id": "AQ5Hs5846fN_",
        "outputId": "814d03f5-963b-4680-b4cb-6842683da5df"
      },
      "source": [
        "b.pop()"
      ],
      "execution_count": 53,
      "outputs": [
        {
          "output_type": "execute_result",
          "data": {
            "text/plain": [
              "6"
            ]
          },
          "metadata": {
            "tags": []
          },
          "execution_count": 53
        }
      ]
    },
    {
      "cell_type": "code",
      "metadata": {
        "colab": {
          "base_uri": "https://localhost:8080/"
        },
        "id": "fUlgnS306uJu",
        "outputId": "3eefc631-4ab8-4f6f-a33f-db5114cc02d7"
      },
      "source": [
        "c=a+b\n",
        "c"
      ],
      "execution_count": 54,
      "outputs": [
        {
          "output_type": "execute_result",
          "data": {
            "text/plain": [
              "[1, 3, 5, 2, 4]"
            ]
          },
          "metadata": {
            "tags": []
          },
          "execution_count": 54
        }
      ]
    },
    {
      "cell_type": "code",
      "metadata": {
        "colab": {
          "base_uri": "https://localhost:8080/"
        },
        "id": "kVEuH8yq63cA",
        "outputId": "db8904b3-ad67-4f66-8db0-a652dbd2cff1"
      },
      "source": [
        "c.sort()\n",
        "c"
      ],
      "execution_count": 55,
      "outputs": [
        {
          "output_type": "execute_result",
          "data": {
            "text/plain": [
              "[1, 2, 3, 4, 5]"
            ]
          },
          "metadata": {
            "tags": []
          },
          "execution_count": 55
        }
      ]
    },
    {
      "cell_type": "code",
      "metadata": {
        "colab": {
          "base_uri": "https://localhost:8080/"
        },
        "id": "X8UZCjmK7Fjr",
        "outputId": "ad07c7ef-2858-4dbd-e2f6-e50b295a5203"
      },
      "source": [
        "c.reverse()\n",
        "c"
      ],
      "execution_count": 56,
      "outputs": [
        {
          "output_type": "execute_result",
          "data": {
            "text/plain": [
              "[5, 4, 3, 2, 1]"
            ]
          },
          "metadata": {
            "tags": []
          },
          "execution_count": 56
        }
      ]
    },
    {
      "cell_type": "code",
      "metadata": {
        "colab": {
          "base_uri": "https://localhost:8080/"
        },
        "id": "Voi2J9nV7fFw",
        "outputId": "86507ebd-c172-44f7-8144-bc2ad9cb796e"
      },
      "source": [
        "# Copia de listas\n",
        "\n",
        "a=[1,2,3]\n",
        "# copia por referencia\n",
        "b=a\n",
        "b"
      ],
      "execution_count": 57,
      "outputs": [
        {
          "output_type": "execute_result",
          "data": {
            "text/plain": [
              "[1, 2, 3]"
            ]
          },
          "metadata": {
            "tags": []
          },
          "execution_count": 57
        }
      ]
    },
    {
      "cell_type": "code",
      "metadata": {
        "colab": {
          "base_uri": "https://localhost:8080/"
        },
        "id": "trtQhpqC8adF",
        "outputId": "362b392b-fae5-47ce-8f84-88af131c6b30"
      },
      "source": [
        "b.remove(2)\n",
        "b"
      ],
      "execution_count": 58,
      "outputs": [
        {
          "output_type": "execute_result",
          "data": {
            "text/plain": [
              "[1, 3]"
            ]
          },
          "metadata": {
            "tags": []
          },
          "execution_count": 58
        }
      ]
    },
    {
      "cell_type": "code",
      "metadata": {
        "colab": {
          "base_uri": "https://localhost:8080/"
        },
        "id": "z5I6xsZm8eg3",
        "outputId": "ef55dc71-0c33-48ca-d0ea-54c36aba0c15"
      },
      "source": [
        "a"
      ],
      "execution_count": 59,
      "outputs": [
        {
          "output_type": "execute_result",
          "data": {
            "text/plain": [
              "[1, 3]"
            ]
          },
          "metadata": {
            "tags": []
          },
          "execution_count": 59
        }
      ]
    },
    {
      "cell_type": "code",
      "metadata": {
        "colab": {
          "base_uri": "https://localhost:8080/"
        },
        "id": "G1sBV0ij8ht2",
        "outputId": "266282cc-b161-46fc-b74d-011b43c34eec"
      },
      "source": [
        "a=[1,2,3]\n",
        "# copia por referencia\n",
        "b=list(a)\n",
        "b"
      ],
      "execution_count": 60,
      "outputs": [
        {
          "output_type": "execute_result",
          "data": {
            "text/plain": [
              "[1, 2, 3]"
            ]
          },
          "metadata": {
            "tags": []
          },
          "execution_count": 60
        }
      ]
    },
    {
      "cell_type": "code",
      "metadata": {
        "colab": {
          "base_uri": "https://localhost:8080/"
        },
        "id": "V9f-QoRk9JFF",
        "outputId": "c8899d3f-aee0-45c5-82ff-344cecea8171"
      },
      "source": [
        "b.remove(2)\n",
        "b"
      ],
      "execution_count": 61,
      "outputs": [
        {
          "output_type": "execute_result",
          "data": {
            "text/plain": [
              "[1, 3]"
            ]
          },
          "metadata": {
            "tags": []
          },
          "execution_count": 61
        }
      ]
    },
    {
      "cell_type": "code",
      "metadata": {
        "colab": {
          "base_uri": "https://localhost:8080/"
        },
        "id": "Ljwk1ss_9NBy",
        "outputId": "a48ab3cd-7f9e-4204-af91-0724f80c7ffc"
      },
      "source": [
        "a"
      ],
      "execution_count": 62,
      "outputs": [
        {
          "output_type": "execute_result",
          "data": {
            "text/plain": [
              "[1, 2, 3]"
            ]
          },
          "metadata": {
            "tags": []
          },
          "execution_count": 62
        }
      ]
    },
    {
      "cell_type": "code",
      "metadata": {
        "colab": {
          "base_uri": "https://localhost:8080/"
        },
        "id": "uglbCNZc9j-F",
        "outputId": "ef0cc64a-fb90-4f73-f848-760fa10cdb0a"
      },
      "source": [
        "# Tuplas\n",
        "\n",
        "type(())\n"
      ],
      "execution_count": 1,
      "outputs": [
        {
          "output_type": "execute_result",
          "data": {
            "text/plain": [
              "tuple"
            ]
          },
          "metadata": {
            "tags": []
          },
          "execution_count": 1
        }
      ]
    },
    {
      "cell_type": "code",
      "metadata": {
        "id": "1Bpi_sOJpRjB"
      },
      "source": [
        "# Tupla con elementos de distintos tipos\n",
        "(1,\"dos\",True)\n",
        "#Vector\n",
        "(1,2,3)\n",
        "#Matriz\n",
        "((1,2,3),(4,5,6))"
      ],
      "execution_count": null,
      "outputs": []
    },
    {
      "cell_type": "code",
      "metadata": {
        "colab": {
          "base_uri": "https://localhost:8080/"
        },
        "id": "PDaYE4B0plFn",
        "outputId": "b9ae03fb-e064-42a4-99a5-f373ddd2bc00"
      },
      "source": [
        "# Creacion de tuplas mediante la función tuple()\n",
        "\n",
        "tuple()"
      ],
      "execution_count": 2,
      "outputs": [
        {
          "output_type": "execute_result",
          "data": {
            "text/plain": [
              "()"
            ]
          },
          "metadata": {
            "tags": []
          },
          "execution_count": 2
        }
      ]
    },
    {
      "cell_type": "code",
      "metadata": {
        "colab": {
          "base_uri": "https://localhost:8080/"
        },
        "id": "aZm80cDHqEm9",
        "outputId": "56316310-6406-4e21-c0e1-592a43dfed05"
      },
      "source": [
        "tuple((1,2,3))"
      ],
      "execution_count": 4,
      "outputs": [
        {
          "output_type": "execute_result",
          "data": {
            "text/plain": [
              "(1, 2, 3)"
            ]
          },
          "metadata": {
            "tags": []
          },
          "execution_count": 4
        }
      ]
    },
    {
      "cell_type": "code",
      "metadata": {
        "colab": {
          "base_uri": "https://localhost:8080/"
        },
        "id": "KpnqvhreqM-s",
        "outputId": "8b602610-24b2-4c76-9915-f94ed45de499"
      },
      "source": [
        "tuple(\"Python\")"
      ],
      "execution_count": 5,
      "outputs": [
        {
          "output_type": "execute_result",
          "data": {
            "text/plain": [
              "('P', 'y', 't', 'h', 'o', 'n')"
            ]
          },
          "metadata": {
            "tags": []
          },
          "execution_count": 5
        }
      ]
    },
    {
      "cell_type": "code",
      "metadata": {
        "colab": {
          "base_uri": "https://localhost:8080/"
        },
        "id": "iSrOw44nqR6n",
        "outputId": "b970094b-0de4-4091-f0a2-cc28daca2c6b"
      },
      "source": [
        "tuple([1,2,3])"
      ],
      "execution_count": 6,
      "outputs": [
        {
          "output_type": "execute_result",
          "data": {
            "text/plain": [
              "(1, 2, 3)"
            ]
          },
          "metadata": {
            "tags": []
          },
          "execution_count": 6
        }
      ]
    },
    {
      "cell_type": "code",
      "metadata": {
        "id": "eBhrkddyqXaj"
      },
      "source": [
        "a=(1,2,3)\n"
      ],
      "execution_count": 12,
      "outputs": []
    },
    {
      "cell_type": "code",
      "metadata": {
        "colab": {
          "base_uri": "https://localhost:8080/"
        },
        "id": "LT5fm-M6q9YE",
        "outputId": "ecdb330a-ec8c-4e94-888d-34edd9cfde37"
      },
      "source": [
        "a[1]"
      ],
      "execution_count": 13,
      "outputs": [
        {
          "output_type": "execute_result",
          "data": {
            "text/plain": [
              "2"
            ]
          },
          "metadata": {
            "tags": []
          },
          "execution_count": 13
        }
      ]
    },
    {
      "cell_type": "code",
      "metadata": {
        "colab": {
          "base_uri": "https://localhost:8080/"
        },
        "id": "Lo3KONMzrBF8",
        "outputId": "1f646769-155a-43cc-e63e-ef617eb7aef4"
      },
      "source": [
        "len(a)"
      ],
      "execution_count": 14,
      "outputs": [
        {
          "output_type": "execute_result",
          "data": {
            "text/plain": [
              "3"
            ]
          },
          "metadata": {
            "tags": []
          },
          "execution_count": 14
        }
      ]
    },
    {
      "cell_type": "code",
      "metadata": {
        "colab": {
          "base_uri": "https://localhost:8080/"
        },
        "id": "78HfD0LVrItY",
        "outputId": "7f496323-1a4c-4642-983a-2929585f6dbd"
      },
      "source": [
        "a.index(3)"
      ],
      "execution_count": 15,
      "outputs": [
        {
          "output_type": "execute_result",
          "data": {
            "text/plain": [
              "2"
            ]
          },
          "metadata": {
            "tags": []
          },
          "execution_count": 15
        }
      ]
    },
    {
      "cell_type": "code",
      "metadata": {
        "colab": {
          "base_uri": "https://localhost:8080/"
        },
        "id": "4Q9usz-FrR0_",
        "outputId": "c7943c9f-db54-486c-ed8e-bef0416c2827"
      },
      "source": [
        "0 in a"
      ],
      "execution_count": 16,
      "outputs": [
        {
          "output_type": "execute_result",
          "data": {
            "text/plain": [
              "False"
            ]
          },
          "metadata": {
            "tags": []
          },
          "execution_count": 16
        }
      ]
    },
    {
      "cell_type": "code",
      "metadata": {
        "colab": {
          "base_uri": "https://localhost:8080/"
        },
        "id": "kPaIv_b9rU_z",
        "outputId": "1c3d77c4-92e9-4106-ecf8-5018ecdeb1b5"
      },
      "source": [
        "b=((1,2,3),(4,5,6))\n",
        "b[1]"
      ],
      "execution_count": 17,
      "outputs": [
        {
          "output_type": "execute_result",
          "data": {
            "text/plain": [
              "(4, 5, 6)"
            ]
          },
          "metadata": {
            "tags": []
          },
          "execution_count": 17
        }
      ]
    },
    {
      "cell_type": "code",
      "metadata": {
        "colab": {
          "base_uri": "https://localhost:8080/"
        },
        "id": "H2s7D2torcal",
        "outputId": "7afd3a23-d392-48bb-f362-02e558f67cd1"
      },
      "source": [
        "b[1][2]"
      ],
      "execution_count": 18,
      "outputs": [
        {
          "output_type": "execute_result",
          "data": {
            "text/plain": [
              "6"
            ]
          },
          "metadata": {
            "tags": []
          },
          "execution_count": 18
        }
      ]
    },
    {
      "cell_type": "code",
      "metadata": {
        "colab": {
          "base_uri": "https://localhost:8080/"
        },
        "id": "StgDge9PwUsp",
        "outputId": "c25012f7-dce2-4446-8721-52980b4e2b8e"
      },
      "source": [
        "#Diccionarios\n",
        "\n",
        "type({})"
      ],
      "execution_count": 19,
      "outputs": [
        {
          "output_type": "execute_result",
          "data": {
            "text/plain": [
              "dict"
            ]
          },
          "metadata": {
            "tags": []
          },
          "execution_count": 19
        }
      ]
    },
    {
      "cell_type": "code",
      "metadata": {
        "colab": {
          "base_uri": "https://localhost:8080/"
        },
        "id": "x7wFm85vwdpA",
        "outputId": "bf724f2c-df9d-4adf-e9b0-9def904b88c4"
      },
      "source": [
        "# Diccionario con elementos de distintos tipos\n",
        "\n",
        "{\"nombre\":\"Gabriela\", \"despacho\": 213, \"email\": \"gabriela.b.arevalo@gmail.com\"}"
      ],
      "execution_count": 22,
      "outputs": [
        {
          "output_type": "execute_result",
          "data": {
            "text/plain": [
              "{'despacho': 213,\n",
              " 'email': 'gabriela.b.arevalo@gmail.com',\n",
              " 'nombre': 'Gabriela'}"
            ]
          },
          "metadata": {
            "tags": []
          },
          "execution_count": 22
        }
      ]
    },
    {
      "cell_type": "code",
      "metadata": {
        "colab": {
          "base_uri": "https://localhost:8080/"
        },
        "id": "x05FxL460i-B",
        "outputId": "f970d6c6-04d3-4355-8d74-84315f322ee0"
      },
      "source": [
        "# Diccionarios anidados\n",
        "\n",
        "{\"nombre_completo\":{\"nombre\": \"Gabriela\", \"Apellidos\": \"Arévalo\"}}"
      ],
      "execution_count": 24,
      "outputs": [
        {
          "output_type": "execute_result",
          "data": {
            "text/plain": [
              "{'nombre_completo': {'Apellidos': 'Arévalo', 'nombre': 'Gabriela'}}"
            ]
          },
          "metadata": {
            "tags": []
          },
          "execution_count": 24
        }
      ]
    },
    {
      "cell_type": "code",
      "metadata": {
        "colab": {
          "base_uri": "https://localhost:8080/",
          "height": 35
        },
        "id": "2znLB-xQ02My",
        "outputId": "e91b8c0a-b1ba-441e-c4f0-ba494d34d533"
      },
      "source": [
        "# Acceso a los elementos de un diccionario\n",
        "\n",
        "a={\"nombre\":\"Gabriela\", \"despacho\": \"213\", \"email\": \"gabriela.b.arevalo@gmail.com\"}\n",
        "a[\"nombre\"]"
      ],
      "execution_count": 27,
      "outputs": [
        {
          "output_type": "execute_result",
          "data": {
            "application/vnd.google.colaboratory.intrinsic+json": {
              "type": "string"
            },
            "text/plain": [
              "'Gabriela'"
            ]
          },
          "metadata": {
            "tags": []
          },
          "execution_count": 27
        }
      ]
    },
    {
      "cell_type": "code",
      "metadata": {
        "colab": {
          "base_uri": "https://localhost:8080/"
        },
        "id": "SlXGiKoD2cCY",
        "outputId": "7a8c900c-8220-4d20-e0f6-03115c9f58ad"
      },
      "source": [
        "a[\"despacho\"]=213\n",
        "a"
      ],
      "execution_count": 28,
      "outputs": [
        {
          "output_type": "execute_result",
          "data": {
            "text/plain": [
              "{'despacho': 213,\n",
              " 'email': 'gabriela.b.arevalo@gmail.com',\n",
              " 'nombre': 'Gabriela'}"
            ]
          },
          "metadata": {
            "tags": []
          },
          "execution_count": 28
        }
      ]
    },
    {
      "cell_type": "code",
      "metadata": {
        "colab": {
          "base_uri": "https://localhost:8080/",
          "height": 35
        },
        "id": "GBfHIT4l3Npp",
        "outputId": "fc738bc4-f0d8-4e77-bd1c-6e5efcdace68"
      },
      "source": [
        "a.get(\"email\")"
      ],
      "execution_count": 29,
      "outputs": [
        {
          "output_type": "execute_result",
          "data": {
            "application/vnd.google.colaboratory.intrinsic+json": {
              "type": "string"
            },
            "text/plain": [
              "'gabriela.b.arevalo@gmail.com'"
            ]
          },
          "metadata": {
            "tags": []
          },
          "execution_count": 29
        }
      ]
    },
    {
      "cell_type": "code",
      "metadata": {
        "colab": {
          "base_uri": "https://localhost:8080/",
          "height": 35
        },
        "id": "vy5JkuHC3ZTB",
        "outputId": "c72dcb9f-c89f-439b-d88a-5ddb2079c3a4"
      },
      "source": [
        "a.get(\"Consultora\",\"Mindhub\")"
      ],
      "execution_count": 31,
      "outputs": [
        {
          "output_type": "execute_result",
          "data": {
            "application/vnd.google.colaboratory.intrinsic+json": {
              "type": "string"
            },
            "text/plain": [
              "'Mindhub'"
            ]
          },
          "metadata": {
            "tags": []
          },
          "execution_count": 31
        }
      ]
    },
    {
      "cell_type": "code",
      "metadata": {
        "colab": {
          "base_uri": "https://localhost:8080/"
        },
        "id": "Cel1dcnR4AGp",
        "outputId": "5195a6e8-90af-4bf9-ef2c-617e1def0594"
      },
      "source": [
        "# Operaciones que no modifican un diccionario\n",
        "\n",
        "a={\"nombre\": \"Gabriela\", \"despacho\":213 , \"email\":\"gabriela.b.arevalo@gmail.com\"}\n",
        "a"
      ],
      "execution_count": 34,
      "outputs": [
        {
          "output_type": "execute_result",
          "data": {
            "text/plain": [
              "{'despacho': 213,\n",
              " 'email': 'gabriela.b.arevalo@gmail.com',\n",
              " 'nombre': 'Gabriela'}"
            ]
          },
          "metadata": {
            "tags": []
          },
          "execution_count": 34
        }
      ]
    },
    {
      "cell_type": "code",
      "metadata": {
        "colab": {
          "base_uri": "https://localhost:8080/"
        },
        "id": "fxTsUhmU40XR",
        "outputId": "6e0ea40f-6b3e-4dcf-d9e8-ed678eec770e"
      },
      "source": [
        "len(a)"
      ],
      "execution_count": 35,
      "outputs": [
        {
          "output_type": "execute_result",
          "data": {
            "text/plain": [
              "3"
            ]
          },
          "metadata": {
            "tags": []
          },
          "execution_count": 35
        }
      ]
    },
    {
      "cell_type": "code",
      "metadata": {
        "colab": {
          "base_uri": "https://localhost:8080/",
          "height": 35
        },
        "id": "jt2D7Mme44fz",
        "outputId": "b758bc0f-a3a7-4af1-c04b-a3144caaeaf0"
      },
      "source": [
        "min(a)"
      ],
      "execution_count": 36,
      "outputs": [
        {
          "output_type": "execute_result",
          "data": {
            "application/vnd.google.colaboratory.intrinsic+json": {
              "type": "string"
            },
            "text/plain": [
              "'despacho'"
            ]
          },
          "metadata": {
            "tags": []
          },
          "execution_count": 36
        }
      ]
    },
    {
      "cell_type": "code",
      "metadata": {
        "colab": {
          "base_uri": "https://localhost:8080/"
        },
        "id": "JvtJ-hM3481L",
        "outputId": "e0cb7fed-dc25-4242-b4bb-300059891945"
      },
      "source": [
        "\"email\" in a"
      ],
      "execution_count": 37,
      "outputs": [
        {
          "output_type": "execute_result",
          "data": {
            "text/plain": [
              "True"
            ]
          },
          "metadata": {
            "tags": []
          },
          "execution_count": 37
        }
      ]
    },
    {
      "cell_type": "code",
      "metadata": {
        "colab": {
          "base_uri": "https://localhost:8080/"
        },
        "id": "6xyCwzEb5Arv",
        "outputId": "d94ce7f1-881a-419e-fb12-0154816254f6"
      },
      "source": [
        "a.keys()"
      ],
      "execution_count": 38,
      "outputs": [
        {
          "output_type": "execute_result",
          "data": {
            "text/plain": [
              "dict_keys(['nombre', 'despacho', 'email'])"
            ]
          },
          "metadata": {
            "tags": []
          },
          "execution_count": 38
        }
      ]
    },
    {
      "cell_type": "code",
      "metadata": {
        "colab": {
          "base_uri": "https://localhost:8080/"
        },
        "id": "ygZMh4nc5D0x",
        "outputId": "d8dddf70-4f06-4085-a592-2a82aafab139"
      },
      "source": [
        "a.values()"
      ],
      "execution_count": 41,
      "outputs": [
        {
          "output_type": "execute_result",
          "data": {
            "text/plain": [
              "dict_values(['Gabriela', 213, 'gabriela.b.arevalo@gmail.com'])"
            ]
          },
          "metadata": {
            "tags": []
          },
          "execution_count": 41
        }
      ]
    },
    {
      "cell_type": "code",
      "metadata": {
        "colab": {
          "base_uri": "https://localhost:8080/"
        },
        "id": "cuaFQ7rj5M7b",
        "outputId": "001824a2-cae2-4476-caf1-e78eb6b8d2ef"
      },
      "source": [
        "a.items()"
      ],
      "execution_count": 42,
      "outputs": [
        {
          "output_type": "execute_result",
          "data": {
            "text/plain": [
              "dict_items([('nombre', 'Gabriela'), ('despacho', 213), ('email', 'gabriela.b.arevalo@gmail.com')])"
            ]
          },
          "metadata": {
            "tags": []
          },
          "execution_count": 42
        }
      ]
    },
    {
      "cell_type": "code",
      "metadata": {
        "colab": {
          "base_uri": "https://localhost:8080/"
        },
        "id": "aLC4brfg5Xfm",
        "outputId": "953ab988-ce6c-453a-c95a-cd73c00bfb81"
      },
      "source": [
        "# Operaciones que modifican un diccionario\n",
        "\n",
        "a={\"nombre\":\"Gabriela\", \"despacho\": 213, \"email\":\"gabriela.b.arevalo@gmail.com\"}\n",
        "a[\"consultora\"]= \"Mindhub\"\n",
        "a"
      ],
      "execution_count": 46,
      "outputs": [
        {
          "output_type": "execute_result",
          "data": {
            "text/plain": [
              "{'consultora': 'Mindhub',\n",
              " 'despacho': 213,\n",
              " 'email': 'gabriela.b.arevalo@gmail.com',\n",
              " 'nombre': 'Gabriela'}"
            ]
          },
          "metadata": {
            "tags": []
          },
          "execution_count": 46
        }
      ]
    },
    {
      "cell_type": "code",
      "metadata": {
        "colab": {
          "base_uri": "https://localhost:8080/"
        },
        "id": "daqibqV96sHn",
        "outputId": "6a27b823-036b-40a0-897b-deca1c641b00"
      },
      "source": [
        "a.pop(\"despacho\")"
      ],
      "execution_count": 44,
      "outputs": [
        {
          "output_type": "execute_result",
          "data": {
            "text/plain": [
              "213"
            ]
          },
          "metadata": {
            "tags": []
          },
          "execution_count": 44
        }
      ]
    },
    {
      "cell_type": "code",
      "metadata": {
        "colab": {
          "base_uri": "https://localhost:8080/"
        },
        "id": "FhM38cQ_6141",
        "outputId": "9ef1b340-0c85-4be0-d4e2-0380036d0e18"
      },
      "source": [
        "a"
      ],
      "execution_count": 47,
      "outputs": [
        {
          "output_type": "execute_result",
          "data": {
            "text/plain": [
              "{'consultora': 'Mindhub',\n",
              " 'despacho': 213,\n",
              " 'email': 'gabriela.b.arevalo@gmail.com',\n",
              " 'nombre': 'Gabriela'}"
            ]
          },
          "metadata": {
            "tags": []
          },
          "execution_count": 47
        }
      ]
    },
    {
      "cell_type": "code",
      "metadata": {
        "colab": {
          "base_uri": "https://localhost:8080/"
        },
        "id": "s05-xLzI6-jY",
        "outputId": "b262fc4f-a168-4581-e435-c2223ad50a02"
      },
      "source": [
        "a.popitem()"
      ],
      "execution_count": 48,
      "outputs": [
        {
          "output_type": "execute_result",
          "data": {
            "text/plain": [
              "('consultora', 'Mindhub')"
            ]
          },
          "metadata": {
            "tags": []
          },
          "execution_count": 48
        }
      ]
    },
    {
      "cell_type": "code",
      "metadata": {
        "colab": {
          "base_uri": "https://localhost:8080/"
        },
        "id": "jJ1JNknA7L1E",
        "outputId": "93c7689b-3bf2-4ed0-b3b9-dc32f3b83f6f"
      },
      "source": [
        "a"
      ],
      "execution_count": 49,
      "outputs": [
        {
          "output_type": "execute_result",
          "data": {
            "text/plain": [
              "{'despacho': 213,\n",
              " 'email': 'gabriela.b.arevalo@gmail.com',\n",
              " 'nombre': 'Gabriela'}"
            ]
          },
          "metadata": {
            "tags": []
          },
          "execution_count": 49
        }
      ]
    },
    {
      "cell_type": "code",
      "metadata": {
        "colab": {
          "base_uri": "https://localhost:8080/"
        },
        "id": "S_EMx5Q27NCm",
        "outputId": "5f220a93-1e24-43c7-d869-c690f3db45b6"
      },
      "source": [
        "del a[\"email\"]\n",
        "a"
      ],
      "execution_count": 50,
      "outputs": [
        {
          "output_type": "execute_result",
          "data": {
            "text/plain": [
              "{'despacho': 213, 'nombre': 'Gabriela'}"
            ]
          },
          "metadata": {
            "tags": []
          },
          "execution_count": 50
        }
      ]
    },
    {
      "cell_type": "code",
      "metadata": {
        "colab": {
          "base_uri": "https://localhost:8080/"
        },
        "id": "vV8aBHsU7WQ5",
        "outputId": "c7d39175-518b-424e-8ec7-2344294cc30d"
      },
      "source": [
        "a.pop(\"despacho\")"
      ],
      "execution_count": 51,
      "outputs": [
        {
          "output_type": "execute_result",
          "data": {
            "text/plain": [
              "213"
            ]
          },
          "metadata": {
            "tags": []
          },
          "execution_count": 51
        }
      ]
    },
    {
      "cell_type": "code",
      "metadata": {
        "colab": {
          "base_uri": "https://localhost:8080/"
        },
        "id": "GrV5uW3o7mBe",
        "outputId": "226bbe55-d5bd-4beb-dbd3-d347e3052b30"
      },
      "source": [
        "a"
      ],
      "execution_count": 52,
      "outputs": [
        {
          "output_type": "execute_result",
          "data": {
            "text/plain": [
              "{'nombre': 'Gabriela'}"
            ]
          },
          "metadata": {
            "tags": []
          },
          "execution_count": 52
        }
      ]
    },
    {
      "cell_type": "code",
      "metadata": {
        "id": "8XFO7XMm7naT"
      },
      "source": [
        "a.clear()"
      ],
      "execution_count": 53,
      "outputs": []
    },
    {
      "cell_type": "code",
      "metadata": {
        "colab": {
          "base_uri": "https://localhost:8080/"
        },
        "id": "cRr3ChIK7ttj",
        "outputId": "61900999-c372-4a14-d9af-efa7c38a6196"
      },
      "source": [
        "a"
      ],
      "execution_count": 54,
      "outputs": [
        {
          "output_type": "execute_result",
          "data": {
            "text/plain": [
              "{}"
            ]
          },
          "metadata": {
            "tags": []
          },
          "execution_count": 54
        }
      ]
    },
    {
      "cell_type": "code",
      "metadata": {
        "colab": {
          "base_uri": "https://localhost:8080/"
        },
        "id": "8lF854mA7yKP",
        "outputId": "afbe2cd6-7c66-4ddd-b5c4-c87e91544b28"
      },
      "source": [
        "# Copia de diccionarios\n",
        "\n",
        "a={1:\"A\", 2:\"B\", 3:\"C\"}\n",
        "# copia por referencia\n",
        "b = a\n",
        "b\n"
      ],
      "execution_count": 55,
      "outputs": [
        {
          "output_type": "execute_result",
          "data": {
            "text/plain": [
              "{1: 'A', 2: 'B', 3: 'C'}"
            ]
          },
          "metadata": {
            "tags": []
          },
          "execution_count": 55
        }
      ]
    },
    {
      "cell_type": "code",
      "metadata": {
        "colab": {
          "base_uri": "https://localhost:8080/"
        },
        "id": "kRXpKboLCrNU",
        "outputId": "6207b3b1-3d16-4612-bbc9-b785e594f307"
      },
      "source": [
        "b.pop(2)\n",
        "b"
      ],
      "execution_count": 56,
      "outputs": [
        {
          "output_type": "execute_result",
          "data": {
            "text/plain": [
              "{1: 'A', 3: 'C'}"
            ]
          },
          "metadata": {
            "tags": []
          },
          "execution_count": 56
        }
      ]
    },
    {
      "cell_type": "code",
      "metadata": {
        "colab": {
          "base_uri": "https://localhost:8080/"
        },
        "id": "atSj7phWDPlF",
        "outputId": "3185c3e0-1cf9-4ced-9818-52360b8c4e33"
      },
      "source": [
        "a"
      ],
      "execution_count": 57,
      "outputs": [
        {
          "output_type": "execute_result",
          "data": {
            "text/plain": [
              "{1: 'A', 3: 'C'}"
            ]
          },
          "metadata": {
            "tags": []
          },
          "execution_count": 57
        }
      ]
    }
  ]
}