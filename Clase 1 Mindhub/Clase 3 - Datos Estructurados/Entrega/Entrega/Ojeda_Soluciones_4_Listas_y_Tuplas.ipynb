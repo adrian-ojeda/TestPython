{
  "nbformat": 4,
  "nbformat_minor": 0,
  "metadata": {
    "kernelspec": {
      "display_name": "Python 3",
      "language": "python",
      "name": "python3"
    },
    "language_info": {
      "codemirror_mode": {
        "name": "ipython",
        "version": 3
      },
      "file_extension": ".py",
      "mimetype": "text/x-python",
      "name": "python",
      "nbconvert_exporter": "python",
      "pygments_lexer": "ipython3",
      "version": "3.6.9"
    },
    "colab": {
      "name": "Ojeda_Soluciones_4_Listas_y_Tuplas.ipynb",
      "provenance": [],
      "collapsed_sections": []
    }
  },
  "cells": [
    {
      "cell_type": "markdown",
      "metadata": {
        "id": "LVkin8MX33cD"
      },
      "source": [
        "# Soluciones Ejercicios de Listas y Tuplas"
      ]
    },
    {
      "cell_type": "markdown",
      "metadata": {
        "id": "q8O_gmMI33cE"
      },
      "source": [
        "## Ejercicio 1"
      ]
    },
    {
      "cell_type": "markdown",
      "metadata": {
        "id": "X3_Cquux33cE"
      },
      "source": [
        "Escribir un programa que almacene las asignaturas de un curso (por ejemplo Matemáticas, Física, Química, Historia y Lengua) en una lista y la muestre por pantalla."
      ]
    },
    {
      "cell_type": "code",
      "metadata": {
        "id": "AYl-q6qq33cE"
      },
      "source": [
        "# Solución\n",
        "subjects = [\"Matemáticas\", \"Física\", \"Química\", \"Historia\", \"Lengua\"]\n",
        "print(subjects)"
      ],
      "execution_count": null,
      "outputs": []
    },
    {
      "cell_type": "code",
      "metadata": {
        "id": "esx4OSe433cF"
      },
      "source": [
        "materias=([\"Matemáticas\",\"Física\",\"Química\",\"Historia\",\"Lengua\"])\n",
        "materias"
      ],
      "execution_count": null,
      "outputs": []
    },
    {
      "cell_type": "markdown",
      "metadata": {
        "id": "X3H1S_sz33cF"
      },
      "source": [
        "## Ejercicio 2"
      ]
    },
    {
      "cell_type": "markdown",
      "metadata": {
        "id": "afe4ScLL33cF"
      },
      "source": [
        "Escribir un programa que almacene las asignaturas de un curso (por ejemplo Matemáticas, Física, Química, Historia y Lengua) en una lista y la muestre por pantalla el mensaje <font color=#B40431>Yo estudio &#60;asignatura&#62;</font>, donde <font color=#B40431>&#60;asignatura&#62;</font> es cada una de las asignaturas de la lista."
      ]
    },
    {
      "cell_type": "code",
      "metadata": {
        "id": "TcsPJ5jP33cF"
      },
      "source": [
        "# Solución\n",
        "subjects = [\"Matemáticas\", \"Física\", \"Química\", \"Historia\", \"Lengua\"]\n",
        "for subject in subjects:\n",
        "    print(\"Yo estudio \" + subject)"
      ],
      "execution_count": null,
      "outputs": []
    },
    {
      "cell_type": "code",
      "metadata": {
        "id": "_wtHdvxf33cF"
      },
      "source": [
        " materias=([\"Matemáticas\",\"Física\",\"Química\",\"Historia\",\"Lengua\"])\n",
        "    for i in range(len(materias)):\n",
        "      print(\"Yo estudio\",materias[i])\n"
      ],
      "execution_count": null,
      "outputs": []
    },
    {
      "cell_type": "markdown",
      "metadata": {
        "id": "NaLfa2Wv33cF"
      },
      "source": [
        "## Ejercicio 3"
      ]
    },
    {
      "cell_type": "markdown",
      "metadata": {
        "id": "ckbGAipf33cF"
      },
      "source": [
        "Escribir un programa que almacene las asignaturas de un curso (por ejemplo Matemáticas, Física, Química, Historia y Lengua) en una lista, pregunte al usuario la nota que ha sacado en cada asignatura, y después las muestre por pantalla con el mensaje <font color=#B40431>En &#60;asignatura&#62; has sacado &#60;nota&#62;</font> donde <font color=#B40431>&#60;asignatura&#62;</font> es cada una de las asignaturas de la lista y <font color=#B40431>&#60;nota&#62;</font> cada una de las correspondientes notas introducidas por el usuario."
      ]
    },
    {
      "cell_type": "code",
      "metadata": {
        "id": "DGPdpBeM33cF"
      },
      "source": [
        "# Solución\n",
        "subjects = [\"Matemáticas\", \"Física\", \"Química\", \"Historia\", \"Lengua\"]\n",
        "scores = []\n",
        "for subject in subjects:\n",
        "    score = input(\"¿Qué nota has sacado en \" + subject + \"?\")\n",
        "    scores.append(score)\n",
        "for i in range(len(subjects)):\n",
        "    print(\"En \" + subjects[i] + \" has sacado \" + scores[i])"
      ],
      "execution_count": null,
      "outputs": []
    },
    {
      "cell_type": "code",
      "metadata": {
        "id": "tu2K038J33cG"
      },
      "source": [
        "materias= [\"Matemáticas\", \"Física\", \"Química\", \"Historia\", \"Lengua\"]\n",
        "notas= []\n",
        "for materia in materias:\n",
        "    nota=input(\"¿Cual es tu nota en \"+materia+\"?\")\n",
        "    notas.append(nota)\n",
        "for i in range(len(materias)):\n",
        "    print(\"En\",materias[i],\"tu nota es :\",notas[i])\n",
        " "
      ],
      "execution_count": null,
      "outputs": []
    },
    {
      "cell_type": "markdown",
      "metadata": {
        "id": "54xdUwvM33cG"
      },
      "source": [
        "## Ejercicio 4"
      ]
    },
    {
      "cell_type": "markdown",
      "metadata": {
        "id": "NAD0mjZf33cG"
      },
      "source": [
        "Escribir un programa que pregunte al usuario los números ganadores de la lotería primitiva, los almacene en una lista y los muestre por pantalla ordenados de menor a mayor."
      ]
    },
    {
      "cell_type": "code",
      "metadata": {
        "id": "TszHu62Y33cG"
      },
      "source": [
        "# Solución\n",
        "awarded = []\n",
        "for i in range(6):\n",
        "    awarded.append(int(input(\"Introduce un número ganador: \")))\n",
        "awarded.sort()\n",
        "print(\"Los números ganadores son \" + str(awarded))"
      ],
      "execution_count": null,
      "outputs": []
    },
    {
      "cell_type": "code",
      "metadata": {
        "id": "nrYUi0j733cG"
      },
      "source": [
        "num_ganadores=([])\n",
        "\n",
        "print(\"Ingrese los 6 números ganadores de la lotería primitiva\")\n",
        "print(\"\")\n",
        "\n",
        "for i in range(6):\n",
        "  num=int(input(\"Ingrese número:\"))\n",
        "  num_ganadores.append(num)\n",
        "  \n",
        "print(\"\")\n",
        "num_ganadores.sort()\n",
        "print(\"Los números son:\\n\")\n",
        "num_ganadores"
      ],
      "execution_count": null,
      "outputs": []
    },
    {
      "cell_type": "markdown",
      "metadata": {
        "id": "_FUEYgVd33cG"
      },
      "source": [
        "## Ejercicio 5"
      ]
    },
    {
      "cell_type": "markdown",
      "metadata": {
        "id": "Wv6qrliO33cG"
      },
      "source": [
        "Escribir un programa que almacene en una lista los números del 1 al 10 y los muestre por pantalla en orden inverso separados por comas."
      ]
    },
    {
      "cell_type": "code",
      "metadata": {
        "colab": {
          "base_uri": "https://localhost:8080/"
        },
        "id": "E8MM2Ulf33cG",
        "outputId": "ee9a9503-8dee-45a9-c6f5-276c393e7be7"
      },
      "source": [
        "# Solución\n",
        "numbers = [1, 2, 3, 4, 5, 6, 7, 8, 9, 10]\n",
        "for i in range(1, 11):\n",
        "    print(numbers[-i], end=\", \")"
      ],
      "execution_count": null,
      "outputs": [
        {
          "output_type": "stream",
          "text": [
            "10, 9, 8, 7, 6, 5, 4, 3, 2, 1, "
          ],
          "name": "stdout"
        }
      ]
    },
    {
      "cell_type": "code",
      "metadata": {
        "colab": {
          "base_uri": "https://localhost:8080/"
        },
        "id": "OjjUPrsh33cG",
        "outputId": "d5f5a070-1398-4bf5-b519-83db97660020"
      },
      "source": [
        "num_invertidos=[]\n",
        "\n",
        "for i in range(1,11):\n",
        "    num_invertidos.append(i)\n",
        "\n",
        "num_invertidos.reverse()\n",
        "num_invertidos"
      ],
      "execution_count": null,
      "outputs": [
        {
          "output_type": "execute_result",
          "data": {
            "text/plain": [
              "[10, 9, 8, 7, 6, 5, 4, 3, 2, 1]"
            ]
          },
          "metadata": {
            "tags": []
          },
          "execution_count": 1
        }
      ]
    },
    {
      "cell_type": "markdown",
      "metadata": {
        "id": "AnsdgRXD33cG"
      },
      "source": [
        "## Ejercicio 6"
      ]
    },
    {
      "cell_type": "markdown",
      "metadata": {
        "id": "vl2JWJcy33cG"
      },
      "source": [
        "Escribir un programa que almacene las asignaturas de un curso (por ejemplo Matemáticas, Física, Química, Historia y Lengua) en una lista, pregunte al usuario la nota que ha sacado en cada asignatura y elimine de la lista las asignaturas aprobadas. Al final el programa debe mostrar por pantalla las asignaturas que el usuario tiene que repetir."
      ]
    },
    {
      "cell_type": "code",
      "metadata": {
        "id": "KMHjnyva33cG"
      },
      "source": [
        "# Solución\n",
        "subjects = [\"Matemáticas\", \"Física\", \"Química\", \"Historia\", \"Lengua\"]\n",
        "passed = []\n",
        "for subject in subjects:\n",
        "    score = float(input(\"¿Qué nota has sacado en \" + subject + \"?\"))\n",
        "    if score >= 5:\n",
        "        passed.append(subject)\n",
        "for subject in passed:\n",
        "    subjects.remove(subject)\n",
        "print(\"Tienes que repetir \" + str(subjects))"
      ],
      "execution_count": null,
      "outputs": []
    },
    {
      "cell_type": "code",
      "metadata": {
        "id": "rYu6H0ZT33cG"
      },
      "source": [
        "asignaturas=[\"Matemáticas\", \"Física\", \"Química\", \"Historia\", \"Lengua\"]\n",
        "recursar=[]\n",
        "for materia in asignaturas:\n",
        "    nota=int(input(\"¿Cual es tu nota en \"+materia+\"?\"))\n",
        "    if nota <=5 :\n",
        "      recursar.append(materia)\n",
        "\n",
        "print(\"Las materias que debe recursar son :\")\n",
        "for i in range(len(recursar)):\n",
        "  print(recursar[i])"
      ],
      "execution_count": null,
      "outputs": []
    },
    {
      "cell_type": "markdown",
      "metadata": {
        "id": "00xxbzZp33cG"
      },
      "source": [
        "## Ejercicio 7"
      ]
    },
    {
      "cell_type": "markdown",
      "metadata": {
        "id": "Xq0Gffy_33cG"
      },
      "source": [
        "Escribir un programa que almacene el abecedario en una lista, elimine de la lista las letras que ocupen posiciones múltiplos de 3, y muestre por pantalla la lista resultante."
      ]
    },
    {
      "cell_type": "code",
      "metadata": {
        "colab": {
          "base_uri": "https://localhost:8080/"
        },
        "id": "9evMJRhx33cG",
        "outputId": "f14d688b-fb0b-4374-e3fa-9ae3c13e5959"
      },
      "source": [
        "# Solución\n",
        "alphabet = ['a', 'b', 'c', 'd', 'e', 'f', 'g', 'h', 'i', 'j', 'k', 'l', 'm', 'n', 'ñ', 'o', 'p', 'q', 'r', 's', 't', 'u', 'v', 'w', 'x', 'y', 'z']\n",
        "for i in range(len(alphabet), 1, -1):\n",
        "    if i % 3 == 0:\n",
        "        alphabet.pop(i-1)\n",
        "print(alphabet)"
      ],
      "execution_count": null,
      "outputs": [
        {
          "output_type": "stream",
          "text": [
            "['a', 'b', 'd', 'e', 'g', 'h', 'j', 'k', 'm', 'n', 'o', 'p', 'r', 's', 'u', 'v', 'x', 'y']\n"
          ],
          "name": "stdout"
        }
      ]
    },
    {
      "cell_type": "code",
      "metadata": {
        "colab": {
          "base_uri": "https://localhost:8080/"
        },
        "id": "OPyaeSW533cG",
        "outputId": "92b621b3-cdab-473e-e1f1-7ccd6147c61f"
      },
      "source": [
        "abc=[\"a\",\"b\",\"c\",\"d\",\"e\",\"f\",\"g\",\"h\",\"i\",\"j\",\"k\",\"l\",\"m\",\"n\",\"ñ\",\"o\",\"p\",\"q\",\"r\",\"s\",\"t\",\"u\",\"v\",\"w\",\"x\",\"y\",\"z\"]\n",
        "abc_3=list(abc)\n",
        "\n",
        "for i in range(0,len(abc),3):\n",
        "    letra=abc[i]\n",
        "    abc_3.remove(letra)\n",
        "\n",
        "abc=list(abc_3)\n",
        "  \n",
        "\n",
        "print(abc)"
      ],
      "execution_count": 1,
      "outputs": [
        {
          "output_type": "stream",
          "text": [
            "['b', 'c', 'e', 'f', 'h', 'i', 'k', 'l', 'n', 'ñ', 'p', 'q', 's', 't', 'v', 'w', 'y', 'z']\n"
          ],
          "name": "stdout"
        }
      ]
    },
    {
      "cell_type": "markdown",
      "metadata": {
        "id": "Wox9DouM33cG"
      },
      "source": [
        "## Ejercicio 8"
      ]
    },
    {
      "cell_type": "markdown",
      "metadata": {
        "id": "QbLobj_u33cG"
      },
      "source": [
        "Escribir un programa que pida al usuario una palabra y muestre por pantalla si es un palíndromo."
      ]
    },
    {
      "cell_type": "code",
      "metadata": {
        "id": "aN6MD69_33cG"
      },
      "source": [
        "# Solución\n",
        "word = input(\"Introduce una palabra: \")\n",
        "reversed_word = word\n",
        "word = list(word)\n",
        "reversed_word = list(reversed_word)\n",
        "reversed_word.reverse()\n",
        "if word == reversed_word:\n",
        "    print(\"Es un palíndromo\")\n",
        "else:\n",
        "    print(\"No es un palíndromo\")"
      ],
      "execution_count": null,
      "outputs": []
    },
    {
      "cell_type": "code",
      "metadata": {
        "id": "5uqouC2y33cG"
      },
      "source": [
        ""
      ],
      "execution_count": null,
      "outputs": []
    },
    {
      "cell_type": "markdown",
      "metadata": {
        "id": "HktJvW3233cG"
      },
      "source": [
        "## Ejercicio 9"
      ]
    },
    {
      "cell_type": "markdown",
      "metadata": {
        "id": "LQ_nJ9iV33cH"
      },
      "source": [
        "Escribir un programa que pida al usuario una palabra y muestre por pantalla el número de veces que contiene cada vocal."
      ]
    },
    {
      "cell_type": "code",
      "metadata": {
        "id": "MAk4q8kB33cH"
      },
      "source": [
        "# Solución\n",
        "word = input(\"Introduce una palabra: \")\n",
        "vocals = ['a', 'e', 'i', 'o', 'u']\n",
        "for vocal in vocals: \n",
        "    times = 0\n",
        "    for letter in word: \n",
        "        if letter == vocal:\n",
        "            times += 1\n",
        "    print(\"La vocal \" + vocal + \" aparece \" + str(times) + \" veces\")"
      ],
      "execution_count": null,
      "outputs": []
    },
    {
      "cell_type": "code",
      "metadata": {
        "id": "s5gZY8XJ33cH"
      },
      "source": [
        ""
      ],
      "execution_count": null,
      "outputs": []
    },
    {
      "cell_type": "markdown",
      "metadata": {
        "id": "FVdAcs1W33cH"
      },
      "source": [
        "## Ejercicio 10"
      ]
    },
    {
      "cell_type": "markdown",
      "metadata": {
        "id": "tiZtlN4P33cH"
      },
      "source": [
        "Escribir un programa que almacene en una lista los siguientes precios, 50, 75, 46, 22, 80, 65, 8, y muestre por pantalla el menor y el mayor de los precios."
      ]
    },
    {
      "cell_type": "code",
      "metadata": {
        "id": "NjVIVrjM33cH"
      },
      "source": [
        "# Solución\n",
        "prices = [50, 75, 46, 22, 80, 65, 8]\n",
        "min = max = prices[0]\n",
        "for price in prices:\n",
        "    if price < min:\n",
        "        min = price\n",
        "    elif price > max:\n",
        "        max = price \n",
        "print(\"El mínimo es \" + str(min)) \n",
        "print(\"El máximo es \" + str(max))"
      ],
      "execution_count": null,
      "outputs": []
    },
    {
      "cell_type": "code",
      "metadata": {
        "id": "xwUuMtDS33cH"
      },
      "source": [
        ""
      ],
      "execution_count": null,
      "outputs": []
    },
    {
      "cell_type": "markdown",
      "metadata": {
        "id": "eDodH4fg33cH"
      },
      "source": [
        "## Ejercicio 11"
      ]
    },
    {
      "cell_type": "markdown",
      "metadata": {
        "id": "chf0iucH33cH"
      },
      "source": [
        "Escribir un programa que almacene los vectores (1,2,3) y (-1,0,2) en dos listas y muestre por pantalla su producto escalar."
      ]
    },
    {
      "cell_type": "code",
      "metadata": {
        "id": "E_OCIuuG33cH"
      },
      "source": [
        "# Solución\n",
        "a = (1, 2, 3)\n",
        "b = (-1, 0, 2)\n",
        "product = 0\n",
        "for i in range(len(a)):\n",
        "    product += a[i]*b[i]\n",
        "print(\"El producto de los vectores\" + str(a) + \" y \" + str(b) + \" es \" + str(product)) "
      ],
      "execution_count": null,
      "outputs": []
    },
    {
      "cell_type": "code",
      "metadata": {
        "id": "SqU81wIH33cH"
      },
      "source": [
        ""
      ],
      "execution_count": null,
      "outputs": []
    },
    {
      "cell_type": "markdown",
      "metadata": {
        "id": "E0q6nbI733cH"
      },
      "source": [
        "## Ejercicio 12"
      ]
    },
    {
      "cell_type": "markdown",
      "metadata": {
        "id": "w7mqWNHX33cH"
      },
      "source": [
        "Escribir un programa que almacene las matrices\n",
        "\n",
        "$A = \\left(\n",
        "\\begin{array}{rrr}\n",
        "1 & 2 & 3\\ \\\\\n",
        "4 & 5 & 6\n",
        "\\end{array}\n",
        "\\right)\n",
        "\\quad  y\n",
        "\\quad\n",
        "B = \\left(\n",
        "\\begin{array}{rr}\n",
        "-1 & 0\\ \\\\\n",
        "0 & 1\\ \\\\\n",
        "1 & 1\n",
        "\\end{array}\n",
        "\\right)\n",
        "$\n",
        "\n",
        "en una lista y muestre por pantalla su producto.\n",
        "Nota: Para representar matrices mediante listas usar listas anidadas, representando cada vector fila en una lista."
      ]
    },
    {
      "cell_type": "code",
      "metadata": {
        "id": "qUd2J2a_33cH"
      },
      "source": [
        "# Solución\n",
        "a = ((1, 2, 3),\n",
        "     (4, 5, 6))\n",
        "b = ((-1, 0),\n",
        "     (0, 1),\n",
        "     (1,1))\n",
        "result = [[0,0],\n",
        "          [0,0]]\n",
        "for i in range(len(a)):\n",
        "    for j in range(len(b[0])):\n",
        "        for k in range(len(b)):\n",
        "            result[i][j] += a[i][k] * b[k][j]\n",
        "for i in range(len(result)):\n",
        "    result[i] = tuple(result[i])\n",
        "result = tuple(result)\n",
        "for i in range(len(result)):\n",
        "    print(result[i])"
      ],
      "execution_count": null,
      "outputs": []
    },
    {
      "cell_type": "code",
      "metadata": {
        "id": "TJrSSG1e33cH"
      },
      "source": [
        ""
      ],
      "execution_count": null,
      "outputs": []
    },
    {
      "cell_type": "markdown",
      "metadata": {
        "id": "sgbXLJzq33cH"
      },
      "source": [
        "## Ejercicio 13"
      ]
    },
    {
      "cell_type": "markdown",
      "metadata": {
        "id": "y0CiG4PI33cH"
      },
      "source": [
        "Escribir un programa que pregunte por una muestra de números, separados por comas, los guarde en una lista y muestre por pantalla su media y desviación típica."
      ]
    },
    {
      "cell_type": "code",
      "metadata": {
        "id": "Q5ja1Nvq33cH"
      },
      "source": [
        "# Solución\n",
        "sample = input(\"Introduce una muestra de números separados por comas: \")\n",
        "sample = sample.split(',')\n",
        "n = len(sample)\n",
        "for i in range(n):\n",
        "    sample[i] = int(sample[i])\n",
        "sample = tuple(sample)\n",
        "sum = 0\n",
        "sumsq = 0\n",
        "for i in sample:\n",
        "    sum += i\n",
        "    sumsq += i**2\n",
        "mean = sum/n\n",
        "stdev = (sumsq/n-mean**2)**(1/2)\n",
        "print('La media es', mean, ', y la desviación típica es', stdev)"
      ],
      "execution_count": null,
      "outputs": []
    },
    {
      "cell_type": "code",
      "metadata": {
        "id": "CPS3jDgb33cH"
      },
      "source": [
        ""
      ],
      "execution_count": null,
      "outputs": []
    }
  ]
}