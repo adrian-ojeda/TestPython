{
  "nbformat": 4,
  "nbformat_minor": 0,
  "metadata": {
    "kernelspec": {
      "display_name": "Python 3",
      "language": "python",
      "name": "python3"
    },
    "language_info": {
      "codemirror_mode": {
        "name": "ipython",
        "version": 3
      },
      "file_extension": ".py",
      "mimetype": "text/x-python",
      "name": "python",
      "nbconvert_exporter": "python",
      "pygments_lexer": "ipython3",
      "version": "3.6.9"
    },
    "colab": {
      "name": "Ojeda_Ejercicios_4_Listas_y_Tuplas.ipynb",
      "provenance": [],
      "collapsed_sections": []
    }
  },
  "cells": [
    {
      "cell_type": "markdown",
      "metadata": {
        "id": "flYprUJ3EtZa"
      },
      "source": [
        "# Ejercicios de Listas y Tuplas"
      ]
    },
    {
      "cell_type": "markdown",
      "metadata": {
        "id": "Qr9ugO5tEtZb"
      },
      "source": [
        "## Ejercicio 1"
      ]
    },
    {
      "cell_type": "markdown",
      "metadata": {
        "id": "e_Nm-s00EtZb"
      },
      "source": [
        "Escribir un programa que almacene las asignaturas de un curso (por ejemplo Matemáticas, Física, Química, Historia y Lengua) en una lista y la muestre por pantalla."
      ]
    },
    {
      "cell_type": "code",
      "metadata": {
        "colab": {
          "base_uri": "https://localhost:8080/"
        },
        "id": "RunPm7v4EtZb",
        "outputId": "71d8eb25-ac12-40fb-cb32-0fe8a5575b0d"
      },
      "source": [
        "materias=([\"Matemáticas\",\"Física\",\"Química\",\"Historia\",\"Lengua\"])\n",
        "materias"
      ],
      "execution_count": null,
      "outputs": [
        {
          "output_type": "execute_result",
          "data": {
            "text/plain": [
              "['Matemáticas', 'Física', 'Química', 'Historia', 'Lengua']"
            ]
          },
          "metadata": {
            "tags": []
          },
          "execution_count": 3
        }
      ]
    },
    {
      "cell_type": "markdown",
      "metadata": {
        "id": "HJoxPFVWEtZc"
      },
      "source": [
        "## Ejercicio 2"
      ]
    },
    {
      "cell_type": "markdown",
      "metadata": {
        "id": "0uGWdhpGEtZd"
      },
      "source": [
        "Escribir un programa que almacene las asignaturas de un curso (por ejemplo Matemáticas, Física, Química, Historia y Lengua) en una lista y la muestre por pantalla el mensaje <font color=#B40431>Yo estudio &#60;asignatura&#62;</font>, donde <font color=#B40431>&#60;asignatura&#62;</font> es cada una de las asignaturas de la lista."
      ]
    },
    {
      "cell_type": "code",
      "metadata": {
        "colab": {
          "base_uri": "https://localhost:8080/"
        },
        "id": "0EcUUAkJEtZd",
        "outputId": "0f90e099-f26b-430b-c67b-54dc9efd4b74"
      },
      "source": [
        "    materias=([\"Matemáticas\",\"Física\",\"Química\",\"Historia\",\"Lengua\"])\n",
        "    for i in range(len(materias)):\n",
        "      print(\"Yo estudio\",materias[i])\n"
      ],
      "execution_count": null,
      "outputs": [
        {
          "output_type": "stream",
          "text": [
            "Yo estudio Matemáticas\n",
            "Yo estudio Física\n",
            "Yo estudio Química\n",
            "Yo estudio Historia\n",
            "Yo estudio Lengua\n"
          ],
          "name": "stdout"
        }
      ]
    },
    {
      "cell_type": "markdown",
      "metadata": {
        "id": "srMyERBWEtZd"
      },
      "source": [
        "## Ejercicio 3"
      ]
    },
    {
      "cell_type": "markdown",
      "metadata": {
        "id": "efhrutbZEtZd"
      },
      "source": [
        "Escribir un programa que almacene las asignaturas de un curso (por ejemplo Matemáticas, Física, Química, Historia y Lengua) en una lista, pregunte al usuario la nota que ha sacado en cada asignatura, y después las muestre por pantalla con el mensaje <font color=#B40431>En &#60;asignatura&#62; has sacado &#60;nota&#62;</font> donde <font color=#B40431>&#60;asignatura&#62;</font> es cada una de las asignaturas de la lista y <font color=#B40431>&#60;nota&#62;</font> cada una de las correspondientes notas introducidas por el usuario."
      ]
    },
    {
      "cell_type": "code",
      "metadata": {
        "colab": {
          "base_uri": "https://localhost:8080/"
        },
        "id": "QiaQppBpEtZd",
        "outputId": "12083ea9-d1a6-49af-86e8-2dd6b0c829d8"
      },
      "source": [
        "materias= [\"Matemáticas\", \"Física\", \"Química\", \"Historia\", \"Lengua\"]\n",
        "notas= []\n",
        "for materia in materias:\n",
        "    nota=input(\"¿Cual es tu nota en \" 4+materia+\"?\")\n",
        "    notas.append(nota)\n",
        "for i in range(len(materias)):\n",
        "    print(\"En\",materias[i],\"tu nota es :\",notas[i])\n",
        " \n",
        "  \n"
      ],
      "execution_count": 1,
      "outputs": [
        {
          "output_type": "stream",
          "text": [
            "¿Cual es tu nota en Matemáticas?10\n",
            "¿Cual es tu nota en Física?3\n",
            "¿Cual es tu nota en Química?\n",
            "¿Cual es tu nota en Historia?5\n",
            "¿Cual es tu nota en Lengua?2\n",
            "En Matemáticas tu nota es : 10\n",
            "En Física tu nota es : 3\n",
            "En Química tu nota es : \n",
            "En Historia tu nota es : 5\n",
            "En Lengua tu nota es : 2\n"
          ],
          "name": "stdout"
        }
      ]
    },
    {
      "cell_type": "markdown",
      "metadata": {
        "id": "rlfaBUKdEtZd"
      },
      "source": [
        "## Ejercicio 4"
      ]
    },
    {
      "cell_type": "markdown",
      "metadata": {
        "id": "Z0t3ixEYEtZd"
      },
      "source": [
        "Escribir un programa que pregunte al usuario los números ganadores de la lotería primitiva, los almacene en una lista y los muestre por pantalla ordenados de menor a mayor."
      ]
    },
    {
      "cell_type": "code",
      "metadata": {
        "colab": {
          "base_uri": "https://localhost:8080/"
        },
        "id": "9DlSgJsNXn2w",
        "outputId": "19248714-5d1b-42bd-fe9c-a2f6820aaa42"
      },
      "source": [
        "num_ganadores=([])\n",
        "\n",
        "print(\"Ingrese los 6 números ganadores de la lotería primitiva\")\n",
        "print(\"\")\n",
        "\n",
        "for i in range(6):\n",
        "  num=int(input(\"Ingrese número:\"))\n",
        "  num_ganadores.append(num)\n",
        "  \n",
        "print(\"\")\n",
        "num_ganadores.sort()\n",
        "print(\"Los números son:\\n\")\n",
        "num_ganadores\n",
        "\n"
      ],
      "execution_count": null,
      "outputs": [
        {
          "output_type": "stream",
          "text": [
            "Ingrese los 6 números ganadores de la lotería primitiva\n",
            "\n",
            "Ingrese número:23\n",
            "Ingrese número:45\n",
            "Ingrese número:89\n",
            "Ingrese número:51\n",
            "Ingrese número:76\n",
            "Ingrese número:15\n",
            "\n",
            "Los números son:\n",
            "\n"
          ],
          "name": "stdout"
        },
        {
          "output_type": "execute_result",
          "data": {
            "text/plain": [
              "[15, 23, 45, 51, 76, 89]"
            ]
          },
          "metadata": {
            "tags": []
          },
          "execution_count": 33
        }
      ]
    },
    {
      "cell_type": "markdown",
      "metadata": {
        "id": "L21b7LZpEtZd"
      },
      "source": [
        "## Ejercicio 5"
      ]
    },
    {
      "cell_type": "markdown",
      "metadata": {
        "id": "jwuhmXvsEtZd"
      },
      "source": [
        "Escribir un programa que almacene en una lista los números del 1 al 10 y los muestre por pantalla en orden inverso separados por comas."
      ]
    },
    {
      "cell_type": "code",
      "metadata": {
        "colab": {
          "base_uri": "https://localhost:8080/"
        },
        "id": "Q9gg5ntnEtZd",
        "outputId": "671c86f0-7e2e-4d67-b5af-b7b2657aa673"
      },
      "source": [
        "num_invertidos=[]\n",
        "\n",
        "for i in range(1,11):\n",
        "    num_invertidos.append(i)\n",
        "\n",
        "num_invertidos.reverse()\n",
        "num_invertidos"
      ],
      "execution_count": null,
      "outputs": [
        {
          "output_type": "execute_result",
          "data": {
            "text/plain": [
              "[10, 9, 8, 7, 6, 5, 4, 3, 2, 1]"
            ]
          },
          "metadata": {
            "tags": []
          },
          "execution_count": 38
        }
      ]
    },
    {
      "cell_type": "markdown",
      "metadata": {
        "id": "28VK0_sNEtZd"
      },
      "source": [
        "## Ejercicio 6"
      ]
    },
    {
      "cell_type": "markdown",
      "metadata": {
        "id": "glVZlwcpEtZd"
      },
      "source": [
        "Escribir un programa que almacene las asignaturas de un curso (por ejemplo Matemáticas, Física, Química, Historia y Lengua) en una lista, pregunte al usuario la nota que ha sacado en cada asignatura y elimine de la lista las asignaturas aprobadas. Al final el programa debe mostrar por pantalla las asignaturas que el usuario tiene que repetir."
      ]
    },
    {
      "cell_type": "code",
      "metadata": {
        "id": "mhnn3uBbEtZd"
      },
      "source": [
        "asignaturas=[\"Matemáticas\", \"Física\", \"Química\", \"Historia\", \"Lengua\"]\n",
        "recursar=[]\n",
        "for materia in asignaturas:\n",
        "    nota=int(input(\"¿Cual es tu nota en \"+materia+\"?\"))\n",
        "    if nota <=5 :\n",
        "      recursar.append(materia)\n",
        "\n",
        "print(\"Las materias que debe recursar son :\")\n",
        "for i in range(len(recursar)):\n",
        "  print(recursar[i])"
      ],
      "execution_count": null,
      "outputs": []
    },
    {
      "cell_type": "markdown",
      "metadata": {
        "id": "O0XvZ9aEEtZd"
      },
      "source": [
        "## Ejercicio 7"
      ]
    },
    {
      "cell_type": "markdown",
      "metadata": {
        "id": "FgJFtW73EtZd"
      },
      "source": [
        "Escribir un programa que almacene el abecedario en una lista, elimine de la lista las letras que ocupen posiciones múltiplos de 3, y muestre por pantalla la lista resultante."
      ]
    },
    {
      "cell_type": "code",
      "metadata": {
        "colab": {
          "base_uri": "https://localhost:8080/"
        },
        "id": "XR0W4ianEtZd",
        "outputId": "848d6e10-9ff2-41e6-88a5-209b2e38bcc2"
      },
      "source": [
        "abc=[\"a\",\"b\",\"c\",\"d\",\"e\",\"f\",\"g\",\"h\",\"i\",\"j\",\"k\",\"l\",\"m\",\"n\",\"ñ\",\"o\",\"p\",\"q\",\"r\",\"s\",\"t\",\"u\",\"v\",\"w\",\"x\",\"y\",\"z\"]\n",
        "abc_3=list(abc)\n",
        "\n",
        "for i in range(0,len(abc),3):\n",
        "    letra=abc[i]\n",
        "    abc_3.remove(letra)\n",
        "\n",
        "abc=list(abc_3)\n",
        "  \n",
        "\n",
        "print(abc)"
      ],
      "execution_count": 7,
      "outputs": [
        {
          "output_type": "stream",
          "text": [
            "['b', 'c', 'e', 'f', 'h', 'i', 'k', 'l', 'n', 'ñ', 'p', 'q', 's', 't', 'v', 'w', 'y', 'z']\n"
          ],
          "name": "stdout"
        }
      ]
    },
    {
      "cell_type": "markdown",
      "metadata": {
        "id": "VV2beX8FEtZe"
      },
      "source": [
        "## Ejercicio 8"
      ]
    },
    {
      "cell_type": "markdown",
      "metadata": {
        "id": "dPD1J118EtZe"
      },
      "source": [
        "Escribir un programa que pida al usuario una palabra y muestre por pantalla si es un palíndromo."
      ]
    },
    {
      "cell_type": "code",
      "metadata": {
        "id": "n2eT5yiwEtZe",
        "colab": {
          "base_uri": "https://localhost:8080/"
        },
        "outputId": "54404dd1-05a4-49c9-80c4-1cb0ce3f14af"
      },
      "source": [
        "\n",
        "\n",
        "\n",
        "\n",
        "  \n",
        "\n"
      ],
      "execution_count": 2,
      "outputs": [
        {
          "output_type": "stream",
          "text": [
            "['b', 'c', 'e', 'f', 'h', 'i', 'k', 'l', 'n', 'ñ', 'p', 'q', 's', 't', 'v', 'w', 'y', 'z']\n"
          ],
          "name": "stdout"
        }
      ]
    },
    {
      "cell_type": "markdown",
      "metadata": {
        "id": "fXW8PiUuEtZe"
      },
      "source": [
        "## Ejercicio 9"
      ]
    },
    {
      "cell_type": "markdown",
      "metadata": {
        "id": "ZmWCUE7vEtZe"
      },
      "source": [
        "Escribir un programa que pida al usuario una palabra y muestre por pantalla el número de veces que contiene cada vocal."
      ]
    },
    {
      "cell_type": "code",
      "metadata": {
        "id": "ilypDpy3EtZe"
      },
      "source": [
        ""
      ],
      "execution_count": null,
      "outputs": []
    },
    {
      "cell_type": "markdown",
      "metadata": {
        "id": "ngi2sPAEEtZe"
      },
      "source": [
        "## Ejercicio 10"
      ]
    },
    {
      "cell_type": "markdown",
      "metadata": {
        "id": "1e9e_498EtZe"
      },
      "source": [
        "Escribir un programa que almacene en una lista los siguientes precios, 50, 75, 46, 22, 80, 65, 8, y muestre por pantalla el menor y el mayor de los precios."
      ]
    },
    {
      "cell_type": "code",
      "metadata": {
        "id": "dPz_4g4_EtZe"
      },
      "source": [
        ""
      ],
      "execution_count": null,
      "outputs": []
    },
    {
      "cell_type": "markdown",
      "metadata": {
        "id": "n00EtI80EtZe"
      },
      "source": [
        "## Ejercicio 11"
      ]
    },
    {
      "cell_type": "markdown",
      "metadata": {
        "id": "iu4wUQCxEtZe"
      },
      "source": [
        "Escribir un programa que almacene los vectores (1,2,3) y (-1,0,2) en dos listas y muestre por pantalla su producto escalar."
      ]
    },
    {
      "cell_type": "code",
      "metadata": {
        "id": "2Q9RLC4xEtZe"
      },
      "source": [
        ""
      ],
      "execution_count": null,
      "outputs": []
    },
    {
      "cell_type": "markdown",
      "metadata": {
        "id": "izjdzMvyEtZe"
      },
      "source": [
        "## Ejercicio 12"
      ]
    },
    {
      "cell_type": "markdown",
      "metadata": {
        "id": "TJWd-l3HEtZe"
      },
      "source": [
        "Escribir un programa que almacene las matrices\n",
        "\n",
        "$A = \\left(\n",
        "\\begin{array}{rrr}\n",
        "1 & 2 & 3\\ \\\\\n",
        "4 & 5 & 6\n",
        "\\end{array}\n",
        "\\right)\n",
        "\\quad  y\n",
        "\\quad\n",
        "B = \\left(\n",
        "\\begin{array}{rr}\n",
        "-1 & 0\\ \\\\\n",
        "0 & 1\\ \\\\\n",
        "1 & 1 \n",
        "\\end{array}\n",
        "\\right)\n",
        "$\n",
        "\n",
        "en una lista y muestre por pantalla su producto.\n",
        "Nota: Para representar matrices mediante listas usar listas anidadas, representando cada vector fila en una lista."
      ]
    },
    {
      "cell_type": "code",
      "metadata": {
        "id": "NcCA69UeEtZe"
      },
      "source": [
        ""
      ],
      "execution_count": null,
      "outputs": []
    },
    {
      "cell_type": "markdown",
      "metadata": {
        "id": "6YYhbBqaEtZe"
      },
      "source": [
        "## Ejercicio 13"
      ]
    },
    {
      "cell_type": "markdown",
      "metadata": {
        "id": "VVZa9MRfEtZe"
      },
      "source": [
        "Escribir un programa que pregunte por una muestra de números, separados por comas, los guarde en una lista y muestre por pantalla su media y desviación típica."
      ]
    },
    {
      "cell_type": "code",
      "metadata": {
        "id": "FyKThwsIEtZe"
      },
      "source": [
        ""
      ],
      "execution_count": null,
      "outputs": []
    }
  ]
}