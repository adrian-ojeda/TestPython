{
  "nbformat": 4,
  "nbformat_minor": 0,
  "metadata": {
    "celltoolbar": "Raw Cell Format",
    "kernelspec": {
      "display_name": "Python 3",
      "language": "python",
      "name": "python3"
    },
    "language_info": {
      "codemirror_mode": {
        "name": "ipython",
        "version": 3
      },
      "file_extension": ".py",
      "mimetype": "text/x-python",
      "name": "python",
      "nbconvert_exporter": "python",
      "pygments_lexer": "ipython3",
      "version": "3.6.9"
    },
    "colab": {
      "name": "Ojeda_Ejercicios_1_Tipos_Datos_Simples.ipynb",
      "provenance": [],
      "collapsed_sections": []
    }
  },
  "cells": [
    {
      "cell_type": "markdown",
      "metadata": {
        "id": "VTOj4eGowVlX"
      },
      "source": [
        "# Ejercicios de Tipos de Datos Simples"
      ]
    },
    {
      "cell_type": "markdown",
      "metadata": {
        "id": "i0D76eyXwVla"
      },
      "source": [
        "## Ejercicio 1"
      ]
    },
    {
      "cell_type": "markdown",
      "metadata": {
        "id": "Zb2dXZHTwVlc"
      },
      "source": [
        "Escribir un programa que muestre por pantalla la cadena <font color=#B40431>¡Hola Mundo!</font>"
      ]
    },
    {
      "cell_type": "code",
      "metadata": {
        "id": "FMjQVMm7wVld",
        "outputId": "c985cd54-acb3-4a53-bbdb-87c287808e2f",
        "colab": {
          "base_uri": "https://localhost:8080/"
        }
      },
      "source": [
        "print(\"¡Hola Mundo!\")"
      ],
      "execution_count": null,
      "outputs": [
        {
          "output_type": "stream",
          "text": [
            "¡Hola Mundo!\n"
          ],
          "name": "stdout"
        }
      ]
    },
    {
      "cell_type": "markdown",
      "metadata": {
        "id": "SFMTFAQGwVlg"
      },
      "source": [
        "## Ejercicio 2"
      ]
    },
    {
      "cell_type": "markdown",
      "metadata": {
        "id": "pvjPBTMXwVlh"
      },
      "source": [
        "Escribir un programa que almacene la cadena <font color=#B40431>¡Hola Mundo!</font> en una variable y luego muestre por pantalla el contenido de la variable."
      ]
    },
    {
      "cell_type": "code",
      "metadata": {
        "id": "ZIcnLWFZwVlh",
        "outputId": "b4b5ff7f-ad8a-4af4-f1a6-8ab4affbb306",
        "colab": {
          "base_uri": "https://localhost:8080/"
        }
      },
      "source": [
        "saludo = \"¡Hola Mundo!\"\n",
        "print(saludo)"
      ],
      "execution_count": null,
      "outputs": [
        {
          "output_type": "stream",
          "text": [
            "¡Hola Mundo!\n"
          ],
          "name": "stdout"
        }
      ]
    },
    {
      "cell_type": "markdown",
      "metadata": {
        "id": "VDqvqJMJwVlj"
      },
      "source": [
        "## Ejercicio 3"
      ]
    },
    {
      "cell_type": "markdown",
      "metadata": {
        "id": "_C2uCW-BwVlk"
      },
      "source": [
        "Escribir un programa que pregunte el nombre del usuario en la consola y después de que el usuario lo introduzca muestre por pantalla la cadena <font color=#B40431>¡Hola &#60;nombre&#62;!</font>, donde <font color=#B40431>&#60;nombre&#62;</font> es el nombre que el usuario haya introducido."
      ]
    },
    {
      "cell_type": "code",
      "metadata": {
        "id": "Wf6ozzBhwVlk",
        "outputId": "b4a3fb7f-1547-4547-f2bc-aad452bdbaa2",
        "colab": {
          "base_uri": "https://localhost:8080/"
        }
      },
      "source": [
        "nombre=input(\"¡Bienvenido! ¿Cual es su nombre?: \")\n",
        "print(\"¡Hola\",nombre,end=\"!\") \n",
        "# sino se utiliza el end= se genera un espacio al final del str (¡Hola Adrian !)"
      ],
      "execution_count": null,
      "outputs": [
        {
          "output_type": "stream",
          "text": [
            "¡Bienvenido! ¿Cual es su nombre?: Adrian\n",
            "¡Hola Adrian!"
          ],
          "name": "stdout"
        }
      ]
    },
    {
      "cell_type": "markdown",
      "metadata": {
        "id": "GFSV7HB3wVlm"
      },
      "source": [
        "## Ejercicio 4"
      ]
    },
    {
      "cell_type": "markdown",
      "metadata": {
        "id": "QHhyZ4BuwVln"
      },
      "source": [
        "Escribir un programa que pregunte el nombre del usuario en la consola y un número entero e imprima por pantalla en líneas distintas el nombre del usuario tantas veces como el número introducido."
      ]
    },
    {
      "cell_type": "code",
      "metadata": {
        "id": "naQ45aTGwVln",
        "outputId": "6db983e3-6a09-42c4-fd93-0c43f1fb455d",
        "colab": {
          "base_uri": "https://localhost:8080/"
        }
      },
      "source": [
        "nombre=input(\"¡Bienvenido! ¿Cual es su nombre?: \")\n",
        "numero=input(\"Por favor ingrese un numero entre 2 y 5: \")\n",
        "print((nombre +\"\\n\")*int(numero))"
      ],
      "execution_count": null,
      "outputs": [
        {
          "output_type": "stream",
          "text": [
            "¡Bienvenido! ¿Cual es su nombre?: Adrian\n",
            "Por favor ingrese un numero entre 2 y 5: 3\n",
            "Adrian\n",
            "Adrian\n",
            "Adrian\n",
            "\n"
          ],
          "name": "stdout"
        }
      ]
    },
    {
      "cell_type": "markdown",
      "metadata": {
        "id": "1oKq4LcKwVlq"
      },
      "source": [
        "## Ejercicio 5"
      ]
    },
    {
      "cell_type": "markdown",
      "metadata": {
        "id": "La_yAaMNwVlq"
      },
      "source": [
        "Escribir un programa que pregunte el nombre del usuario en la consola y después de que el usuario lo introduzca muestre por pantalla <font color=#B40431>&#60;NOMBRE&#62; tiene &#60;n&#62; letras</font>, donde <font color=#B40431>&#60;NOMBRE&#62;</font> es el nombre de usuario en mayúsculas y <font color=#B40431>&#60;n&#62;</font> es el número de letras que tienen el nombre."
      ]
    },
    {
      "cell_type": "code",
      "metadata": {
        "id": "ljQJOsNGwVlr",
        "outputId": "c72cd31e-8373-41bf-81b6-e77b4c74b506",
        "colab": {
          "base_uri": "https://localhost:8080/"
        }
      },
      "source": [
        "NOMBRE=input(\"¡Bienvenido! ¿Cual es su nombre?: \")\n",
        "print(NOMBRE.upper(),\"tiene\",len(NOMBRE),\"letras\")"
      ],
      "execution_count": null,
      "outputs": [
        {
          "output_type": "stream",
          "text": [
            "¡Bienvenido! ¿Cual es su nombre?: adrian\n",
            "ADRIAN tiene 6 letras\n"
          ],
          "name": "stdout"
        }
      ]
    },
    {
      "cell_type": "code",
      "metadata": {
        "id": "zKkHrz9HA8da"
      },
      "source": [
        ""
      ],
      "execution_count": null,
      "outputs": []
    },
    {
      "cell_type": "markdown",
      "metadata": {
        "id": "h0lS2qmLwVlt"
      },
      "source": [
        "## Ejercicio 6"
      ]
    },
    {
      "cell_type": "markdown",
      "metadata": {
        "id": "C2pducKnwVlt"
      },
      "source": [
        "Escribir un programa que realice la siguiente operación aritmética $\\left(\\frac{3+2}{2\\cdot 5}\\right)^2$"
      ]
    },
    {
      "cell_type": "code",
      "metadata": {
        "id": "sB5lwrf0wVlu",
        "outputId": "d8afbb56-f0aa-4897-f797-e8b70f646ce1",
        "colab": {
          "base_uri": "https://localhost:8080/"
        }
      },
      "source": [
        "((3+2)/(2.5))**2"
      ],
      "execution_count": null,
      "outputs": [
        {
          "output_type": "execute_result",
          "data": {
            "text/plain": [
              "4.0"
            ]
          },
          "metadata": {
            "tags": []
          },
          "execution_count": 62
        }
      ]
    },
    {
      "cell_type": "markdown",
      "metadata": {
        "id": "cFhqHkwtwVlw"
      },
      "source": [
        "## Ejercicio 7"
      ]
    },
    {
      "cell_type": "markdown",
      "metadata": {
        "id": "AYYHsnemwVlw"
      },
      "source": [
        "Escribir un programa que pregunte al usuario por el número de horas trabajadas y el costo por hora. Después debe mostrar por pantalla el sueldo que le corresponde."
      ]
    },
    {
      "cell_type": "code",
      "metadata": {
        "id": "_CkT0RJPwVlx",
        "outputId": "1ccfcf70-9a32-4f63-e418-ebdbe663c298",
        "colab": {
          "base_uri": "https://localhost:8080/"
        }
      },
      "source": [
        "horasTrabajadas=float(input(\"Ingrese su horas trabajadas: \"))\n",
        "costoXhora=float(input(\"Ingrese el costo por hora: \"))\n",
        "sueldo=((horasTrabajadas*costoXhora)*28)\n",
        "print(\"Su sueldo correspondiente es de: $\",round(sueldo,2))"
      ],
      "execution_count": 1,
      "outputs": [
        {
          "output_type": "stream",
          "text": [
            "Ingrese su horas trabajadas: 8\n",
            "Ingrese el costo por hora: 10.2\n",
            "Su sueldo correspondiente es de: $ 2284.8\n"
          ],
          "name": "stdout"
        }
      ]
    },
    {
      "cell_type": "markdown",
      "metadata": {
        "id": "kLT4S23lwVlz"
      },
      "source": [
        "## Ejercicio 8"
      ]
    },
    {
      "cell_type": "markdown",
      "metadata": {
        "id": "4uQ8a7KUwVlz"
      },
      "source": [
        "Escribir un programa que lea un entero positivo, $n$, introducido por el usuario y después muestre en pantalla la suma de todos los enteros desde 1 hasta $n$. La suma de los $n$ primeros enteros positivos puede ser calculada de la siguiente forma: $ \\mbox{suma} = \\frac{n(n+1)}{2} $"
      ]
    },
    {
      "cell_type": "code",
      "metadata": {
        "id": "LC5dq7_XwVlz",
        "outputId": "c94ebd1b-a2a8-4786-b371-917cf00f4298",
        "colab": {
          "base_uri": "https://localhost:8080/"
        }
      },
      "source": [
        "n=int(input(\"Ingrese un numero entero entre 2 y 10: \"))\n",
        "suma=n*(n+1)/2\n",
        "print(suma)\n",
        "\n",
        "\n",
        "# ciclo For\n",
        "\n",
        "suma=0\n",
        "\n",
        "for i in range(1, n+1):\n",
        "  suma+= i\n",
        "  print(suma)\n",
        "\n",
        "  "
      ],
      "execution_count": null,
      "outputs": [
        {
          "output_type": "stream",
          "text": [
            "Ingrese un numero entero entre 2 y 10: 10\n",
            "55.0\n",
            "1\n",
            "3\n",
            "6\n",
            "10\n",
            "15\n",
            "21\n",
            "28\n",
            "36\n",
            "45\n",
            "55\n"
          ],
          "name": "stdout"
        }
      ]
    },
    {
      "cell_type": "markdown",
      "metadata": {
        "id": "1VWKqAAVwVl1"
      },
      "source": [
        "## Ejercicio 9"
      ]
    },
    {
      "cell_type": "markdown",
      "metadata": {
        "id": "Wwql29BcwVl2"
      },
      "source": [
        "Escribir un programa que pida al usuario su peso (en kg) y estatura (en metros), calcule el índice de masa corporal y lo almacene en una variable, y muestre por pantalla la frase <font color=#B40431>\"Tu índice de masa corporal es\"&#60;imc&#62;</font> donde <font color=#B40431>&#60;imc&#62;</font> es el índice de masa corporal calculado redondeado con dos decimales."
      ]
    },
    {
      "cell_type": "code",
      "metadata": {
        "scrolled": true,
        "id": "iiVs1RZMwVl2",
        "outputId": "234ef85f-0460-4fd1-ea9b-3c65b07055d9",
        "colab": {
          "base_uri": "https://localhost:8080/"
        }
      },
      "source": [
        "peso=float(input(\"Ingrese su peso (en kg): \"))\n",
        "estatura=float(input(\"Ingrese su estatura (en mts): \"))\n",
        "imc=peso/estatura**2\n",
        "print(\"Tu índice de masa corporal es \",round(imc,2))"
      ],
      "execution_count": null,
      "outputs": [
        {
          "output_type": "stream",
          "text": [
            "Ingrese su peso (en kg): 80\n",
            "Ingrese su estatura (en mts): 1.83\n",
            "Tu índice de masa corporal es  23.89\n"
          ],
          "name": "stdout"
        }
      ]
    },
    {
      "cell_type": "markdown",
      "metadata": {
        "id": "nHca-5YYwVl4"
      },
      "source": [
        "## Ejercicio 10"
      ]
    },
    {
      "cell_type": "markdown",
      "metadata": {
        "id": "xO4KSlkjwVl4"
      },
      "source": [
        "Escribir un programa que pida al usuario dos números enteros y muestre por pantalla la <font color=#B40431>&#60;n&#62;</font> entre <font color=#B40431>&#60;m&#62;</font> da un cociente <font color=#B40431>&#60;c&#62;</font> y un resto <font color=#B40431>&#60;r&#62;</font> donde <font color=#B40431>&#60;n&#62;</font> y <font color=#B40431>&#60;m&#62;</font> son los números introducidos por el usuario, y <font color=#B40431>&#60;c&#62;</font> y <font color=#B40431>&#60;r&#62;</font> son el cociente y el resto de la división entera respectivamente."
      ]
    },
    {
      "cell_type": "code",
      "metadata": {
        "id": "5QuOqDZWwVl5",
        "outputId": "43401a1e-60c7-4277-d758-ad793a8d3ec1",
        "colab": {
          "base_uri": "https://localhost:8080/"
        }
      },
      "source": [
        "n=int(input(\"Ingrese un numero entre 1 y 10: \"))\n",
        "m=int(input(\"Ingrese otro numero entre 1 y 10: \"))\n",
        "print()\n",
        "c=float(n/m)\n",
        "r=float(n%m)\n",
        "print(\"El cociente entre\",n,\"y\",m,\"es:\",c)\n",
        "print(\"El resto entre\",n,\"y\",m,\"es:\",r)\n"
      ],
      "execution_count": null,
      "outputs": [
        {
          "output_type": "stream",
          "text": [
            "Ingrese un numero entre 1 y 10: 5\n",
            "Ingrese otro numero entre 1 y 10: 4\n",
            "\n",
            "El cociente entre 5 y 4 es: 1.25\n",
            "El resto entre 5 y 4 es: 1.0\n"
          ],
          "name": "stdout"
        }
      ]
    },
    {
      "cell_type": "markdown",
      "metadata": {
        "id": "8vlioFl0wVl7"
      },
      "source": [
        "## Ejercicio 11"
      ]
    },
    {
      "cell_type": "markdown",
      "metadata": {
        "id": "PTmCeDchwVl7"
      },
      "source": [
        "Escribir un programa que pregunte al usuario una cantidad a invertir, el interés anual y el número de años, y muestre por pantalla el capital obtenido en la inversión."
      ]
    },
    {
      "cell_type": "code",
      "metadata": {
        "id": "s5VwwswGwVl8",
        "outputId": "2e6f55c0-d0e8-48d7-a69e-ce8668a7a1d4",
        "colab": {
          "base_uri": "https://localhost:8080/"
        }
      },
      "source": [
        "inversion=float(input(\"¿Cuanto dinero desea invertir?:\"))\n",
        "interesAnual=float(input(\"¿Interés Anual?:\"))\n",
        "años=int(input(\"¿Cantidad de años?\"))\n",
        "capital=round(inversion*(interesAnual/100+1)**años,2)\n",
        "print(\"Tu capital obtenido es: $\",capital)"
      ],
      "execution_count": null,
      "outputs": [
        {
          "output_type": "stream",
          "text": [
            "¿Cuanto dinero desea invertir?:2500\n",
            "¿Interés Anual?:25\n",
            "¿Cantidad de años?6\n",
            "Tu capital obtenido es: $ 9536.74\n"
          ],
          "name": "stdout"
        }
      ]
    },
    {
      "cell_type": "markdown",
      "metadata": {
        "id": "VrQFrGZvwVl_"
      },
      "source": [
        "## Ejercicio 12"
      ]
    },
    {
      "cell_type": "markdown",
      "metadata": {
        "id": "FzFahj3NwVl_"
      },
      "source": [
        "Una juguetería tiene mucho éxito en dos de sus productos: payasos y muñecas. Suele hacer venta por correo y la empresa de logística les cobra por peso de cada paquete así que deben calcular el peso de los payasos y muñecas que saldrán en cada paquete a demanda. Cada payaso pesa 112 g y cada muñeca 75 g. Escribir un programa que lea el número de payasos y muñecas vendidos en el último pedido y calcule el peso total del paquete que será enviado."
      ]
    },
    {
      "cell_type": "code",
      "metadata": {
        "id": "hURvP_jswVl_",
        "outputId": "4902b61f-c5a6-4d4b-9df7-24a3e59d6c13",
        "colab": {
          "base_uri": "https://localhost:8080/"
        }
      },
      "source": [
        "pesoPayasos=112\n",
        "pesoMuñecas=75\n",
        "cantPayasos=int(input(\"¿Cantidad de payasos vendidos?:\"))\n",
        "cantMuñecas=int(input(\"¿Cantidad de muñecas vendidas?:\"))\n",
        "pesoTotal=(pesoPayasos*cantPayasos) + (pesoMuñecas*cantMuñecas)\n",
        "print(\"El Peso Total del paquete es de:\",pesoTotal,end=\"g\")\n"
      ],
      "execution_count": null,
      "outputs": [
        {
          "output_type": "stream",
          "text": [
            "¿Cantidad de payasos vendidos?:10\n",
            "¿Cantidad de muñecas vendidas?:10\n",
            "El Peso Total del paquete es de: 1870g"
          ],
          "name": "stdout"
        }
      ]
    },
    {
      "cell_type": "markdown",
      "metadata": {
        "id": "IBjDm3AWwVmB"
      },
      "source": [
        "## Ejercicio 13"
      ]
    },
    {
      "cell_type": "markdown",
      "metadata": {
        "id": "e-4Wqae6wVmB"
      },
      "source": [
        "Imagina que acabas de abrir una nueva cuenta de ahorros que te ofrece el 20 &#37; de interés al año. Estos ahorros debido a intereses, que no se cobran hasta finales de año, se te añaden al balance final de tu cuenta de ahorros. Escribir un programa que comience leyendo la cantidad de dinero depositada en la cuenta de ahorros, introducida por el usuario. Después el programa debe calcular y mostrar por pantalla la cantidad de ahorros tras el primer, segundo y tercer años. Redondear cada cantidad a dos decimales."
      ]
    },
    {
      "cell_type": "code",
      "metadata": {
        "id": "kLfhMRDhwVmC",
        "outputId": "afc405af-98ae-4a43-d458-3df6c8647cbb",
        "colab": {
          "base_uri": "https://localhost:8080/"
        }
      },
      "source": [
        "interes=1.20\n",
        "ahorro=float(input(\"Ingrese el dinero a depositar: \"))\n",
        "primerAño=float(ahorro*interes)\n",
        "print()\n",
        "print(\"El saldo total del primer año es:\",round(primerAño,2))\n",
        "segundoAño=float(primerAño*interes)\n",
        "print(\"El saldo total del segundo año es:\",round(segundoAño,2))\n",
        "tercerAño=float(segundoAño*interes)\n",
        "print(\"El saldo total del tercer años es:\",round(tercerAño,2))"
      ],
      "execution_count": null,
      "outputs": [
        {
          "output_type": "stream",
          "text": [
            "Ingrese el dinero a depositar: 1000.5674\n",
            "\n",
            "El saldo total del primer año es: 1200.68\n",
            "El saldo total del segundo año es: 1440.82\n",
            "El saldo total del tercer años es: 1728.98\n"
          ],
          "name": "stdout"
        }
      ]
    },
    {
      "cell_type": "markdown",
      "metadata": {
        "id": "dsLLdW7LwVmD"
      },
      "source": [
        "## Ejercicio 14"
      ]
    },
    {
      "cell_type": "markdown",
      "metadata": {
        "id": "Ciqnt51kwVmE"
      },
      "source": [
        "Una panadería vende tiras de pan a 50 \\$ cada una. El pan que no es el día tiene un descuento del 40 &#37; Escribir un programa que comience leyendo el número de tiras vendidas que no son del día. Después el programa debe mostrar el precio habitual de una tira de pan, el descuento que se le hace por no ser fresca y el costo final total."
      ]
    },
    {
      "cell_type": "code",
      "metadata": {
        "id": "G68etac9wVmE",
        "outputId": "6edb68be-4c56-4ec4-ee41-a0bf2a8e88e5",
        "colab": {
          "base_uri": "https://localhost:8080/"
        }
      },
      "source": [
        "pan=50\n",
        "descuento=1.40\n",
        "panVendido=int(input(\"Tiras de pan No fresco vendidas:\"))\n",
        "print()\n",
        "print(\"Precio del pan fresco del día:$\",pan)\n",
        "print(\"Descuento del pan que no es del día:40%\")\n",
        "costoFinal=round((pan*panVendido)/descuento,2)\n",
        "print(\"Costo final total:$\",costoFinal)\n"
      ],
      "execution_count": null,
      "outputs": [
        {
          "output_type": "stream",
          "text": [
            "Tiras de pan No fresco vendidas:10\n",
            "\n",
            "Precio del pan fresco del día:$ 50\n",
            "Descuento del pan que no es del día:40%\n",
            "Costo final total:$ 357.14\n"
          ],
          "name": "stdout"
        }
      ]
    }
  ]
}