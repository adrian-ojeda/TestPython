{
  "nbformat": 4,
  "nbformat_minor": 0,
  "metadata": {
    "celltoolbar": "Raw Cell Format",
    "kernelspec": {
      "display_name": "Python 3",
      "language": "python",
      "name": "python3"
    },
    "language_info": {
      "codemirror_mode": {
        "name": "ipython",
        "version": 3
      },
      "file_extension": ".py",
      "mimetype": "text/x-python",
      "name": "python",
      "nbconvert_exporter": "python",
      "pygments_lexer": "ipython3",
      "version": "3.6.9"
    },
    "colab": {
      "name": "Ojeda-Soluciones-1-Tipos-Datos-Simples-Ejercicios.ipynb",
      "provenance": [],
      "collapsed_sections": []
    }
  },
  "cells": [
    {
      "cell_type": "markdown",
      "metadata": {
        "id": "coFGtZtqth01"
      },
      "source": [
        "# Soluciones a Ejercicios de Tipos de Datos Simples"
      ]
    },
    {
      "cell_type": "markdown",
      "metadata": {
        "id": "DVECsW_Rth05"
      },
      "source": [
        "## Ejercicio 1"
      ]
    },
    {
      "cell_type": "markdown",
      "metadata": {
        "id": "s__Ki0uJth06"
      },
      "source": [
        "Escribir un programa que muestre por pantalla la cadena <font color=#B40431>¡Hola Mundo!</font>"
      ]
    },
    {
      "cell_type": "code",
      "metadata": {
        "id": "1_cyqjFgth07"
      },
      "source": [
        "# Solucion\n",
        "print(\"¡Hola Mundo!\")"
      ],
      "execution_count": null,
      "outputs": []
    },
    {
      "cell_type": "code",
      "metadata": {
        "id": "GkLkslHbth1B"
      },
      "source": [
        "print(\"¡Hola Mundo!\")"
      ],
      "execution_count": null,
      "outputs": []
    },
    {
      "cell_type": "markdown",
      "metadata": {
        "id": "WcdT_DMxth1F"
      },
      "source": [
        "## Ejercicio 2"
      ]
    },
    {
      "cell_type": "markdown",
      "metadata": {
        "id": "OMrG37anth1F"
      },
      "source": [
        "Escribir un programa que almacene la cadena <font color=#B40431>¡Hola Mundo!</font> en una variable y luego muestre por pantalla el contenido de la variable."
      ]
    },
    {
      "cell_type": "code",
      "metadata": {
        "id": "X6Hjpojeth1G"
      },
      "source": [
        "# Solucion\n",
        "message = \"¡Hola Mundo!\"\n",
        "print(message)"
      ],
      "execution_count": null,
      "outputs": []
    },
    {
      "cell_type": "code",
      "metadata": {
        "id": "lnhIyFzMth1I"
      },
      "source": [
        "saludo = \"¡Hola Mundo!\"\n",
        "print(saludo)"
      ],
      "execution_count": null,
      "outputs": []
    },
    {
      "cell_type": "markdown",
      "metadata": {
        "id": "eItebT3Hth1L"
      },
      "source": [
        "## Ejercicio 3"
      ]
    },
    {
      "cell_type": "markdown",
      "metadata": {
        "id": "jYC5Vhz8th1L"
      },
      "source": [
        "Escribir un programa que pregunte el nombre del usuario en la consola y después de que el usuario lo introduzca muestre por pantalla la cadena <font color=#B40431>¡Hola &#60;nombre&#62;!</font>, donde <font color=#B40431>&#60;nombre&#62;</font> es el nombre que el usuario haya introducido."
      ]
    },
    {
      "cell_type": "code",
      "metadata": {
        "id": "b_TSEVzVth1M"
      },
      "source": [
        "# Solucion\n",
        "name = input(\"Introduce tu nombre: \")\n",
        "print(\"¡Hola \" + name + \"!\")"
      ],
      "execution_count": null,
      "outputs": []
    },
    {
      "cell_type": "code",
      "metadata": {
        "id": "6YjqyGV7th1O"
      },
      "source": [
        "nombre=input(\"¡Bienvenido! ¿Cual es su nombre?: \")\n",
        "print(\"¡Hola\",nombre,end=\"!\") \n",
        "# sino se utiliza el end= se genera un espacio al final del str (¡Hola Adrian !)"
      ],
      "execution_count": null,
      "outputs": []
    },
    {
      "cell_type": "markdown",
      "metadata": {
        "id": "nZiTdeoGth1Q"
      },
      "source": [
        "## Ejercicio 4"
      ]
    },
    {
      "cell_type": "markdown",
      "metadata": {
        "id": "iY2Hyc7fth1R"
      },
      "source": [
        "Escribir un programa que pregunte el nombre del usuario en la consola y un número entero e imprima por pantalla en líneas distintas el nombre del usuario tantas veces como el número introducido."
      ]
    },
    {
      "cell_type": "code",
      "metadata": {
        "id": "xgfq6Q2yth1S"
      },
      "source": [
        "# Solucion\n",
        "name = input(\"¿Cuál es tu nombre? \")\n",
        "n = input(\"Introduce un número entero: \")\n",
        "print((name + \"\\n\") * int(n))"
      ],
      "execution_count": null,
      "outputs": []
    },
    {
      "cell_type": "code",
      "metadata": {
        "id": "YFZ0F3ahth1U"
      },
      "source": [
        "nombre=input(\"¡Bienvenido! ¿Cual es su nombre?: \")\n",
        "numero=input(\"Por favor ingrese un numero entre 2 y 5: \")\n",
        "print((nombre +\"\\n\")*int(numero))"
      ],
      "execution_count": null,
      "outputs": []
    },
    {
      "cell_type": "markdown",
      "metadata": {
        "id": "IsWSUWhRth1X"
      },
      "source": [
        "## Ejercicio 5"
      ]
    },
    {
      "cell_type": "markdown",
      "metadata": {
        "id": "3Y4q4XcHth1X"
      },
      "source": [
        "Escribir un programa que pregunte el nombre del usuario en la consola y después de que el usuario lo introduzca muestre por pantalla <font color=#B40431>&#60;NOMBRE&#62; tiene &#60;n&#62; letras</font>, donde <font color=#B40431>&#60;NOMBRE&#62;</font> es el nombre de usuario en mayúsculas y <font color=#B40431>&#60;n&#62;</font> es el número de letras que tienen el nombre."
      ]
    },
    {
      "cell_type": "code",
      "metadata": {
        "id": "vlt_tlxeth1Y"
      },
      "source": [
        "# Solucion\n",
        "name = input(\"¿Cuál es tu nombre? \")\n",
        "print(name.upper() + \" tiene \" + str(len(name)) + \" letras\")"
      ],
      "execution_count": null,
      "outputs": []
    },
    {
      "cell_type": "code",
      "metadata": {
        "id": "4-U2a_A8th1a"
      },
      "source": [
        "NOMBRE=input(\"¡Bienvenido! ¿Cual es su nombre?: \")\n",
        "print(NOMBRE.upper(),\"tiene\",len(NOMBRE),\"letras\")"
      ],
      "execution_count": null,
      "outputs": []
    },
    {
      "cell_type": "markdown",
      "metadata": {
        "id": "45AKpMUJth1c"
      },
      "source": [
        "## Ejercicio 6"
      ]
    },
    {
      "cell_type": "markdown",
      "metadata": {
        "id": "5QIsIIgZth1c"
      },
      "source": [
        "Escribir un programa que realice la siguiente operación aritmética $\\left(\\frac{3+2}{2\\cdot 5}\\right)^2$"
      ]
    },
    {
      "cell_type": "code",
      "metadata": {
        "id": "-pDLlhc0th1d"
      },
      "source": [
        "# Solucion\n",
        "print(((3+2)/(2*5))**2)"
      ],
      "execution_count": null,
      "outputs": []
    },
    {
      "cell_type": "code",
      "metadata": {
        "id": "C8RH2B3Bth1f"
      },
      "source": [
        "((3+2)/(2.5))**2"
      ],
      "execution_count": null,
      "outputs": []
    },
    {
      "cell_type": "markdown",
      "metadata": {
        "id": "6GL2KevKth1h"
      },
      "source": [
        "## Ejercicio 7"
      ]
    },
    {
      "cell_type": "markdown",
      "metadata": {
        "id": "tcIfAxI3th1i"
      },
      "source": [
        "Escribir un programa que pregunte al usuario por el número de horas trabajadas y el costo por hora. Después debe mostrar por pantalla el sueldo que le corresponde."
      ]
    },
    {
      "cell_type": "code",
      "metadata": {
        "id": "rcdOJpCGth1i"
      },
      "source": [
        "# Solucion\n",
        "horas = float(input(\"Introduce tus horas de trabajo: \"))\n",
        "costo = float(input(\"Introduce lo que cobras por hora: \"))\n",
        "paga = round(horas * coste, 3)\n",
        "print(\"Tu paga es \" + str(paga))"
      ],
      "execution_count": null,
      "outputs": []
    },
    {
      "cell_type": "code",
      "metadata": {
        "id": "XeStBgxeth1k"
      },
      "source": [
        "horasTrabajadas=float(input(\"Ingrese su horas trabajadas: \"))\n",
        "costoXhora=float(input(\"Ingrese el costo por hora: \"))\n",
        "sueldo=((horasTrabajadas*costoXhora)*28)\n",
        "print(\"Su sueldo correspondiente es de: $\",round(sueldo,2))"
      ],
      "execution_count": null,
      "outputs": []
    },
    {
      "cell_type": "markdown",
      "metadata": {
        "id": "Ywmi-oc8th1m"
      },
      "source": [
        "## Ejercicio 8"
      ]
    },
    {
      "cell_type": "markdown",
      "metadata": {
        "id": "M4OiRXANth1n"
      },
      "source": [
        "Escribir un programa que lea un entero positivo, $n$, introducido por el usuario y después muestre en pantalla la suma de todos los enteros desde 1 hasta $n$. La suma de los $n$ primeros enteros positivos puede ser calculada de la siguiente forma: $ \\mbox{suma} = \\frac{n(n+1)}{2} $"
      ]
    },
    {
      "cell_type": "code",
      "metadata": {
        "id": "zREFzn2ith1n"
      },
      "source": [
        "# Solucion\n",
        "n = int(input(\"Introduce un número entero: \"))\n",
        "suma = n * (n + 1) / 2\n",
        "print(\"La suma de los primeros números enteros desde 1 hasta \" + str(n) + \" es \" + str(suma))"
      ],
      "execution_count": null,
      "outputs": []
    },
    {
      "cell_type": "code",
      "metadata": {
        "id": "uI94tTtrth1p"
      },
      "source": [
        "n=int(input(\"Ingrese un numero entero entre 2 y 10: \"))\n",
        "suma=n*(n+1)/2\n",
        "print(suma)\n",
        "\n",
        "\n",
        "# ciclo For\n",
        "\n",
        "suma=0\n",
        "\n",
        "for i in range(1, n+1):\n",
        "  suma+= i\n",
        "  print(suma)\n"
      ],
      "execution_count": null,
      "outputs": []
    },
    {
      "cell_type": "markdown",
      "metadata": {
        "id": "ui7gxSkjth1r"
      },
      "source": [
        "## Ejercicio 9"
      ]
    },
    {
      "cell_type": "markdown",
      "metadata": {
        "id": "OiNSjCPuth1r"
      },
      "source": [
        "Escribir un programa que pida al usuario su peso (en kg) y estatura (en metros), calcule el índice de masa corporal y lo almacene en una variable, y muestre por pantalla la frase <font color=#B40431>\"Tu índice de masa corporal es\"&#60;imc&#62;</font> donde <font color=#B40431>&#60;imc&#62;</font> es el índice de masa corporal calculado redondeado con dos decimales."
      ]
    },
    {
      "cell_type": "code",
      "metadata": {
        "scrolled": true,
        "id": "wReNTtxIth1s"
      },
      "source": [
        "# Solucion\n",
        "weight = input(\"¿Cuál es tu peso en kg? \")\n",
        "height = input(\"¿Cuál es tu estatura en metros?\")\n",
        "bmi = round(float(weight)/float(height)**2,2)\n",
        "print(\"Tu índice de masa corporal es \" + str(bmi))"
      ],
      "execution_count": null,
      "outputs": []
    },
    {
      "cell_type": "code",
      "metadata": {
        "id": "2FbGYxaath1t"
      },
      "source": [
        "peso=float(input(\"Ingrese su peso (en kg): \"))\n",
        "estatura=float(input(\"Ingrese su estatura (en mts): \"))\n",
        "imc=peso/estatura**2\n",
        "print(\"Tu índice de masa corporal es \",round(imc,2))"
      ],
      "execution_count": null,
      "outputs": []
    },
    {
      "cell_type": "markdown",
      "metadata": {
        "id": "qEtNIlxpth1v"
      },
      "source": [
        "## Ejercicio 10"
      ]
    },
    {
      "cell_type": "markdown",
      "metadata": {
        "id": "Ces42hMUth1w"
      },
      "source": [
        "Escribir un programa que pida al usuario dos números enteros y muestre por pantalla la <font color=#B40431>&#60;n&#62;</font> entre <font color=#B40431>&#60;m&#62;</font> da un cociente <font color=#B40431>&#60;c&#62;</font> y un resto <font color=#B40431>&#60;r&#62;</font> donde <font color=#B40431>&#60;n&#62;</font> y <font color=#B40431>&#60;m&#62;</font> son los números introducidos por el usuario, y <font color=#B40431>&#60;c&#62;</font> y <font color=#B40431>&#60;r&#62;</font> son el cociente y el resto de la división entera respectivamente."
      ]
    },
    {
      "cell_type": "code",
      "metadata": {
        "id": "9fS_WIX9th1w"
      },
      "source": [
        "# Solucion\n",
        "n = input(\"Introduce el dividendo (entero): \")\n",
        "m = input(\"Introduce el divisor (entero): \")\n",
        "print(n + \" entre \" +  m + \" da un cociente \" + str(int(n) // int(m)) + \" y un resto \" + str(int(n) % int(m)))"
      ],
      "execution_count": null,
      "outputs": []
    },
    {
      "cell_type": "code",
      "metadata": {
        "id": "8Y4w7w-0th1y"
      },
      "source": [
        "n=int(input(\"Ingrese un numero entre 1 y 10: \"))\n",
        "m=int(input(\"Ingrese otro numero entre 1 y 10: \"))\n",
        "print()\n",
        "c=float(n/m)\n",
        "r=float(n%m)\n",
        "print(\"El cociente entre\",n,\"y\",m,\"es:\",c)\n",
        "print(\"El resto entre\",n,\"y\",m,\"es:\",r)\n"
      ],
      "execution_count": null,
      "outputs": []
    },
    {
      "cell_type": "markdown",
      "metadata": {
        "id": "mf4NzejRth1z"
      },
      "source": [
        "## Ejercicio 11"
      ]
    },
    {
      "cell_type": "markdown",
      "metadata": {
        "id": "vtdeGxqXth10"
      },
      "source": [
        "Escribir un programa que pregunte al usuario una cantidad a invertir, el interés anual y el número de años, y muestre por pantalla el capital obtenido en la inversión."
      ]
    },
    {
      "cell_type": "code",
      "metadata": {
        "id": "tCKe35W_th11"
      },
      "source": [
        "# Solucion\n",
        "amount = float(input(\"¿Cantidad a invertir? \"))\n",
        "interest = float(input(\"¿Interés porcentual anual? \"))\n",
        "years = int(input(\"¿Años?\"))\n",
        "print(\"Capital final: \" + str(round(amount * (interest / 100 + 1) ** years, 2)))"
      ],
      "execution_count": null,
      "outputs": []
    },
    {
      "cell_type": "code",
      "metadata": {
        "id": "RXyTpFX5th13"
      },
      "source": [
        "inversion=float(input(\"¿Cuanto dinero desea invertir?:\"))\n",
        "interesAnual=float(input(\"¿Interés Anual?:\"))\n",
        "años=int(input(\"¿Cantidad de años?\"))\n",
        "capital=round(inversion*(interesAnual/100+1)**años,2)\n",
        "print(\"Tu capital obtenido es: $\",capital)"
      ],
      "execution_count": null,
      "outputs": []
    },
    {
      "cell_type": "markdown",
      "metadata": {
        "id": "_DBSqxW5th15"
      },
      "source": [
        "## Ejercicio 12"
      ]
    },
    {
      "cell_type": "markdown",
      "metadata": {
        "id": "MsCGvfzZth15"
      },
      "source": [
        "Una juguetería tiene mucho éxito en dos de sus productos: payasos y muñecas. Suele hacer venta por correo y la empresa de logística les cobra por peso de cada paquete así que deben calcular el peso de los payasos y muñecas que saldrán en cada paquete a demanda. Cada payaso pesa 112 g y cada muñeca 75 g. Escribir un programa que lea el número de payasos y muñecas vendidos en el último pedido y calcule el peso total del paquete que será enviado."
      ]
    },
    {
      "cell_type": "code",
      "metadata": {
        "id": "SsLVP8gDth16"
      },
      "source": [
        "# Solucion\n",
        "peso_payaso = 112\n",
        "peso_muñeca = 75\n",
        "payasos = int(input(\"Introduce el número de payasos a enviar: \"))\n",
        "muñecas = int(input(\"Introduce el número de muñecas a enviar: \"))\n",
        "peso_total = peso_payaso * payasos + peso_muñeca * muñecas\n",
        "print(\"El peso total del paquete es \" + str(peso_total))"
      ],
      "execution_count": null,
      "outputs": []
    },
    {
      "cell_type": "code",
      "metadata": {
        "id": "N51GAe5Jth1-"
      },
      "source": [
        "pesoPayasos=112\n",
        "pesoMuñecas=75\n",
        "cantPayasos=int(input(\"¿Cantidad de payasos vendidos?:\"))\n",
        "cantMuñecas=int(input(\"¿Cantidad de muñecas vendidas?:\"))\n",
        "pesoTotal=(pesoPayasos*cantPayasos) + (pesoMuñecas*cantMuñecas)\n",
        "print(\"El Peso Total del paquete es de:\",pesoTotal,end=\"g\")"
      ],
      "execution_count": null,
      "outputs": []
    },
    {
      "cell_type": "markdown",
      "metadata": {
        "id": "W0oRmJ2yth1_"
      },
      "source": [
        "## Ejercicio 13"
      ]
    },
    {
      "cell_type": "markdown",
      "metadata": {
        "id": "JVh9S21eth1_"
      },
      "source": [
        "Imagina que acabas de abrir una nueva cuenta de ahorros que te ofrece el 20 &#37; de interés al año. Estos ahorros debido a intereses, que no se cobran hasta finales de año, se te añaden al balance final de tu cuenta de ahorros. Escribir un programa que comience leyendo la cantidad de dinero depositada en la cuenta de ahorros, introducida por el usuario. Después el programa debe calcular y mostrar por pantalla la cantidad de ahorros tras el primer, segundo y tercer años. Redondear cada cantidad a dos decimales."
      ]
    },
    {
      "cell_type": "code",
      "metadata": {
        "id": "zLJGi_ZCth2A"
      },
      "source": [
        "# Solucion\n",
        "inversion = float(input(\"Introduce la inversión inicial: \"))\n",
        "interes = 0.04\n",
        "balance1 = inversion * (1 + interes)\n",
        "print(\"Balance tras el primer año:\" + str(round(balance1, 2)))\n",
        "balance2 = balance1 * (1 + interes)\n",
        "print(\"Balance tras el segundo año:\" + str(round(balance2, 2)))\n",
        "balance3 = balance2 * (1 + interes)\n",
        "print(\"Balance tras el tercer año:\" + str(round(balance3, 2)))"
      ],
      "execution_count": null,
      "outputs": []
    },
    {
      "cell_type": "code",
      "metadata": {
        "id": "fww1N8YKth2B"
      },
      "source": [
        "interes=1.20\n",
        "ahorro=float(input(\"Ingrese el dinero a depositar: \"))\n",
        "primerAño=float(ahorro*interes)\n",
        "print()\n",
        "print(\"El saldo total del primer año es:\",round(primerAño,2))\n",
        "segundoAño=float(primerAño*interes)\n",
        "print(\"El saldo total del segundo año es:\",round(segundoAño,2))\n",
        "tercerAño=float(segundoAño*interes)\n",
        "print(\"El saldo total del tercer años es:\",round(tercerAño,2))"
      ],
      "execution_count": null,
      "outputs": []
    },
    {
      "cell_type": "markdown",
      "metadata": {
        "id": "tY9V_IHSth2D"
      },
      "source": [
        "## Ejercicio 14"
      ]
    },
    {
      "cell_type": "markdown",
      "metadata": {
        "id": "karq3SwXth2D"
      },
      "source": [
        "Una panadería vende tiras de pan a 50 \\$ cada una. El pan que no es el día tiene un descuento del 40 &#37; Escribir un programa que comience leyendo el número de tiras vendidas que no son del día. Después el programa debe mostrar el precio habitual de una tira de pan, el descuento que se le hace por no ser fresca y el costo final total."
      ]
    },
    {
      "cell_type": "code",
      "metadata": {
        "id": "vGrIXaZvth2E"
      },
      "source": [
        "# Solucion\n",
        "barras = int(input(\"Introduce el número de tira vendidas que no son frescas: \"))\n",
        "precio = 50\n",
        "descuento = 0.4\n",
        "coste = barras * precio * (1 - descuento)\n",
        "print(\"El costo de una tira fresca es \" + str(precio) + \"$\")\n",
        "print(\"El descuento sobre una barra no fresca es \" + str(descuento * 100) + \"%\")\n",
        "print(\"El costo final a pagar es \" + str(round(coste, 2)) + \"$\")"
      ],
      "execution_count": null,
      "outputs": []
    },
    {
      "cell_type": "code",
      "metadata": {
        "id": "6bT-JNIGth2F"
      },
      "source": [
        "pan=50\n",
        "descuento=1.40\n",
        "panVendido=int(input(\"Tiras de pan No fresco vendidas:\"))\n",
        "print()\n",
        "print(\"Precio del pan fresco del día:$\",pan)\n",
        "print(\"Descuento del pan que no es del día:40%\")\n",
        "costoFinal=round((pan*panVendido)/descuento,2)\n",
        "print(\"Costo final total:$\",costoFinal)\n"
      ],
      "execution_count": null,
      "outputs": []
    }
  ]
}